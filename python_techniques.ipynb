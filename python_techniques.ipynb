{
 "cells": [
  {
   "cell_type": "code",
   "execution_count": 4,
   "metadata": {},
   "outputs": [
    {
     "name": "stdout",
     "output_type": "stream",
     "text": [
      "These are my fave numbers: [1, 2, 3, 4, 5, 6, 7, 8, 9, 10]\n",
      "There are my fave numbers when squared: [4, 16, 36, 64, 100]\n"
     ]
    }
   ],
   "source": [
    "#List Comprehension\n",
    "\n",
    "my_favorite_numbers = [1, 2, 3, 4, 5, 6, 7, 8, 9, 10]\n",
    "fave_numbers_squared = [x**2 for x in my_favorite_numbers if x % 2 == 0]\n",
    "\n",
    "print(f'These are my fave numbers: {my_favorite_numbers}')\n",
    "print(f'There are my fave numbers when squared: {fave_numbers_squared}')"
   ]
  },
  {
   "cell_type": "code",
   "execution_count": 11,
   "metadata": {},
   "outputs": [
    {
     "name": "stdout",
     "output_type": "stream",
     "text": [
      "Here are my favorite yummy fruits: ['RedApple', 'YellowBanana', 'RedCherry', 'GummyDate', 'SweetElderberry', 'JuicyFig']\n",
      "These are the length of each of my favority yummy fruits: [8, 12, 9, 9, 15, 8]\n"
     ]
    }
   ],
   "source": [
    "yummy_fruits = [\"RedApple\", \"YellowBanana\", \"RedCherry\", \"GummyDate\", \"SweetElderberry\", \"JuicyFig\"]\n",
    "length_of_yummy_fruit_names = [len(fruit) for fruit in yummy_fruits if len(fruit) > 3]\n",
    "\n",
    "print(f\"Here are my favorite yummy fruits: {yummy_fruits}\")\n",
    "print(f\"These are the length of each of my favority yummy fruits: {length_of_yummy_fruit_names}\")"
   ]
  },
  {
   "cell_type": "code",
   "execution_count": 12,
   "metadata": {},
   "outputs": [
    {
     "name": "stdout",
     "output_type": "stream",
     "text": [
      "Here are the players in their respective teams: [['star', 'jim', 'koo'], ['mill', 'dill'], ['erl', 'frix', 'poli']]\n",
      "Here they are all together in one location: ['star', 'jim', 'koo', 'mill', 'dill', 'erl', 'frix', 'poli']\n"
     ]
    }
   ],
   "source": [
    "my_teams = [['star', 'jim', 'koo'], ['mill', 'dill'], ['erl', 'frix', 'poli']]\n",
    "\n",
    "all_players = [hero for team in my_teams for hero in team]\n",
    "\n",
    "print(f\"Here are the players in their respective teams: {my_teams}\")\n",
    "print(f\"Here they are all together in one location: {all_players}\")"
   ]
  },
  {
   "cell_type": "code",
   "execution_count": 10,
   "metadata": {},
   "outputs": [],
   "source": [
    "def is_prime(n):\n",
    "    if n <= 1:\n",
    "        return False\n",
    "    if n <= 3:\n",
    "        return True\n",
    "    if n % 2 == 0 or n % 3 == 0:\n",
    "        return False\n",
    "    i = 5\n",
    "    while i * i <= n:\n",
    "        if n % i == 0 or n % (i + 2) == 0:\n",
    "            return False\n",
    "        i += 6\n",
    "    return True\n",
    "\n",
    "lower_limit = 10\n",
    "upper_limit = 50\n",
    "\n",
    "prime_numbers = [x for x in range(lower_limit, upper_limit + 1) if is_prime(x)]"
   ]
  },
  {
   "cell_type": "code",
   "execution_count": 32,
   "metadata": {},
   "outputs": [
    {
     "name": "stdout",
     "output_type": "stream",
     "text": [
      "Available Power Levels (between 100 and 1000):\n",
      "Available Abilities:\n",
      "1: Gomu Gomu no Mi\n",
      "2: Santoryu\n",
      "3: Black Leg Style\n",
      "4: Cartography\n",
      "5: Sniper Skills\n",
      "6: Hana Hana no Mi\n",
      "7: Cyborg Enhancements\n",
      "8: Revive-Revive Fruit\n",
      "9: Human-Human Fruit\n",
      "\n",
      "Select abilities (enter numbers) or options:\n",
      "1. Continue selecting abilities\n",
      "2. Finish and proceed\n",
      "\n",
      "Select abilities (enter numbers) or options:\n",
      "1. Continue selecting abilities\n",
      "2. Finish and proceed\n",
      "No characters match the criteria.\n"
     ]
    }
   ],
   "source": [
    "# Character data as lists of [name, ability, power_level]\n",
    "one_piece_characters = [\n",
    "    [\"Monkey D. Luffy\", \"Gomu Gomu no Mi\", 900],\n",
    "    [\"Roronoa Zoro\", \"Santoryu\", 800],\n",
    "    [\"Nami\", \"Cartography\", 50],\n",
    "    [\"Usopp\", \"Sniper Skills\", 150],\n",
    "    [\"Sanji\", \"Black Leg Style\", 850],\n",
    "    [\"Nico Robin\", \"Hana Hana no Mi\", 300],\n",
    "    [\"Franky\", \"Cyborg Enhancements\", 700],\n",
    "    [\"Brook\", \"Revive-Revive Fruit\", 400],\n",
    "    [\"Tony Tony Chopper\", \"Human-Human Fruit\", 100],\n",
    "]\n",
    "\n",
    "# Predefined choices for power levels and abilities\n",
    "power_level_range = (100, 1000)  # Specify the range for power levels\n",
    "ability_choices = {\n",
    "    1: \"Gomu Gomu no Mi\",\n",
    "    2: \"Santoryu\",\n",
    "    3: \"Black Leg Style\",\n",
    "    4: \"Cartography\",\n",
    "    5: \"Sniper Skills\",\n",
    "    6: \"Hana Hana no Mi\",\n",
    "    7: \"Cyborg Enhancements\",\n",
    "    8: \"Revive-Revive Fruit\",\n",
    "    9: \"Human-Human Fruit\",\n",
    "}\n",
    "\n",
    "def select_characters():\n",
    "    # Display available choices\n",
    "    print(f\"Available Power Levels (between {power_level_range[0]} and {power_level_range[1]}):\")\n",
    "    print(\"Available Abilities:\")\n",
    "    for num, ability in ability_choices.items():\n",
    "        print(f\"{num}: {ability}\")\n",
    "\n",
    "    try:\n",
    "        while True:\n",
    "            min_power_level = int(input(\"Enter the minimum power level: \"))\n",
    "            max_power_level = int(input(\"Enter the maximum power level: \"))\n",
    "        \n",
    "            # Validate the power level range\n",
    "            if min_power_level < power_level_range[0] or max_power_level > power_level_range[1] or min_power_level >= max_power_level:\n",
    "                print(\"Invalid power level range. Please enter valid choices.\")\n",
    "            else:\n",
    "                break\n",
    "\n",
    "        selected_abilities = []\n",
    "        while True:\n",
    "            print(\"\\nSelect abilities (enter numbers) or options:\")\n",
    "            print(\"1. Continue selecting abilities\")\n",
    "            print(\"2. Finish and proceed\")\n",
    "            \n",
    "            choice = input(\"Enter your choice: \")\n",
    "            if choice == '1':\n",
    "                ability_choice = input(\"Enter the number of a desired ability: \")\n",
    "                ability_choice = int(ability_choice)\n",
    "                if ability_choice not in ability_choices:\n",
    "                    print(\"Invalid ability number. Please choose a valid number.\")\n",
    "                else:\n",
    "                    selected_abilities.append(ability_choices[ability_choice])\n",
    "            elif choice == '2':\n",
    "                break\n",
    "            else:\n",
    "                print(\"Invalid option. Please choose a valid option.\")\n",
    "\n",
    "        # List comprehension to filter characters based on input\n",
    "        selected_characters = [\n",
    "            [char[0], char[1]]\n",
    "            for char in one_piece_characters\n",
    "            if min_power_level <= char[2] <= max_power_level and any(ability in selected_abilities for ability in char[1].split(', '))\n",
    "        ]\n",
    "\n",
    "        # Display the selected characters\n",
    "        if selected_characters:\n",
    "            print(\"Selected Characters:\")\n",
    "            for character in selected_characters:\n",
    "                print(f\"Name: {character[0]}, Ability: {character[1]}\")\n",
    "        else:\n",
    "            print(\"No characters match the criteria.\")\n",
    "    except ValueError as e:\n",
    "        print(e)\n",
    "\n",
    "if __name__ == \"__main__\":\n",
    "    select_characters()\n"
   ]
  },
  {
   "cell_type": "code",
   "execution_count": null,
   "metadata": {},
   "outputs": [],
   "source": []
  }
 ],
 "metadata": {
  "kernelspec": {
   "display_name": "projects2022",
   "language": "python",
   "name": "python3"
  },
  "language_info": {
   "codemirror_mode": {
    "name": "ipython",
    "version": 3
   },
   "file_extension": ".py",
   "mimetype": "text/x-python",
   "name": "python",
   "nbconvert_exporter": "python",
   "pygments_lexer": "ipython3",
   "version": "3.9.12"
  },
  "orig_nbformat": 4
 },
 "nbformat": 4,
 "nbformat_minor": 2
}
