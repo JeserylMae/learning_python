{
 "cells": [
  {
   "cell_type": "code",
   "execution_count": 386,
   "id": "87521023",
   "metadata": {},
   "outputs": [],
   "source": [
    "#Washing Machine Class\n",
    "\n",
    "#Properties:\n",
    "#Automatic, Semi-Auto, Full Auto wash types\n",
    "#Dryer\n",
    "#Load Capacity\n",
    "#Eco mode\n",
    "#Pre-soak"
   ]
  },
  {
   "cell_type": "code",
   "execution_count": 852,
   "id": "7de7f0c6",
   "metadata": {},
   "outputs": [],
   "source": [
    "class WashingMachine:\n",
    "    def __init__(self,\n",
    "                 #Properties\n",
    "                 wash_type='Manual',\n",
    "                 load_capacity=10, \n",
    "                 dryer=False, \n",
    "                 eco_mode=False, \n",
    "                 pre_soak=False, \n",
    "                 #Components\n",
    "                 water_pump=WaterPump(), \n",
    "                 control_valve=ControlValve(), \n",
    "                 drum = Drum(),\n",
    "                 agitator=Agitator(), \n",
    "                 drain_pipe=DrainPipe(), \n",
    "                 timer=Timer(),\n",
    "                 *args, **kwargs):\n",
    "        \n",
    "        wash_types = ['Manual', 'Semi Auto', 'Full Auto']\n",
    "        \n",
    "        self.wash_type = wash_type\n",
    "        \n",
    "        if self.wash_type == 0:\n",
    "            self.wash_type = wash_types[0]\n",
    "            print(f'Washing machine is set to {self.wash_type}.')\n",
    "            \n",
    "        elif self.wash_type == 1:\n",
    "            self.wash_type = wash_types[1]\n",
    "            print(f'Washing machine is set to {self.wash_type}.')\n",
    "            \n",
    "        elif self.wash_type == 2:\n",
    "            self.wash_type = wash_types[2]\n",
    "            print(f'Washing machine is set to {self.wash_type}.')\n",
    "        \n",
    "        self.load_capacity = float(load_capacity)\n",
    "        min_load = float(10)\n",
    "        max_load = float(30)\n",
    "        \n",
    "        if self.load_capacity > float(max_load):\n",
    "            raise ValueError(f'Max load too high! Max value is only from {min_load} - {max_load}!')\n",
    "        elif self.load_capacity < float(10):\n",
    "            raise ValueError(f'Max load too low! Values can be set from {min_load} - {max_load} kg!')\n",
    "        else:\n",
    "            pass\n",
    "     \n",
    "        self.dryer = bool(dryer)\n",
    "        if self.dryer is not True:\n",
    "            self.dryer = 'Not Available'\n",
    "        else:\n",
    "            self.dryer = 'Available'\n",
    "  \n",
    "        self.eco_mode = bool(eco_mode)\n",
    "        if self.eco_mode is not True:\n",
    "            self.eco_mode = 'Not Available'\n",
    "        else:\n",
    "            self.eco_mode = 'Available'\n",
    "        \n",
    "        self.pre_soak = bool(pre_soak)\n",
    "        if self.pre_soak is not True:\n",
    "            self.pre_soak = 'Not Available'\n",
    "        else:\n",
    "            self.pre_soak = 'Available'\n",
    " \n",
    "        ##Components\n",
    "        self.water_pump = water_pump\n",
    "        self.control_valve = control_valve\n",
    "        self.drum = drum\n",
    "        self.agitator = agitator\n",
    "        self.drain_pipe = drain_pipe\n",
    "        self.timer = timer\n",
    "        \n",
    "        \n",
    "        print('Washing Machine Built!')\n",
    "        print(f'Wash type: {self.wash_type}')\n",
    "        print(f'Load Capacity: {self.load_capacity} KG')\n",
    "        print(f'Dryer: {self.dryer}')\n",
    "        print(f'Eco mode: {self.eco_mode}')\n",
    "        print(f'Pre-soak: {self.pre_soak}')\n",
    "        \n",
    "    def show_info(self):\n",
    "        print(f'Wash type: {self.wash_type}')\n",
    "        print(f'Dryer: {self.dryer}')\n",
    "        print(f'Load Capacity: {self.load_capacity} KG')\n",
    "        print(f'Eco mode: {self.eco_mode}')\n",
    "        print(f'Pre-soak: {self.pre_soak}')\n",
    "\n",
    "            "
   ]
  },
  {
   "cell_type": "code",
   "execution_count": 853,
   "id": "a53f38fc",
   "metadata": {},
   "outputs": [],
   "source": [
    "class WaterPump:\n",
    "    pass"
   ]
  },
  {
   "cell_type": "code",
   "execution_count": 854,
   "id": "44ba8808",
   "metadata": {},
   "outputs": [],
   "source": [
    "class ControlValve:\n",
    "    pass"
   ]
  },
  {
   "cell_type": "code",
   "execution_count": 855,
   "id": "7cd2820b",
   "metadata": {},
   "outputs": [],
   "source": [
    "class Drum:\n",
    "    pass"
   ]
  },
  {
   "cell_type": "code",
   "execution_count": 856,
   "id": "3cf1c9f0",
   "metadata": {},
   "outputs": [],
   "source": [
    "class Agitator:\n",
    "    pass"
   ]
  },
  {
   "cell_type": "code",
   "execution_count": 857,
   "id": "f8fae333",
   "metadata": {},
   "outputs": [],
   "source": [
    "class DrainPipe:\n",
    "    pass"
   ]
  },
  {
   "cell_type": "code",
   "execution_count": 858,
   "id": "a4fda99a",
   "metadata": {},
   "outputs": [],
   "source": [
    "class Timer:\n",
    "    def set_timer(self):\n",
    "        wash_time = int(input('Please set your preferred wash time'))\n",
    "        print(f'Wash time is set to {wash_time}')"
   ]
  },
  {
   "cell_type": "code",
   "execution_count": 859,
   "id": "825d7149",
   "metadata": {},
   "outputs": [],
   "source": [
    "#Mixin\n",
    "class FullAutoFeatures:\n",
    "    def set_timer(self):\n",
    "        set_timer()"
   ]
  },
  {
   "cell_type": "code",
   "execution_count": 866,
   "id": "5aa7c7f8",
   "metadata": {},
   "outputs": [
    {
     "name": "stdout",
     "output_type": "stream",
     "text": [
      "Washing machine is set to Full Auto.\n",
      "Washing Machine Built!\n",
      "Wash type: Full Auto\n",
      "Load Capacity: 10.0 KG\n",
      "Dryer: Available\n",
      "Eco mode: Available\n",
      "Pre-soak: Available\n"
     ]
    }
   ],
   "source": [
    "lg = WashingMachine(wash_type=2, eco_mode=True, dryer=True, pre_soak=True)"
   ]
  },
  {
   "cell_type": "code",
   "execution_count": 861,
   "id": "e7ab96a9",
   "metadata": {},
   "outputs": [
    {
     "data": {
      "text/plain": [
       "'Full Auto'"
      ]
     },
     "execution_count": 861,
     "metadata": {},
     "output_type": "execute_result"
    }
   ],
   "source": [
    "lg.wash_type"
   ]
  },
  {
   "cell_type": "code",
   "execution_count": 862,
   "id": "403d3661",
   "metadata": {},
   "outputs": [
    {
     "name": "stdout",
     "output_type": "stream",
     "text": [
      "Full-Auto\n"
     ]
    }
   ],
   "source": [
    "wash_type = 2\n",
    "wash_types = {0:'Manual', 1:'Semi-Auto', 2:'Full-Auto'}\n",
    "wash_type = wash_types[wash_type]\n",
    "\n",
    "print(wash_type)"
   ]
  },
  {
   "cell_type": "code",
   "execution_count": null,
   "id": "956e2a75",
   "metadata": {},
   "outputs": [],
   "source": []
  },
  {
   "cell_type": "code",
   "execution_count": null,
   "id": "6261261d",
   "metadata": {},
   "outputs": [],
   "source": []
  }
 ],
 "metadata": {
  "kernelspec": {
   "display_name": "Python 3 (ipykernel)",
   "language": "python",
   "name": "python3"
  },
  "language_info": {
   "codemirror_mode": {
    "name": "ipython",
    "version": 3
   },
   "file_extension": ".py",
   "mimetype": "text/x-python",
   "name": "python",
   "nbconvert_exporter": "python",
   "pygments_lexer": "ipython3",
   "version": "3.9.12"
  }
 },
 "nbformat": 4,
 "nbformat_minor": 5
}
