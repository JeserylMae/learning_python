{
 "cells": [
  {
   "cell_type": "code",
   "execution_count": 2,
   "id": "87521023",
   "metadata": {},
   "outputs": [],
   "source": [
    "#Washing Machine Component Classes\n",
    "\n",
    "#Components:\n",
    "#WaterPump\n",
    "#ControlValve\n",
    "#Drum\n",
    "#Agitator\n",
    "#DrainPipe\n",
    "#Timer\n",
    "\n",
    "#Washing Machine Composite Class\n",
    "\n",
    "#Properties:\n",
    "#Automatic, Semi-Auto, Full Auto wash types\n",
    "#Dryer\n",
    "#Load Capacity\n",
    "#Eco mode\n",
    "#Pre-soak"
   ]
  },
  {
   "cell_type": "code",
   "execution_count": 3,
   "id": "a53f38fc",
   "metadata": {},
   "outputs": [],
   "source": [
    "class WaterPump:\n",
    "    pass"
   ]
  },
  {
   "cell_type": "code",
   "execution_count": 4,
   "id": "44ba8808",
   "metadata": {},
   "outputs": [],
   "source": [
    "class ControlValve:\n",
    "    pass"
   ]
  },
  {
   "cell_type": "code",
   "execution_count": 5,
   "id": "7cd2820b",
   "metadata": {},
   "outputs": [],
   "source": [
    "class Drum:\n",
    "    pass"
   ]
  },
  {
   "cell_type": "code",
   "execution_count": 6,
   "id": "3cf1c9f0",
   "metadata": {},
   "outputs": [],
   "source": [
    "class Agitator:\n",
    "    pass"
   ]
  },
  {
   "cell_type": "code",
   "execution_count": 7,
   "id": "f8fae333",
   "metadata": {},
   "outputs": [],
   "source": [
    "class DrainPipe:\n",
    "    def __init__(self, drain_pipe_size=2):\n",
    "        self.drain_pipe_size = drain_pipe_size"
   ]
  },
  {
   "cell_type": "code",
   "execution_count": 8,
   "id": "a4fda99a",
   "metadata": {},
   "outputs": [],
   "source": [
    "class Timer:\n",
    "    def set_timer(self):\n",
    "        try: \n",
    "            wash_time = int(input('Please set your preferred wash time in seconds. 60 is to 1 minute.'))\n",
    "        except:\n",
    "            raise ValueError(\"Please input int only!\")\n",
    "        \n",
    "        print(f'Wash time is set to {wash_time} seconds.')\n",
    "\n",
    "    def analog_timer(self):\n",
    "        print(\"Shift the dial to set the time.\")\n",
    "        self.set_timer()\n",
    "\n",
    "    def digital_timer(self):\n",
    "        print(\"Set the digital timer\")\n",
    "        self.set_timer()\n",
    "\n",
    "    def dryer_timer(self):\n",
    "        print(\"Please set the timer for the dryer.\")\n",
    "        self.set_timer()"
   ]
  },
  {
   "cell_type": "code",
   "execution_count": 9,
   "id": "825d7149",
   "metadata": {},
   "outputs": [],
   "source": [
    "#Mixin\n",
    "class FullAutoFeatures:\n",
    "    def set_timer(self):\n",
    "        self.set_timer()"
   ]
  },
  {
   "cell_type": "code",
   "execution_count": 40,
   "id": "569d4eea",
   "metadata": {},
   "outputs": [],
   "source": [
    "class DryerFeatures:\n",
    "    def load_dryer(self):\n",
    "        print(\"Prepare the clothes to load.\")"
   ]
  },
  {
   "cell_type": "code",
   "execution_count": 24,
   "id": "2422ff76",
   "metadata": {},
   "outputs": [],
   "source": [
    "class WashingMachine:\n",
    "    def __init__(self,\n",
    "                 #Properties\n",
    "                 wash_type='Manual',\n",
    "                 load_capacity=10, \n",
    "                 dryer=False, \n",
    "                 eco_mode=False, \n",
    "                 pre_soak=False, \n",
    "                 #Components\n",
    "                 water_pump=WaterPump(), \n",
    "                 control_valve=ControlValve(), \n",
    "                 drum = Drum(),\n",
    "                 agitator=Agitator(), \n",
    "                 drain_pipe=DrainPipe(), \n",
    "                 timer=Timer(),\n",
    "                 *args, **kwargs):\n",
    "        \n",
    "        wash_types = ['Manual', 'Semi Auto', 'Full Auto']\n",
    "        \n",
    "        self.power = 0\n",
    "        self.wash_type = wash_type\n",
    "        \n",
    "        if self.wash_type == 0:\n",
    "            self.wash_type = wash_types[0]\n",
    "            print(f'Washing machine is set to {self.wash_type}.')\n",
    "            \n",
    "        elif self.wash_type == 1:\n",
    "            self.wash_type = wash_types[1]\n",
    "            print(f'Washing machine is set to {self.wash_type}.')\n",
    "            \n",
    "        elif self.wash_type == 2:\n",
    "            self.wash_type = wash_types[2]\n",
    "            print(f'Washing machine is set to {self.wash_type}.')\n",
    "        \n",
    "        self.load_capacity = float(load_capacity)\n",
    "        min_load = float(10)\n",
    "        max_load = float(30)\n",
    "        \n",
    "        if self.load_capacity > float(max_load):\n",
    "            raise ValueError(f'Max load too high! Max value is only from {min_load} - {max_load}!')\n",
    "        elif self.load_capacity < float(10):\n",
    "            raise ValueError(f'Max load too low! Values can be set from {min_load} - {max_load} kg!')\n",
    "        else:\n",
    "            pass\n",
    "        \n",
    "        self.dryer = bool(dryer)\n",
    "        if self.dryer is not True:\n",
    "            self.dryer = 'Not Available'\n",
    "        else:\n",
    "            self.dryer = 'Available'\n",
    "            self.obj_dryer = DryerFeatures()\n",
    "        \n",
    "        self.eco_mode = bool(eco_mode)\n",
    "        if self.eco_mode is not True:\n",
    "            self.eco_mode = 'Not Available'\n",
    "        else:\n",
    "            self.eco_mode = 'Available'\n",
    "        \n",
    "        self.pre_soak = bool(pre_soak)\n",
    "        if self.pre_soak is not True:\n",
    "            self.pre_soak = 'Not Available'\n",
    "        else:\n",
    "            self.pre_soak = 'Available'\n",
    " \n",
    "        ##Components\n",
    "        self.water_pump = water_pump\n",
    "        self.control_valve = control_valve\n",
    "        self.drum = drum\n",
    "        self.agitator = agitator\n",
    "        self.drain_pipe = drain_pipe\n",
    "        self.timer = timer\n",
    "        \n",
    "        print('Washing Machine Built!')\n",
    "        print(f'Wash type: {self.wash_type}')\n",
    "        print(f'Load Capacity: {self.load_capacity} KG')\n",
    "        print(f'Dryer: {self.dryer}')\n",
    "        print(f'Eco mode: {self.eco_mode}')\n",
    "        print(f'Pre-soak: {self.pre_soak}')\n",
    "    \n",
    "    @property\n",
    "    def show_info(self):\n",
    "        print(f'Wash type: {self.wash_type}')\n",
    "        print(f'Dryer: {self.dryer}')\n",
    "        print(f'Load Capacity: {self.load_capacity} KG')\n",
    "        print(f'Eco mode: {self.eco_mode}')\n",
    "        print(f'Pre-soak: {self.pre_soak}')\n",
    "    \n",
    "    def run_washing_machine_interface(self):\n",
    "            print(\"Your washing machine is running...\")\n",
    "            print(\"*\" * 50)\n",
    "            print(\"What do you want to do?\")\n",
    "            if self.dryer == True:\n",
    "                print(\"Dryer function\")\n",
    "            self.show_info\n",
    "            \n",
    "    def power_button(self):\n",
    "        if self.power == 0:\n",
    "            print(f\"Your washing machine is turned OFF, do you want to turn it ON?\")\n",
    "            power_decision = int(input(\"Press 1 to turn ON or Press 0 to CANCEL.\"))\n",
    "            if power_decision == 1:\n",
    "                self.run_washing_machine_interface()\n",
    "            elif power_decision == 0:\n",
    "                print(\"Your washing machine stayed OFF.\")\n",
    "        \n",
    "        elif self.power == 1:\n",
    "            self.run_washing_machine_interface()"
   ]
  },
  {
   "cell_type": "code",
   "execution_count": 34,
   "id": "5aa7c7f8",
   "metadata": {},
   "outputs": [
    {
     "name": "stdout",
     "output_type": "stream",
     "text": [
      "Washing machine is set to Full Auto.\n",
      "Washing Machine Built!\n",
      "Wash type: Full Auto\n",
      "Load Capacity: 10.0 KG\n",
      "Dryer: Available\n",
      "Eco mode: Not Available\n",
      "Pre-soak: Available\n"
     ]
    }
   ],
   "source": [
    "lg = WashingMachine(wash_type=2, eco_mode=False, dryer=True, pre_soak=True)"
   ]
  },
  {
   "cell_type": "code",
   "execution_count": 35,
   "id": "e7ab96a9",
   "metadata": {},
   "outputs": [
    {
     "data": {
      "text/plain": [
       "'Full Auto'"
      ]
     },
     "execution_count": 35,
     "metadata": {},
     "output_type": "execute_result"
    }
   ],
   "source": [
    "lg.wash_type"
   ]
  },
  {
   "cell_type": "code",
   "execution_count": 36,
   "id": "98771c9c",
   "metadata": {},
   "outputs": [
    {
     "name": "stdout",
     "output_type": "stream",
     "text": [
      "Wash time is set to 10 seconds.\n"
     ]
    }
   ],
   "source": [
    "lg.timer.set_timer()"
   ]
  },
  {
   "cell_type": "code",
   "execution_count": 37,
   "id": "98eabfa9",
   "metadata": {},
   "outputs": [
    {
     "name": "stdout",
     "output_type": "stream",
     "text": [
      "Prepare the clothes to load.\n"
     ]
    }
   ],
   "source": [
    "lg.obj_dryer.load_dryer()"
   ]
  },
  {
   "cell_type": "code",
   "execution_count": 38,
   "id": "fe92cd4c",
   "metadata": {},
   "outputs": [
    {
     "name": "stdout",
     "output_type": "stream",
     "text": [
      "Your washing machine is running...\n",
      "**************************************************\n",
      "What do you want to do?\n",
      "Wash type: Full Auto\n",
      "Dryer: Available\n",
      "Load Capacity: 10.0 KG\n",
      "Eco mode: Not Available\n",
      "Pre-soak: Available\n"
     ]
    }
   ],
   "source": [
    "lg.run_washing_machine_interface()"
   ]
  },
  {
   "cell_type": "code",
   "execution_count": 39,
   "id": "894af3ae",
   "metadata": {},
   "outputs": [
    {
     "name": "stdout",
     "output_type": "stream",
     "text": [
      "Your washing machine is turned OFF, do you want to turn it ON?\n",
      "Your washing machine is running...\n",
      "**************************************************\n",
      "What do you want to do?\n",
      "Wash type: Full Auto\n",
      "Dryer: Available\n",
      "Load Capacity: 10.0 KG\n",
      "Eco mode: Not Available\n",
      "Pre-soak: Available\n"
     ]
    }
   ],
   "source": [
    "lg.power_button()"
   ]
  },
  {
   "cell_type": "code",
   "execution_count": null,
   "id": "8dc2d3e1",
   "metadata": {},
   "outputs": [],
   "source": []
  }
 ],
 "metadata": {
  "kernelspec": {
   "display_name": "Python 3.9.12 ('projects2022')",
   "language": "python",
   "name": "python3"
  },
  "language_info": {
   "codemirror_mode": {
    "name": "ipython",
    "version": 3
   },
   "file_extension": ".py",
   "mimetype": "text/x-python",
   "name": "python",
   "nbconvert_exporter": "python",
   "pygments_lexer": "ipython3",
   "version": "3.9.12"
  },
  "vscode": {
   "interpreter": {
    "hash": "caba5fb2e65e5cd320935daeb5a23cf1221c4ea11b88a6babfa283dbfc6ad08a"
   }
  }
 },
 "nbformat": 4,
 "nbformat_minor": 5
}
