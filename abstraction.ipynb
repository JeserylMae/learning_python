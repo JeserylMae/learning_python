{
 "cells": [
  {
   "attachments": {},
   "cell_type": "markdown",
   "metadata": {},
   "source": [
    "# Pre-requisites for this notebook:\n",
    "\n",
    "- OOP basics\n",
    "- Inheritance\n",
    "- Super\n",
    "- Python Methods\n",
    "- Polymorphism\n",
    "- Method Resolution Order (MRO) \n",
    "- try catch"
   ]
  },
  {
   "attachments": {},
   "cell_type": "markdown",
   "metadata": {},
   "source": [
    "## Python Abstraction\n",
    "\n",
    "Abstraction in python is defined as a process of handling complexity by hiding unnecessary information from the user. This is one of the core concepts of object-oriented programming (OOP) languages."
   ]
  },
  {
   "attachments": {},
   "cell_type": "markdown",
   "metadata": {},
   "source": [
    "## What is an abstract class?\n",
    "\n",
    "<p>An abstract class can be considered as a blueprint for other classes. It allows you to create a set of methods that must be created within any child classes built from the abstract class. </p>\n",
    "\n",
    "<p>A class which contains one or more abstract methods is called an abstract class. An abstract method is a method that has a declaration but does not have an implementation. </p>\n",
    "\n",
    "<p>While we are designing large functional units we use an abstract class. When we want to provide a common interface for different implementations of a component, we use an abstract class.</p>"
   ]
  },
  {
   "attachments": {},
   "cell_type": "markdown",
   "metadata": {},
   "source": [
    "## Why use Abstract Base Classes : \n",
    "\n",
    "<p>By defining an abstract base class, you can define a common Application Program Interface(API) for a set of subclasses.</p>\n",
    "\n",
    "<p>This capability is especially useful in situations where a third-party is going to provide implementations, such as with plugins, but can also help you when working in a large team or with a large code-base where keeping all classes in your mind is difficult or not possible.</p>"
   ]
  },
  {
   "attachments": {},
   "cell_type": "markdown",
   "metadata": {},
   "source": [
    "## How Abstract Base classes work: \n",
    "\n",
    "<p>By default, Python does not provide abstract classes. </p>\n",
    "\n",
    "<p>Python comes with a module that provides the base for defining Abstract Base classes(ABC) and that module name is ABC. </p>\n",
    "\n",
    "<p>ABC works by decorating methods of the base class as abstract and then registering concrete classes as implementations of the abstract base. </p>\n",
    "\n",
    "<p>A method becomes abstract when decorated with the keyword @abstractmethod.</p>"
   ]
  },
  {
   "cell_type": "code",
   "execution_count": 68,
   "metadata": {},
   "outputs": [],
   "source": [
    "# Python program showing\n",
    "# abstract base class work\n",
    " \n",
    "from abc import ABC, abstractmethod\n",
    " \n",
    "class Hero(ABC):\n",
    " \n",
    "    @abstractmethod\n",
    "    def do_ultimate(self):\n",
    "        pass\n",
    " \n",
    "class Fighter(Hero):\n",
    " \n",
    "    # overriding abstract method\n",
    "    def do_ultimate(self):\n",
    "        print(\"Fighter Ultimate used!\")\n",
    " \n",
    "class Mage(Hero):\n",
    " \n",
    "    # overriding abstract method\n",
    "    def do_ultimate(self):\n",
    "        print(\"Mage Ultimate used!\")\n",
    " \n",
    "class Marksman(Hero):\n",
    " \n",
    "    # overriding abstract method\n",
    "    def do_ultimate(self):\n",
    "        print(\"Marksman Ultimate used!\")\n",
    " \n",
    "class Support(Hero):\n",
    " \n",
    "    # overriding abstract method\n",
    "    def do_ultimate(self):\n",
    "        print(\"Support Ultimate used!\")"
   ]
  },
  {
   "cell_type": "code",
   "execution_count": 69,
   "metadata": {},
   "outputs": [
    {
     "name": "stdout",
     "output_type": "stream",
     "text": [
      "Fighter Ultimate used!\n",
      "Mage Ultimate used!\n",
      "Marksman Ultimate used!\n",
      "Support Ultimate used!\n"
     ]
    }
   ],
   "source": [
    "# Driver code\n",
    "fighter = Fighter()\n",
    "fighter.do_ultimate()\n",
    "\n",
    "mage = Mage()\n",
    "mage.do_ultimate()\n",
    " \n",
    "marksman = Marksman()\n",
    "marksman.do_ultimate()\n",
    " \n",
    "support = Support()\n",
    "support.do_ultimate()"
   ]
  },
  {
   "cell_type": "code",
   "execution_count": 70,
   "metadata": {},
   "outputs": [
    {
     "name": "stdout",
     "output_type": "stream",
     "text": [
      "Calling from Iphone...\n",
      "Calling from Android Phone...\n",
      "Calling from windows phone...\n",
      "Calling from Blackberry...\n"
     ]
    }
   ],
   "source": [
    "class Phone(ABC):\n",
    " \n",
    "    def make_call(self):\n",
    "        pass\n",
    " \n",
    "class Iphone(Phone):\n",
    " \n",
    "    def make_call(self):\n",
    "        print(\"Calling from Iphone...\")\n",
    " \n",
    "class Android(Phone):\n",
    " \n",
    "    def make_call(self):\n",
    "        print(\"Calling from Android Phone...\")\n",
    " \n",
    "class Windows(Phone):\n",
    " \n",
    "    def make_call(self):\n",
    "        print(\"Calling from windows phone...\")\n",
    " \n",
    "class Blackberry(Phone):\n",
    " \n",
    "    def make_call(self):\n",
    "        print(\"Calling from Blackberry...\")\n",
    "\n",
    "# Driver code\n",
    "R = Iphone()\n",
    "R.make_call()\n",
    " \n",
    "K = Android()\n",
    "K.make_call()\n",
    " \n",
    "R = Windows()\n",
    "R.make_call()\n",
    "\n",
    "K = Blackberry()\n",
    "K.make_call()"
   ]
  },
  {
   "attachments": {},
   "cell_type": "markdown",
   "metadata": {},
   "source": [
    "## Implementation Through Subclassing:\n",
    "\n",
    "\n",
    "<p>By subclassing directly from the base, we can avoid the need to register the class explicitly. </p>\n",
    "\n",
    "<p>In this case, the Python class management is used to recognize PluginImplementation as implementing the abstract PluginBase.</p>"
   ]
  },
  {
   "attachments": {},
   "cell_type": "markdown",
   "metadata": {},
   "source": [
    "isinstance(object, classinfo) asks whether an object is an instance of a class (or a tuple of classes).\n",
    "\n",
    "issubclass(class, classinfo) asks whether one class is a subclass of another class (or other classes).\n",
    "\n",
    "In either method, classinfo can be a “class, type, or tuple of classes, types, and such tuples.”\n",
    "\n",
    "Since classes are themselves objects, isinstance applies just fine. We can also ask whether a class is a subclass of another class. But, we shouldn't necessarily expect the same answer from both questions."
   ]
  },
  {
   "cell_type": "code",
   "execution_count": 71,
   "metadata": {},
   "outputs": [
    {
     "name": "stdout",
     "output_type": "stream",
     "text": [
      "True\n",
      "True\n"
     ]
    }
   ],
   "source": [
    "# Python program showing\n",
    "# implementation of abstract\n",
    "# class through subclassing\n",
    "class Seed:      \n",
    "    def grow(self):\n",
    "        pass\n",
    " \n",
    "class Plant(Seed):\n",
    "    def grow(self):\n",
    "        print(\"Plant is growing!\")\n",
    " \n",
    "# Driver code\n",
    "print( issubclass(Plant, Seed))\n",
    "print( isinstance(Plant(), Seed))"
   ]
  },
  {
   "attachments": {},
   "cell_type": "markdown",
   "metadata": {},
   "source": [
    "<p>A side-effect of using direct subclassing is, it is possible to find all the implementations of your plugin by asking the base class for the list of known classes derived from it. </p>"
   ]
  },
  {
   "attachments": {},
   "cell_type": "markdown",
   "metadata": {},
   "source": [
    "## Concrete Methods in Abstract Base Classes : \n",
    "\n",
    "<p>Concrete classes contain only concrete (normal)methods whereas abstract classes may contain both concrete methods and abstract methods. The concrete class provides an implementation of abstract methods, the abstract base class can also provide an implementation by invoking the methods via super().</p>\n",
    " \n",
    "\n",
    "<p>Let look over the example to invoke the method using super():</p>"
   ]
  },
  {
   "cell_type": "code",
   "execution_count": 72,
   "metadata": {},
   "outputs": [
    {
     "name": "stdout",
     "output_type": "stream",
     "text": [
      "Vehicle is accelerating!\n",
      "The SUV is running....\n"
     ]
    }
   ],
   "source": [
    "# Python program invoking a\n",
    "# method using super()\n",
    "class Vehicle(ABC):\n",
    "    def accelerate(self):\n",
    "        print(\"Vehicle is accelerating!\")\n",
    " \n",
    "class SUV(Vehicle):\n",
    "    def accelerate(self):\n",
    "        super().accelerate()\n",
    "        print(\"The SUV is running....\")\n",
    "\n",
    "# Driver code\n",
    "vehicle = SUV()\n",
    "vehicle.accelerate()"
   ]
  },
  {
   "attachments": {},
   "cell_type": "markdown",
   "metadata": {},
   "source": [
    "<p>In the above program, we can invoke the methods in abstract classes by using super(). </p>\n"
   ]
  },
  {
   "attachments": {},
   "cell_type": "markdown",
   "metadata": {},
   "source": [
    "## Abstract Properties : \n",
    "<p>Abstract classes include attributes in addition to methods, \n",
    "you can require the attributes in concrete classes by defining them with @abstractproperty. </p>"
   ]
  },
  {
   "cell_type": "code",
   "execution_count": 73,
   "metadata": {},
   "outputs": [
    {
     "name": "stdout",
     "output_type": "stream",
     "text": [
      "Can't instantiate abstract class Parent with abstract method geeks\n",
      "child class\n"
     ]
    }
   ],
   "source": [
    "import abc \n",
    "\n",
    "class Parent(ABC):\n",
    "    @abc.abstractproperty\n",
    "    def geeks(self):\n",
    "        return \"parent class\"\n",
    "class Child(Parent):\n",
    "    \n",
    "    @property\n",
    "    def geeks(self):\n",
    "        return \"child class\"\n",
    "\n",
    "try:\n",
    "    r =Parent()\n",
    "    print( r.geeks)\n",
    "except Exception as err:\n",
    "    print (err)\n",
    "  \n",
    "r = Child()\n",
    "print (r.geeks)"
   ]
  },
  {
   "attachments": {},
   "cell_type": "markdown",
   "metadata": {},
   "source": [
    "<p>In the above example, the Base class cannot be instantiated because it has only an abstract version of the property getter method. </p>"
   ]
  },
  {
   "attachments": {},
   "cell_type": "markdown",
   "metadata": {},
   "source": [
    "# Abstract Class Instantiation : \n",
    "\n",
    "- Abstract classes are incomplete because they have methods that have nobody. \n",
    "- If python allows creating an object for abstract classes then using that object if anyone calls the abstract method, but there is no actual implementation to invoke. \n",
    "- So we use an abstract class as a template and according to the need, we extend it and build on it before we can use it. \n",
    "- Due to the fact, an abstract class is not a concrete class, it cannot be instantiated. When we create an object for the abstract class it raises an error. "
   ]
  },
  {
   "cell_type": "code",
   "execution_count": 74,
   "metadata": {},
   "outputs": [],
   "source": [
    "# Python program showing\n",
    "# abstract class cannot\n",
    "# be an instantiation\n",
    "class Hero(ABC):\n",
    "    @abstractmethod\n",
    "    def do_ultimate(self):\n",
    "        pass\n",
    "\n",
    "class Fighter(Hero):\n",
    " \n",
    "    # overriding abstract method\n",
    "    def do_ultimate(self):\n",
    "        print(\"Fighter Ultimate used!\")\n",
    " \n",
    "class Mage(Hero):\n",
    " \n",
    "    # overriding abstract method\n",
    "    def do_ultimate(self):\n",
    "        print(\"Mage Ultimate used!\")\n",
    " \n",
    "class Marksman(Hero):\n",
    " \n",
    "    # overriding abstract method\n",
    "    def do_ultimate(self):\n",
    "        print(\"Marksman Ultimate used!\")\n",
    " \n",
    "class Support(Hero):\n",
    " \n",
    "    # overriding abstract method\n",
    "    def do_ultimate(self):\n",
    "        print(\"Support Ultimate used!\")"
   ]
  },
  {
   "cell_type": "code",
   "execution_count": 75,
   "metadata": {},
   "outputs": [
    {
     "ename": "TypeError",
     "evalue": "Can't instantiate abstract class Hero with abstract method do_ultimate",
     "output_type": "error",
     "traceback": [
      "\u001b[1;31m---------------------------------------------------------------------------\u001b[0m",
      "\u001b[1;31mTypeError\u001b[0m                                 Traceback (most recent call last)",
      "\u001b[1;32md:\\learning_python\\abstraction.ipynb Cell 21\u001b[0m in \u001b[0;36m<cell line: 1>\u001b[1;34m()\u001b[0m\n\u001b[1;32m----> <a href='vscode-notebook-cell:/d%3A/learning_python/abstraction.ipynb#X51sZmlsZQ%3D%3D?line=0'>1</a>\u001b[0m h\u001b[39m=\u001b[39mHero()\n",
      "\u001b[1;31mTypeError\u001b[0m: Can't instantiate abstract class Hero with abstract method do_ultimate"
     ]
    }
   ],
   "source": [
    "h=Hero()"
   ]
  }
 ],
 "metadata": {
  "kernelspec": {
   "display_name": "projects2022",
   "language": "python",
   "name": "python3"
  },
  "language_info": {
   "codemirror_mode": {
    "name": "ipython",
    "version": 3
   },
   "file_extension": ".py",
   "mimetype": "text/x-python",
   "name": "python",
   "nbconvert_exporter": "python",
   "pygments_lexer": "ipython3",
   "version": "3.9.12"
  },
  "orig_nbformat": 4,
  "vscode": {
   "interpreter": {
    "hash": "caba5fb2e65e5cd320935daeb5a23cf1221c4ea11b88a6babfa283dbfc6ad08a"
   }
  }
 },
 "nbformat": 4,
 "nbformat_minor": 2
}
