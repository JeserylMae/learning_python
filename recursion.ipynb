{
 "cells": [
  {
   "cell_type": "code",
   "execution_count": 6,
   "metadata": {},
   "outputs": [
    {
     "name": "stdout",
     "output_type": "stream",
     "text": [
      "The factorial of 5 is 120\n"
     ]
    }
   ],
   "source": [
    "def factorial(n):\n",
    "    if n == 0:\n",
    "        return 1\n",
    "    else:\n",
    "        return n * factorial(n - 1)\n",
    "\n",
    "# Example usage:\n",
    "n = 5\n",
    "result = factorial(n)\n",
    "print(f\"The factorial of {n} is {result}\")"
   ]
  },
  {
   "cell_type": "code",
   "execution_count": 5,
   "metadata": {},
   "outputs": [
    {
     "name": "stdout",
     "output_type": "stream",
     "text": [
      "Total number of episodes: 160\n"
     ]
    }
   ],
   "source": [
    "def total_episodes(anime_structure):\n",
    "    if type(anime_structure) == list:\n",
    "        total = 0\n",
    "        for season in anime_structure:\n",
    "            total += total_episodes(season)\n",
    "        return total\n",
    "    else:\n",
    "        return anime_structure\n",
    "\n",
    "# Example usage:\n",
    "anime_structure = [5, 10, 15, 30, 45, 55]  # Example anime structure with seasons\n",
    "total = total_episodes(anime_structure)\n",
    "print(f\"Total number of episodes: {total}\")"
   ]
  },
  {
   "cell_type": "code",
   "execution_count": 34,
   "metadata": {},
   "outputs": [
    {
     "name": "stdout",
     "output_type": "stream",
     "text": [
      "Basketball Shootout!\n",
      "Let's see how many shots it will take you to get 10 points.\n",
      "Missed a shot.\n",
      "Made a basket! (+2 points)\n",
      "Missed a shot.\n",
      "Made a basket! (+2 points)\n",
      "Made a basket! (+2 points)\n",
      "Made a basket! (+2 points)\n",
      "Made a basket! (+2 points)\n",
      "Congratulations! You took 7 shots to score 10 points!\n"
     ]
    }
   ],
   "source": [
    "import random\n",
    "\n",
    "def basketball_game(points_needed, probability, current_score=0, shots_taken=0):\n",
    "    if current_score >= points_needed:\n",
    "        print(f\"Congratulations! You took {shots_taken} shots to score {current_score} points!\")\n",
    "        return shots_taken\n",
    "\n",
    "    if random.random() < probability:\n",
    "        # The player makes the shot and scores 2 points\n",
    "        print(f\"Made a basket! (+2 points)\")\n",
    "        return basketball_game(points_needed, probability, current_score + 2, shots_taken + 1)\n",
    "    else:\n",
    "        # The player misses the shot\n",
    "        print(\"Missed a shot.\")\n",
    "        return basketball_game(points_needed, probability, current_score, shots_taken + 1)\n",
    "\n",
    "# Example usage:\n",
    "points_to_win = 10\n",
    "shooting_probability = 0.6\n",
    "\n",
    "print(\"Basketball Shootout!\\nLet's see how many shots it will take you to get\", points_to_win, \"points.\")\n",
    "winner_score = basketball_game(points_to_win, shooting_probability)\n"
   ]
  },
  {
   "cell_type": "code",
   "execution_count": 44,
   "metadata": {},
   "outputs": [
    {
     "name": "stdout",
     "output_type": "stream",
     "text": [
      "To lose 500.0 pounds, you need to do 292 workout sessions.\n"
     ]
    }
   ],
   "source": [
    "def calculate_workout_to_lose_weight(target_calories, current_calories=0, workouts=0):\n",
    "    if current_calories >= target_calories:\n",
    "        return current_calories, workouts\n",
    "\n",
    "    # Simulate a single workout session (you can modify these values based on your actual workout)\n",
    "    workout_calories_burned = 200\n",
    "    sets = 3\n",
    "    repetitions = 10\n",
    "    weight_lifted = 50  # in pounds\n",
    "\n",
    "    # Calculate calories burned during this workout session\n",
    "    calories_burned_in_session = workout_calories_burned * sets * repetitions\n",
    "\n",
    "    # Update the total calories burned and the number of workout sessions\n",
    "    current_calories += calories_burned_in_session\n",
    "    workouts += 1\n",
    "\n",
    "    # Recursively calculate the remaining workouts\n",
    "    return calculate_workout_to_lose_weight(target_calories, current_calories, workouts)\n",
    "\n",
    "# Get user input for the amount of weight they want to lose\n",
    "try:\n",
    "    target_weight_loss = float(input(\"Enter the amount of weight (in pounds) you want to lose: \"))\n",
    "except ValueError:\n",
    "    print(\"Invalid input. Please enter a valid number for weight loss.\")\n",
    "    exit()\n",
    "\n",
    "# Calculate the target calories to burn (approx. 3500 calories per pound of weight loss)\n",
    "target_calories_to_burn = target_weight_loss * 3500\n",
    "\n",
    "final_calories, workout_sessions = calculate_workout_to_lose_weight(target_calories_to_burn)\n",
    "print(f\"To lose {target_weight_loss} pounds, you need to do {workout_sessions} workout sessions.\")"
   ]
  },
  {
   "cell_type": "code",
   "execution_count": null,
   "metadata": {},
   "outputs": [],
   "source": []
  }
 ],
 "metadata": {
  "kernelspec": {
   "display_name": "projects2022",
   "language": "python",
   "name": "python3"
  },
  "language_info": {
   "codemirror_mode": {
    "name": "ipython",
    "version": 3
   },
   "file_extension": ".py",
   "mimetype": "text/x-python",
   "name": "python",
   "nbconvert_exporter": "python",
   "pygments_lexer": "ipython3",
   "version": "3.9.12"
  },
  "orig_nbformat": 4
 },
 "nbformat": 4,
 "nbformat_minor": 2
}
