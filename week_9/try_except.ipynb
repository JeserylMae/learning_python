{
 "cells": [
  {
   "cell_type": "markdown",
   "metadata": {},
   "source": [
    "# Raising an Exception to Another Exception"
   ]
  },
  {
   "cell_type": "markdown",
   "metadata": {},
   "source": [
    "### Let’s consider a situation where we want to raise an exception in response to catching a different exception but want to include information about both exceptions in the traceback.\n",
    "\n",
    "#### To chain exceptions, use the raise from statement instead of a simple raise statement. This will give you information about both errors."
   ]
  },
  {
   "cell_type": "code",
   "execution_count": 5,
   "metadata": {},
   "outputs": [
    {
     "ename": "RuntimeError",
     "evalue": "A parsing error occurred",
     "output_type": "error",
     "traceback": [
      "\u001b[1;31m---------------------------------------------------------------------------\u001b[0m",
      "\u001b[1;31mValueError\u001b[0m                                Traceback (most recent call last)",
      "\u001b[1;32md:\\learning_python-1\\try_except.ipynb Cell 3\u001b[0m in \u001b[0;36mexample\u001b[1;34m()\u001b[0m\n\u001b[0;32m      <a href='vscode-notebook-cell:/d%3A/learning_python-1/try_except.ipynb#W0sZmlsZQ%3D%3D?line=1'>2</a>\u001b[0m \u001b[39mtry\u001b[39;00m:\n\u001b[1;32m----> <a href='vscode-notebook-cell:/d%3A/learning_python-1/try_except.ipynb#W0sZmlsZQ%3D%3D?line=2'>3</a>\u001b[0m     \u001b[39mint\u001b[39;49m(\u001b[39m'\u001b[39;49m\u001b[39mN/A\u001b[39;49m\u001b[39m'\u001b[39;49m)\n\u001b[0;32m      <a href='vscode-notebook-cell:/d%3A/learning_python-1/try_except.ipynb#W0sZmlsZQ%3D%3D?line=3'>4</a>\u001b[0m \u001b[39mexcept\u001b[39;00m \u001b[39mValueError\u001b[39;00m \u001b[39mas\u001b[39;00m e:\n",
      "\u001b[1;31mValueError\u001b[0m: invalid literal for int() with base 10: 'N/A'",
      "\nThe above exception was the direct cause of the following exception:\n",
      "\u001b[1;31mRuntimeError\u001b[0m                              Traceback (most recent call last)",
      "\u001b[1;32md:\\learning_python-1\\try_except.ipynb Cell 3\u001b[0m in \u001b[0;36m<cell line: 7>\u001b[1;34m()\u001b[0m\n\u001b[0;32m      <a href='vscode-notebook-cell:/d%3A/learning_python-1/try_except.ipynb#W0sZmlsZQ%3D%3D?line=3'>4</a>\u001b[0m     \u001b[39mexcept\u001b[39;00m \u001b[39mValueError\u001b[39;00m \u001b[39mas\u001b[39;00m e:\n\u001b[0;32m      <a href='vscode-notebook-cell:/d%3A/learning_python-1/try_except.ipynb#W0sZmlsZQ%3D%3D?line=4'>5</a>\u001b[0m         \u001b[39mraise\u001b[39;00m \u001b[39mRuntimeError\u001b[39;00m(\u001b[39m'\u001b[39m\u001b[39mA parsing error occurred\u001b[39m\u001b[39m'\u001b[39m) \u001b[39mfrom\u001b[39;00m \u001b[39me\u001b[39;00m\n\u001b[1;32m----> <a href='vscode-notebook-cell:/d%3A/learning_python-1/try_except.ipynb#W0sZmlsZQ%3D%3D?line=6'>7</a>\u001b[0m example()\n",
      "\u001b[1;32md:\\learning_python-1\\try_except.ipynb Cell 3\u001b[0m in \u001b[0;36mexample\u001b[1;34m()\u001b[0m\n\u001b[0;32m      <a href='vscode-notebook-cell:/d%3A/learning_python-1/try_except.ipynb#W0sZmlsZQ%3D%3D?line=2'>3</a>\u001b[0m     \u001b[39mint\u001b[39m(\u001b[39m'\u001b[39m\u001b[39mN/A\u001b[39m\u001b[39m'\u001b[39m)\n\u001b[0;32m      <a href='vscode-notebook-cell:/d%3A/learning_python-1/try_except.ipynb#W0sZmlsZQ%3D%3D?line=3'>4</a>\u001b[0m \u001b[39mexcept\u001b[39;00m \u001b[39mValueError\u001b[39;00m \u001b[39mas\u001b[39;00m e:\n\u001b[1;32m----> <a href='vscode-notebook-cell:/d%3A/learning_python-1/try_except.ipynb#W0sZmlsZQ%3D%3D?line=4'>5</a>\u001b[0m     \u001b[39mraise\u001b[39;00m \u001b[39mRuntimeError\u001b[39;00m(\u001b[39m'\u001b[39m\u001b[39mA parsing error occurred\u001b[39m\u001b[39m'\u001b[39m) \u001b[39mfrom\u001b[39;00m \u001b[39me\u001b[39;00m\n",
      "\u001b[1;31mRuntimeError\u001b[0m: A parsing error occurred"
     ]
    }
   ],
   "source": [
    "def example():\n",
    "    try:\n",
    "        int('N/A')\n",
    "    except ValueError as e:\n",
    "        raise RuntimeError('A parsing error occurred') from e\n",
    "  \n",
    "example()"
   ]
  },
  {
   "cell_type": "markdown",
   "metadata": {},
   "source": [
    "ValueError                                Traceback (most recent call last)\n",
    "d:\\learning_python-1\\try_except.ipynb Cell 3 in example()\n",
    "      2 try:\n",
    "----> 3     int('N/A')\n",
    "      4 except ValueError as e:\n",
    "\n",
    "ValueError: invalid literal for int() with base 10: 'N/A'\n",
    "\n",
    "### This exception is the direct cause of the following exception –"
   ]
  },
  {
   "cell_type": "markdown",
   "metadata": {},
   "source": [
    "Traceback (most recent call last):\n",
    "  File \"\", line 1, in \n",
    "  File \"\", line 5, in example\n",
    "RuntimeError: A parsing error occurred\n",
    "\n",
    "### Both exceptions are captured in the traceback. A normal except statement is used to catch such an exception. However, __cause__ attribute of the exception object can be looked to follow the exception chain as explained in the code given below."
   ]
  },
  {
   "cell_type": "code",
   "execution_count": 7,
   "metadata": {},
   "outputs": [
    {
     "name": "stdout",
     "output_type": "stream",
     "text": [
      "It didn't work: A parsing error occurred\n",
      "Cause: invalid literal for int() with base 10: 'N/A'\n"
     ]
    }
   ],
   "source": [
    "try:\n",
    "    example()\n",
    "except RuntimeError as e:\n",
    "    print(\"It didn't work:\", e)\n",
    "    if e.__cause__:\n",
    "        print('Cause:', e.__cause__)\n",
    "\n",
    "#An implicit form of chained exceptions occurs when another exception gets raised inside an except block.\n",
    "# The __cause__ attribute provides an explicit way to record the direct cause of an exception. "
   ]
  },
  {
   "cell_type": "code",
   "execution_count": 16,
   "metadata": {},
   "outputs": [
    {
     "name": "stdout",
     "output_type": "stream",
     "text": [
      "invalid literal for int() with base 10: 'N/A'\n",
      "Couldn't parse: invalid literal for int() with base 10: 'N/A'\n"
     ]
    }
   ],
   "source": [
    "def example2():\n",
    "    try:\n",
    "        int('N/A')\n",
    "    except ValueError as e:\n",
    "        # print(e)\n",
    "        print(\"Couldn't parse:\", e)\n",
    "  \n",
    "example2()"
   ]
  },
  {
   "cell_type": "code",
   "execution_count": 20,
   "metadata": {},
   "outputs": [
    {
     "ename": "RuntimeError",
     "evalue": "A parsing error occurred",
     "output_type": "error",
     "traceback": [
      "\u001b[1;31m---------------------------------------------------------------------------\u001b[0m",
      "\u001b[1;31mValueError\u001b[0m                                Traceback (most recent call last)",
      "\u001b[1;32md:\\learning_python-1\\try_except.ipynb Cell 8\u001b[0m in \u001b[0;36mexample3\u001b[1;34m()\u001b[0m\n\u001b[0;32m      <a href='vscode-notebook-cell:/d%3A/learning_python-1/try_except.ipynb#X10sZmlsZQ%3D%3D?line=1'>2</a>\u001b[0m \u001b[39mtry\u001b[39;00m:\n\u001b[1;32m----> <a href='vscode-notebook-cell:/d%3A/learning_python-1/try_except.ipynb#X10sZmlsZQ%3D%3D?line=2'>3</a>\u001b[0m     \u001b[39mint\u001b[39;49m(\u001b[39m'\u001b[39;49m\u001b[39mN / A\u001b[39;49m\u001b[39m'\u001b[39;49m)\n\u001b[0;32m      <a href='vscode-notebook-cell:/d%3A/learning_python-1/try_except.ipynb#X10sZmlsZQ%3D%3D?line=3'>4</a>\u001b[0m \u001b[39mexcept\u001b[39;00m \u001b[39mValueError\u001b[39;00m:\n",
      "\u001b[1;31mValueError\u001b[0m: invalid literal for int() with base 10: 'N / A'",
      "\nDuring handling of the above exception, another exception occurred:\n",
      "\u001b[1;31mRuntimeError\u001b[0m                              Traceback (most recent call last)",
      "\u001b[1;32md:\\learning_python-1\\try_except.ipynb Cell 8\u001b[0m in \u001b[0;36m<cell line: 7>\u001b[1;34m()\u001b[0m\n\u001b[0;32m      <a href='vscode-notebook-cell:/d%3A/learning_python-1/try_except.ipynb#X10sZmlsZQ%3D%3D?line=3'>4</a>\u001b[0m     \u001b[39mexcept\u001b[39;00m \u001b[39mValueError\u001b[39;00m:\n\u001b[0;32m      <a href='vscode-notebook-cell:/d%3A/learning_python-1/try_except.ipynb#X10sZmlsZQ%3D%3D?line=4'>5</a>\u001b[0m         \u001b[39mraise\u001b[39;00m \u001b[39mRuntimeError\u001b[39;00m(\u001b[39m'\u001b[39m\u001b[39mA parsing error occurred\u001b[39m\u001b[39m'\u001b[39m)\n\u001b[1;32m----> <a href='vscode-notebook-cell:/d%3A/learning_python-1/try_except.ipynb#X10sZmlsZQ%3D%3D?line=6'>7</a>\u001b[0m example3()\n",
      "\u001b[1;32md:\\learning_python-1\\try_except.ipynb Cell 8\u001b[0m in \u001b[0;36mexample3\u001b[1;34m()\u001b[0m\n\u001b[0;32m      <a href='vscode-notebook-cell:/d%3A/learning_python-1/try_except.ipynb#X10sZmlsZQ%3D%3D?line=2'>3</a>\u001b[0m     \u001b[39mint\u001b[39m(\u001b[39m'\u001b[39m\u001b[39mN / A\u001b[39m\u001b[39m'\u001b[39m)\n\u001b[0;32m      <a href='vscode-notebook-cell:/d%3A/learning_python-1/try_except.ipynb#X10sZmlsZQ%3D%3D?line=3'>4</a>\u001b[0m \u001b[39mexcept\u001b[39;00m \u001b[39mValueError\u001b[39;00m:\n\u001b[1;32m----> <a href='vscode-notebook-cell:/d%3A/learning_python-1/try_except.ipynb#X10sZmlsZQ%3D%3D?line=4'>5</a>\u001b[0m     \u001b[39mraise\u001b[39;00m \u001b[39mRuntimeError\u001b[39;00m(\u001b[39m'\u001b[39m\u001b[39mA parsing error occurred\u001b[39m\u001b[39m'\u001b[39m)\n",
      "\u001b[1;31mRuntimeError\u001b[0m: A parsing error occurred"
     ]
    }
   ],
   "source": [
    "def example3():\n",
    "    try:\n",
    "        int('N / A')\n",
    "    except ValueError:\n",
    "        raise RuntimeError('A parsing error occurred')\n",
    "  \n",
    "example3()"
   ]
  },
  {
   "cell_type": "code",
   "execution_count": 3,
   "metadata": {},
   "outputs": [
    {
     "ename": "SyntaxError",
     "evalue": "invalid syntax (3736985124.py, line 1)",
     "output_type": "error",
     "traceback": [
      "\u001b[1;36m  Input \u001b[1;32mIn [3]\u001b[1;36m\u001b[0m\n\u001b[1;33m    for i in range(5)\u001b[0m\n\u001b[1;37m                     ^\u001b[0m\n\u001b[1;31mSyntaxError\u001b[0m\u001b[1;31m:\u001b[0m invalid syntax\n"
     ]
    }
   ],
   "source": [
    "for i in range(5)\n",
    "    print(\"Hello, world!\")"
   ]
  },
  {
   "cell_type": "code",
   "execution_count": 6,
   "metadata": {},
   "outputs": [
    {
     "ename": "ZeroDivisionError",
     "evalue": "division by zero",
     "output_type": "error",
     "traceback": [
      "\u001b[1;31m---------------------------------------------------------------------------\u001b[0m",
      "\u001b[1;31mZeroDivisionError\u001b[0m                         Traceback (most recent call last)",
      "\u001b[1;32md:\\learning_python-1\\try_except.ipynb Cell 10\u001b[0m in \u001b[0;36m<cell line: 1>\u001b[1;34m()\u001b[0m\n\u001b[1;32m----> <a href='vscode-notebook-cell:/d%3A/learning_python-1/try_except.ipynb#X12sZmlsZQ%3D%3D?line=0'>1</a>\u001b[0m \u001b[39m1\u001b[39;49m\u001b[39m/\u001b[39;49m\u001b[39m0\u001b[39;49m\n",
      "\u001b[1;31mZeroDivisionError\u001b[0m: division by zero"
     ]
    }
   ],
   "source": [
    "1/0"
   ]
  },
  {
   "cell_type": "code",
   "execution_count": 7,
   "metadata": {},
   "outputs": [
    {
     "ename": "SyntaxError",
     "evalue": "cannot assign to operator (1481161709.py, line 1)",
     "output_type": "error",
     "traceback": [
      "\u001b[1;36m  Input \u001b[1;32mIn [7]\u001b[1;36m\u001b[0m\n\u001b[1;33m    1 + 2 = \"three\"\u001b[0m\n\u001b[1;37m    ^\u001b[0m\n\u001b[1;31mSyntaxError\u001b[0m\u001b[1;31m:\u001b[0m cannot assign to operator\n"
     ]
    }
   ],
   "source": [
    "1 + 2 = \"three\""
   ]
  },
  {
   "cell_type": "markdown",
   "metadata": {},
   "source": [
    "# try:\n",
    "    Runs first\n",
    "    < code >\n",
    "# except:\n",
    "    Runs if exception occurs in try block\n",
    "    < code >\n",
    "# else:\n",
    "    Executes if try block succeeds\n",
    "    < code >\n",
    "# finally:\n",
    "    This code ALWAYS execute\n",
    "    < code >\n",
    "\n"
   ]
  },
  {
   "cell_type": "code",
   "execution_count": 1,
   "metadata": {},
   "outputs": [
    {
     "name": "stdout",
     "output_type": "stream",
     "text": [
      "You entered 1, it is accepted!\n"
     ]
    }
   ],
   "source": [
    "def int_checker(a):\n",
    "    print(f\"You entered {a}, it is accepted!\")\n",
    "\n",
    "while True:\n",
    "    try:\n",
    "        i = int(input('Input an integer from 0-4 only: '))\n",
    "        if i in range(4):\n",
    "            int_checker(i)\n",
    "            break\n",
    "    except:\n",
    "        pass\n",
    "\n",
    "    print (\"Incorrect input, try again\")"
   ]
  },
  {
   "cell_type": "code",
   "execution_count": 3,
   "metadata": {},
   "outputs": [
    {
     "name": "stdout",
     "output_type": "stream",
     "text": [
      "Homer is famous for Iliad and Odyssey.\n",
      "Search complete for Homer\n",
      "Herodotus is not found in the dictionary.\n",
      "Search complete for Herodotus\n",
      "Aristotle is famous for Nicomachean Ethics.\n",
      "Search complete for Aristotle\n",
      "Plato is not found in the dictionary.\n",
      "Search complete for Plato\n"
     ]
    }
   ],
   "source": [
    "def search_greek_authors(authors_to_search):\n",
    "    # Sample dictionary of Greek authors and their famous works\n",
    "    greek_authors = {\n",
    "        \"Homer\": \"Iliad and Odyssey\",\n",
    "        \"Sophocles\": \"Oedipus Rex\",\n",
    "        \"Euripides\": \"Medea\",\n",
    "        \"Aristotle\": \"Nicomachean Ethics\"\n",
    "    }\n",
    "\n",
    "    # Loop through the list of authors and try to find their famous works\n",
    "    for author in authors_to_search:\n",
    "        try:\n",
    "            famous_works = greek_authors[author]\n",
    "        except KeyError:\n",
    "            print(f\"{author} is not found in the dictionary.\")\n",
    "        else:\n",
    "            print(f\"{author} is famous for {famous_works}.\")\n",
    "        finally:\n",
    "            print(\"Search complete for\", author)\n",
    "\n",
    "# List of author names to search for\n",
    "authors_to_search = [\"Homer\", \"Herodotus\", \"Aristotle\", \"Plato\"]\n",
    "\n",
    "# Call the function with the list of authors\n",
    "search_greek_authors(authors_to_search)"
   ]
  },
  {
   "cell_type": "code",
   "execution_count": 5,
   "metadata": {},
   "outputs": [
    {
     "name": "stdout",
     "output_type": "stream",
     "text": [
      "Welcome to the Medieval Guessing Game!\n",
      "You have 3 attempts to guess the correct medieval item description.\n",
      "\n",
      "Description: A protective device used to block attacks in battle.\n",
      "Congratulations! You've found the correct item - a shield!\n",
      "\n",
      "Description: A sharp, double-edged weapon used by knights and warriors.\n",
      "Congratulations! You've found the correct item - a sword!\n",
      "Your final score: 2\n",
      "Thank you for playing the Medieval Guessing Game!\n"
     ]
    }
   ],
   "source": [
    "import random\n",
    "\n",
    "# Dictionary of medieval items and their descriptions\n",
    "medieval_items = {\n",
    "    \"sword\": \"A sharp, double-edged weapon used by knights and warriors.\",\n",
    "    \"shield\": \"A protective device used to block attacks in battle.\",\n",
    "    \"armor\": \"Heavy metal clothing worn by knights for protection.\",\n",
    "    \"chalice\": \"A decorative goblet often used for drinking or religious ceremonies.\",\n",
    "    \"bow\": \"A ranged weapon used for shooting arrows at a distance.\"\n",
    "}\n",
    "\n",
    "def medieval_guessing_game():\n",
    "    score = 0\n",
    "    max_attempts = 3\n",
    "\n",
    "    print(\"Welcome to the Medieval Guessing Game!\")\n",
    "    print(f\"You have {max_attempts} attempts to guess the correct medieval item description.\")\n",
    "    \n",
    "    while True:\n",
    "        # Randomly select an item and its description from the dictionary\n",
    "        item, description = random.choice(list(medieval_items.items()))\n",
    "        print(\"\\nDescription:\", description)\n",
    "\n",
    "        for attempts in range(max_attempts):\n",
    "            guess = input(\"Guess the name of the item: \").lower()\n",
    "\n",
    "            if guess == item:\n",
    "                print(f\"Congratulations! You've found the correct item - a {item}!\")\n",
    "                score += 1\n",
    "                break\n",
    "            else:\n",
    "                print(\"Wrong answer! Try again.\")\n",
    "        \n",
    "        else:\n",
    "            print(f\"You've run out of attempts. The correct answer was {item}.\")\n",
    "\n",
    "        while True:\n",
    "            play_again = input(\"Do you want to play again? (yes/no): \").lower()\n",
    "            if play_again in [\"yes\", \"no\"]:\n",
    "                break\n",
    "            else:\n",
    "                print(\"Invalid input. Please enter 'yes' or 'no'.\")\n",
    "\n",
    "        if play_again != \"yes\":\n",
    "            print(f\"Your final score: {score}\")\n",
    "            print(\"Thank you for playing the Medieval Guessing Game!\")\n",
    "            break\n",
    "\n",
    "# Start the game\n",
    "medieval_guessing_game()\n"
   ]
  },
  {
   "cell_type": "code",
   "execution_count": null,
   "metadata": {},
   "outputs": [],
   "source": []
  }
 ],
 "metadata": {
  "kernelspec": {
   "display_name": "Python 3.9.12 ('projects2022')",
   "language": "python",
   "name": "python3"
  },
  "language_info": {
   "codemirror_mode": {
    "name": "ipython",
    "version": 3
   },
   "file_extension": ".py",
   "mimetype": "text/x-python",
   "name": "python",
   "nbconvert_exporter": "python",
   "pygments_lexer": "ipython3",
   "version": "3.9.12"
  },
  "orig_nbformat": 4,
  "vscode": {
   "interpreter": {
    "hash": "caba5fb2e65e5cd320935daeb5a23cf1221c4ea11b88a6babfa283dbfc6ad08a"
   }
  }
 },
 "nbformat": 4,
 "nbformat_minor": 2
}
