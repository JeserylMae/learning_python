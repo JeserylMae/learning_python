{
 "cells": [
  {
   "cell_type": "code",
   "execution_count": 17,
   "metadata": {},
   "outputs": [],
   "source": [
    "class Person:\n",
    "    def __init__(self, name ,address):\n",
    "        self.name = name\n",
    "        self.address = address\n",
    "    \n",
    "    def talk(self):\n",
    "        print(f\"{self.name} started talking...\")\n",
    "\n",
    "    def say_home(self):\n",
    "        print(f\"{self.name} lives in {self.address.block}, {self.address.lot}, {self.address.street}, {self.address.city}\")"
   ]
  },
  {
   "cell_type": "code",
   "execution_count": 18,
   "metadata": {},
   "outputs": [],
   "source": [
    "class Address:\n",
    "    def __init__(self, block, lot, street, city):\n",
    "        self.block = block\n",
    "        self.lot = lot\n",
    "        self.street = street\n",
    "        self.city = city\n",
    "\n",
    "    def home_details(self):\n",
    "        print(f\"{self.block}, {self.lot}, {self.street}, {self.city}\")"
   ]
  },
  {
   "cell_type": "code",
   "execution_count": 19,
   "metadata": {},
   "outputs": [],
   "source": [
    "john = Person(\"John\", Address(25, 55, 'Angel Street', 'Los Angels'))"
   ]
  },
  {
   "cell_type": "code",
   "execution_count": 20,
   "metadata": {},
   "outputs": [
    {
     "name": "stdout",
     "output_type": "stream",
     "text": [
      "John started talking...\n"
     ]
    }
   ],
   "source": [
    "john.talk()"
   ]
  },
  {
   "cell_type": "code",
   "execution_count": 21,
   "metadata": {},
   "outputs": [
    {
     "name": "stdout",
     "output_type": "stream",
     "text": [
      "John lives in 25, 55, Angel Street, Los Angels\n"
     ]
    }
   ],
   "source": [
    "john.say_home()"
   ]
  },
  {
   "cell_type": "code",
   "execution_count": 38,
   "metadata": {},
   "outputs": [],
   "source": [
    "class Head:\n",
    "    def __init__(self, eyes, ears, mouth):\n",
    "        self.eyes = eyes\n",
    "        self.ears = ears\n",
    "        self.mouth = mouth"
   ]
  },
  {
   "cell_type": "code",
   "execution_count": 39,
   "metadata": {},
   "outputs": [],
   "source": [
    "class Eyes:\n",
    "    def __init__(self):\n",
    "        pass\n",
    "\n",
    "    def blink(self):\n",
    "        return \"Started Blinking\""
   ]
  },
  {
   "cell_type": "code",
   "execution_count": 47,
   "metadata": {},
   "outputs": [],
   "source": [
    "class Ears:\n",
    "    def __init__(self):\n",
    "        pass\n",
    "\n",
    "    def listen(self):\n",
    "        return \"Started listening\""
   ]
  },
  {
   "cell_type": "code",
   "execution_count": 48,
   "metadata": {},
   "outputs": [],
   "source": [
    "class Mouth:\n",
    "    def __init__(self):\n",
    "        pass\n",
    "\n",
    "    def speak(self):\n",
    "        return \"Started Speaking\""
   ]
  },
  {
   "cell_type": "code",
   "execution_count": 49,
   "metadata": {},
   "outputs": [],
   "source": [
    "my_head = Head(Eyes(), Ears(), Mouth())"
   ]
  },
  {
   "cell_type": "code",
   "execution_count": 50,
   "metadata": {},
   "outputs": [
    {
     "data": {
      "text/plain": [
       "'Started listening'"
      ]
     },
     "execution_count": 50,
     "metadata": {},
     "output_type": "execute_result"
    }
   ],
   "source": [
    "my_head.ears.listen()"
   ]
  },
  {
   "cell_type": "code",
   "execution_count": 51,
   "metadata": {},
   "outputs": [
    {
     "data": {
      "text/plain": [
       "'Started Blinking'"
      ]
     },
     "execution_count": 51,
     "metadata": {},
     "output_type": "execute_result"
    }
   ],
   "source": [
    "my_head.eyes.blink()"
   ]
  },
  {
   "cell_type": "code",
   "execution_count": 52,
   "metadata": {},
   "outputs": [
    {
     "data": {
      "text/plain": [
       "'Started Speaking'"
      ]
     },
     "execution_count": 52,
     "metadata": {},
     "output_type": "execute_result"
    }
   ],
   "source": [
    "my_head.mouth.speak()"
   ]
  },
  {
   "cell_type": "code",
   "execution_count": 53,
   "metadata": {},
   "outputs": [],
   "source": [
    "class Human:\n",
    "    def __init__(self, head):\n",
    "        self.head = head"
   ]
  },
  {
   "cell_type": "code",
   "execution_count": 54,
   "metadata": {},
   "outputs": [],
   "source": [
    "john_doe = Human(my_head)"
   ]
  },
  {
   "cell_type": "code",
   "execution_count": 60,
   "metadata": {},
   "outputs": [
    {
     "data": {
      "text/plain": [
       "'Started listening'"
      ]
     },
     "execution_count": 60,
     "metadata": {},
     "output_type": "execute_result"
    }
   ],
   "source": [
    "john_doe.head.ears.listen()"
   ]
  },
  {
   "cell_type": "code",
   "execution_count": 61,
   "metadata": {},
   "outputs": [
    {
     "data": {
      "text/plain": [
       "'Started Speaking'"
      ]
     },
     "execution_count": 61,
     "metadata": {},
     "output_type": "execute_result"
    }
   ],
   "source": [
    "john_doe.head.mouth.speak()"
   ]
  },
  {
   "cell_type": "code",
   "execution_count": 62,
   "metadata": {},
   "outputs": [
    {
     "name": "stdout",
     "output_type": "stream",
     "text": [
      "John Doe used their ears to listen\n",
      "John Doe used their mouth to speak\n"
     ]
    }
   ],
   "source": [
    "class Head:\n",
    "    def __init__(self, eyes, ears, mouth, owner):\n",
    "        self.eyes = eyes\n",
    "        self.ears = ears\n",
    "        self.mouth = mouth\n",
    "        self.owner = owner\n",
    "\n",
    "class Eyes:\n",
    "    def __init__(self, owner):\n",
    "        self.owner = owner\n",
    "\n",
    "    def blink(self):\n",
    "        return f\"{self.owner} started blinking\"\n",
    "\n",
    "class Ears:\n",
    "    def __init__(self, owner):\n",
    "        self.owner = owner\n",
    "\n",
    "    def listen(self):\n",
    "        return f\"{self.owner} used their ears to listen\"\n",
    "\n",
    "class Mouth:\n",
    "    def __init__(self, owner):\n",
    "        self.owner = owner\n",
    "\n",
    "    def speak(self):\n",
    "        return f\"{self.owner} used their mouth to speak\"\n",
    "\n",
    "class Human:\n",
    "    def __init__(self, name):\n",
    "        self.head = Head(Eyes(name), Ears(name), Mouth(name), name)\n",
    "\n",
    "    def __str__(self):\n",
    "        return self.head.owner\n",
    "\n",
    "john_doe = Human(\"John Doe\")\n",
    "\n",
    "print(john_doe.head.ears.listen())\n",
    "print(john_doe.head.mouth.speak())\n"
   ]
  },
  {
   "cell_type": "code",
   "execution_count": 65,
   "metadata": {},
   "outputs": [
    {
     "name": "stdout",
     "output_type": "stream",
     "text": [
      "John Doe used their ears to listen\n",
      "John Doe used their mouth to speak\n",
      "John Doe used their eyes to blink\n"
     ]
    }
   ],
   "source": [
    "class BodyPart:\n",
    "    def __init__(self, owner):\n",
    "        self.owner = owner\n",
    "\n",
    "    def action(self, verb):\n",
    "        return f\"{self.owner} used their {self.__class__.__name__.lower()} to {verb}\"\n",
    "\n",
    "class Eyes(BodyPart):\n",
    "    def __init__(self, owner):\n",
    "        super().__init__(owner)\n",
    "\n",
    "    def blink(self):\n",
    "        return super().action(\"blink\")\n",
    "\n",
    "class Ears(BodyPart):\n",
    "    def __init__(self, owner):\n",
    "        super().__init__(owner)\n",
    "\n",
    "    def listen(self):\n",
    "        return super().action(\"listen\")\n",
    "\n",
    "class Mouth(BodyPart):\n",
    "    def __init__(self, owner):\n",
    "        super().__init__(owner)\n",
    "\n",
    "    def speak(self):\n",
    "        return super().action(\"speak\")\n",
    "\n",
    "class Head:\n",
    "    def __init__(self, owner):\n",
    "        self.eyes = Eyes(owner)\n",
    "        self.ears = Ears(owner)\n",
    "        self.mouth = Mouth(owner)\n",
    "\n",
    "class Human:\n",
    "    def __init__(self, name):\n",
    "        self.name = name\n",
    "        self.head = Head(name)\n",
    "\n",
    "john_doe = Human(\"John Doe\")\n",
    "\n",
    "print(john_doe.head.ears.listen())\n",
    "print(john_doe.head.mouth.speak())\n",
    "print(john_doe.head.eyes.blink())\n"
   ]
  },
  {
   "cell_type": "code",
   "execution_count": 66,
   "metadata": {},
   "outputs": [
    {
     "name": "stdout",
     "output_type": "stream",
     "text": [
      "John Doe used his ears to listen\n",
      "Jane Smith used her mouth to speak\n"
     ]
    }
   ],
   "source": [
    "class BodyPart:\n",
    "    def __init__(self, owner, gender):\n",
    "        self.owner = owner\n",
    "        self.gender = gender\n",
    "\n",
    "    def action(self, verb):\n",
    "        pronoun = \"his\" if self.gender == \"male\" else \"her\" if self.gender == \"female\" else \"their\"\n",
    "        return f\"{self.owner} used {pronoun} {self.__class__.__name__.lower()} to {verb}\"\n",
    "\n",
    "class Eyes(BodyPart):\n",
    "    def __init__(self, owner, gender):\n",
    "        super().__init__(owner, gender)\n",
    "\n",
    "    def blink(self):\n",
    "        return super().action(\"blink\")\n",
    "\n",
    "class Ears(BodyPart):\n",
    "    def __init__(self, owner, gender):\n",
    "        super().__init__(owner, gender)\n",
    "\n",
    "    def listen(self):\n",
    "        return super().action(\"listen\")\n",
    "\n",
    "class Mouth(BodyPart):\n",
    "    def __init__(self, owner, gender):\n",
    "        super().__init__(owner, gender)\n",
    "\n",
    "    def speak(self):\n",
    "        return super().action(\"speak\")\n",
    "\n",
    "class Head:\n",
    "    def __init__(self, owner, gender):\n",
    "        self.eyes = Eyes(owner, gender)\n",
    "        self.ears = Ears(owner, gender)\n",
    "        self.mouth = Mouth(owner, gender)\n",
    "\n",
    "class Human:\n",
    "    def __init__(self, name, gender):\n",
    "        self.name = name\n",
    "        self.gender = gender\n",
    "        self.head = Head(name, gender)\n",
    "\n",
    "john_doe = Human(\"John Doe\", \"male\")\n",
    "jane_smith = Human(\"Jane Smith\", \"female\")\n",
    "\n",
    "print(john_doe.head.ears.listen())\n",
    "print(jane_smith.head.mouth.speak())\n"
   ]
  },
  {
   "cell_type": "code",
   "execution_count": null,
   "metadata": {},
   "outputs": [],
   "source": []
  }
 ],
 "metadata": {
  "kernelspec": {
   "display_name": "projects2022",
   "language": "python",
   "name": "python3"
  },
  "language_info": {
   "codemirror_mode": {
    "name": "ipython",
    "version": 3
   },
   "file_extension": ".py",
   "mimetype": "text/x-python",
   "name": "python",
   "nbconvert_exporter": "python",
   "pygments_lexer": "ipython3",
   "version": "3.9.12"
  },
  "orig_nbformat": 4
 },
 "nbformat": 4,
 "nbformat_minor": 2
}
