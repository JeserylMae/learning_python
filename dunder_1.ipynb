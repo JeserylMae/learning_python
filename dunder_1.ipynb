{
 "cells": [
  {
   "cell_type": "markdown",
   "metadata": {},
   "source": [
    "# Dunder Methods"
   ]
  },
  {
   "cell_type": "markdown",
   "metadata": {},
   "source": [
    "# The __str__ and __repr__ dunder."
   ]
  },
  {
   "cell_type": "code",
   "execution_count": 1,
   "metadata": {},
   "outputs": [],
   "source": [
    "class Employee:\n",
    "    def __init__(self, first, last, pay):\n",
    "        self.first = first \n",
    "        self.last = last\n",
    "        self.pay = pay\n",
    "        self.email = first + \"_\" + last + \"@gmail.com\"\n",
    "        self.pay = pay\n",
    "\n",
    "    def full_name(self):\n",
    "        return \"{} {}\".format(self.first, self.last)\n",
    "\n",
    "    def apply_raise(self):\n",
    "        self.pay = int(self.pay * self.raise_amount)"
   ]
  },
  {
   "cell_type": "code",
   "execution_count": 2,
   "metadata": {},
   "outputs": [],
   "source": [
    "emp1 = Employee(\"John\", \"Cena\", 500000)\n",
    "emp2 = Employee(\"Steve\", \"Austin\", 350000)"
   ]
  },
  {
   "cell_type": "code",
   "execution_count": 3,
   "metadata": {},
   "outputs": [
    {
     "name": "stdout",
     "output_type": "stream",
     "text": [
      "<__main__.Employee object at 0x000001F874B0EB80>\n",
      "<__main__.Employee object at 0x000001F873FA0A60>\n"
     ]
    }
   ],
   "source": [
    "print(emp1)\n",
    "print(emp2)"
   ]
  },
  {
   "cell_type": "code",
   "execution_count": 4,
   "metadata": {},
   "outputs": [
    {
     "name": "stdout",
     "output_type": "stream",
     "text": [
      "<__main__.Employee object at 0x000001F874B0EB80>\n",
      "<__main__.Employee object at 0x000001F873FA0A60>\n"
     ]
    }
   ],
   "source": [
    "print(str(emp1))\n",
    "print(str(emp2))"
   ]
  },
  {
   "cell_type": "code",
   "execution_count": 5,
   "metadata": {},
   "outputs": [
    {
     "name": "stdout",
     "output_type": "stream",
     "text": [
      "<__main__.Employee object at 0x000001F874B0EB80>\n",
      "<__main__.Employee object at 0x000001F873FA0A60>\n"
     ]
    }
   ],
   "source": [
    "print(repr(emp1))\n",
    "print(repr(emp2))"
   ]
  },
  {
   "cell_type": "code",
   "execution_count": 6,
   "metadata": {},
   "outputs": [],
   "source": [
    "class Employee:\n",
    "    def __init__(self, first, last, pay):\n",
    "        self.first = first \n",
    "        self.last = last\n",
    "        self.pay = pay\n",
    "        self.email = first + \"_\" + last + \"@gmail.com\"\n",
    "        self.pay = pay\n",
    "\n",
    "    def full_name(self):\n",
    "        return \"{} {}\".format(self.first, self.last)\n",
    "\n",
    "    def apply_raise(self):\n",
    "        self.pay = int(self.pay * self.raise_amount)\n",
    "\n",
    "    def __repr__(self):\n",
    "        return \"Employee('{}', '{}', '{}')\".format(self.first, self.last, self.pay)\n",
    "        #Writing a custom repr should help the users understand how to create and object from this class.\n",
    "        #This will help provide a more informative approach to the programmers.\n",
    "        #This is more for debugging and keeping everything well maintained and documented."
   ]
  },
  {
   "cell_type": "code",
   "execution_count": 7,
   "metadata": {},
   "outputs": [],
   "source": [
    "emp1 = Employee(\"John\", \"Cena\", 500000)\n",
    "emp2 = Employee(\"Steve\", \"Austin\", 350000)"
   ]
  },
  {
   "cell_type": "code",
   "execution_count": 8,
   "metadata": {},
   "outputs": [
    {
     "name": "stdout",
     "output_type": "stream",
     "text": [
      "Employee('John', 'Cena', '500000')\n",
      "Employee('Steve', 'Austin', '350000')\n"
     ]
    }
   ],
   "source": [
    "#The repr() now presents how and what the object contains.\n",
    "#When the repr() is invoked, it always uses the dunder __init__.\n",
    "#Which in this case was overidden via polymorphism.  \n",
    "#It also guides the programmer to understand what the Employee class requires in its __init__.\n",
    "print(repr(emp1))\n",
    "print(repr(emp2))"
   ]
  },
  {
   "cell_type": "code",
   "execution_count": 9,
   "metadata": {},
   "outputs": [
    {
     "name": "stdout",
     "output_type": "stream",
     "text": [
      "Employee('John', 'Cena', '500000')\n",
      "Employee('Steve', 'Austin', '350000')\n"
     ]
    }
   ],
   "source": [
    "#Without overriding the __str__, changing the __repr__ will also affect the __str__, giving it a similar behavior.\n",
    "print(str(emp1))\n",
    "print(str(emp2))"
   ]
  },
  {
   "cell_type": "code",
   "execution_count": 10,
   "metadata": {},
   "outputs": [],
   "source": [
    "class Employee:\n",
    "    def __init__(self, first, last, pay):\n",
    "        self.first = first \n",
    "        self.last = last\n",
    "        self.pay = pay\n",
    "        self.email = first + \"_\" + last + \"@gmail.com\"\n",
    "        self.pay = pay\n",
    "\n",
    "    def full_name(self):\n",
    "        return \"{} {}\".format(self.first, self.last)\n",
    "\n",
    "    def apply_raise(self):\n",
    "        self.pay = int(self.pay * self.raise_amount)\n",
    "\n",
    "    def __repr__(self):\n",
    "        return \"Employee('{}', '{}', '{}')\".format(self.first, self.last, self.pay)\n",
    "\n",
    "    def __str__(self):\n",
    "        return \"{} - {} has a salary pay of {}\".format(self.full_name(), self.email, self.pay)\n",
    "        #This is to present what is inside the created object from a specific class.\n",
    "        #Making an effective __str__ should allow the user to easily understand the output.\n",
    "        #Be less technical, this ain't for debugging.\n",
    "    "
   ]
  },
  {
   "cell_type": "code",
   "execution_count": 11,
   "metadata": {},
   "outputs": [],
   "source": [
    "emp1 = Employee(\"John\", \"Cena\", 500000)\n",
    "emp2 = Employee(\"Steve\", \"Austin\", 350000)"
   ]
  },
  {
   "cell_type": "code",
   "execution_count": 12,
   "metadata": {},
   "outputs": [
    {
     "name": "stdout",
     "output_type": "stream",
     "text": [
      "John Cena - John_Cena@gmail.com has a salary pay of 500000\n",
      "Steve Austin - Steve_Austin@gmail.com has a salary pay of 350000\n"
     ]
    }
   ],
   "source": [
    "#Having the __str__ overriden together with a __repr__ overriden, they will output their respective outputs.\n",
    "print(str(emp1))\n",
    "print(str(emp2))"
   ]
  },
  {
   "cell_type": "code",
   "execution_count": 13,
   "metadata": {},
   "outputs": [
    {
     "name": "stdout",
     "output_type": "stream",
     "text": [
      "Employee('John', 'Cena', '500000')\n",
      "Employee('Steve', 'Austin', '350000')\n"
     ]
    }
   ],
   "source": [
    "print(repr(emp1))\n",
    "print(repr(emp2))"
   ]
  },
  {
   "cell_type": "code",
   "execution_count": 14,
   "metadata": {},
   "outputs": [
    {
     "ename": "TypeError",
     "evalue": "unsupported operand type(s) for +: 'Employee' and 'Employee'",
     "output_type": "error",
     "traceback": [
      "\u001b[1;31m---------------------------------------------------------------------------\u001b[0m",
      "\u001b[1;31mTypeError\u001b[0m                                 Traceback (most recent call last)",
      "\u001b[1;32md:\\learning_python-1\\dunder_1.ipynb Cell 16\u001b[0m in \u001b[0;36m<cell line: 5>\u001b[1;34m()\u001b[0m\n\u001b[0;32m      <a href='vscode-notebook-cell:/d%3A/learning_python-1/dunder_1.ipynb#X21sZmlsZQ%3D%3D?line=0'>1</a>\u001b[0m \u001b[39m#This should return an error, as it does understand how to add these two objects.\u001b[39;00m\n\u001b[0;32m      <a href='vscode-notebook-cell:/d%3A/learning_python-1/dunder_1.ipynb#X21sZmlsZQ%3D%3D?line=1'>2</a>\u001b[0m \u001b[39m#When calling for an addition, the __add__ dunder method is invoked.\u001b[39;00m\n\u001b[0;32m      <a href='vscode-notebook-cell:/d%3A/learning_python-1/dunder_1.ipynb#X21sZmlsZQ%3D%3D?line=2'>3</a>\u001b[0m \u001b[39m#By default, it can only concatenate strings or numbers. Having \"A\" + \"B\" gives \"AB while 1 + 1 gives 2. \u001b[39;00m\n\u001b[0;32m      <a href='vscode-notebook-cell:/d%3A/learning_python-1/dunder_1.ipynb#X21sZmlsZQ%3D%3D?line=3'>4</a>\u001b[0m \u001b[39m#Concatenating objects is not allowed, unless this is overriden for specific purposes via __add__ dunder.\u001b[39;00m\n\u001b[1;32m----> <a href='vscode-notebook-cell:/d%3A/learning_python-1/dunder_1.ipynb#X21sZmlsZQ%3D%3D?line=4'>5</a>\u001b[0m \u001b[39mprint\u001b[39m(emp1 \u001b[39m+\u001b[39;49m emp2)\n",
      "\u001b[1;31mTypeError\u001b[0m: unsupported operand type(s) for +: 'Employee' and 'Employee'"
     ]
    }
   ],
   "source": [
    "#This should return an error, as it does understand how to add these two objects.\n",
    "#When calling for an addition, the __add__ dunder method is invoked.\n",
    "#By default, it can only concatenate strings or numbers. Having \"A\" + \"B\" gives \"AB while 1 + 1 gives 2. \n",
    "#Concatenating objects is not allowed, unless this is overriden for specific purposes via __add__ dunder.\n",
    "print(emp1 + emp2)"
   ]
  },
  {
   "cell_type": "markdown",
   "metadata": {},
   "source": [
    "# The __add__ dunder."
   ]
  },
  {
   "cell_type": "code",
   "execution_count": 15,
   "metadata": {},
   "outputs": [],
   "source": [
    "class Employee:\n",
    "    def __init__(self, first, last, pay):\n",
    "        self.first = first \n",
    "        self.last = last\n",
    "        self.pay = pay\n",
    "        self.email = first + \"_\" + last + \"@gmail.com\"\n",
    "        self.pay = pay\n",
    "\n",
    "    def full_name(self):\n",
    "        return \"{} {}\".format(self.first, self.last)\n",
    "\n",
    "    def apply_raise(self):\n",
    "        self.pay = int(self.pay * self.raise_amount)\n",
    "\n",
    "    def __repr__(self):\n",
    "        return \"Employee('{}', '{}', '{}')\".format(self.first, self.last, self.pay)\n",
    "\n",
    "    def __str__(self):\n",
    "        return \"{} - {} has a salary pay of {}\".format(self.full_name(), self.email, self.pay)\n",
    "\n",
    "    def __add__(self, other, *args):\n",
    "        return self.pay + other.pay\n",
    "    "
   ]
  },
  {
   "cell_type": "code",
   "execution_count": 16,
   "metadata": {},
   "outputs": [],
   "source": [
    "emp1 = Employee(\"John\", \"Cena\", 500000)\n",
    "emp2 = Employee(\"Steve\", \"Austin\", 350000)"
   ]
  },
  {
   "cell_type": "code",
   "execution_count": 17,
   "metadata": {},
   "outputs": [
    {
     "name": "stdout",
     "output_type": "stream",
     "text": [
      "850000\n"
     ]
    }
   ],
   "source": [
    "#The __add__ dunder being overriden with a custom user-defined output replaces its original output.\n",
    "#With the retur self.pay + other.pay, it now allows the addition of the two objects' pay. \n",
    "print(emp1 + emp2)"
   ]
  },
  {
   "cell_type": "code",
   "execution_count": 18,
   "metadata": {},
   "outputs": [],
   "source": [
    "class A:\n",
    "    def __init__(self, money):\n",
    "        self.money = money"
   ]
  },
  {
   "cell_type": "code",
   "execution_count": 19,
   "metadata": {},
   "outputs": [],
   "source": [
    "objA = A(5000)\n",
    "objB = A(5000)"
   ]
  },
  {
   "cell_type": "code",
   "execution_count": 20,
   "metadata": {},
   "outputs": [
    {
     "ename": "TypeError",
     "evalue": "unsupported operand type(s) for +: 'A' and 'A'",
     "output_type": "error",
     "traceback": [
      "\u001b[1;31m---------------------------------------------------------------------------\u001b[0m",
      "\u001b[1;31mTypeError\u001b[0m                                 Traceback (most recent call last)",
      "\u001b[1;32md:\\learning_python-1\\dunder_1.ipynb Cell 23\u001b[0m in \u001b[0;36m<cell line: 1>\u001b[1;34m()\u001b[0m\n\u001b[1;32m----> <a href='vscode-notebook-cell:/d%3A/learning_python-1/dunder_1.ipynb#X31sZmlsZQ%3D%3D?line=0'>1</a>\u001b[0m \u001b[39mprint\u001b[39m(objA \u001b[39m+\u001b[39;49m objB)\n",
      "\u001b[1;31mTypeError\u001b[0m: unsupported operand type(s) for +: 'A' and 'A'"
     ]
    }
   ],
   "source": [
    "print(objA + objB)"
   ]
  },
  {
   "cell_type": "code",
   "execution_count": 21,
   "metadata": {},
   "outputs": [
    {
     "name": "stdout",
     "output_type": "stream",
     "text": [
      "6\n"
     ]
    }
   ],
   "source": [
    "#Another method that can be overriden is the len().\n",
    "#The len() uses the __len__ dunder that can be overriden through polymorphism.ipynb\n",
    "\n",
    "print(len(\"Hello!\"))"
   ]
  },
  {
   "cell_type": "code",
   "execution_count": 22,
   "metadata": {},
   "outputs": [
    {
     "ename": "TypeError",
     "evalue": "object of type 'Employee' has no len()",
     "output_type": "error",
     "traceback": [
      "\u001b[1;31m---------------------------------------------------------------------------\u001b[0m",
      "\u001b[1;31mTypeError\u001b[0m                                 Traceback (most recent call last)",
      "\u001b[1;32md:\\learning_python-1\\dunder_1.ipynb Cell 25\u001b[0m in \u001b[0;36m<cell line: 1>\u001b[1;34m()\u001b[0m\n\u001b[1;32m----> <a href='vscode-notebook-cell:/d%3A/learning_python-1/dunder_1.ipynb#X33sZmlsZQ%3D%3D?line=0'>1</a>\u001b[0m \u001b[39mprint\u001b[39m(\u001b[39mlen\u001b[39;49m(emp1))\n",
      "\u001b[1;31mTypeError\u001b[0m: object of type 'Employee' has no len()"
     ]
    }
   ],
   "source": [
    "print(len(emp1))"
   ]
  },
  {
   "cell_type": "markdown",
   "metadata": {},
   "source": [
    "# The __len__ dunder."
   ]
  },
  {
   "cell_type": "code",
   "execution_count": 23,
   "metadata": {},
   "outputs": [],
   "source": [
    "#Let's try to override the __len__ dunder in a class via polymorphism.\n",
    "\n",
    "class Employee:\n",
    "    def __init__(self, first, last, pay):\n",
    "        self.first = first \n",
    "        self.last = last\n",
    "        self.pay = pay\n",
    "        self.email = first + \"_\" + last + \"@gmail.com\"\n",
    "        self.pay = pay\n",
    "\n",
    "    def full_name(self):\n",
    "        return \"{} {}\".format(self.first, self.last)\n",
    "\n",
    "    def apply_raise(self):\n",
    "        self.pay = int(self.pay * self.raise_amount)\n",
    "    \n",
    "    def __repr__(self):\n",
    "        return \"Employee('{}', '{}', '{}')\".format(self.first, self.last, self.pay)\n",
    "\n",
    "    def __str__(self):\n",
    "        return \"{} - {} has a salary pay of {}\".format(self.full_name(), self.email, self.pay)\n",
    "\n",
    "    def __add__(self, other):\n",
    "        return self.pay + other.pay\n",
    "\n",
    "    def __len__(self):\n",
    "        return len(self.full_name())\n",
    "    #In this example, the __len__ gets overriden, morphing the functionality of len().\n",
    "    #The len() based on this code will now return the length of the full_name() that takes the first and last name.\n",
    "    "
   ]
  },
  {
   "cell_type": "code",
   "execution_count": 24,
   "metadata": {},
   "outputs": [],
   "source": [
    "emp1 = Employee(\"John\", \"Cena\", 500000)\n",
    "emp2 = Employee(\"Steve\", \"Austin\", 350000)"
   ]
  },
  {
   "cell_type": "code",
   "execution_count": 25,
   "metadata": {},
   "outputs": [
    {
     "name": "stdout",
     "output_type": "stream",
     "text": [
      "9\n"
     ]
    }
   ],
   "source": [
    "print(len(emp1))\n",
    "\n",
    "#John = 4\n",
    "#\"white space\" = 1\n",
    "#Cena = 4\n",
    "#All are 9"
   ]
  },
  {
   "cell_type": "code",
   "execution_count": 26,
   "metadata": {},
   "outputs": [
    {
     "name": "stdout",
     "output_type": "stream",
     "text": [
      "12\n"
     ]
    }
   ],
   "source": [
    "print(len(emp2))\n",
    "\n",
    "#Steve = 5\n",
    "#\"white space\" = 1\n",
    "#Austin = 6\n",
    "#All are 12"
   ]
  },
  {
   "cell_type": "markdown",
   "metadata": {},
   "source": [
    "# Iterator"
   ]
  },
  {
   "cell_type": "code",
   "execution_count": 27,
   "metadata": {},
   "outputs": [
    {
     "name": "stdout",
     "output_type": "stream",
     "text": [
      "1\n",
      "2\n",
      "3\n",
      "4\n",
      "5\n"
     ]
    }
   ],
   "source": [
    "my_list = [1, 2, 3, 4, 5]\n",
    "\n",
    "for numbers in my_list:\n",
    "    print(numbers)"
   ]
  },
  {
   "cell_type": "code",
   "execution_count": 28,
   "metadata": {},
   "outputs": [
    {
     "name": "stdout",
     "output_type": "stream",
     "text": [
      "5\n",
      "5\n",
      "5\n",
      "5\n"
     ]
    }
   ],
   "source": [
    "for byte in b'list':\n",
    "    print(numbers)"
   ]
  },
  {
   "cell_type": "code",
   "execution_count": 29,
   "metadata": {},
   "outputs": [
    {
     "name": "stdout",
     "output_type": "stream",
     "text": [
      "Y o k o z u n a "
     ]
    }
   ],
   "source": [
    "wrestler_name = \"Yokozuna\"\n",
    "\n",
    "for i in wrestler_name:\n",
    "    print(i, end=\" \")"
   ]
  },
  {
   "cell_type": "code",
   "execution_count": 30,
   "metadata": {},
   "outputs": [
    {
     "name": "stdout",
     "output_type": "stream",
     "text": [
      "63918789234\n"
     ]
    },
    {
     "ename": "TypeError",
     "evalue": "'int' object is not iterable",
     "output_type": "error",
     "traceback": [
      "\u001b[1;31m---------------------------------------------------------------------------\u001b[0m",
      "\u001b[1;31mTypeError\u001b[0m                                 Traceback (most recent call last)",
      "\u001b[1;32md:\\learning_python-1\\dunder_1.ipynb Cell 35\u001b[0m in \u001b[0;36m<cell line: 4>\u001b[1;34m()\u001b[0m\n\u001b[0;32m      <a href='vscode-notebook-cell:/d%3A/learning_python-1/dunder_1.ipynb#X46sZmlsZQ%3D%3D?line=0'>1</a>\u001b[0m phone_number \u001b[39m=\u001b[39m \u001b[39m63918789234\u001b[39m\n\u001b[0;32m      <a href='vscode-notebook-cell:/d%3A/learning_python-1/dunder_1.ipynb#X46sZmlsZQ%3D%3D?line=1'>2</a>\u001b[0m \u001b[39mprint\u001b[39m(phone_number)\n\u001b[1;32m----> <a href='vscode-notebook-cell:/d%3A/learning_python-1/dunder_1.ipynb#X46sZmlsZQ%3D%3D?line=3'>4</a>\u001b[0m \u001b[39mfor\u001b[39;00m i \u001b[39min\u001b[39;00m phone_number:\n\u001b[0;32m      <a href='vscode-notebook-cell:/d%3A/learning_python-1/dunder_1.ipynb#X46sZmlsZQ%3D%3D?line=4'>5</a>\u001b[0m     \u001b[39mprint\u001b[39m(i)\n",
      "\u001b[1;31mTypeError\u001b[0m: 'int' object is not iterable"
     ]
    }
   ],
   "source": [
    "phone_number = 63918789234\n",
    "print(phone_number)\n",
    "\n",
    "for i in phone_number:\n",
    "    print(i)\n",
    "\n",
    "#REMEMBER YOU CANNOT ITERATE OVER NUMBER ONLY STRINGS, TUPLES, LISTS, AND THE LIKES."
   ]
  },
  {
   "cell_type": "code",
   "execution_count": 31,
   "metadata": {},
   "outputs": [
    {
     "name": "stdout",
     "output_type": "stream",
     "text": [
      "[1, 2, 3, 4, 5]\n",
      "<class 'list'>\n"
     ]
    }
   ],
   "source": [
    "#In Python, there is a function called iter() that allows us to iterate over iterable values.\n",
    "#This allows us not to rely on the typical loop approach.\n",
    "#Be aware again with the rules of iteration, number data types are not allowed.\n",
    "#My list is A LIST not an INT! Use the type() to verify.\n",
    "print(my_list)\n",
    "print(type(my_list))\n"
   ]
  },
  {
   "cell_type": "code",
   "execution_count": 32,
   "metadata": {},
   "outputs": [
    {
     "name": "stdout",
     "output_type": "stream",
     "text": [
      "<class 'list_iterator'>\n"
     ]
    }
   ],
   "source": [
    "#First create a new list with a iter() function to allow iteration.\n",
    "#Using such will change the data type of the list to a 'list_iterator,' which can be iterated.\n",
    "my_new_list = iter(my_list)\n",
    "\n",
    "print(type(my_new_list))"
   ]
  },
  {
   "cell_type": "code",
   "execution_count": 33,
   "metadata": {},
   "outputs": [
    {
     "name": "stdout",
     "output_type": "stream",
     "text": [
      "1\n"
     ]
    }
   ],
   "source": [
    "#Having a 'list_iterator,' iteration is now possible with the help of the next().\n",
    "#For every next(), it will output the succeeding items in the iterator class.\n",
    "\n",
    "print(next(my_new_list))"
   ]
  },
  {
   "cell_type": "code",
   "execution_count": 34,
   "metadata": {},
   "outputs": [
    {
     "name": "stdout",
     "output_type": "stream",
     "text": [
      "2\n"
     ]
    }
   ],
   "source": [
    "#Doing it again will print out the succeeding number.\n",
    "print(next(my_new_list))"
   ]
  },
  {
   "cell_type": "code",
   "execution_count": 35,
   "metadata": {},
   "outputs": [
    {
     "name": "stdout",
     "output_type": "stream",
     "text": [
      "3\n",
      "4\n",
      "5\n"
     ]
    }
   ],
   "source": [
    "#Doing it again and again, will cause it to reach its end.\n",
    "\n",
    "print(next(my_new_list))\n",
    "print(next(my_new_list))\n",
    "print(next(my_new_list))\n"
   ]
  },
  {
   "cell_type": "code",
   "execution_count": 36,
   "metadata": {},
   "outputs": [
    {
     "ename": "StopIteration",
     "evalue": "",
     "output_type": "error",
     "traceback": [
      "\u001b[1;31m---------------------------------------------------------------------------\u001b[0m",
      "\u001b[1;31mStopIteration\u001b[0m                             Traceback (most recent call last)",
      "\u001b[1;32md:\\learning_python-1\\dunder_1.ipynb Cell 41\u001b[0m in \u001b[0;36m<cell line: 2>\u001b[1;34m()\u001b[0m\n\u001b[0;32m      <a href='vscode-notebook-cell:/d%3A/learning_python-1/dunder_1.ipynb#X55sZmlsZQ%3D%3D?line=0'>1</a>\u001b[0m \u001b[39m#Once it hits the end, it will raise an error StopIteration.\u001b[39;00m\n\u001b[1;32m----> <a href='vscode-notebook-cell:/d%3A/learning_python-1/dunder_1.ipynb#X55sZmlsZQ%3D%3D?line=1'>2</a>\u001b[0m \u001b[39mprint\u001b[39m(\u001b[39mnext\u001b[39;49m(my_new_list))\n",
      "\u001b[1;31mStopIteration\u001b[0m: "
     ]
    }
   ],
   "source": [
    "#Once it hits the end, it will raise an error StopIteration.\n",
    "print(next(my_new_list))\n"
   ]
  },
  {
   "cell_type": "code",
   "execution_count": 37,
   "metadata": {},
   "outputs": [
    {
     "name": "stdout",
     "output_type": "stream",
     "text": [
      "[1, 2, 3, 4, 5]\n",
      "<class 'list'>\n",
      "<class 'list_iterator'>\n"
     ]
    }
   ],
   "source": [
    "#Using the next() for the iter class allows an iteration to occur.\n",
    "#This uses also the dunder __iter__.\n",
    "#For this example, we want to change the standard approach of __iter__.\n",
    "#We want to make it perform the looping through all the values without doing it manually.\n",
    "\n",
    "#Before applying it to a class, here is an example of how we can automate the previous example.\n",
    "\n",
    "print(my_list)\n",
    "print(type(my_list))\n",
    "my_new_list = iter(my_list)\n",
    "print(type(my_new_list))"
   ]
  },
  {
   "cell_type": "code",
   "execution_count": 38,
   "metadata": {},
   "outputs": [
    {
     "name": "stdout",
     "output_type": "stream",
     "text": [
      "1\n",
      "2\n",
      "3\n",
      "4\n",
      "5\n"
     ]
    }
   ],
   "source": [
    "#By having this example, you should now be able to help you understand the mechanics of iteration.\n",
    "#Using the standard approach that calls the __iter__ dunder via iter(), we always need to do next().\n",
    "#We can automate such in a class via polymorphism by overriding the __iter__ dunder.\n",
    "while True:\n",
    "    try:\n",
    "        item = next(my_new_list)\n",
    "        print(item)\n",
    "    except StopIteration:\n",
    "        break"
   ]
  },
  {
   "cell_type": "markdown",
   "metadata": {},
   "source": [
    "# The __iter__ dunder."
   ]
  },
  {
   "cell_type": "code",
   "execution_count": 39,
   "metadata": {},
   "outputs": [],
   "source": [
    "class Portfolio:\n",
    "    def __init__(self):\n",
    "        self.holdings = {}\n",
    "\n",
    "    def buy(self, ticker, shares):\n",
    "        self.holdings[ticker] = self.holdings.get(ticker, 0) + shares\n",
    "    \n",
    "    def sell(self, ticker, shares):\n",
    "        self.holdings[ticker] = self.holdings.get(ticker, 0) - shares\n"
   ]
  },
  {
   "cell_type": "code",
   "execution_count": 40,
   "metadata": {},
   "outputs": [],
   "source": [
    "portfolio = Portfolio()"
   ]
  },
  {
   "cell_type": "code",
   "execution_count": 41,
   "metadata": {},
   "outputs": [],
   "source": [
    "portfolio.buy(\"Building\", 30)\n",
    "portfolio.buy(\"House\", 15)\n",
    "portfolio.buy(\"Dog\", 22)"
   ]
  },
  {
   "cell_type": "code",
   "execution_count": 43,
   "metadata": {},
   "outputs": [
    {
     "ename": "TypeError",
     "evalue": "'Portfolio' object is not iterable",
     "output_type": "error",
     "traceback": [
      "\u001b[1;31m---------------------------------------------------------------------------\u001b[0m",
      "\u001b[1;31mTypeError\u001b[0m                                 Traceback (most recent call last)",
      "\u001b[1;32md:\\learning_python-1\\dunder_1.ipynb Cell 48\u001b[0m in \u001b[0;36m<cell line: 4>\u001b[1;34m()\u001b[0m\n\u001b[0;32m      <a href='vscode-notebook-cell:/d%3A/learning_python-1/dunder_1.ipynb#X65sZmlsZQ%3D%3D?line=0'>1</a>\u001b[0m \u001b[39m#Now, if we try to iterate the values inside the dictionary, holdings, we won't be able to do it.\u001b[39;00m\n\u001b[0;32m      <a href='vscode-notebook-cell:/d%3A/learning_python-1/dunder_1.ipynb#X65sZmlsZQ%3D%3D?line=1'>2</a>\u001b[0m \u001b[39m#This is because of the initial function of the __iter__ dunder.\u001b[39;00m\n\u001b[0;32m      <a href='vscode-notebook-cell:/d%3A/learning_python-1/dunder_1.ipynb#X65sZmlsZQ%3D%3D?line=2'>3</a>\u001b[0m \u001b[39m#Overriding it with a custom function will solve this problem.\u001b[39;00m\n\u001b[1;32m----> <a href='vscode-notebook-cell:/d%3A/learning_python-1/dunder_1.ipynb#X65sZmlsZQ%3D%3D?line=3'>4</a>\u001b[0m \u001b[39mfor\u001b[39;00m (ticker, shares) \u001b[39min\u001b[39;00m portfolio:\n\u001b[0;32m      <a href='vscode-notebook-cell:/d%3A/learning_python-1/dunder_1.ipynb#X65sZmlsZQ%3D%3D?line=4'>5</a>\u001b[0m     \u001b[39mprint\u001b[39m(ticker, shares)\n",
      "\u001b[1;31mTypeError\u001b[0m: 'Portfolio' object is not iterable"
     ]
    }
   ],
   "source": [
    "#Now, if we try to iterate the values inside the dictionary, holdings, we won't be able to do it.\n",
    "#This is because of the initial function of the __iter__ dunder.\n",
    "#Overriding it with a custom function will solve this problem.\n",
    "for (ticker, shares) in portfolio:\n",
    "    print(ticker, shares)"
   ]
  },
  {
   "cell_type": "code",
   "execution_count": 44,
   "metadata": {},
   "outputs": [],
   "source": [
    "class Portfolio:\n",
    "    def __init__(self):\n",
    "        self.holdings = {}\n",
    "\n",
    "    def buy(self, ticker, shares):\n",
    "        self.holdings[ticker] = self.holdings.get(ticker, 0) + shares\n",
    "    \n",
    "    def sell(self, ticker, shares):\n",
    "        self.holdings[ticker] = self.holdings.get(ticker, 0) - shares\n",
    "    \n",
    "    def __iter__(self):\n",
    "        return iter(self.holdings.items())\n",
    "\n"
   ]
  },
  {
   "cell_type": "code",
   "execution_count": 45,
   "metadata": {},
   "outputs": [],
   "source": [
    "portfolio = Portfolio()"
   ]
  },
  {
   "cell_type": "code",
   "execution_count": 46,
   "metadata": {},
   "outputs": [],
   "source": [
    "portfolio.buy(\"Building\", 30)\n",
    "portfolio.buy(\"House\", 15)\n",
    "portfolio.buy(\"Dog\", 22)"
   ]
  },
  {
   "cell_type": "code",
   "execution_count": 47,
   "metadata": {},
   "outputs": [
    {
     "name": "stdout",
     "output_type": "stream",
     "text": [
      "Building 30\n",
      "House 15\n",
      "Dog 22\n"
     ]
    }
   ],
   "source": [
    "#Because of the __iter__ dunder being replaced with a custom __iter__, it now changed its behaviour.\n",
    "#The new __iter__ turned the iter() to automate its iteration over the set of items in the dictionary holdings via items().\n",
    "for (ticker, shares) in portfolio:\n",
    "    print(ticker, shares)"
   ]
  },
  {
   "cell_type": "code",
   "execution_count": 48,
   "metadata": {},
   "outputs": [],
   "source": [
    "portfolio.sell(\"House\", 5)"
   ]
  },
  {
   "cell_type": "code",
   "execution_count": 49,
   "metadata": {},
   "outputs": [
    {
     "name": "stdout",
     "output_type": "stream",
     "text": [
      "Building 30\n",
      "House 10\n",
      "Dog 22\n"
     ]
    }
   ],
   "source": [
    "for (ticker, shares) in portfolio:\n",
    "    print(ticker, shares)"
   ]
  },
  {
   "cell_type": "code",
   "execution_count": null,
   "metadata": {},
   "outputs": [],
   "source": []
  },
  {
   "cell_type": "code",
   "execution_count": null,
   "metadata": {},
   "outputs": [],
   "source": []
  }
 ],
 "metadata": {
  "kernelspec": {
   "display_name": "Python 3.9.12 ('projects2022')",
   "language": "python",
   "name": "python3"
  },
  "language_info": {
   "codemirror_mode": {
    "name": "ipython",
    "version": 3
   },
   "file_extension": ".py",
   "mimetype": "text/x-python",
   "name": "python",
   "nbconvert_exporter": "python",
   "pygments_lexer": "ipython3",
   "version": "3.9.12"
  },
  "orig_nbformat": 4,
  "vscode": {
   "interpreter": {
    "hash": "caba5fb2e65e5cd320935daeb5a23cf1221c4ea11b88a6babfa283dbfc6ad08a"
   }
  }
 },
 "nbformat": 4,
 "nbformat_minor": 2
}
