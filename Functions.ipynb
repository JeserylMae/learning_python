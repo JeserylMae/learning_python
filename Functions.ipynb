{
 "cells": [
  {
   "cell_type": "markdown",
   "id": "dddf2c37",
   "metadata": {},
   "source": [
    "## Conditions, loops collections, and user-defined functions"
   ]
  },
  {
   "cell_type": "code",
   "execution_count": 1,
   "id": "5e66a2da",
   "metadata": {},
   "outputs": [],
   "source": [
    "myList = ['apple', 'banana', 'cherry']"
   ]
  },
  {
   "cell_type": "code",
   "execution_count": 2,
   "id": "e54f37f8",
   "metadata": {},
   "outputs": [],
   "source": [
    "myTuple = ('a', 'b', 'c')"
   ]
  },
  {
   "cell_type": "code",
   "execution_count": 3,
   "id": "adb04a14",
   "metadata": {},
   "outputs": [],
   "source": [
    "mySet = {'one', 'two', 'three'}"
   ]
  },
  {
   "cell_type": "code",
   "execution_count": 4,
   "id": "1d2079b2",
   "metadata": {},
   "outputs": [],
   "source": [
    "myDict = {1:'one', 2:'two', 3:'three'}"
   ]
  },
  {
   "cell_type": "code",
   "execution_count": 5,
   "id": "c8b1dd5b",
   "metadata": {},
   "outputs": [],
   "source": [
    "listChoice = 0\n",
    "tupleChoice = 0\n",
    "dictChoice = 1"
   ]
  },
  {
   "cell_type": "code",
   "execution_count": 6,
   "id": "171da796",
   "metadata": {},
   "outputs": [
    {
     "name": "stdout",
     "output_type": "stream",
     "text": [
      "Current collections contains []\n"
     ]
    }
   ],
   "source": [
    "myCollections = []\n",
    "print('Current collections contains', myCollections)"
   ]
  },
  {
   "cell_type": "code",
   "execution_count": 23,
   "id": "01276f8b",
   "metadata": {},
   "outputs": [],
   "source": [
    "# myCollTup = (1, 2, 3)\n",
    "\n",
    "# help(myCollTup)\n",
    "\n",
    "# print(type(myCollTup))"
   ]
  },
  {
   "cell_type": "code",
   "execution_count": 7,
   "id": "d05e2ccb",
   "metadata": {},
   "outputs": [],
   "source": [
    "selectedList = myList[listChoice]\n",
    "myCollections.append(selectedList)\n",
    "\n",
    "selectedTuple = myTuple[tupleChoice]\n",
    "myCollections.append(selectedTuple)\n",
    "\n",
    "selectedDict = myDict[dictChoice]\n",
    "myCollections.append(selectedDict)"
   ]
  },
  {
   "cell_type": "code",
   "execution_count": 8,
   "id": "8eb264ef",
   "metadata": {},
   "outputs": [
    {
     "name": "stdout",
     "output_type": "stream",
     "text": [
      "Your selected list is: apple\n",
      "Your selected tuple is: a\n",
      "Your selected dictionairy is: one\n",
      "Your collections now contains: ['apple', 'a', 'one']\n"
     ]
    }
   ],
   "source": [
    "print('Your selected list is:', selectedList)\n",
    "print('Your selected tuple is:', selectedTuple)\n",
    "print('Your selected dictionairy is:', selectedDict)\n",
    "\n",
    "print('Your collections now contains:', myCollections)"
   ]
  },
  {
   "cell_type": "code",
   "execution_count": 9,
   "id": "83a3d1c0",
   "metadata": {},
   "outputs": [],
   "source": [
    "selectedItemFromCollection = 2\n",
    "selectedItemFromCollection = myCollections[selectedItemFromCollection]"
   ]
  },
  {
   "cell_type": "markdown",
   "id": "98493456",
   "metadata": {},
   "source": [
    "## IF, ELIF, ELSE, CONDITIONS"
   ]
  },
  {
   "cell_type": "code",
   "execution_count": 10,
   "id": "1b60ada3",
   "metadata": {},
   "outputs": [],
   "source": [
    "numOne = 200\n",
    "numTwo = 50\n",
    "numThree = 500"
   ]
  },
  {
   "cell_type": "code",
   "execution_count": 11,
   "id": "062f8e1e",
   "metadata": {},
   "outputs": [
    {
     "name": "stdout",
     "output_type": "stream",
     "text": [
      "200 is greater than 50\n"
     ]
    }
   ],
   "source": [
    "if numOne > numTwo:\n",
    "    print(numOne, 'is greater than', numTwo)\n",
    "else:\n",
    "    print(numOne, 'is less than', numTwo)"
   ]
  },
  {
   "cell_type": "code",
   "execution_count": 12,
   "id": "2fef88bd",
   "metadata": {},
   "outputs": [
    {
     "name": "stdout",
     "output_type": "stream",
     "text": [
      "200 is greater than 50\n"
     ]
    }
   ],
   "source": [
    "if numOne < numTwo:\n",
    "    print(numOne, 'is less than', numTwo)\n",
    "else:\n",
    "    print(numOne, 'is greater than', numTwo)"
   ]
  },
  {
   "cell_type": "markdown",
   "id": "e9adc10c",
   "metadata": {},
   "source": [
    "## FOR LOOPS"
   ]
  },
  {
   "cell_type": "code",
   "execution_count": 13,
   "id": "6d89da90",
   "metadata": {},
   "outputs": [
    {
     "name": "stdout",
     "output_type": "stream",
     "text": [
      "o\n",
      "n\n",
      "e\n"
     ]
    }
   ],
   "source": [
    "for _ in selectedItemFromCollection:\n",
    "    print(_)"
   ]
  },
  {
   "cell_type": "code",
   "execution_count": 14,
   "id": "ade5876e",
   "metadata": {},
   "outputs": [
    {
     "data": {
      "text/plain": [
       "3"
      ]
     },
     "execution_count": 14,
     "metadata": {},
     "output_type": "execute_result"
    }
   ],
   "source": [
    "len(selectedItemFromCollection)"
   ]
  },
  {
   "cell_type": "code",
   "execution_count": 15,
   "id": "4850ba32",
   "metadata": {},
   "outputs": [
    {
     "data": {
      "text/plain": [
       "'one'"
      ]
     },
     "execution_count": 15,
     "metadata": {},
     "output_type": "execute_result"
    }
   ],
   "source": [
    "selectedItemFromCollection"
   ]
  },
  {
   "cell_type": "code",
   "execution_count": 16,
   "id": "8820aa80",
   "metadata": {},
   "outputs": [
    {
     "name": "stdout",
     "output_type": "stream",
     "text": [
      "one\n",
      "two\n",
      "three\n"
     ]
    }
   ],
   "source": [
    "for _ in myDict.values():\n",
    "    print(_)"
   ]
  },
  {
   "cell_type": "code",
   "execution_count": 17,
   "id": "55c60a29",
   "metadata": {},
   "outputs": [
    {
     "name": "stdout",
     "output_type": "stream",
     "text": [
      "apple\n",
      "banana\n",
      "cherry\n"
     ]
    }
   ],
   "source": [
    "for _ in myList:\n",
    "    print(_)"
   ]
  },
  {
   "cell_type": "code",
   "execution_count": 18,
   "id": "a441ec04",
   "metadata": {},
   "outputs": [
    {
     "name": "stdout",
     "output_type": "stream",
     "text": [
      "two\n",
      "one\n",
      "three\n"
     ]
    }
   ],
   "source": [
    "for _ in mySet:\n",
    "    print(_)"
   ]
  },
  {
   "cell_type": "markdown",
   "id": "ffd4b4b2",
   "metadata": {},
   "source": [
    "## USER-DEFINED FUNCTIONS"
   ]
  },
  {
   "cell_type": "code",
   "execution_count": 33,
   "id": "69ce7661",
   "metadata": {},
   "outputs": [],
   "source": [
    "def twoNumFunc():\n",
    "    numOne = int(input('Enter the first number: '))\n",
    "    numTwo = int(input('Enter the second number: '))\n",
    "    if numOne > numTwo:\n",
    "        print(numOne, 'is greater than', numTwo)\n",
    "    else:\n",
    "        print(numOne, 'is less than', numTwo)"
   ]
  },
  {
   "cell_type": "code",
   "execution_count": 35,
   "id": "80c9b217",
   "metadata": {},
   "outputs": [
    {
     "name": "stdout",
     "output_type": "stream",
     "text": [
      "Enter the first number: 5\n",
      "Enter the second number: 3\n",
      "5 is greater than 3\n"
     ]
    }
   ],
   "source": [
    "twoNumFunc()"
   ]
  },
  {
   "cell_type": "code",
   "execution_count": 36,
   "id": "ad3ad018",
   "metadata": {},
   "outputs": [],
   "source": [
    "def checkOddEven(num=2):\n",
    "    if (num % 2) == 0:\n",
    "        print('{0} is EVEN'.format(num))\n",
    "    else:\n",
    "        print('{0} is ODD'.format(num))"
   ]
  },
  {
   "cell_type": "code",
   "execution_count": 37,
   "id": "cda817a4",
   "metadata": {},
   "outputs": [
    {
     "name": "stdout",
     "output_type": "stream",
     "text": [
      "2 is EVEN\n"
     ]
    }
   ],
   "source": [
    "checkOddEven()"
   ]
  },
  {
   "cell_type": "code",
   "execution_count": 40,
   "id": "db99fbc3",
   "metadata": {},
   "outputs": [],
   "source": [
    "import random as rdm"
   ]
  },
  {
   "cell_type": "code",
   "execution_count": 66,
   "id": "7d66c013",
   "metadata": {},
   "outputs": [
    {
     "name": "stdout",
     "output_type": "stream",
     "text": [
      "29 is ODD\n"
     ]
    }
   ],
   "source": [
    "randomNum = rdm.randint(0, 100)\n",
    "checkOddEven(randomNum)"
   ]
  },
  {
   "cell_type": "code",
   "execution_count": 67,
   "id": "6c65918d",
   "metadata": {},
   "outputs": [],
   "source": [
    "def squaredNum(num):\n",
    "    square = num ** 2\n",
    "    return square"
   ]
  },
  {
   "cell_type": "code",
   "execution_count": 68,
   "id": "f1ecdaa4",
   "metadata": {},
   "outputs": [
    {
     "name": "stdout",
     "output_type": "stream",
     "text": [
      "Input your number to square: 4\n"
     ]
    },
    {
     "data": {
      "text/plain": [
       "16"
      ]
     },
     "execution_count": 68,
     "metadata": {},
     "output_type": "execute_result"
    }
   ],
   "source": [
    "num = int(input('Input your number to square: '))\n",
    "\n",
    "squaredNum(num)"
   ]
  },
  {
   "cell_type": "code",
   "execution_count": 71,
   "id": "c1dec6a2",
   "metadata": {
    "scrolled": true
   },
   "outputs": [
    {
     "name": "stdout",
     "output_type": "stream",
     "text": [
      "4\n"
     ]
    }
   ],
   "source": [
    "print(num)"
   ]
  },
  {
   "cell_type": "code",
   "execution_count": 72,
   "id": "55c3c538",
   "metadata": {},
   "outputs": [],
   "source": [
    "carList = ['Hyundai','Honda', 'Toyota', 'Isuzu', 'Ferrari']"
   ]
  },
  {
   "cell_type": "code",
   "execution_count": 73,
   "id": "cbc8f4fd",
   "metadata": {},
   "outputs": [
    {
     "name": "stdout",
     "output_type": "stream",
     "text": [
      "Pick a number: 2\n",
      "You selected Toyota\n"
     ]
    }
   ],
   "source": [
    "selectedCar = int(input('Pick a number: '))\n",
    "car = carList[selectedCar]\n",
    "print('You selected', car)"
   ]
  },
  {
   "cell_type": "code",
   "execution_count": 74,
   "id": "a9fe5af0",
   "metadata": {},
   "outputs": [],
   "source": [
    "def purchaseMsg(selectedCar):\n",
    "    selectedCar = carList[selectedCar]\n",
    "    print('You purchased', selectedCar)"
   ]
  },
  {
   "cell_type": "code",
   "execution_count": 75,
   "id": "caf3a7ca",
   "metadata": {},
   "outputs": [
    {
     "name": "stdout",
     "output_type": "stream",
     "text": [
      "You purchased Ferrari\n"
     ]
    }
   ],
   "source": [
    "purchaseMsg(4)"
   ]
  },
  {
   "cell_type": "code",
   "execution_count": 76,
   "id": "e80451ea",
   "metadata": {},
   "outputs": [],
   "source": [
    "def checkOddEven2():\n",
    "    num = int(input('Please input a number: '))\n",
    "    if (num % 2) == 0:\n",
    "        print('{0} is EVEN'.format(num))\n",
    "    else:\n",
    "        print('{0} is ODD'.format(num))"
   ]
  },
  {
   "cell_type": "code",
   "execution_count": 77,
   "id": "2d0cc611",
   "metadata": {},
   "outputs": [
    {
     "name": "stdout",
     "output_type": "stream",
     "text": [
      "Please input a number: 7\n",
      "7 is ODD\n"
     ]
    }
   ],
   "source": [
    "checkOddEven2()"
   ]
  },
  {
   "cell_type": "code",
   "execution_count": 78,
   "id": "b042ce44",
   "metadata": {},
   "outputs": [],
   "source": [
    "def greetUser(name):\n",
    "    print('Hello,', name, 'welcome to our page!')"
   ]
  },
  {
   "cell_type": "code",
   "execution_count": 81,
   "id": "aa40db1a",
   "metadata": {},
   "outputs": [
    {
     "name": "stdout",
     "output_type": "stream",
     "text": [
      "Hello, John welcome to our page!\n"
     ]
    }
   ],
   "source": [
    "greetUser('John')"
   ]
  },
  {
   "cell_type": "code",
   "execution_count": 82,
   "id": "3c601907",
   "metadata": {},
   "outputs": [],
   "source": [
    "def greetUser():\n",
    "    name = str(input('What is your name? '))\n",
    "    print()\n",
    "    age = int(input('How old are you? '))\n",
    "    while age < 18:\n",
    "        print()\n",
    "        print('You are not allowed here! We identified that you are only', age, 'years old!')\n",
    "        print()\n",
    "        age = int(input('Can you please tell us your age again? '))\n",
    "        if age >=18:\n",
    "            print()\n",
    "            print(\"C'mon iN!, We checked again and identified that you are already\", age, 'years old!')\n",
    "    print()\n",
    "    print('We apologize for the inconvenience...')\n",
    "    print('-'*50)\n",
    "    print(' '*20 + 'Management')\n",
    "    print('-'*50)"
   ]
  },
  {
   "cell_type": "code",
   "execution_count": 84,
   "id": "971c0814",
   "metadata": {},
   "outputs": [
    {
     "name": "stdout",
     "output_type": "stream",
     "text": [
      "What is your name? 15\n",
      "\n",
      "How old are you? 17\n",
      "\n",
      "You are not allowed here! We identified that you are only 17 years old!\n",
      "\n",
      "Can you please tell us your age again? 18\n",
      "\n",
      "C'mon iN!, We checked again and identified that you are already 18 years old!\n",
      "\n",
      "We apologize for the inconvenience...\n",
      "--------------------------------------------------\n",
      "                    Management\n",
      "--------------------------------------------------\n"
     ]
    }
   ],
   "source": [
    "greetUser()"
   ]
  },
  {
   "cell_type": "code",
   "execution_count": 85,
   "id": "f837a354",
   "metadata": {},
   "outputs": [
    {
     "name": "stdout",
     "output_type": "stream",
     "text": [
      "['apple', 'banana', 'cherry']\n"
     ]
    }
   ],
   "source": [
    "print(myList)\n",
    "\n",
    "def listFunc():\n",
    "    num = int(input('Please input a number from 0-2: '))\n",
    "    selection = myList[num]\n",
    "    print()\n",
    "    x = print('You selected,', selection + '!')\n",
    "    return x"
   ]
  },
  {
   "cell_type": "code",
   "execution_count": 86,
   "id": "0bae0ea5",
   "metadata": {},
   "outputs": [
    {
     "name": "stdout",
     "output_type": "stream",
     "text": [
      "Please input a number from 0-2: 2\n",
      "\n",
      "You selected, cherry!\n"
     ]
    }
   ],
   "source": [
    "listFunc()"
   ]
  },
  {
   "cell_type": "code",
   "execution_count": 87,
   "id": "2b6eaaa5",
   "metadata": {},
   "outputs": [
    {
     "name": "stdout",
     "output_type": "stream",
     "text": [
      "How many terms? 5\n",
      "Fibonacci sequence:\n",
      "0\n",
      "1\n",
      "1\n",
      "2\n",
      "3\n"
     ]
    }
   ],
   "source": [
    "#fibonacci number sequence!\n",
    "\n",
    "nterms = int(input(\"How many terms? \"))\n",
    "\n",
    "# first two terms\n",
    "n1, n2 = 0, 1\n",
    "count = 0\n",
    "\n",
    "# check if the number of terms is valid\n",
    "if nterms <= 0:\n",
    "   print(\"Please enter a positive integer\")\n",
    "# if there is only one term, return n1\n",
    "elif nterms == 1:\n",
    "   print(\"Fibonacci sequence upto\",nterms,\":\")\n",
    "   print(n1)\n",
    "# generate fibonacci sequence\n",
    "else:\n",
    "   print(\"Fibonacci sequence:\")\n",
    "   while count < nterms:\n",
    "       print(n1)\n",
    "       nth = n1 + n2\n",
    "       # update values\n",
    "       n1 = n2\n",
    "       n2 = nth\n",
    "       count += 1"
   ]
  },
  {
   "cell_type": "code",
   "execution_count": 88,
   "id": "b9a4b557",
   "metadata": {},
   "outputs": [],
   "source": [
    "def fiboFunc(nterms):\n",
    "    n1, n2 = 0, 1\n",
    "    count = 0\n",
    "    \n",
    "    if nterms <= 0:\n",
    "        print('Please enter a positive integer')\n",
    "    elif nterms == 1:\n",
    "        print('Fibonaci sequence upto', nterms, ':')\n",
    "        print(n1)\n",
    "    else:\n",
    "        print('Fibonacci sequence:')\n",
    "        while count < nterms:\n",
    "            print(n1)\n",
    "            nth = n1 + n2\n",
    "            n1 = n2\n",
    "            n2 = nth\n",
    "            count +=1"
   ]
  },
  {
   "cell_type": "code",
   "execution_count": 89,
   "id": "c211bfb6",
   "metadata": {},
   "outputs": [
    {
     "name": "stdout",
     "output_type": "stream",
     "text": [
      "Fibonacci sequence:\n",
      "0\n",
      "1\n",
      "1\n",
      "2\n",
      "3\n",
      "5\n",
      "8\n",
      "13\n"
     ]
    }
   ],
   "source": [
    "fiboFunc(8)"
   ]
  },
  {
   "cell_type": "code",
   "execution_count": 90,
   "id": "6a31c20d",
   "metadata": {},
   "outputs": [],
   "source": [
    "def fiboFunc2():\n",
    "    nterms = int(input(\"How many terms? \"))\n",
    "    \n",
    "    n1, n2 = 0, 1\n",
    "    count = 0\n",
    "    \n",
    "    if nterms <= 0:\n",
    "        print('Please enter a positive integer')\n",
    "    elif nterms == 1:\n",
    "        print('Fibonaci sequence upto', nterms, ':')\n",
    "        print(n1)\n",
    "    else:\n",
    "        print('Fibonacci sequence:')\n",
    "        while count < nterms:\n",
    "            print(n1)\n",
    "            nth = n1 + n2\n",
    "            n1 = n2\n",
    "            n2 = nth\n",
    "            count +=1"
   ]
  },
  {
   "cell_type": "code",
   "execution_count": 91,
   "id": "c8055e62",
   "metadata": {},
   "outputs": [
    {
     "name": "stdout",
     "output_type": "stream",
     "text": [
      "How many terms? 5\n",
      "Fibonacci sequence:\n",
      "0\n",
      "1\n",
      "1\n",
      "2\n",
      "3\n"
     ]
    }
   ],
   "source": [
    "fiboFunc2()"
   ]
  },
  {
   "cell_type": "code",
   "execution_count": 94,
   "id": "d13c868a",
   "metadata": {},
   "outputs": [
    {
     "data": {
      "text/plain": [
       "True"
      ]
     },
     "execution_count": 94,
     "metadata": {},
     "output_type": "execute_result"
    }
   ],
   "source": [
    "\"\"\"\n",
    "Given an array of ints, return True if 6 appears as either the first or last\n",
    "element in the array. The array will be length 1 or more.\n",
    "\"\"\"\n",
    "def first_last6(nums):\n",
    "    return 6 in [nums[0],nums[-1]]\n",
    "\n",
    "first_last6([10, 55, 78, 2, 5, 6, 7, 6])"
   ]
  },
  {
   "cell_type": "code",
   "execution_count": 96,
   "id": "907edc77",
   "metadata": {},
   "outputs": [
    {
     "data": {
      "text/plain": [
       "False"
      ]
     },
     "execution_count": 96,
     "metadata": {},
     "output_type": "execute_result"
    }
   ],
   "source": [
    "\"\"\"\n",
    "Given an array of ints, return True if the array is length 1 or more, and the\n",
    "first element and the last element are the same.\n",
    "\"\"\"\n",
    "def same_first_last(nums):\n",
    "    return len(nums) > 0 and nums[0] == nums[-1]\n",
    "\n",
    "same_first_last([75, 1, 2, 4, 1, 6, 1, 7])"
   ]
  },
  {
   "cell_type": "markdown",
   "id": "ef03d54f",
   "metadata": {},
   "source": [
    "### LAMBDA FUNCTIONS or ANONYMOUS FUNCTIONS"
   ]
  },
  {
   "cell_type": "code",
   "execution_count": 97,
   "id": "3abd6c2c",
   "metadata": {},
   "outputs": [
    {
     "data": {
      "text/plain": [
       "5"
      ]
     },
     "execution_count": 97,
     "metadata": {},
     "output_type": "execute_result"
    }
   ],
   "source": [
    "def identity(x):\n",
    "    return x\n",
    "\n",
    "identity(5)"
   ]
  },
  {
   "cell_type": "code",
   "execution_count": 98,
   "id": "b4f535b1",
   "metadata": {},
   "outputs": [
    {
     "data": {
      "text/plain": [
       "5"
      ]
     },
     "execution_count": 98,
     "metadata": {},
     "output_type": "execute_result"
    }
   ],
   "source": [
    "y = lambda y: y\n",
    "\n",
    "y(5)"
   ]
  },
  {
   "cell_type": "code",
   "execution_count": 99,
   "id": "4e373835",
   "metadata": {},
   "outputs": [
    {
     "data": {
      "text/plain": [
       "16"
      ]
     },
     "execution_count": 99,
     "metadata": {},
     "output_type": "execute_result"
    }
   ],
   "source": [
    "def f(x):\n",
    "    return 3*x + 1\n",
    "\n",
    "f(5)"
   ]
  },
  {
   "cell_type": "code",
   "execution_count": 100,
   "id": "3ff4a59a",
   "metadata": {},
   "outputs": [
    {
     "data": {
      "text/plain": [
       "<function __main__.<lambda>(x)>"
      ]
     },
     "execution_count": 100,
     "metadata": {},
     "output_type": "execute_result"
    }
   ],
   "source": [
    "lambda x: 3*x + 1"
   ]
  },
  {
   "cell_type": "code",
   "execution_count": 101,
   "id": "d02b8660",
   "metadata": {},
   "outputs": [],
   "source": [
    "g = lambda x: 3*x + 1"
   ]
  },
  {
   "cell_type": "code",
   "execution_count": 102,
   "id": "dd4f2bc1",
   "metadata": {},
   "outputs": [
    {
     "name": "stdout",
     "output_type": "stream",
     "text": [
      "16\n"
     ]
    }
   ],
   "source": [
    "print(g(5))"
   ]
  },
  {
   "cell_type": "markdown",
   "id": "93c3e890",
   "metadata": {},
   "source": [
    "These functions all take a single argument. You may have noticed that, in the definition of the lambdas, the arguments don’t have parentheses around them. Multi-argument functions (functions that take more than one argument) are expressed in Python lambdas by listing arguments and separating them with a comma (,) but without surrounding them with parentheses:"
   ]
  },
  {
   "cell_type": "markdown",
   "id": "bd960a9f",
   "metadata": {},
   "source": [
    "Combine the first and last name into a single \"FULL NAME\""
   ]
  },
  {
   "cell_type": "code",
   "execution_count": 114,
   "id": "b6a1c6a1",
   "metadata": {},
   "outputs": [],
   "source": [
    "full_name = lambda fn, ln: fn.strip().title() + ' ' + ln.strip().title()"
   ]
  },
  {
   "cell_type": "code",
   "execution_count": 115,
   "id": "da4bd436",
   "metadata": {},
   "outputs": [
    {
     "name": "stdout",
     "output_type": "stream",
     "text": [
      "Enter first name! John\n"
     ]
    }
   ],
   "source": [
    "fn = str(input('Enter first name! '))"
   ]
  },
  {
   "cell_type": "code",
   "execution_count": 116,
   "id": "1b3f0285",
   "metadata": {},
   "outputs": [
    {
     "name": "stdout",
     "output_type": "stream",
     "text": [
      "Enter last name Doe\n"
     ]
    }
   ],
   "source": [
    "ln = str(input('Enter last name '))"
   ]
  },
  {
   "cell_type": "code",
   "execution_count": 117,
   "id": "f9903c12",
   "metadata": {},
   "outputs": [
    {
     "name": "stdout",
     "output_type": "stream",
     "text": [
      "Your full name is John Doe\n"
     ]
    }
   ],
   "source": [
    "print('Your full name is', full_name(fn, ln))"
   ]
  },
  {
   "cell_type": "code",
   "execution_count": 118,
   "id": "643d3020",
   "metadata": {},
   "outputs": [],
   "source": [
    "full_name = lambda first, last: f'Full name: {first.strip().title()} {last.strip().title()}'"
   ]
  },
  {
   "cell_type": "code",
   "execution_count": 119,
   "id": "44a731eb",
   "metadata": {},
   "outputs": [
    {
     "data": {
      "text/plain": [
       "'Full name: Guido Van Rossum'"
      ]
     },
     "execution_count": 119,
     "metadata": {},
     "output_type": "execute_result"
    }
   ],
   "source": [
    "full_name('guido', 'van rossum')"
   ]
  },
  {
   "cell_type": "code",
   "execution_count": 120,
   "id": "ed1d035c",
   "metadata": {},
   "outputs": [],
   "source": [
    "scientists = ['Yann LeCun', 'Geoffrey Hinton', 'Kaiming He', 'Ian Goodfellow', 'Stephen Hawking']"
   ]
  },
  {
   "cell_type": "code",
   "execution_count": 121,
   "id": "520f04a3",
   "metadata": {},
   "outputs": [
    {
     "name": "stdout",
     "output_type": "stream",
     "text": [
      "['Yann LeCun', 'Geoffrey Hinton', 'Kaiming He', 'Ian Goodfellow', 'Stephen Hawking']\n"
     ]
    }
   ],
   "source": [
    "print(scientists)"
   ]
  },
  {
   "cell_type": "code",
   "execution_count": 122,
   "id": "9726e463",
   "metadata": {},
   "outputs": [],
   "source": [
    "scientists.sort(key=lambda name: name.split(\" \")[-1].lower())"
   ]
  },
  {
   "cell_type": "code",
   "execution_count": 123,
   "id": "6716dc88",
   "metadata": {},
   "outputs": [
    {
     "name": "stdout",
     "output_type": "stream",
     "text": [
      "['Ian Goodfellow', 'Stephen Hawking', 'Kaiming He', 'Geoffrey Hinton', 'Yann LeCun']\n"
     ]
    }
   ],
   "source": [
    "print(scientists)"
   ]
  },
  {
   "cell_type": "markdown",
   "id": "f2e88a74",
   "metadata": {},
   "source": [
    "The lambda function above is defined and then immediately called with two arguments (2 and 3). It returns the value 5, which is the sum of the arguments.\n",
    "\n",
    "Several examples in this tutorial use this format to highlight the anonymous aspect of a lambda function and avoid focusing on lambda in Python as a shorter way of defining a function.\n",
    "\n",
    "Python does not encourage using immediately invoked lambda expressions. It simply results from a lambda expression being callable, unlike the body of a normal function.\n",
    "\n",
    "Lambda functions are frequently used with higher-order functions, which take one or more functions as arguments or return one or more functions.\n",
    "\n",
    "A lambda function can be a higher-order function by taking a function (normal or lambda) as an argument like in the following contrived example:"
   ]
  },
  {
   "cell_type": "code",
   "execution_count": null,
   "id": "7bc39b91",
   "metadata": {},
   "outputs": [],
   "source": [
    "myfunc = (lambda x, y: x + y)\n",
    "\n",
    "myfunc(2, 3)"
   ]
  },
  {
   "cell_type": "code",
   "execution_count": null,
   "id": "70e73471",
   "metadata": {},
   "outputs": [],
   "source": [
    "high_ord_func = lambda x, func: x + func(x)"
   ]
  },
  {
   "cell_type": "code",
   "execution_count": null,
   "id": "da1a1077",
   "metadata": {},
   "outputs": [],
   "source": [
    "high_ord_func(2, lambda x: x * x)"
   ]
  },
  {
   "cell_type": "code",
   "execution_count": null,
   "id": "a749165d",
   "metadata": {},
   "outputs": [],
   "source": [
    "high_ord_func(2, lambda x: x + 3)"
   ]
  },
  {
   "cell_type": "markdown",
   "id": "8eec85e1",
   "metadata": {},
   "source": [
    "We can implement lambda functions inside user-defined functions!"
   ]
  },
  {
   "cell_type": "code",
   "execution_count": null,
   "id": "b9cf9345",
   "metadata": {},
   "outputs": [],
   "source": [
    "def build_quadratic_function(a, b, c):\n",
    "    \"\"\" Returns the function f(x) = ax^2 + bx + c\"\"\"\n",
    "    return lambda x: a*x**2 + b*x + c"
   ]
  },
  {
   "cell_type": "code",
   "execution_count": null,
   "id": "ac0c8423",
   "metadata": {},
   "outputs": [],
   "source": [
    "f = build_quadratic_function(3, 0, 1)"
   ]
  },
  {
   "cell_type": "code",
   "execution_count": null,
   "id": "a22d1768",
   "metadata": {},
   "outputs": [],
   "source": [
    "f(2)"
   ]
  },
  {
   "cell_type": "code",
   "execution_count": null,
   "id": "f560df78",
   "metadata": {},
   "outputs": [],
   "source": [
    "build_quadratic_function(3, 0, 1)(2)"
   ]
  },
  {
   "cell_type": "markdown",
   "id": "6fcce2ba",
   "metadata": {},
   "source": [
    "Filter(). This is a Python inbuilt library that returns only those values that fit certain criteria. The syntax is filter(function, iterable). The iterable can be any sequence such as a list, set, or series object (more below).\n",
    "\n",
    "The example below filters a list for even numbers. Note that the filter function returns a ‘Filter object’ and you need to encapsulate it with a list to return the values."
   ]
  },
  {
   "cell_type": "code",
   "execution_count": null,
   "id": "39b0dda9",
   "metadata": {},
   "outputs": [],
   "source": [
    "# help(filter)"
   ]
  },
  {
   "cell_type": "code",
   "execution_count": null,
   "id": "6c62febc",
   "metadata": {},
   "outputs": [],
   "source": [
    "list_1 = [1,2,3,4,5,6,7,8,9]\n",
    "filter(lambda x: x%2==0, list_1)"
   ]
  },
  {
   "cell_type": "code",
   "execution_count": null,
   "id": "b246a6cb",
   "metadata": {},
   "outputs": [],
   "source": [
    "list(filter(lambda x: x%2==0, list_1))"
   ]
  },
  {
   "cell_type": "markdown",
   "id": "a863ccf3",
   "metadata": {},
   "source": [
    "Map(). This is another inbuilt python library with the syntax map(function, iterable).\n",
    "\n",
    "This returns a modified list where every value in the original list has been changed based on a function. The example below cubes every number in the list."
   ]
  },
  {
   "cell_type": "code",
   "execution_count": null,
   "id": "ba9a19b0",
   "metadata": {},
   "outputs": [],
   "source": [
    "list_2 = [1,2,3,4,5,6,7,8,9]\n",
    "cubed = map(lambda x: pow(x,3), list_2)\n",
    "\n",
    "###Results\n",
    "# [1, 8, 27, 64, 125, 216, 343, 512, 729]"
   ]
  },
  {
   "cell_type": "code",
   "execution_count": null,
   "id": "43a999e5",
   "metadata": {},
   "outputs": [],
   "source": [
    "list(cubed)"
   ]
  },
  {
   "cell_type": "markdown",
   "id": "36b00b25",
   "metadata": {},
   "source": [
    "### EXPERIMENTAL"
   ]
  },
  {
   "cell_type": "code",
   "execution_count": null,
   "id": "4748e1ca",
   "metadata": {},
   "outputs": [],
   "source": [
    "brands = {0:'Smackdown', 1:'RAW'}"
   ]
  },
  {
   "cell_type": "code",
   "execution_count": null,
   "id": "e5c3b86f",
   "metadata": {},
   "outputs": [],
   "source": [
    "brands.values()"
   ]
  },
  {
   "cell_type": "code",
   "execution_count": null,
   "id": "5d60a613",
   "metadata": {},
   "outputs": [],
   "source": [
    "roster = ['Brock', 'Roman Reigns', \"Seth 'Freakin' Rollis\", 'Undertaker', 'Shawn', 'Triple H', '123 Kid']"
   ]
  },
  {
   "cell_type": "code",
   "execution_count": null,
   "id": "09b4d496",
   "metadata": {},
   "outputs": [],
   "source": [
    "for _ in roster:\n",
    "    print(_)"
   ]
  },
  {
   "cell_type": "code",
   "execution_count": null,
   "id": "6c07fc12",
   "metadata": {},
   "outputs": [],
   "source": [
    "print('first player selecting....')\n",
    "playerOne = str(input('*Player 1*\\nPlease select your wrestler!'))\n",
    "print()\n",
    "print('Player one selected', playerOne)\n",
    "print()\n",
    "print('second player selecting....')\n",
    "playerTwo = str(input('Player 2\\nPlease select your wrestler!'))\n",
    "print()\n",
    "print('Player two selected', playerTwo)\n",
    "\n",
    "playerOneHealthBar = 100\n",
    "playerTwoHealthBar = 100\n",
    "\n",
    "if playerOne == 'Brock':\n",
    "    playerOneHealthBar = 300\n",
    "    print()\n",
    "    print('Brock Lesnar')\n",
    "    print('Brock HP:', playerOneHealthBar, '/', playerOneHealthBar)\n",
    "    \n",
    "if playerTwo == 'Undertaker':\n",
    "    playerTwoHealthBar = 500\n",
    "    print()\n",
    "    print('Undertaker')\n",
    "    print('Undertaker HP:', playerTwoHealthBar, '/', playerTwoHealthBar)\n",
    "    "
   ]
  },
  {
   "cell_type": "code",
   "execution_count": null,
   "id": "7b7af87d",
   "metadata": {},
   "outputs": [],
   "source": [
    "import random as rdm\n",
    "brockSkills = {0:'Kimura Lock', 1:'F5'}\n",
    "\n",
    "skillChoice = 0\n",
    "\n",
    "selectedSkill = brockSkills[skillChoice]\n",
    "\n",
    "\n",
    "p2baseHealth = playerTwoHealthBar\n",
    "print('*'*50)\n",
    "print(playerTwo)\n",
    "print('HP:', playerTwoHealthBar, '/', playerTwoHealthBar)\n",
    "print('*'*50)\n",
    "\n",
    "\n",
    "\n",
    "selectedSkill = input('Please select your skill!!')\n",
    "\n",
    "\n",
    "if selectedSkill == 'Kimura Lock':\n",
    "    print(playerOne, 'performed', selectedSkill, '!')\n",
    "    kimuraDamage = rdm.randint(100, 200)\n",
    "    print('CRACK! CRACK!')\n",
    "    print(playerOne, 'inflicted', kimuraDamage, 'to', playerTwo)\n",
    "    playerTwoDamagedBar = playerTwoHealthBar - kimuraDamage\n",
    "    playerTwoHealthBar = playerTwoDamagedBar\n",
    "    print(playerTwo, 'current health:', playerTwoDamagedBar, '/', p2baseHealth)\n",
    "    print(playerTwo, 'only has', playerTwoDamagedBar, 'left!!')"
   ]
  },
  {
   "cell_type": "code",
   "execution_count": null,
   "id": "2afdb512",
   "metadata": {},
   "outputs": [],
   "source": [
    "print(playerTwo, 'still has', playerTwoHealthBar, '/', playerTwoHealthBar, 'HP!' )\n",
    "print(playerOne, 'still has', playerOneHealthBar, '/', playerOneHealthBar, 'HP!' )\n",
    "\n",
    "turn = str(input(\"Player 2's turn! \\nSelect a move!\"))\n",
    "\n",
    "if playerTwoHealthBar <= 0:\n",
    "    print()\n",
    "    print(playerOne, 'WINS!')"
   ]
  },
  {
   "cell_type": "code",
   "execution_count": null,
   "id": "6f9d1d71",
   "metadata": {},
   "outputs": [],
   "source": [
    "class Wrestler():\n",
    "    def __init__(self, name, moves, brand):\n",
    "        self.name = name\n",
    "        self.moves = moves\n",
    "        self.brand = brand"
   ]
  },
  {
   "cell_type": "code",
   "execution_count": null,
   "id": "3bbac252",
   "metadata": {},
   "outputs": [],
   "source": [
    "roster = []"
   ]
  },
  {
   "cell_type": "code",
   "execution_count": null,
   "id": "7c9d1d1c",
   "metadata": {},
   "outputs": [],
   "source": [
    "brockSkills = {0:'Kimura Lock', 1:'F5'}\n",
    "brands = {0:'Smackdown', 1:'RAW'}\n",
    "\n",
    "brockLesnar = Wrestler('Brock Lesnar', brockSkills, brands[0])\n",
    "roster.append(brockLesnar)\n",
    "print('You selected', brockLesnar.name)"
   ]
  },
  {
   "cell_type": "code",
   "execution_count": null,
   "id": "91605ec8",
   "metadata": {},
   "outputs": [],
   "source": [
    "undertakerSkills = {0:'Chokeslam', 1:'Tombstone'}\n",
    "\n",
    "theUndertaker = Wrestler('Undertaker', undertakerSkills, brands[0])\n",
    "roster.append(theUndertaker)\n",
    "print('You selected', theUndertaker.name)"
   ]
  },
  {
   "cell_type": "code",
   "execution_count": null,
   "id": "d94f7dc4",
   "metadata": {},
   "outputs": [],
   "source": [
    "print(roster[0].name)\n",
    "print(roster[1].name)\n",
    "\n",
    "playerOne = 0\n",
    "playerTwo = 1\n",
    "\n",
    "playerOne = roster[playerOne]\n",
    "playerTwo = roster[playerTwo]"
   ]
  },
  {
   "cell_type": "code",
   "execution_count": null,
   "id": "f933d9a7",
   "metadata": {},
   "outputs": [],
   "source": [
    "def showPlayerOneInfo():\n",
    "    print('Name:', playerOne.name)\n",
    "    print('Signature Move:', playerOne.moves[0])\n",
    "    print('Finishing Move:', playerOne.moves[1])\n",
    "    print('Brand:', playerOne.brand)"
   ]
  },
  {
   "cell_type": "code",
   "execution_count": null,
   "id": "ca711567",
   "metadata": {},
   "outputs": [],
   "source": [
    "showPlayerOneInfo()"
   ]
  },
  {
   "cell_type": "code",
   "execution_count": null,
   "id": "52f903e9",
   "metadata": {},
   "outputs": [],
   "source": [
    "class Managers():\n",
    "    def __init__(self, name, brand, associate):\n",
    "        self.name = name\n",
    "        self.brand = brand\n",
    "        self.associate = associate\n",
    "        "
   ]
  },
  {
   "cell_type": "code",
   "execution_count": null,
   "id": "d3d66516",
   "metadata": {},
   "outputs": [],
   "source": [
    "managerName = str(input('What is your name, manager? \\n'))\n",
    "managerBrand = str(input('What is your brand?\\n'))\n",
    "managerAssociate = str(input('Who is your associate\\n'))"
   ]
  },
  {
   "cell_type": "code",
   "execution_count": null,
   "id": "664032bf",
   "metadata": {},
   "outputs": [],
   "source": [
    "manager1 = Managers(managerName, managerBrand, managerAssociate)"
   ]
  },
  {
   "cell_type": "code",
   "execution_count": null,
   "id": "adbc9abd",
   "metadata": {},
   "outputs": [],
   "source": [
    "print('Manager name:', manager1.name)\n",
    "print('Manager brand:', manager1.brand)\n",
    "print('Manager associate:', manager1.associate)"
   ]
  },
  {
   "cell_type": "code",
   "execution_count": null,
   "id": "19e34f68",
   "metadata": {},
   "outputs": [],
   "source": []
  }
 ],
 "metadata": {
  "kernelspec": {
   "display_name": "Python 3 (ipykernel)",
   "language": "python",
   "name": "python3"
  },
  "language_info": {
   "codemirror_mode": {
    "name": "ipython",
    "version": 3
   },
   "file_extension": ".py",
   "mimetype": "text/x-python",
   "name": "python",
   "nbconvert_exporter": "python",
   "pygments_lexer": "ipython3",
   "version": "3.9.12"
  }
 },
 "nbformat": 4,
 "nbformat_minor": 5
}
