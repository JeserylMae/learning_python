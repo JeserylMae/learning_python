{
 "cells": [
  {
   "cell_type": "markdown",
   "id": "bd9680b7",
   "metadata": {},
   "source": [
    "# Single Inheritance"
   ]
  },
  {
   "cell_type": "code",
   "execution_count": 1,
   "id": "c4ebc667",
   "metadata": {},
   "outputs": [],
   "source": [
    "#Create a Parent Class with a parentMethod()\n",
    "\n",
    "class Parent:\n",
    "    def __init__(self, name, age):\n",
    "        self.name = name\n",
    "        self.age = age\n",
    "    \n",
    "    def parentMethod(self):\n",
    "        print(f'{self.name} with {self.age} years of age, you used the parent method!')\n",
    "        "
   ]
  },
  {
   "cell_type": "code",
   "execution_count": 1,
   "id": "9ef94530",
   "metadata": {},
   "outputs": [],
   "source": [
    "#Create a parentlessChild class without a method\n",
    "\n",
    "class ParentlessChild:\n",
    "    def __init__(self, name, age):\n",
    "        self.name = name\n",
    "        self.age = age"
   ]
  },
  {
   "cell_type": "code",
   "execution_count": 3,
   "id": "9c2f5a52",
   "metadata": {},
   "outputs": [],
   "source": [
    "#instantiate an object parent from the Parent class with a name Parent and age of 30\n",
    "parent = Parent('Parent', 30)"
   ]
  },
  {
   "cell_type": "code",
   "execution_count": 4,
   "id": "e3717b64",
   "metadata": {},
   "outputs": [
    {
     "name": "stdout",
     "output_type": "stream",
     "text": [
      "Parent with 30 years of age, you used the parent method!\n"
     ]
    }
   ],
   "source": [
    "#Being an object of the Parent class, it can execute the parentMethod()\n",
    "parent.parentMethod()"
   ]
  },
  {
   "cell_type": "code",
   "execution_count": 5,
   "id": "5c84ada0",
   "metadata": {},
   "outputs": [],
   "source": [
    "#From the ParentlessChild class, create an object, parentlessChild. Remember, the parentlessChild has no method.\n",
    "parentlessChild = ParentlessChild()"
   ]
  },
  {
   "cell_type": "code",
   "execution_count": 6,
   "id": "a833da31",
   "metadata": {},
   "outputs": [],
   "source": [
    "#Excuting this line should not allow the parentlessChild to use the parentMethod()\n",
    "# parentlessChild.parentMethod()"
   ]
  },
  {
   "cell_type": "code",
   "execution_count": 7,
   "id": "ddcbb897",
   "metadata": {},
   "outputs": [],
   "source": [
    "#However, by creating another which is ChildWithParent inheriting the method, it should be possible.\n",
    "\n",
    "class ChildWithParent(Parent):\n",
    "    def __init__(self, name, age):\n",
    "        self.name = name\n",
    "        self.age = age\n",
    "    "
   ]
  },
  {
   "cell_type": "code",
   "execution_count": 8,
   "id": "88106395",
   "metadata": {},
   "outputs": [],
   "source": [
    "#Instantiate a childWithParent object from the ChildWithParent class. \n",
    "#Remember it has no method but inherits from the Parent Class.\n",
    "\n",
    "childWithParent = ChildWithParent('Child', 4)"
   ]
  },
  {
   "cell_type": "code",
   "execution_count": 9,
   "id": "f0ef1b64",
   "metadata": {},
   "outputs": [
    {
     "name": "stdout",
     "output_type": "stream",
     "text": [
      "Child with 4 years of age, you used the parent method!\n"
     ]
    }
   ],
   "source": [
    "#Having inherited from the Parent class, the childWithParent object should be able to use the Parent() method.\n",
    "\n",
    "childWithParent.parentMethod()"
   ]
  },
  {
   "cell_type": "markdown",
   "id": "e398b038",
   "metadata": {},
   "source": [
    "# Multiple Inheritance"
   ]
  },
  {
   "cell_type": "code",
   "execution_count": 10,
   "id": "1a9f083f",
   "metadata": {},
   "outputs": [],
   "source": [
    "class MotherPokemon:\n",
    "    def __init__(self, name, element):\n",
    "        self.name = name\n",
    "        self.element = element\n",
    "        \n",
    "    def motherPokemonMethod(self):\n",
    "        print(f\"{self.name} with {self.element} type uses the MOTHER'S method!\")\n",
    "        "
   ]
  },
  {
   "cell_type": "code",
   "execution_count": 11,
   "id": "d961a6d9",
   "metadata": {},
   "outputs": [],
   "source": [
    "class FatherPokemon:\n",
    "    def __init__(self, name, element):\n",
    "        self.name = name\n",
    "        self.element = element\n",
    "        \n",
    "    def fatherPokemonMethod(self):\n",
    "        print(f\"{self.name} with {self.element} type uses the FATHER's method!\")\n",
    "    "
   ]
  },
  {
   "cell_type": "code",
   "execution_count": 12,
   "id": "7076eace",
   "metadata": {},
   "outputs": [],
   "source": [
    "class BabyPokemon(MotherPokemon, FatherPokemon):\n",
    "    def __init__(self, name, element):\n",
    "        self.name = name\n",
    "        self.element = element\n",
    "    "
   ]
  },
  {
   "cell_type": "code",
   "execution_count": 13,
   "id": "b64684bd",
   "metadata": {},
   "outputs": [],
   "source": [
    "#Create a MotherPokemon object.\n",
    "\n",
    "motherPikachu = MotherPokemon('PikachuMom', 'electric')"
   ]
  },
  {
   "cell_type": "code",
   "execution_count": 14,
   "id": "96790546",
   "metadata": {},
   "outputs": [
    {
     "name": "stdout",
     "output_type": "stream",
     "text": [
      "PikachuMom with electric type uses the MOTHER'S method!\n"
     ]
    }
   ],
   "source": [
    "motherPikachu.motherPokemonMethod()"
   ]
  },
  {
   "cell_type": "code",
   "execution_count": 15,
   "id": "743a10ac",
   "metadata": {},
   "outputs": [],
   "source": [
    "#Create a FatherPokemon object.\n",
    "\n",
    "fatherPikachu = FatherPokemon('PikachuDad', 'electric')"
   ]
  },
  {
   "cell_type": "code",
   "execution_count": 16,
   "id": "656f1809",
   "metadata": {},
   "outputs": [
    {
     "name": "stdout",
     "output_type": "stream",
     "text": [
      "PikachuDad with electric type uses the FATHER's method!\n"
     ]
    }
   ],
   "source": [
    "fatherPikachu.fatherPokemonMethod()"
   ]
  },
  {
   "cell_type": "code",
   "execution_count": 17,
   "id": "ce48529c",
   "metadata": {},
   "outputs": [],
   "source": [
    "# fatherPikachu.motherPokemonMethod()"
   ]
  },
  {
   "cell_type": "code",
   "execution_count": 18,
   "id": "fe1bae96",
   "metadata": {},
   "outputs": [],
   "source": [
    "# motherPikachu.fatherPokemonMethod()"
   ]
  },
  {
   "cell_type": "code",
   "execution_count": 19,
   "id": "6aa20324",
   "metadata": {},
   "outputs": [],
   "source": [
    "#Create a baby pokemon ojbect from BabyPokemon class. NOTE! The babyPokemon objects has no method of its own.\n",
    "\n",
    "babyPikachu = BabyPokemon('PikachuBaby', 'electric')"
   ]
  },
  {
   "cell_type": "code",
   "execution_count": 20,
   "id": "dfec02b4",
   "metadata": {},
   "outputs": [
    {
     "name": "stdout",
     "output_type": "stream",
     "text": [
      "PikachuBaby with electric type uses the MOTHER'S method!\n"
     ]
    }
   ],
   "source": [
    "#Inheriting from the motherPokemon class, babyPikachu from the BabyPokemon class should be able to use the motherPokemonMethod()\n",
    "babyPikachu.motherPokemonMethod()"
   ]
  },
  {
   "cell_type": "code",
   "execution_count": 21,
   "id": "0acb8d44",
   "metadata": {},
   "outputs": [
    {
     "name": "stdout",
     "output_type": "stream",
     "text": [
      "PikachuBaby with electric type uses the FATHER's method!\n"
     ]
    }
   ],
   "source": [
    "#Inheriting also from the fatherPokemon class, \n",
    "#babyPikachu from the BabyPokemon class should be able to use the fatherPokemonMethod() as well.\n",
    "\n",
    "babyPikachu.fatherPokemonMethod()"
   ]
  },
  {
   "cell_type": "markdown",
   "id": "b7846622",
   "metadata": {},
   "source": [
    "# Multilevel inheritance"
   ]
  },
  {
   "cell_type": "code",
   "execution_count": 22,
   "id": "fea4d7af",
   "metadata": {},
   "outputs": [],
   "source": [
    "class GrandpaUchiha:\n",
    "    def __init__(self, grandpaName):\n",
    "        self.grandpaName = grandpaName\n",
    "        self.grandpaSkill = \"grandpa's technique!\"\n",
    "        \n",
    "    def useGrandpaSkill(self):\n",
    "        print(f'{self.grandpaName} used his technique!!!')"
   ]
  },
  {
   "cell_type": "code",
   "execution_count": 23,
   "id": "4bc0a58e",
   "metadata": {},
   "outputs": [],
   "source": [
    "grandpaUchiha = GrandpaUchiha('Grandpa Uchiha')"
   ]
  },
  {
   "cell_type": "code",
   "execution_count": 24,
   "id": "27d557d0",
   "metadata": {},
   "outputs": [
    {
     "name": "stdout",
     "output_type": "stream",
     "text": [
      "Grandpa Uchiha used his technique!!!\n"
     ]
    }
   ],
   "source": [
    "grandpaUchiha.useGrandpaSkill()"
   ]
  },
  {
   "cell_type": "code",
   "execution_count": 25,
   "id": "a82c42cc",
   "metadata": {},
   "outputs": [],
   "source": [
    "#When initializing a constant value. You no longer need to add it as an inheritable state! \n",
    "#Ex. The grandpaSkill and fatherSkillstate.\n",
    "\n",
    "class FatherUchiha(GrandpaUchiha):\n",
    "    def __init__(self, fatherName, grandpaName):\n",
    "        self.fatherName = fatherName\n",
    "        self.grandpaSkill = \"grandpa's technique!\"\n",
    "        self.fatherSkill = \"father's technique!\"\n",
    "        \n",
    "        GrandpaUchiha.__init__(self, grandpaName)\n",
    "    \n",
    "    def useFatherSkill(self):\n",
    "        print(f'{self.fatherName} used {self.fatherSkill}! A version derived from the ancient {self.grandpaSkill}')\n",
    "        \n",
    "    def useGrandpaSkill(self):\n",
    "        print(f'{self.fatherName} used {self.grandpaSkill}!!!')"
   ]
  },
  {
   "cell_type": "code",
   "execution_count": 26,
   "id": "5b83a318",
   "metadata": {},
   "outputs": [],
   "source": [
    "fugaku = FatherUchiha('Fugaku', grandpaUchiha.grandpaName)"
   ]
  },
  {
   "cell_type": "code",
   "execution_count": 27,
   "id": "b135bd39",
   "metadata": {},
   "outputs": [],
   "source": [
    "class SonUchiha(FatherUchiha):\n",
    "    def __init__(self, sonName, fatherName, grandpaName):\n",
    "        self.sonName = sonName\n",
    "        self.grandpaSkill = \"grandpa's technique!\"\n",
    "        FatherUchiha.__init__(self, fatherName, grandpaName)\n",
    "        \n",
    "    def sonSkill(self):\n",
    "        print(f'Used skill {self.grandpaSkill} learned from father {self.fatherName} learned from {self.grandpaName}!')\n",
    "        \n",
    "    def useGrandpaSkill(self):\n",
    "        print(f'{self.sonName} used {self.grandpaSkill}!!!')\n",
    "        "
   ]
  },
  {
   "cell_type": "code",
   "execution_count": 28,
   "id": "54c102bd",
   "metadata": {},
   "outputs": [],
   "source": [
    "sasuke = SonUchiha('Sasuke', fugaku.fatherName, grandpaUchiha.grandpaName)"
   ]
  },
  {
   "cell_type": "code",
   "execution_count": 29,
   "id": "2541ecc2",
   "metadata": {},
   "outputs": [
    {
     "name": "stdout",
     "output_type": "stream",
     "text": [
      "Used skill grandpa's technique! learned from father Fugaku learned from Grandpa Uchiha!\n"
     ]
    }
   ],
   "source": [
    "sasuke.sonSkill()"
   ]
  },
  {
   "cell_type": "code",
   "execution_count": 30,
   "id": "89205750",
   "metadata": {},
   "outputs": [
    {
     "name": "stdout",
     "output_type": "stream",
     "text": [
      "Fugaku used father's technique!! A version derived from the ancient grandpa's technique!\n"
     ]
    }
   ],
   "source": [
    "sasuke.useFatherSkill()"
   ]
  },
  {
   "cell_type": "code",
   "execution_count": 31,
   "id": "a05049ab",
   "metadata": {},
   "outputs": [
    {
     "name": "stdout",
     "output_type": "stream",
     "text": [
      "Sasuke used grandpa's technique!!!!\n"
     ]
    }
   ],
   "source": [
    "sasuke.useGrandpaSkill()"
   ]
  },
  {
   "cell_type": "code",
   "execution_count": 32,
   "id": "0d65c050",
   "metadata": {},
   "outputs": [
    {
     "name": "stdout",
     "output_type": "stream",
     "text": [
      "Fugaku used grandpa's technique!!!!\n"
     ]
    }
   ],
   "source": [
    "fugaku.useGrandpaSkill()"
   ]
  },
  {
   "cell_type": "code",
   "execution_count": 33,
   "id": "1cfcdc51",
   "metadata": {},
   "outputs": [
    {
     "name": "stdout",
     "output_type": "stream",
     "text": [
      "Grandpa Uchiha used his technique!!!\n"
     ]
    }
   ],
   "source": [
    "grandpaUchiha.useGrandpaSkill()"
   ]
  },
  {
   "cell_type": "markdown",
   "id": "66818849",
   "metadata": {},
   "source": [
    "# Hierarchical Inheritance"
   ]
  },
  {
   "cell_type": "code",
   "execution_count": 37,
   "id": "d9c2d213",
   "metadata": {},
   "outputs": [],
   "source": [
    "ipVersionDB = [11, 12, 13, 14, 15]\n",
    "ipModelDB = ['XR', 11, 12 ,13 ,14]\n",
    "ipTypeDB = ['Base', 'Pro', 'ProMax']\n",
    "ipStorageCapacity = ['64', '128', '256', '512', '1']"
   ]
  },
  {
   "cell_type": "code",
   "execution_count": 38,
   "id": "3984e2f0",
   "metadata": {},
   "outputs": [],
   "source": [
    "class SmartPhone:\n",
    "    def sendText(self):\n",
    "        textMsg = input('Enter text message: ')\n",
    "        print(f'Your message is: {textMsg}')\n",
    "        \n",
    "    def call(self):\n",
    "        numToCall = str('Enter a number to call')\n",
    "        print(f'Calling.... {numToCall}')"
   ]
  },
  {
   "cell_type": "code",
   "execution_count": 85,
   "id": "f2c042f5",
   "metadata": {},
   "outputs": [],
   "source": [
    "class Iphone(SmartPhone):\n",
    "    def __init__(self, iosVersion, phoneModel, phoneType, storageCapacity):\n",
    "        self.iosVersion = float(iosVersion)\n",
    "        self.phoneModel = phoneModel\n",
    "        self.phoneType = str(phoneType)\n",
    "        self.storageCapacity = int(storageCapacity)\n",
    "        \n",
    "    def nonCompat(self):\n",
    "        print('THIS PHONE IS NOT APPLICABLE')\n",
    "    \n",
    "    def phoneCompatibility(self):\n",
    "        if (self.phoneModel == ipModelDB[0]) and (self.phoneType == ipTypeDB[1] or self.phoneType == ipTypeDB[2]): \n",
    "            self.nonCompat()\n",
    "        else:\n",
    "            print('Phone selected!')\n",
    "            \n",
    "    def storageCompat(self):\n",
    "        if (self.phoneModel == ipModelDB[2]) and (self.storageCapacity == ipStorageCapacity[0] or self.storageCapacity == ipStorageCapacity[1]):\n",
    "            print(f'{self.phoneModel} does not have a capacity of {self.storageCapacity}')\n",
    "            print(f'Please select only from {ipStorageCapacity[1:]}')\n",
    "        else:\n",
    "            pass\n",
    "    \n",
    "    def accessAppStore(self):\n",
    "        print('Accessing Iphone App store...')\n",
    "        print(f'Successfully entered app store with iPhone')\n",
    "        print(f'{self.phoneModel} {self.phoneType} with iOS version {self.iosVersion}')\n",
    "        \n",
    "    def iphoneInfo(self):\n",
    "        if (self.phoneCompatibility()) == True and (self.storageCompat() == True):\n",
    "            pass\n",
    "        else:\n",
    "            print('*'*50)\n",
    "            print('Iphone Specifications')\n",
    "            print('*'*50)\n",
    "            print(f'Iphone model: {self.phoneModel}, {self.phoneType}')\n",
    "            print(f'Secondary Storage size: {self.storageCapacity} G')\n",
    "            print(f'iOS version: {self.iosVersion}')"
   ]
  },
  {
   "cell_type": "code",
   "execution_count": 111,
   "id": "73a19fd0",
   "metadata": {},
   "outputs": [],
   "source": [
    "class AndroidPhone(SmartPhone):\n",
    "    def __init__(self, androidVersion, phoneModel, phoneBrand, storageCapacity, phoneVersion):\n",
    "        self.androidVersion = int(androidVersion)\n",
    "        self.phoneModel = phoneModel\n",
    "        self.phoneBrand = str(phoneBrand)\n",
    "        self.phoneVersion = int(phoneVersion)\n",
    "        self.storageCapacity = int(storageCapacity)\n",
    "        \n",
    "    def accessPlaystore(self):\n",
    "        print('Accessing Android Playstore')\n",
    "        print(f'You are now in the Android Playstore via {self.phoneBrand}{ self.phoneModel} version {self.androidVersion}')\n",
    "        \n",
    "    def androidInfo(self):\n",
    "        print('*'*50)\n",
    "        print('Android Specifications')\n",
    "        print('*'*50)\n",
    "        print(f'Android model: {self.phoneModel} {self.phoneBrand} {self.phoneVersion}')\n",
    "        print(f'Secondary Storage size: {self.storageCapacity} G')\n",
    "        print(f'Android OS version: {self.androidVersion}')"
   ]
  },
  {
   "cell_type": "code",
   "execution_count": 112,
   "id": "f1024e6a",
   "metadata": {},
   "outputs": [],
   "source": [
    "ipVersionOfChoice = 0\n",
    "ipModelOfChoice = 2\n",
    "ipTypeofChoice = 2\n",
    "ipStorageofChoice = 0\n",
    "\n",
    "iphone14ProMax = Iphone(iosVersion=ipVersionDB[ipVersionOfChoice], \n",
    "                        phoneModel=ipModelDB[ipModelOfChoice], \n",
    "                        phoneType=ipTypeDB[ipTypeofChoice], \n",
    "                        storageCapacity=ipStorageCapacity[ipStorageofChoice])"
   ]
  },
  {
   "cell_type": "code",
   "execution_count": 113,
   "id": "c2272cac",
   "metadata": {},
   "outputs": [
    {
     "name": "stdout",
     "output_type": "stream",
     "text": [
      "Phone selected!\n",
      "**************************************************\n",
      "Iphone Specifications\n",
      "**************************************************\n",
      "Iphone model: 12, ProMax\n",
      "Secondary Storage size: 64 G\n",
      "iOS version: 11.0\n"
     ]
    }
   ],
   "source": [
    "iphone14ProMax.iphoneInfo()"
   ]
  },
  {
   "cell_type": "code",
   "execution_count": 114,
   "id": "80960d07",
   "metadata": {},
   "outputs": [],
   "source": [
    "samsungGalaxyS23 = AndroidPhone(12, 'Samsung', 'Galaxy', 512, 23)"
   ]
  },
  {
   "cell_type": "code",
   "execution_count": 115,
   "id": "97baa3d4",
   "metadata": {},
   "outputs": [
    {
     "name": "stdout",
     "output_type": "stream",
     "text": [
      "**************************************************\n",
      "Android Specifications\n",
      "**************************************************\n",
      "Android model: Samsung Galaxy 23\n",
      "Secondary Storage size: 512 G\n",
      "Android OS version: 12\n"
     ]
    }
   ],
   "source": [
    "samsungGalaxyS23.androidInfo()"
   ]
  },
  {
   "attachments": {},
   "cell_type": "markdown",
   "id": "9522c533",
   "metadata": {},
   "source": [
    "# INHERITANCE FUN WITH SMARTPHONES VERSION 2"
   ]
  },
  {
   "cell_type": "code",
   "execution_count": 2,
   "id": "d054df86",
   "metadata": {},
   "outputs": [],
   "source": [
    "import random\n",
    "import time\n",
    "\n",
    "class SmartPhone:\n",
    "    def send_text(self):\n",
    "        recipient = input('Enter number to send message to: ')\n",
    "        text_msg = input('Enter text message: ')\n",
    "        if isinstance(self, Iphone):\n",
    "            print(f'\\nSent from your iPhone\\nTo: {recipient}\\n\\n{text_msg}\\n')\n",
    "        elif isinstance(self, AndroidPhone):\n",
    "            print(f'\\nSent from your Android phone\\nTo: {recipient}\\n\\n{text_msg}\\n')\n",
    "        else:\n",
    "            print(f'Error: unsupported phone type')\n",
    "\n",
    "\n",
    "    def call(self):\n",
    "        num_to_call = input('Enter a number to call: ')\n",
    "        print(f'Calling.... {num_to_call}')\n",
    "        for i in range(4):\n",
    "            print('ring...', end='', flush=True)\n",
    "            time.sleep(1)\n",
    "        answered = random.choice([True, False])\n",
    "        if answered:\n",
    "            print(f'\\n{num_to_call} has answered the call')\n",
    "            print(f'Currently on call with {num_to_call}...')\n",
    "            on_call = True\n",
    "            while on_call:\n",
    "                end_call = input('Press \"end\" to end the call: ')\n",
    "                if end_call.lower() == 'end':\n",
    "                    on_call = False\n",
    "            print('Call ended')\n",
    "        else:\n",
    "            print(f'\\nNo answer from {num_to_call}')"
   ]
  },
  {
   "cell_type": "code",
   "execution_count": 3,
   "id": "5d243a1a",
   "metadata": {},
   "outputs": [],
   "source": [
    "class Iphone(SmartPhone):\n",
    "    def __init__(self, ios_version, phone_model, phone_type, storage_capacity):\n",
    "        self.ios_version = float(ios_version)\n",
    "        self.phone_model = phone_model\n",
    "        self.phone_type = phone_type\n",
    "        self.storage_capacity = int(storage_capacity)\n",
    "        \n",
    "    def non_compat(self):\n",
    "        print('THIS PHONE IS NOT APPLICABLE')\n",
    "    \n",
    "    def phone_compatibility(self):\n",
    "        if self.phone_model == ipModelDB[0] and self.phone_type in ipTypeDB[1:]:\n",
    "            self.non_compat()\n",
    "            return False\n",
    "        else:\n",
    "            return True\n",
    "            \n",
    "    def storage_compat(self):\n",
    "        if self.phone_model == ipModelDB[2] and self.storage_capacity in ipStorageCapacity[:2]:\n",
    "            print(f'{self.phone_model} does not have a capacity of {self.storage_capacity}')\n",
    "            print(f'Please select only from {ipStorageCapacity[1:]}')\n",
    "            return False\n",
    "        else:\n",
    "            return True\n",
    "    \n",
    "    def access_app_store(self):\n",
    "        print('Accessing iPhone App Store...')\n",
    "        print(f'Successfully entered app store with iPhone {self.phone_model} {self.phone_type} with iOS version {self.ios_version}.')\n",
    "        \n",
    "    def iphone_info(self):\n",
    "        if self.phone_compatibility() and self.storage_compat():\n",
    "            print('*' * 50)\n",
    "            print('iPhone Specifications')\n",
    "            print('*' * 50)\n",
    "            print(f'iPhone model: {self.phone_model}, {self.phone_type}')\n",
    "            print(f'Capacity: {self.storage_capacity} GB')\n",
    "            print(f'iOS version: {self.ios_version}')\n",
    "        else:\n",
    "            print(\"This is not a proper iphone\")"
   ]
  },
  {
   "cell_type": "code",
   "execution_count": 4,
   "id": "65bfb102",
   "metadata": {},
   "outputs": [],
   "source": [
    "class AndroidPhone(SmartPhone):\n",
    "    def __init__(self, android_version, model, brand, storage_capacity, version):\n",
    "        self.android_version = android_version\n",
    "        self.model = model\n",
    "        self.brand = brand\n",
    "        self.version = version\n",
    "        self.storage_capacity = storage_capacity\n",
    "        \n",
    "    def access_play_store(self):\n",
    "        print(f'Accessing Android Play Store from {self.brand} {self.model} running Android version {self.android_version}...')\n",
    "        print('You are now in the Android Play Store.')\n",
    "        \n",
    "    def get_android_info(self):\n",
    "        print('*' * 50)\n",
    "        print('Android Specifications')\n",
    "        print('*' * 50)\n",
    "        print(f'Brand: {self.brand}')\n",
    "        print(f'Model: {self.model} (Version {self.version})')\n",
    "        print(f'Storage Capacity: {self.storage_capacity}GB')\n",
    "        print(f'OS Version: Android {self.android_version}')\n"
   ]
  },
  {
   "cell_type": "code",
   "execution_count": 5,
   "id": "d09b8bf2",
   "metadata": {},
   "outputs": [
    {
     "name": "stdout",
     "output_type": "stream",
     "text": [
      "**************************************************\n",
      "iPhone Specifications\n",
      "**************************************************\n",
      "iPhone model: 13, ProMax\n",
      "Capacity: 64 GB\n",
      "iOS version: 13.0\n"
     ]
    }
   ],
   "source": [
    "ipVersionDB = [11, 12, 13, 14, 15]\n",
    "ipModelDB = ['XR', 11, 12 ,13 ,14]\n",
    "ipTypeDB = ['Base', 'Pro', 'ProMax']\n",
    "ipStorageCapacity = [64, 128, 256, 512, 1000]\n",
    "\n",
    "choices = {\n",
    "    'ios_version': 13,\n",
    "    'phone_model': '14',\n",
    "    'phone_type': 'ProMax',\n",
    "    'storage_capacity': '64',\n",
    "}\n",
    "\n",
    "# The -11 is used to adjust the value of the ios_version attribute that is passed into the Iphone class's constructor.\n",
    "\n",
    "# The ipVersionDB list contains the versions of iOS, from 11 to 15, but the choices dictionary stores the user's input as an integer between 13 and 15.\n",
    "\n",
    "iphone = Iphone(\n",
    "    ios_version=ipVersionDB[choices['ios_version']-11],\n",
    "    phone_model=ipModelDB[int(choices['phone_model'])-11],\n",
    "    phone_type=choices['phone_type'],\n",
    "    storage_capacity=int(choices['storage_capacity']),\n",
    ")\n",
    "\n",
    "iphone.iphone_info()"
   ]
  },
  {
   "cell_type": "code",
   "execution_count": 6,
   "id": "6e6d9ca6",
   "metadata": {},
   "outputs": [
    {
     "name": "stdout",
     "output_type": "stream",
     "text": [
      "\n",
      "Sent from your iPhone\n",
      "To: 09175557898\n",
      "\n",
      "Hi, how are you?\n",
      "\n"
     ]
    }
   ],
   "source": [
    "iphone.send_text()"
   ]
  },
  {
   "cell_type": "code",
   "execution_count": 46,
   "id": "4c263274",
   "metadata": {},
   "outputs": [],
   "source": [
    "androidVersionDB = [9, 10, 11, 12, 13]\n",
    "androidModelDB = ['Galaxy S21', 'Galaxy S20', 'Galaxy S10', 'Pixel 5', 'Pixel 4']\n",
    "androidTypeDB = ['Standard', 'Plus', 'Ultra']\n",
    "androidStorageCapacityDB = [64, 128, 256, 512]"
   ]
  },
  {
   "cell_type": "code",
   "execution_count": 51,
   "id": "91a523f1",
   "metadata": {},
   "outputs": [],
   "source": [
    "# Get a random AndroidPhone!\n",
    "\n",
    "android_version = random.choice(androidVersionDB)\n",
    "android_model = random.choice(androidModelDB)\n",
    "android_type = random.choice(androidTypeDB)\n",
    "android_storage_capacity = random.choice(androidStorageCapacityDB)\n",
    "my_android_phone = AndroidPhone(android_version, f\"{android_model} {android_type}\", \"Samsung\", android_storage_capacity, \"1.0\")\n"
   ]
  },
  {
   "cell_type": "code",
   "execution_count": 52,
   "id": "9f301214",
   "metadata": {},
   "outputs": [
    {
     "name": "stdout",
     "output_type": "stream",
     "text": [
      "**************************************************\n",
      "Android Specifications\n",
      "**************************************************\n",
      "Brand: Samsung\n",
      "Model: Galaxy S10 Standard (Version 1.0)\n",
      "Storage Capacity: 64GB\n",
      "OS Version: Android 11\n"
     ]
    }
   ],
   "source": [
    "my_android_phone.get_android_info()"
   ]
  },
  {
   "cell_type": "code",
   "execution_count": 53,
   "id": "0a8bd8a8",
   "metadata": {},
   "outputs": [
    {
     "name": "stdout",
     "output_type": "stream",
     "text": [
      "\n",
      "Sent from your Android phone\n",
      "To: 09165462223\n",
      "\n",
      "Who u?\n",
      "\n"
     ]
    }
   ],
   "source": [
    "my_android_phone.send_text()"
   ]
  },
  {
   "cell_type": "code",
   "execution_count": 9,
   "id": "cfcc6286",
   "metadata": {},
   "outputs": [
    {
     "name": "stdout",
     "output_type": "stream",
     "text": [
      "\n",
      "Sent from your iPhone\n",
      "To: 09177778901\n",
      "\n",
      "Hu u?? \n",
      "\n"
     ]
    }
   ],
   "source": [
    "iphone.send_text()"
   ]
  },
  {
   "cell_type": "code",
   "execution_count": 8,
   "id": "4eea5202",
   "metadata": {},
   "outputs": [
    {
     "name": "stdout",
     "output_type": "stream",
     "text": [
      "Calling.... 09175673344\n",
      "ring...ring...ring...ring...\n",
      "09175673344 has answered the call\n",
      "Currently on call with 09175673344...\n",
      "Call ended\n"
     ]
    }
   ],
   "source": [
    "iphone.call()"
   ]
  },
  {
   "cell_type": "code",
   "execution_count": 59,
   "id": "de102ce0",
   "metadata": {},
   "outputs": [
    {
     "name": "stdout",
     "output_type": "stream",
     "text": [
      "Calling.... 0917454321\n",
      "ring...ring...ring...ring...\n",
      "No answer from 0917454321\n"
     ]
    }
   ],
   "source": [
    "my_android_phone.call()"
   ]
  },
  {
   "cell_type": "code",
   "execution_count": 143,
   "id": "b409328a",
   "metadata": {},
   "outputs": [
    {
     "name": "stdout",
     "output_type": "stream",
     "text": [
      "[<class '__main__.SmartPhone'>, <class 'object'>]\n",
      "[<class '__main__.Iphone'>, <class '__main__.SmartPhone'>, <class 'object'>]\n",
      "[<class '__main__.AndroidPhone'>, <class '__main__.SmartPhone'>, <class 'object'>]\n"
     ]
    }
   ],
   "source": [
    "print(SmartPhone.mro())\n",
    "print(Iphone.mro())\n",
    "print(AndroidPhone.mro())"
   ]
  },
  {
   "attachments": {},
   "cell_type": "markdown",
   "id": "640e7660",
   "metadata": {},
   "source": [
    "# MRO Analysis of the Iphone V2 Inheritance\n",
    "\n",
    "The MRO (Method Resolution Order) of a class is the order in which Python looks for methods when it executes them.\n",
    "\n",
    "In your case, you have three classes: SmartPhone, Iphone, and AndroidPhone, all of which inherit from the object class.\n",
    "\n",
    "The MRO of the SmartPhone class is [<class 'main.SmartPhone'>, <class 'object'>], which means that Python will first look for methods in the SmartPhone class, and if it doesn't find them there, it will look in the object class.\n",
    "\n",
    "The MRO of the Iphone class is [<class 'main.Iphone'>, <class 'main.SmartPhone'>, <class 'object'>], which means that Python will first look for methods in the Iphone class, then in the SmartPhone class, and finally in the object class.\n",
    "\n",
    "The MRO of the AndroidPhone class is [<class 'main.AndroidPhone'>, <class 'main.SmartPhone'>, <class 'object'>], which means that Python will first look for methods in the AndroidPhone class, then in the SmartPhone class, and finally in the object class."
   ]
  },
  {
   "cell_type": "markdown",
   "id": "8a390fe0",
   "metadata": {},
   "source": [
    "# Hybrid Inheritance"
   ]
  },
  {
   "cell_type": "code",
   "execution_count": 38,
   "id": "46c1e575",
   "metadata": {},
   "outputs": [],
   "source": [
    "a = A('A')"
   ]
  },
  {
   "cell_type": "code",
   "execution_count": 39,
   "id": "72238c25",
   "metadata": {},
   "outputs": [
    {
     "name": "stdout",
     "output_type": "stream",
     "text": [
      "This is a function from A\n"
     ]
    }
   ],
   "source": [
    "a.fA()"
   ]
  },
  {
   "cell_type": "code",
   "execution_count": 42,
   "id": "d6d42bfe",
   "metadata": {},
   "outputs": [],
   "source": [
    "class B(A):\n",
    "    def __init__(self, _):\n",
    "        self._ = _\n",
    "    def fB(self):\n",
    "        print(f'This is a function from {self._}')"
   ]
  },
  {
   "cell_type": "code",
   "execution_count": 43,
   "id": "1eddf022",
   "metadata": {},
   "outputs": [],
   "source": [
    "b = B('B')"
   ]
  },
  {
   "cell_type": "code",
   "execution_count": 44,
   "id": "833b171e",
   "metadata": {},
   "outputs": [
    {
     "name": "stdout",
     "output_type": "stream",
     "text": [
      "This is a function from B\n"
     ]
    }
   ],
   "source": [
    "b.fB()"
   ]
  },
  {
   "cell_type": "code",
   "execution_count": 45,
   "id": "b5e30f0a",
   "metadata": {},
   "outputs": [
    {
     "name": "stdout",
     "output_type": "stream",
     "text": [
      "This is a function from B\n"
     ]
    }
   ],
   "source": [
    "b.fA()"
   ]
  },
  {
   "cell_type": "code",
   "execution_count": 47,
   "id": "f005d49f",
   "metadata": {},
   "outputs": [],
   "source": [
    "class C(B):\n",
    "    pass"
   ]
  },
  {
   "cell_type": "code",
   "execution_count": 48,
   "id": "8a5d41bc",
   "metadata": {},
   "outputs": [],
   "source": [
    "class D(A):\n",
    "    pass"
   ]
  },
  {
   "cell_type": "code",
   "execution_count": 2,
   "id": "0330c3bf",
   "metadata": {},
   "outputs": [],
   "source": [
    "class Rectangle:\n",
    "    def __init__(self, length, width):\n",
    "        self.length = length\n",
    "        self.width = width\n",
    "\n",
    "    def area(self):\n",
    "        return self.length * self.width\n",
    "\n",
    "    def perimeter(self):\n",
    "        return 2 * self.length + 2 * self.width\n",
    "\n",
    "class Square:\n",
    "    def __init__(self, length):\n",
    "        self.length = length\n",
    "\n",
    "    def area(self):\n",
    "        return self.length * self.length\n",
    "\n",
    "    def perimeter(self):\n",
    "        return 4 * self.length"
   ]
  },
  {
   "cell_type": "code",
   "execution_count": 17,
   "id": "4b59242d",
   "metadata": {},
   "outputs": [
    {
     "name": "stdout",
     "output_type": "stream",
     "text": [
      "Area of square if length is 4 = 16\n",
      "Area of rectangle if length is 2 and if width is 4 = 8\n"
     ]
    }
   ],
   "source": [
    "square = Square(4)\n",
    "print(f'Area of square if length is {square.length} = {square.area()}')\n",
    "\n",
    "rectangle = Rectangle(2,4)\n",
    "print(f'Area of rectangle if length is {rectangle.length} and if width is {rectangle.width} = {rectangle.area()}')"
   ]
  },
  {
   "cell_type": "code",
   "execution_count": 18,
   "id": "ca9e3f31",
   "metadata": {},
   "outputs": [],
   "source": [
    "class Rectangle:\n",
    "    def __init__(self, length, width):\n",
    "        self.length = length\n",
    "        self.width = width\n",
    "\n",
    "    def area(self):\n",
    "        return self.length * self.width\n",
    "\n",
    "    def perimeter(self):\n",
    "        return 2 * self.length + 2 * self.width\n",
    "\n",
    "# Here we declare that the Square class inherits from the Rectangle class\n",
    "class Square(Rectangle):\n",
    "    def __init__(self, length):\n",
    "        super().__init__(length, length)"
   ]
  },
  {
   "cell_type": "code",
   "execution_count": 20,
   "id": "9599c355",
   "metadata": {},
   "outputs": [
    {
     "name": "stdout",
     "output_type": "stream",
     "text": [
      "The are of the square if length is 4 = 16\n"
     ]
    }
   ],
   "source": [
    "square = Square(4)\n",
    "print(f'The are of the square if length is {square.length} = {square.area()}')"
   ]
  },
  {
   "cell_type": "code",
   "execution_count": 35,
   "id": "aedb5ebb",
   "metadata": {},
   "outputs": [],
   "source": [
    "class Square(Rectangle):\n",
    "    def __init__(self, length):\n",
    "        super().__init__(length, length)\n",
    "\n",
    "class Cube(Square):\n",
    "    def surface_area(self):\n",
    "        face_area = super().area()\n",
    "        return face_area * 6\n",
    "\n",
    "    def volume(self):\n",
    "        face_area = super().area()\n",
    "        return face_area * self.length\n"
   ]
  },
  {
   "cell_type": "code",
   "execution_count": 36,
   "id": "c7688484",
   "metadata": {},
   "outputs": [
    {
     "name": "stdout",
     "output_type": "stream",
     "text": [
      "Volume of cube if face area is 54 = 27\n"
     ]
    }
   ],
   "source": [
    "cube = Cube(3)\n",
    "cube.surface_area()\n",
    "\n",
    "print(f'Volume of cube if face area is {cube.surface_area()} = {cube.volume()}')"
   ]
  },
  {
   "attachments": {},
   "cell_type": "markdown",
   "id": "b599c78d",
   "metadata": {},
   "source": [
    "# Manual Checking\n",
    "\n",
    "Let's start by using the formula for the surface area of a cube, which is:\n",
    "\n",
    "S = 6a^2\n",
    "\n",
    "where S is the surface area and a is the length of an edge.\n",
    "\n",
    "We are given that the surface area is 54, so we can plug that in and solve for a:\n",
    "\n",
    "54 = 6a^2\n",
    "\n",
    "9 = a^2\n",
    "\n",
    "a = 3\n",
    "\n",
    "Now that we know the length of an edge is 3, we can find the volume of the cube using the formula:\n",
    "\n",
    "V = a^3\n",
    "\n",
    "V = 3^3\n",
    "\n",
    "V = 27\n",
    "\n",
    "Therefore, the volume of the cube is 27 cubic units."
   ]
  },
  {
   "cell_type": "code",
   "execution_count": null,
   "id": "7213050e",
   "metadata": {},
   "outputs": [],
   "source": []
  },
  {
   "cell_type": "code",
   "execution_count": null,
   "id": "fb950ba8",
   "metadata": {},
   "outputs": [],
   "source": []
  }
 ],
 "metadata": {
  "kernelspec": {
   "display_name": "Python 3 (ipykernel)",
   "language": "python",
   "name": "python3"
  },
  "language_info": {
   "codemirror_mode": {
    "name": "ipython",
    "version": 3
   },
   "file_extension": ".py",
   "mimetype": "text/x-python",
   "name": "python",
   "nbconvert_exporter": "python",
   "pygments_lexer": "ipython3",
   "version": "3.9.12"
  }
 },
 "nbformat": 4,
 "nbformat_minor": 5
}
