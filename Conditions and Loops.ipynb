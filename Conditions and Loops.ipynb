{
 "cells": [
  {
   "cell_type": "code",
   "execution_count": 1,
   "id": "825e6e9f",
   "metadata": {},
   "outputs": [
    {
     "name": "stdout",
     "output_type": "stream",
     "text": [
      "3 is a positive number.\n",
      "This is always printed.\n"
     ]
    }
   ],
   "source": [
    "# If the number is positive, we print an appropriate message\n",
    "\n",
    "num = 3\n",
    "\n",
    "if num > 0:\n",
    "    print(num, \"is a positive number.\")\n",
    "    print(\"This is always printed.\")\n",
    "\n",
    "num = -1\n",
    "\n",
    "if num > 0:\n",
    "    print(num, \"is a positive number.\")\n",
    "    print(\"This is also always printed.\")"
   ]
  },
  {
   "cell_type": "code",
   "execution_count": 2,
   "id": "9014fa1d",
   "metadata": {},
   "outputs": [
    {
     "name": "stdout",
     "output_type": "stream",
     "text": [
      "Negative number\n"
     ]
    }
   ],
   "source": [
    "# Program checks if the number is positive or negative\n",
    "# And displays an appropriate message\n",
    "\n",
    "num = -3\n",
    "\n",
    "# Try these two variations as well. \n",
    "# num = -5\n",
    "# num = 0\n",
    "\n",
    "if num >= 0:\n",
    "    print(\"Positive or Zero\")\n",
    "else:\n",
    "    print(\"Negative number\")"
   ]
  },
  {
   "cell_type": "code",
   "execution_count": 1,
   "id": "99e861de",
   "metadata": {},
   "outputs": [
    {
     "name": "stdout",
     "output_type": "stream",
     "text": [
      "Zero\n"
     ]
    }
   ],
   "source": [
    "'''In this program, \n",
    "we check if the number is positive or\n",
    "negative or zero and \n",
    "display an appropriate message'''\n",
    "\n",
    "num = 0\n",
    "\n",
    "# Try these two variations as well:\n",
    "# num = 0\n",
    "# num = -4.5\n",
    "\n",
    "if num > 0:\n",
    "    print(\"Positive number\")\n",
    "elif num == 0:\n",
    "    print(\"Zero\")\n",
    "else:\n",
    "    print(\"Negative number\")"
   ]
  },
  {
   "cell_type": "code",
   "execution_count": 4,
   "id": "657a00e6",
   "metadata": {},
   "outputs": [
    {
     "name": "stdout",
     "output_type": "stream",
     "text": [
      "Enter a number: 5\n",
      "Positive number\n"
     ]
    }
   ],
   "source": [
    "'''In this program, we input a number\n",
    "check if the number is positive or\n",
    "negative or zero and display\n",
    "an appropriate message\n",
    "This time we use nested if statement'''\n",
    "\n",
    "num = float(input(\"Enter a number: \"))\n",
    "\n",
    "if num >= 0:\n",
    "    if num == 0:\n",
    "        print(\"Zero\")\n",
    "    else:\n",
    "        print(\"Positive number\")\n",
    "else:\n",
    "    print(\"Negative number\")"
   ]
  },
  {
   "cell_type": "code",
   "execution_count": 22,
   "id": "0e9a1294",
   "metadata": {},
   "outputs": [
    {
     "name": "stdout",
     "output_type": "stream",
     "text": [
      "The sum is 52\n"
     ]
    }
   ],
   "source": [
    "# Program to find the sum of all numbers stored in a list\n",
    "\n",
    "# List of numbers\n",
    "numbers = [6, 5, 7, 8, 4, 2, 5, 4, 11]\n",
    "# print(type(numbers))\n",
    "\n",
    "# variable to store the sum\n",
    "sum = 0\n",
    "\n",
    "# iterate over the list\n",
    "for val in numbers:\n",
    "    sum = sum+val \n",
    "\n",
    "print(\"The sum is\", sum)"
   ]
  },
  {
   "cell_type": "code",
   "execution_count": 10,
   "id": "8c12beb9",
   "metadata": {},
   "outputs": [
    {
     "name": "stdout",
     "output_type": "stream",
     "text": [
      "<class 'range'>\n",
      "[0, 1, 2, 3, 4, 5, 6, 7, 8, 9]\n",
      "[2, 3, 4, 5, 6, 7]\n",
      "[0, 3, 6, 9, 12, 15, 18, 21]\n"
     ]
    }
   ],
   "source": [
    "rnge = range(10)\n",
    "\n",
    "print(type(rnge))\n",
    "\n",
    "print(list(range(10)))\n",
    "\n",
    "print(list(range(2, 8)))\n",
    "\n",
    "print(list(range(0, 23, 3)))"
   ]
  },
  {
   "cell_type": "code",
   "execution_count": 6,
   "id": "77736f23",
   "metadata": {},
   "outputs": [
    {
     "name": "stdout",
     "output_type": "stream",
     "text": [
      "I like pop\n",
      "I like rock\n",
      "I like jazz\n"
     ]
    }
   ],
   "source": [
    "# Program to iterate through a list using indexing\n",
    "\n",
    "genre = ['pop', 'rock', 'jazz']\n",
    "\n",
    "# iterate over the list using index\n",
    "for i in range(len(genre)):\n",
    "    print(\"I like\", genre[i])"
   ]
  },
  {
   "cell_type": "code",
   "execution_count": 30,
   "id": "6f389191",
   "metadata": {},
   "outputs": [
    {
     "name": "stdout",
     "output_type": "stream",
     "text": [
      "0\n",
      "1\n",
      "5\n",
      "20\n",
      "35\n",
      "44\n",
      "345\n",
      "22\n",
      "34\n",
      "44\n",
      "No items left.\n"
     ]
    }
   ],
   "source": [
    "digits = [0, 1, 5, 20, 35, 44, 345, 22, 34, 44]\n",
    "\n",
    "for i in digits:\n",
    "    print(i)\n",
    "else:\n",
    "    print(\"No items left.\")"
   ]
  },
  {
   "cell_type": "code",
   "execution_count": 28,
   "id": "abd76628",
   "metadata": {},
   "outputs": [
    {
     "name": "stdout",
     "output_type": "stream",
     "text": [
      "No entry with that name found.\n"
     ]
    }
   ],
   "source": [
    "# program to display student's marks from record\n",
    "student_name = 'Smith'\n",
    "\n",
    "marks = {'James': 90, 'Jules': 55, 'Arthur': 77}\n",
    "\n",
    "for student in marks:\n",
    "    if student == student_name:\n",
    "        print(marks[student])\n",
    "        break\n",
    "else:\n",
    "    print('No entry with that name found.')"
   ]
  },
  {
   "cell_type": "code",
   "execution_count": 10,
   "id": "75cd9c97",
   "metadata": {},
   "outputs": [
    {
     "name": "stdout",
     "output_type": "stream",
     "text": [
      "a is maximum.\n"
     ]
    }
   ],
   "source": [
    "a = 2000\n",
    "b = 365\n",
    "print(\"a is maximum.\") if a>b else print(\"b is maximum.\")"
   ]
  },
  {
   "cell_type": "code",
   "execution_count": 45,
   "id": "f24d394e",
   "metadata": {},
   "outputs": [
    {
     "name": "stdout",
     "output_type": "stream",
     "text": [
      "Both are equal.\n"
     ]
    }
   ],
   "source": []
  },
  {
   "cell_type": "code",
   "execution_count": 16,
   "id": "2ccd5bd1",
   "metadata": {},
   "outputs": [
    {
     "name": "stdout",
     "output_type": "stream",
     "text": [
      "Age is correct as mentioned\n",
      "Below age\n",
      "Teen\n",
      "Under age limit\n"
     ]
    }
   ],
   "source": [
    "# Python program to illustrate different if conditions\n",
    "age = 16\n",
    "limit = 25\n",
    "\n",
    "if (age == 16):\n",
    "    print('Age is correct as mentioned')\n",
    "\n",
    "if (age < 25):\n",
    "    print('Below age')\n",
    "\n",
    "if (age > 10):\n",
    "    print('Teen')\n",
    "\n",
    "if (age <= limit):\n",
    "    print('Under age limit')\n",
    "\n",
    "if (age >= limit):  # will not be printed because the condition is FALSE\n",
    "    print('Above limit')"
   ]
  },
  {
   "cell_type": "code",
   "execution_count": 6,
   "id": "42a41799",
   "metadata": {},
   "outputs": [
    {
     "name": "stdout",
     "output_type": "stream",
     "text": [
      "Enter a number:5\n",
      "Number is Odd\n"
     ]
    }
   ],
   "source": [
    "# Python program to illustrate if the number is even using if statement\n",
    "num = int(input('Enter a number:'))\n",
    "\n",
    "if (num%2 == 0):\n",
    "    print('Number is Even')\n",
    "else:\n",
    "    print('Number is Odd')"
   ]
  },
  {
   "cell_type": "code",
   "execution_count": 20,
   "id": "bd816d3a",
   "metadata": {},
   "outputs": [
    {
     "name": "stdout",
     "output_type": "stream",
     "text": [
      "Science marks greater than History\n"
     ]
    }
   ],
   "source": [
    "# Python program to compare between subject marks\n",
    "history = 45\n",
    "science = 57\n",
    "\n",
    "if (history > science):\n",
    "     print('History marks greater than Science')\n",
    "else:\n",
    "     print('Science marks greater than History')"
   ]
  },
  {
   "cell_type": "code",
   "execution_count": 15,
   "id": "fec88c01",
   "metadata": {},
   "outputs": [
    {
     "name": "stdout",
     "output_type": "stream",
     "text": [
      "Enter marks from 0-50: 41\n",
      "Student passed with A Grade\n"
     ]
    }
   ],
   "source": [
    "# Python program to check student grade based on the marks\n",
    "marks = int(input('Enter marks from 0-50: '))\n",
    "\n",
    "if (marks<20):\n",
    "    print('Student Failed')\n",
    "elif (marks>20 and marks<40):\n",
    "    print('Student passed with B Grade')\n",
    "else:\n",
    "    print('Student passed with A Grade')"
   ]
  },
  {
   "cell_type": "code",
   "execution_count": 11,
   "id": "3f114e9d",
   "metadata": {},
   "outputs": [
    {
     "name": "stdout",
     "output_type": "stream",
     "text": [
      "Enter a number: 3\n",
      "Number is positive\n"
     ]
    }
   ],
   "source": [
    "# Python program to check sign of a user entered number\n",
    "val = int(input('Enter a number: '))\n",
    "\n",
    "if val>=0:\n",
    "     if val == 0:\n",
    "          print('Number is Zero')\n",
    "     else:\n",
    "          print('Number is positive')\n",
    "else:\n",
    "     print('Number is negative')"
   ]
  },
  {
   "cell_type": "code",
   "execution_count": 18,
   "id": "07ea2ed6",
   "metadata": {},
   "outputs": [
    {
     "name": "stdout",
     "output_type": "stream",
     "text": [
      "Hello Rocky\n"
     ]
    }
   ],
   "source": [
    "name = 'Rocky'\n",
    "\n",
    "if name == 'Rocky': print('Hello Rocky')\n",
    "else: print('What is your name?')"
   ]
  },
  {
   "cell_type": "code",
   "execution_count": 57,
   "id": "b4236df4",
   "metadata": {},
   "outputs": [
    {
     "name": "stdout",
     "output_type": "stream",
     "text": [
      "What is your name?\n"
     ]
    }
   ],
   "source": [
    "name = 'Tommy'\n",
    "\n",
    "print('Hello Rocky') if name == 'Rocky' else print('What is your name?')"
   ]
  },
  {
   "cell_type": "code",
   "execution_count": 28,
   "id": "7ef0d717",
   "metadata": {},
   "outputs": [
    {
     "name": "stdout",
     "output_type": "stream",
     "text": [
      "Values are equal\n"
     ]
    }
   ],
   "source": [
    "# Python program to check if 2 numbers are equal or not using if statement\n",
    "a = 25\n",
    "b = 25\n",
    "\n",
    "if a == b:\n",
    "    print('Values are equal')\n"
   ]
  },
  {
   "cell_type": "code",
   "execution_count": 9,
   "id": "77ed994b",
   "metadata": {},
   "outputs": [
    {
     "name": "stdout",
     "output_type": "stream",
     "text": [
      "Enter any character: z\n",
      "Entered character is not a vowel\n"
     ]
    }
   ],
   "source": [
    "\n",
    "# Python program to demonstrate if…else\n",
    "ch = input('Enter any character: ')\n",
    "vow = 'aeiouAEIOU'\n",
    "\n",
    "if ch in vow:\n",
    "     print(\"Entered character is a vowel\")\n",
    "else:\n",
    "     print(\"Entered character is not a vowel\")"
   ]
  },
  {
   "cell_type": "code",
   "execution_count": 63,
   "id": "65ffe117",
   "metadata": {},
   "outputs": [
    {
     "name": "stdout",
     "output_type": "stream",
     "text": [
      "Enter a number: 5\n",
      "Positive Number found\n"
     ]
    }
   ],
   "source": [
    "\n",
    "# Python program to check if number is positive or negative\n",
    "num = float(input('Enter a number: '))\n",
    "\n",
    "if num >= 0:\n",
    "     print('Positive Number found')\n",
    "else:\n",
    "     print('Negative Number found')\n"
   ]
  },
  {
   "cell_type": "code",
   "execution_count": 31,
   "id": "8cbc9055",
   "metadata": {},
   "outputs": [
    {
     "name": "stdout",
     "output_type": "stream",
     "text": [
      "Enter your age: 31\n",
      "Eligible for Voting\n"
     ]
    }
   ],
   "source": [
    "\n",
    "# Python program to check voting eligibility\n",
    "age = int(input(\"Enter your age: \"))\n",
    "\n",
    "if age >=18:\n",
    "     print(\"Eligible for Voting\")\n",
    "else:\n",
    "     print(\"Not eligible for voting\")\n"
   ]
  },
  {
   "cell_type": "code",
   "execution_count": 32,
   "id": "6b771f3b",
   "metadata": {},
   "outputs": [
    {
     "name": "stdout",
     "output_type": "stream",
     "text": [
      "Toy price is Less than Rs 500\n"
     ]
    }
   ],
   "source": [
    "\n",
    "# Python program to indicate toy price using if…elif…else\n",
    "toy_price = 380\n",
    "\n",
    "if toy_price > 500:\n",
    "     print('Toy price is Greater than Rs 500')\n",
    "elif toy_price < 500:\n",
    "     print('Toy price is Less than Rs 500')\n",
    "else:\n",
    "     print('Toy price is Rs 500')\n"
   ]
  },
  {
   "cell_type": "code",
   "execution_count": 43,
   "id": "fc83f194",
   "metadata": {},
   "outputs": [
    {
     "name": "stdout",
     "output_type": "stream",
     "text": [
      "Enter n: 5678\n",
      "The sum is 16122681\n"
     ]
    }
   ],
   "source": [
    "# Program to add natural\n",
    "# numbers up to \n",
    "# sum = 1+2+3+...+n\n",
    "\n",
    "# To take input from the user,\n",
    "n = int(input(\"Enter n: \"))\n",
    "\n",
    "# n = 10\n",
    "\n",
    "# initialize sum and counter\n",
    "sum = 0\n",
    "i = 1\n",
    "\n",
    "while i <= n:\n",
    "    sum = sum + i\n",
    "    i = i+1    # update counter\n",
    "\n",
    "# print the sum\n",
    "print(\"The sum is\", sum)"
   ]
  },
  {
   "cell_type": "code",
   "execution_count": 34,
   "id": "1e5e1ffe",
   "metadata": {},
   "outputs": [
    {
     "name": "stdout",
     "output_type": "stream",
     "text": [
      "Inside loop\n",
      "Inside loop\n",
      "Inside loop\n",
      "Inside else\n"
     ]
    }
   ],
   "source": [
    "'''Example to illustrate\n",
    "the use of else statement\n",
    "with the while loop'''\n",
    "\n",
    "counter = 0\n",
    "\n",
    "while counter < 3:\n",
    "    print(\"Inside loop\")\n",
    "    counter = counter + 1\n",
    "else:\n",
    "    print(\"Inside else\")"
   ]
  },
  {
   "cell_type": "code",
   "execution_count": null,
   "id": "e8b9785a",
   "metadata": {},
   "outputs": [],
   "source": []
  }
 ],
 "metadata": {
  "kernelspec": {
   "display_name": "Python 3 (ipykernel)",
   "language": "python",
   "name": "python3"
  },
  "language_info": {
   "codemirror_mode": {
    "name": "ipython",
    "version": 3
   },
   "file_extension": ".py",
   "mimetype": "text/x-python",
   "name": "python",
   "nbconvert_exporter": "python",
   "pygments_lexer": "ipython3",
   "version": "3.9.12"
  }
 },
 "nbformat": 4,
 "nbformat_minor": 5
}
