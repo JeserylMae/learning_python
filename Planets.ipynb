{
 "cells": [
  {
   "cell_type": "markdown",
   "id": "6bfc70bc",
   "metadata": {},
   "source": [
    "# Simple (C)reate (R)ead (U)pdate (D)elete with a JSON-like DB"
   ]
  },
  {
   "cell_type": "code",
   "execution_count": 23,
   "id": "5a3e135e",
   "metadata": {},
   "outputs": [],
   "source": [
    "#Initializes the Planet database that performs the overall task\n",
    "\n",
    "class PlanetDatabase:\n",
    "    def __init__(self):\n",
    "        self.planets_database = {}\n",
    "    \n",
    "    #Create\n",
    "    def add_planet(self):\n",
    "        self.show_planets()\n",
    "        name = input('What is the name of the planet you wish to add? ')\n",
    "        mass = input(f'What is the mass of this planet {name} ')\n",
    "        self.planets_database[name] = mass\n",
    "        print(f'Successfully added planet {name} with a mass of {mass} to the planet database')\n",
    "        \n",
    "    #Read\n",
    "    def show_planets(self):\n",
    "        span = 40\n",
    "        highest_mass_planet, highest_mass = max(self.planets_database.items(), key=lambda o: o[1])\n",
    "        print('='*span)\n",
    "        print('-Planet Database-')\n",
    "        print(f'Current Planets: {len(self.planets_database)}')\n",
    "        print(f'Current planet registered with highest mass:\\n{highest_mass_planet} ({highest_mass})')\n",
    "        print('='*span)\n",
    "        for index, (name, mass) in enumerate(self.planets_database.items()):\n",
    "            print(f'#{index} | {name} | {mass}')\n",
    "            print('-'*span)\n",
    "    \n",
    "    #Update\n",
    "    def update_planet(self):\n",
    "        self.show_planets()\n",
    "        try: \n",
    "            toUpdate = input('What planet do you wish to change? ')\n",
    "        except:\n",
    "            print('That planet does not exist!')\n",
    "\n",
    "        new_planet_name = input('What is the name of your new planet? ')\n",
    "        new_planet_mass = input('What is the mass of this new planet? ')\n",
    "        self.planets_database[new_planet_name] = new_planet_mass\n",
    "        print(f'{toUpdate} is now changed to {new_planet_name} that has a mass of {new_planet_mass}')\n",
    "        del self.planets_database[toUpdate]\n",
    "        self.show_planets()\n",
    "    \n",
    "    #Delete\n",
    "    def remove_planet(self):\n",
    "        self.show_planets()\n",
    "        toDelete = input('What planet do you wish to delete?')\n",
    "        del self.planets_database[toDelete]\n",
    "        print(f'{toDelete} is now deleted!')\n",
    "        self.show_planets()\n",
    "    \n",
    "    @property\n",
    "    def planets(self):\n",
    "        return self.planets_database"
   ]
  },
  {
   "cell_type": "code",
   "execution_count": 24,
   "id": "26eb9a65",
   "metadata": {},
   "outputs": [],
   "source": [
    "planetDB = PlanetDatabase()"
   ]
  },
  {
   "cell_type": "code",
   "execution_count": 25,
   "id": "d17eba85",
   "metadata": {},
   "outputs": [
    {
     "name": "stdout",
     "output_type": "stream",
     "text": [
      "Successfully added planet Earth with a mass of 5000 to the planet database\n"
     ]
    }
   ],
   "source": [
    "planetDB.add_planet()"
   ]
  },
  {
   "cell_type": "code",
   "execution_count": 26,
   "id": "fe6d1fa1",
   "metadata": {},
   "outputs": [
    {
     "name": "stdout",
     "output_type": "stream",
     "text": [
      "Successfully added planet Venus with a mass of 4500 to the planet database\n"
     ]
    }
   ],
   "source": [
    "planetDB.add_planet()"
   ]
  },
  {
   "cell_type": "code",
   "execution_count": 27,
   "id": "9406fda7",
   "metadata": {},
   "outputs": [
    {
     "name": "stdout",
     "output_type": "stream",
     "text": [
      "Successfully added planet Mars with a mass of 7000 to the planet database\n"
     ]
    }
   ],
   "source": [
    "planetDB.add_planet()"
   ]
  },
  {
   "cell_type": "code",
   "execution_count": 28,
   "id": "543ec76d",
   "metadata": {},
   "outputs": [
    {
     "name": "stdout",
     "output_type": "stream",
     "text": [
      "========================================\n",
      "-Planet Database-\n",
      "Current Planets: 3\n",
      "Current planet registered with highest mass:\n",
      "Mars (7000)\n",
      "========================================\n",
      "#0 | Earth | 5000\n",
      "----------------------------------------\n",
      "#1 | Venus | 4500\n",
      "----------------------------------------\n",
      "#2 | Mars | 7000\n",
      "----------------------------------------\n"
     ]
    }
   ],
   "source": [
    "planetDB.show_planets()"
   ]
  },
  {
   "cell_type": "code",
   "execution_count": 30,
   "id": "16119999",
   "metadata": {},
   "outputs": [
    {
     "name": "stdout",
     "output_type": "stream",
     "text": [
      "Mars is now deleted!\n",
      "========================================\n",
      "-Planet Database-\n",
      "Current Planets: 2\n",
      "Current planet registered with highest mass:\n",
      "Earth (5000)\n",
      "========================================\n",
      "#0 | Earth | 5000\n",
      "----------------------------------------\n",
      "#1 | Venus | 4500\n",
      "----------------------------------------\n"
     ]
    }
   ],
   "source": [
    "planetDB.remove_planet()"
   ]
  },
  {
   "cell_type": "code",
   "execution_count": 15,
   "id": "f977cd10",
   "metadata": {},
   "outputs": [
    {
     "name": "stdout",
     "output_type": "stream",
     "text": [
      "========================================\n",
      "-Planet Database-\n",
      "Current Planets: 1\n",
      "Current planet registered with highest mass:\n",
      "Earth (5000)\n",
      "========================================\n",
      "#0 | Earth | 5000\n",
      "----------------------------------------\n",
      "Earth is now changed to 4000 that has a mass of 7000\n",
      "========================================\n",
      "-Planet Database-\n",
      "Current Planets: 1\n",
      "Current planet registered with highest mass:\n",
      "4000 (7000)\n",
      "========================================\n",
      "#0 | 4000 | 7000\n",
      "----------------------------------------\n"
     ]
    }
   ],
   "source": [
    "planetDB.update_planet()"
   ]
  },
  {
   "cell_type": "code",
   "execution_count": 9,
   "id": "e30a070c",
   "metadata": {},
   "outputs": [
    {
     "data": {
      "text/plain": [
       "{'Earth': '5500', 'Jupiter': '9000'}"
      ]
     },
     "execution_count": 9,
     "metadata": {},
     "output_type": "execute_result"
    }
   ],
   "source": [
    "planetDB.planets"
   ]
  }
 ],
 "metadata": {
  "kernelspec": {
<<<<<<< HEAD
   "display_name": "Python 3.10.7 64-bit",
=======
   "display_name": "Python 3.9.12 ('projects2022')",
>>>>>>> a432193e321734da2f2df63c9ab2302f8c9ef5c7
   "language": "python",
   "name": "python3"
  },
  "language_info": {
   "codemirror_mode": {
    "name": "ipython",
    "version": 3
   },
   "file_extension": ".py",
   "mimetype": "text/x-python",
   "name": "python",
   "nbconvert_exporter": "python",
   "pygments_lexer": "ipython3",
<<<<<<< HEAD
   "version": "3.10.7"
  },
  "vscode": {
   "interpreter": {
    "hash": "1a1f74a05af2414e0cd9206734455d95d0ac7e7cc38d789f01883c77e83e13de"
=======
   "version": "3.9.12"
  },
  "vscode": {
   "interpreter": {
    "hash": "caba5fb2e65e5cd320935daeb5a23cf1221c4ea11b88a6babfa283dbfc6ad08a"
>>>>>>> a432193e321734da2f2df63c9ab2302f8c9ef5c7
   }
  }
 },
 "nbformat": 4,
 "nbformat_minor": 5
}
