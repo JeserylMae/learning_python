{
 "cells": [
  {
   "attachments": {},
   "cell_type": "markdown",
   "metadata": {},
   "source": [
    "# Data Structures and Collections - 002"
   ]
  },
  {
   "cell_type": "markdown",
   "metadata": {},
   "source": [
    "## List"
   ]
  },
  {
   "cell_type": "code",
   "execution_count": 28,
   "metadata": {},
   "outputs": [
    {
     "name": "stdout",
     "output_type": "stream",
     "text": [
      "[1, 2, 3, 4, 5]\n",
      "<class 'list'>\n"
     ]
    }
   ],
   "source": [
    "myList = [1, 2, 3, 4, 5]\n",
    "\n",
    "print(myList)\n",
    "print(type(myList))"
   ]
  },
  {
   "cell_type": "code",
   "execution_count": 29,
   "metadata": {},
   "outputs": [
    {
     "name": "stdout",
     "output_type": "stream",
     "text": [
      "Length of the list: 3\n",
      "Last item in the list: Cherry\n"
     ]
    }
   ],
   "source": [
    "myList = [\"RedApple\", \"YellowBanana\", \"RedCherry\"]\n",
    "\n",
    "lengthOfList = len(myList)\n",
    "print(f\"Length of the list: {lengthOfList}\")\n",
    "print(f\"Last item in the list: {myList[lengthOfList-1]}\")"
   ]
  },
  {
   "cell_type": "code",
   "execution_count": 116,
   "metadata": {},
   "outputs": [
    {
     "name": "stdout",
     "output_type": "stream",
     "text": [
      "1\n",
      "8\n"
     ]
    }
   ],
   "source": [
    "myList = [1, 2, 3, 4, 5, 7, 8]\n",
    "\n",
    "firstItemInList = myList[0]\n",
    "lastItemInList = myList[-1]\n",
    "\n",
    "print(firstItemInList)\n",
    "print(lastItemInList)"
   ]
  },
  {
   "cell_type": "code",
   "execution_count": 94,
   "metadata": {},
   "outputs": [
    {
     "name": "stdout",
     "output_type": "stream",
     "text": [
      "[1, 2, 3, 4, 5]\n",
      "5\n"
     ]
    }
   ],
   "source": [
    "neg_out = myList[-1]\n",
    "\n",
    "print(myList)\n",
    "print(neg_out)"
   ]
  },
  {
   "cell_type": "code",
   "execution_count": 97,
   "metadata": {},
   "outputs": [
    {
     "name": "stdout",
     "output_type": "stream",
     "text": [
      "[1, 2, 3, 4, 5]\n",
      "4\n"
     ]
    }
   ],
   "source": [
    "neg_out = myList[-2]\n",
    "\n",
    "print(myList)\n",
    "print(neg_out)"
   ]
  },
  {
   "cell_type": "code",
   "execution_count": 98,
   "metadata": {},
   "outputs": [
    {
     "name": "stdout",
     "output_type": "stream",
     "text": [
      "[1, 2, 3, 4, 5]\n",
      "3\n"
     ]
    }
   ],
   "source": [
    "neg_out = myList[-3]\n",
    "\n",
    "print(myList)\n",
    "print(neg_out)"
   ]
  },
  {
   "cell_type": "code",
   "execution_count": 34,
   "metadata": {},
   "outputs": [
    {
     "name": "stdout",
     "output_type": "stream",
     "text": [
      "['Apple', 55, True]\n",
      "Apple\n",
      "<class 'str'>\n"
     ]
    }
   ],
   "source": [
    "myList = [\"SugarCane\", 55, True]\n",
    "\n",
    "print(myList)\n",
    "print(myList[0])\n",
    "print(type(myList[0]))"
   ]
  },
  {
   "cell_type": "code",
   "execution_count": 35,
   "metadata": {},
   "outputs": [
    {
     "name": "stdout",
     "output_type": "stream",
     "text": [
      "['Apple', 55, True]\n",
      "<class 'int'>\n"
     ]
    }
   ],
   "source": [
    "myList = [\"SugarCane\", 55, True]\n",
    "\n",
    "print(myList)\n",
    "\n",
    "x = myList[1]\n",
    "print(type(x))"
   ]
  },
  {
   "cell_type": "code",
   "execution_count": 43,
   "metadata": {},
   "outputs": [
    {
     "name": "stdout",
     "output_type": "stream",
     "text": [
      "3\n",
      "2\n"
     ]
    }
   ],
   "source": [
    "myList = [\"SugarCane\", 55, True]\n",
    "\n",
    "lengthOfList = len(myList)\n",
    "maxIndexValue = len(myList)-1\n",
    "\n",
    "print(lengthOfList)\n",
    "print(maxIndexValue)"
   ]
  },
  {
   "cell_type": "code",
   "execution_count": 1,
   "metadata": {},
   "outputs": [
    {
     "name": "stdout",
     "output_type": "stream",
     "text": [
      "5\n"
     ]
    }
   ],
   "source": [
    "nums = [1, 2, 3, 4, 5]\n",
    "print(nums[-1])  # Output: 5"
   ]
  },
  {
   "cell_type": "code",
   "execution_count": 74,
   "metadata": {},
   "outputs": [
    {
     "name": "stdout",
     "output_type": "stream",
     "text": [
      "['Apple', 'W', 'o', 'w', 'Cherry']\n"
     ]
    }
   ],
   "source": [
    "fruits = ['RedApple', 'YellowBanana', 'RedCherry']\n",
    "\n",
    "fruits[1:2] = \"Wow\"\n",
    "\n",
    "print(fruits)"
   ]
  },
  {
   "cell_type": "code",
   "execution_count": 79,
   "metadata": {},
   "outputs": [
    {
     "name": "stdout",
     "output_type": "stream",
     "text": [
      "['W', 'o', 'w', 'Cherry']\n"
     ]
    }
   ],
   "source": [
    "#Having just one entry will lead to a string separated per character\n",
    "fruits = ['RedApple', 'YellowBanana', 'RedCherry']\n",
    "\n",
    "fruits[:2] = \"Wow\"\n",
    "\n",
    "print(fruits)"
   ]
  },
  {
   "cell_type": "code",
   "execution_count": 77,
   "metadata": {},
   "outputs": [
    {
     "name": "stdout",
     "output_type": "stream",
     "text": [
      "['Apple', 'test', 'wow', 'Cherry']\n"
     ]
    }
   ],
   "source": [
    "#Having more than one will generate an output as shown below\n",
    "fruits = ['RedApple', 'YellowBanana', 'RedCherry']\n",
    "\n",
    "fruits[1:2] = (\"hiho\", \"wow\")\n",
    "\n",
    "print(fruits)"
   ]
  },
  {
   "cell_type": "code",
   "execution_count": 78,
   "metadata": {},
   "outputs": [
    {
     "name": "stdout",
     "output_type": "stream",
     "text": [
      "['test', 'wow', 'Cherry']\n"
     ]
    }
   ],
   "source": [
    "#Emptying the \"Start\" position will affect the beginning or the \"Alpha\" value\n",
    "fruits = ['RedApple', 'YellowBanana', 'RedCherry']\n",
    "\n",
    "fruits[:2] = (\"hiho\", \"wow\")\n",
    "\n",
    "print(fruits)"
   ]
  },
  {
   "cell_type": "code",
   "execution_count": 80,
   "metadata": {},
   "outputs": [
    {
     "name": "stdout",
     "output_type": "stream",
     "text": [
      "['test', 'wow', 'sheesh', 'Cherry']\n"
     ]
    }
   ],
   "source": [
    "fruits = ['RedApple', 'YellowBanana', 'RedCherry']\n",
    "\n",
    "fruits[:2] = (\"hiho\", \"wow\", \"jeez\")\n",
    "\n",
    "print(fruits)"
   ]
  },
  {
   "cell_type": "code",
   "execution_count": 84,
   "metadata": {},
   "outputs": [
    {
     "name": "stdout",
     "output_type": "stream",
     "text": [
      "['test', 'wow', 'sheesh', 'Cherry']\n"
     ]
    }
   ],
   "source": [
    "fruits = ['RedApple', 'YellowBanana', 'RedCherry']\n",
    "\n",
    "fruits[:-1] = (\"hiho\", \"wow\", \"jeez\")\n",
    "\n",
    "print(fruits)"
   ]
  },
  {
   "cell_type": "code",
   "execution_count": 85,
   "metadata": {},
   "outputs": [
    {
     "name": "stdout",
     "output_type": "stream",
     "text": [
      "['test', 'wow', 'sheesh', 'Banana', 'Cherry']\n"
     ]
    }
   ],
   "source": [
    "fruits = ['RedApple', 'YellowBanana', 'RedCherry']\n",
    "\n",
    "fruits[:-2] = (\"hiho\", \"wow\", \"jeez\")\n",
    "\n",
    "print(fruits)"
   ]
  },
  {
   "cell_type": "code",
   "execution_count": 164,
   "metadata": {},
   "outputs": [
    {
     "name": "stdout",
     "output_type": "stream",
     "text": [
      "[10, 9, 8, 7, 5, 4, 3]\n",
      "[10, 9, 8, 7, 5, 4]\n",
      "[10, 9, 8, 7, 5]\n",
      "\n",
      "[2, 4, 7, 9]\n",
      "[1, 4, 8]\n",
      "\n",
      "Negative indexing with skips\n",
      "List: [1, 2, 3, 4, 5, 7, 8, 9, 10]\n",
      "0:-1:4 = [1, 5]\n"
     ]
    }
   ],
   "source": [
    "nums = [1, 2, 3, 4, 5, 7, 8, 9, 10]\n",
    "\n",
    "print(nums[-1:1:-1])\n",
    "print(nums[-1:2:-1])\n",
    "print(nums[-1:3:-1])\n",
    "\n",
    "print()\n",
    "\n",
    "print(nums[1:-1:2]) #follow the range but skips by 2s\n",
    "print(nums[0:-1:3]) #notice the numbers are skipped by 3s\n",
    "\n",
    "#The output is [1, 5] because 1 is index 0 and -1 is the omega\n",
    "#skips by 4 NEGATIVELY\n",
    "print()\n",
    "print(\"Negative indexing with skips\")\n",
    "print(f\"List: {nums}\")\n",
    "print(f\"0:-1:4 = {nums[0:-1:4]}\") "
   ]
  },
  {
   "cell_type": "code",
   "execution_count": 118,
   "metadata": {},
   "outputs": [
    {
     "name": "stdout",
     "output_type": "stream",
     "text": [
      "[8, 7, 6, 5, 4, 3, 2, 1]\n"
     ]
    }
   ],
   "source": [
    "nums = [1, 2, 3, 4, 5, 6, 7, 8]\n",
    "print(nums[::-1])  # Output: [5, 4, 3, 2, 1]\n",
    "#using double colons go through all items\n",
    "#indicating a nums[] will give an error\n",
    "\n",
    "#using a -1 provides a negative at the last argument\n",
    "#prints the entire list in reverse\n",
    "\n",
    "#having a positive 1 on the otherhand or none\n",
    "#just prints everything\n",
    "#as the value for the last colon is always set to default of 1"
   ]
  },
  {
   "cell_type": "code",
   "execution_count": 171,
   "metadata": {},
   "outputs": [
    {
     "name": "stdout",
     "output_type": "stream",
     "text": [
      "[1, 2, 3, 4, 5, 6, 7, 8, 9, 10, 11, 12]\n",
      "[1, 3, 5, 7, 9, 11]\n",
      "[1, 4, 7, 10]\n"
     ]
    }
   ],
   "source": [
    "nums = [1, 2, 3, 4, 5, 6, 7, 8, 9, 10, 11, 12]\n",
    "\n",
    "print(nums[::]) \n",
    "#using double colons go through all items\n",
    "#indicating a nums[] will give an error\n",
    "\n",
    "print(nums[::2]) \n",
    "#having double colon and 2 will give every item from the beginning\n",
    "#with every 2 steps\n",
    "\n",
    "print(nums[::3]) \n",
    "#This example with 3 gives it with every 3 steps"
   ]
  },
  {
   "cell_type": "code",
   "execution_count": 17,
   "metadata": {},
   "outputs": [
    {
     "name": "stdout",
     "output_type": "stream",
     "text": [
      "['Edword', 'Rostang', 'Alphones']\n",
      "['Edword', 'Alphones']\n",
      "['Edword']\n",
      "\n",
      "['Rostang', 'Alphones']\n",
      "['Alphones']\n",
      "[]\n",
      "\n",
      "['Edword']\n",
      "['Edword', 'Rostang']\n",
      "['Edword', 'Rostang', 'Alphones']\n",
      "['Edword', 'Rostang', 'Alphones']\n",
      "['Edword', 'Rostang', 'Alphones']\n",
      "\n",
      "['Alphones']\n",
      "['Rostang', 'Alphones']\n",
      "['Edword', 'Rostang', 'Alphones']\n",
      "['Edword', 'Rostang', 'Alphones']\n"
     ]
    }
   ],
   "source": [
    "alchemist = ['Edword', 'Rostang', 'Alphones']\n",
    "\n",
    "print(alchemist[::])\n",
    "print(alchemist[::2])\n",
    "print(alchemist[::3])\n",
    "print()\n",
    "print(alchemist[1::])\n",
    "print(alchemist[2::])\n",
    "print(alchemist[3::])\n",
    "print()\n",
    "print(alchemist[:1:])\n",
    "print(alchemist[:2:])\n",
    "print(alchemist[:3:])\n",
    "print(alchemist[:4:])\n",
    "print(alchemist[:5:])\n",
    "print()\n",
    "print(alchemist[-1::])\n",
    "print(alchemist[-2::])\n",
    "\n",
    "#Though no noticeable changes due to the len of the list < the start value.\n",
    "#If list becomes > the start value, the results can ultimtely change\n",
    "print(alchemist[-3::])\n",
    "print(alchemist[-8::])"
   ]
  },
  {
   "cell_type": "code",
   "execution_count": 19,
   "metadata": {},
   "outputs": [
    {
     "name": "stdout",
     "output_type": "stream",
     "text": [
      "[1, 2, 3, 4, 5, 6]\n",
      "[3, 2, 1, 6, 5, 4]\n"
     ]
    }
   ],
   "source": [
    "list1 = [1, 2, 3]\n",
    "list2 = [4, 5, 6]\n",
    "print(list1 + list2)  # Output: [1, 2, 3, 4, 5, 6]\n",
    "\n",
    "\n",
    "list3 = list1[::-1]\n",
    "\n",
    "print(list3 + list2[::-1])"
   ]
  },
  {
   "cell_type": "code",
   "execution_count": 6,
   "metadata": {},
   "outputs": [
    {
     "name": "stdout",
     "output_type": "stream",
     "text": [
      "[3, 4, 5]\n"
     ]
    }
   ],
   "source": [
    "nums = [1, 2, 3, 4, 5]\n",
    "print(nums[-3:])  # Output: [3, 4, 5]"
   ]
  },
  {
   "cell_type": "code",
   "execution_count": 121,
   "metadata": {},
   "outputs": [
    {
     "name": "stdout",
     "output_type": "stream",
     "text": [
      "[9, 7, 5, 3]\n"
     ]
    }
   ],
   "source": [
    "nums = [1, 2, 3, 4, 5, 6, 7, 8, 9, 10]\n",
    "print(nums[-2:1:-2])  # Output: [9, 7, 5, 3]"
   ]
  },
  {
   "cell_type": "code",
   "execution_count": 122,
   "metadata": {},
   "outputs": [
    {
     "name": "stdout",
     "output_type": "stream",
     "text": [
      "[5, 4, 3]\n"
     ]
    }
   ],
   "source": [
    "nums = [1, 2, 3, 4, 5]\n",
    "print(nums[-1:-4:-1])  # Output: [5, 4, 3]"
   ]
  },
  {
   "cell_type": "code",
   "execution_count": 18,
   "metadata": {},
   "outputs": [
    {
     "name": "stdout",
     "output_type": "stream",
     "text": [
      "!\n"
     ]
    }
   ],
   "source": [
    "string = \"Hello my dear Pythonista!\"\n",
    "print(string[-1])  # Output: \"d\""
   ]
  },
  {
   "cell_type": "code",
   "execution_count": 27,
   "metadata": {},
   "outputs": [
    {
     "name": "stdout",
     "output_type": "stream",
     "text": [
      "[1, 'hello', 3.14, True, [1, 2, 3]]\n",
      "[1, 'hello', 3.14, True, [1, 2, 3], ['Wow', 1, 55]]\n",
      "[1, 'hello', 3.14, True, [1, 2, 3]]\n",
      "[1, 'hello', 3.14, True]\n",
      "[1, 'hello', True]\n"
     ]
    }
   ],
   "source": [
    "mixed_list = [1, \"hello\", 3.14, True, [1, 2, 3]]\n",
    "print(mixed_list)\n",
    "mixed_list.append([\"Wow\", 1, int(55)])\n",
    "print(mixed_list)\n",
    "mixed_list.pop()\n",
    "print(mixed_list)\n",
    "mixed_list.pop()\n",
    "print(mixed_list)\n",
    "\n",
    "mixed_list.pop(2)\n",
    "print(mixed_list)"
   ]
  },
  {
   "cell_type": "code",
   "execution_count": 28,
   "metadata": {},
   "outputs": [
    {
     "name": "stdout",
     "output_type": "stream",
     "text": [
      "2\n"
     ]
    }
   ],
   "source": [
    "mixed_list = [1, 2, 3, 4, 1, 2, 3, 4]\n",
    "print(mixed_list.count(1))  # Output: 2"
   ]
  },
  {
   "cell_type": "code",
   "execution_count": 51,
   "metadata": {},
   "outputs": [
    {
     "name": "stdout",
     "output_type": "stream",
     "text": [
      "Count of 1: 2\n",
      "Count of hello: 1\n",
      "Count of 3.14: 2\n",
      "Count of True: 2\n",
      "Count of [1, 2, 3]: 0\n",
      "Count of [1, 2, 3, 3.14]: 0\n",
      "Count of [2, 1, 3, True, 3.14, True]: 0\n",
      "Count of [1, 2, 3, 3.4, True, True]: 1\n"
     ]
    }
   ],
   "source": [
    "mixed_list = [1, \"hello\", 3.14, True, [1, 2, 3, 3.4, True, True], 3.14, \"Hello\"]\n",
    "print(f\"Count of 1: {mixed_list.count(1)}\")  # Output: 1\n",
    "print(f\"Count of hello: {mixed_list.count('hello')}\")  # Output: 1\n",
    "print(f\"Count of 3.14: {mixed_list.count(3.14)}\")  # Output: 1\n",
    "print(f\"Count of True: {mixed_list.count(True)}\")  # Output: 1\n",
    "print(f\"Count of [1, 2, 3]: {mixed_list.count([1, 2, 3])}\")  # Output: 1\n",
    "print(f\"Count of [1, 2, 3, 3.14]: {mixed_list.count([1, 2, 3, 3.14])}\")  # Output: 1\n",
    "print(f\"Count of [2, 1, 3, True, 3.14, True]: {mixed_list.count([2, 1, 3, True, 3.14, True])}\")  # Output: 1\n",
    "print(f\"Count of [1, 2, 3, 3.4, True, True]: {mixed_list.count([1, 2, 3, 3.4, True, True])}\")  # Output: 1"
   ]
  },
  {
   "cell_type": "code",
   "execution_count": 65,
   "metadata": {},
   "outputs": [
    {
     "name": "stdout",
     "output_type": "stream",
     "text": [
      "True\n",
      "False\n",
      "True\n",
      "False\n"
     ]
    }
   ],
   "source": [
    "list1 = [1, 2, 3]\n",
    "list2 = ['a', 'b', 'c']\n",
    "\n",
    "print(1 in list1)\n",
    "print('a' in list1)\n",
    "\n",
    "print('b' in list2)\n",
    "print(3 in list2)"
   ]
  },
  {
   "cell_type": "code",
   "execution_count": 19,
   "metadata": {},
   "outputs": [
    {
     "name": "stdout",
     "output_type": "stream",
     "text": [
      "['Goccu', 'Jeveta', 'Mulba', 'Lolopics']\n",
      "['KenShi', 'Susanokuke', 'Uraku', 'Gumemu']\n",
      "\n",
      "Concatenation approach ['Goccu', 'Jeveta', 'Mulba', 'Lolopics', 'KenShi', 'Susanokuke', 'Uraku', 'Gumemu']\n",
      "\n",
      "================================AFTER EXTENDING=================================\n",
      "['Goccu', 'Jeveta', 'Mulba', 'Lolopics', 'KenShi', 'Susanokuke', 'Uraku', 'Gumemu']\n",
      "================================================================================\n",
      "\n",
      "Comparo:\n",
      "\n",
      "['Goccu', 'Jeveta', 'Mulba', 'Lolopics', 'KenShi', 'Susanokuke', 'Uraku', 'Gumemu']\n",
      "['Goccu', 'Jeveta', 'Mulba', 'Lolopics', 'KenShi', 'Susanokuke', 'Uraku', 'Gumemu']\n"
     ]
    }
   ],
   "source": [
    "# Define the original list\n",
    "heroes = ['Goccu', 'Jeveta', 'Mulba', 'Lolopics']\n",
    "print(heroes)\n",
    "\n",
    "# Define the list of characters from 'Samurai X'\n",
    "sword_fighters = ['KenShi', 'Susanokuke', 'Uraku', 'Gumemu']\n",
    "print(sword_fighters)\n",
    "\n",
    "champions = heroes + sword_fighters\n",
    "\n",
    "print()\n",
    "print(f\"Concatenation approach {champions}\")\n",
    "\n",
    "print()\n",
    "print(\"=\"*32+\"AFTER EXTENDING\"+\"=\"*33)\n",
    "\n",
    "# Extend the original list with the new elements\n",
    "heroes.extend(sword_fighters)\n",
    "\n",
    "# Print the extended list\n",
    "print(heroes)\n",
    "print(\"=\"*80)\n",
    "\n",
    "print(\"\\nComparo:\\n\")\n",
    "print(champions)\n",
    "print(heroes) #this is an extended version of dbz based on the sequence\n"
   ]
  },
  {
   "cell_type": "code",
   "execution_count": 129,
   "metadata": {},
   "outputs": [
    {
     "name": "stdout",
     "output_type": "stream",
     "text": [
      "['home', 'del', 'ctrl', 1, 2, 3]\n"
     ]
    }
   ],
   "source": [
    "#Concatenating\n",
    "j = ['home', 'del', 'ctrl']\n",
    "k = [1, 2, 3]\n",
    "\n",
    "combi = j + k\n",
    "\n",
    "print(combi)"
   ]
  },
  {
   "cell_type": "code",
   "execution_count": null,
   "metadata": {},
   "outputs": [],
   "source": [
    "#What's the main difference with extend() and using a + for lists?\n",
    "\n",
    "# When concatenating lists with the + operator, a new list is created \n",
    "# that contains all the elements from both lists. \n",
    "# The original lists are unchanged.\n",
    "\n",
    "list1 = [1, 2, 3]\n",
    "list2 = [4, 5, 6]\n",
    "list3 = list1 + list2\n",
    "print(list3)  # Output: [1, 2, 3, 4, 5, 6]\n",
    "\n",
    "# On the other hand, the .extend() method modifies the list on which it is called \n",
    "# by adding all the elements from another list to it.\n",
    "list1 = [1, 2, 3]\n",
    "list2 = [4, 5, 6]\n",
    "list1.extend(list2)\n",
    "print(list1)  # Output: [1, 2, 3, 4, 5, 6]\n",
    "\n",
    "#So, in summary, list1 + list2 creates a new list that combines the elements \n",
    "# of list1 and list2, while list1.extend(list2) \n",
    "# adds the elements of list2 to the end of list1.\n",
    "\n",
    "#It requires less lines of codes and extends the already set list\n",
    "#Concatenate uses another variable but does not directly affect an existing list.\n",
    "\n",
    "#The choice is yours and this will depend on the need and requirement.\n"
   ]
  },
  {
   "attachments": {},
   "cell_type": "markdown",
   "metadata": {},
   "source": [
    "## Tuples"
   ]
  },
  {
   "cell_type": "code",
   "execution_count": 6,
   "metadata": {},
   "outputs": [
    {
     "name": "stdout",
     "output_type": "stream",
     "text": [
      "(1, 2, 3, 4, 5)\n",
      "<class 'tuple'>\n"
     ]
    }
   ],
   "source": [
    "mytuple = (1, 2, 3, 4, 5)\n",
    "\n",
    "print(mytuple)\n",
    "print(type(mytuple))"
   ]
  },
  {
   "cell_type": "code",
   "execution_count": 7,
   "metadata": {},
   "outputs": [
    {
     "name": "stdout",
     "output_type": "stream",
     "text": [
      "1\n",
      "<class 'int'>\n"
     ]
    }
   ],
   "source": [
    "#This example shows that having no comma changes turns the data type to str\n",
    "\n",
    "mytuple2 = (1)\n",
    "\n",
    "print(mytuple2)\n",
    "print(type(mytuple2))"
   ]
  },
  {
   "cell_type": "code",
   "execution_count": 10,
   "metadata": {},
   "outputs": [
    {
     "name": "stdout",
     "output_type": "stream",
     "text": [
      "(1,)\n",
      "<class 'tuple'>\n"
     ]
    }
   ],
   "source": [
    "#This example shows that having a comma changes the data type to a tuple.\n",
    "mytuple3 = (1,)\n",
    "\n",
    "print(mytuple3)\n",
    "print(type(mytuple3))"
   ]
  },
  {
   "cell_type": "code",
   "execution_count": 175,
   "metadata": {},
   "outputs": [
    {
     "name": "stdout",
     "output_type": "stream",
     "text": [
      "(9, 7, 5, 3)\n"
     ]
    }
   ],
   "source": [
    "#Pretty much what you can do to a list is do-able with a tuple\n",
    "#Excetpt that is is unchangeable or immutable.\n",
    "\n",
    "tuple_nums = (1, 2, 3, 4, 5, 6, 7, 8, 9, 10)\n",
    "print(tuple_nums[-2:1:-2])  # Output: (9, 7, 5, 3)\n"
   ]
  },
  {
   "cell_type": "code",
   "execution_count": 178,
   "metadata": {},
   "outputs": [
    {
     "name": "stdout",
     "output_type": "stream",
     "text": [
      "(1, 2, 3, 4, 5, 6, 7, 8, 9, 10)\n",
      "(1, 2, 3, 4, 5, 6, 7, 8, 9, 10)\n"
     ]
    }
   ],
   "source": [
    "print(tuple_nums[::1]) #prints the entire tuple\n",
    "print(tuple_nums[::]) #prints the entire tuple\n",
    "\n",
    "#no difference due to the third arguement always being 1\n",
    "#this is similar to the list example"
   ]
  },
  {
   "cell_type": "code",
   "execution_count": 180,
   "metadata": {},
   "outputs": [
    {
     "name": "stdout",
     "output_type": "stream",
     "text": [
      "(1, 3, 5, 7, 9)\n",
      "(1, 4, 7, 10)\n"
     ]
    }
   ],
   "source": [
    "print(tuple_nums[::2]) \n",
    "#prints the entire tuple but with every 2s including the first index value\n",
    "\n",
    "print(tuple_nums[::3]) \n",
    "#prints the entire tuple but with every 3s including the first index value\n"
   ]
  },
  {
   "cell_type": "code",
   "execution_count": 184,
   "metadata": {},
   "outputs": [
    {
     "name": "stdout",
     "output_type": "stream",
     "text": [
      "(10, 9, 8, 7, 6, 5, 4, 3, 2, 1)\n",
      "(10, 8, 6, 4, 2)\n",
      "(10, 7, 4, 1)\n",
      "(10, 6, 2)\n",
      "(10, 5)\n"
     ]
    }
   ],
   "source": [
    "#What we can do with the list in terms of slicing is still also applicable to tuple due to their indexing.\n",
    "\n",
    "print(tuple_nums[::-1]) #reverses the tuple like the list\n",
    "print(tuple_nums[::-2]) #reverses the tuple but skips by 2\n",
    "print(tuple_nums[::-3]) #reverses the tuple but skips by 3\n",
    "print(tuple_nums[::-4]) #reverses the tuple but skips by 4\n",
    "print(tuple_nums[::-5]) #reverses the tuple but skips by 5"
   ]
  },
  {
   "cell_type": "code",
   "execution_count": 227,
   "metadata": {},
   "outputs": [
    {
     "name": "stdout",
     "output_type": "stream",
     "text": [
      "('New',)\n",
      "<class 'tuple'>\n",
      "('a', 'b', 'c')\n",
      "<class 'tuple'>\n",
      "['a', 'b', 'c']\n",
      "<class 'list'>\n",
      "['a', 'b', 'c', 'New']\n",
      "<class 'list'>\n",
      "('a', 'b', 'c', 'New')\n",
      "<class 'tuple'>\n"
     ]
    }
   ],
   "source": [
    "#This example shows that concatenating a tuple is not possible.\n",
    "#Hence, needing a workaround for it.\n",
    "tuple_item = ('New',)\n",
    "print(tuple_item)\n",
    "print(type(tuple_item))\n",
    "\n",
    "tuple_collections = ('a', 'b', 'c')\n",
    "print(tuple_collections)\n",
    "print(type(tuple_collections))\n",
    "\n",
    "x_tuple = list(tuple_collections)\n",
    "print(x_tuple)\n",
    "print(type(x_tuple))\n",
    "\n",
    "x_tuple = x_tuple + list(tuple_item)\n",
    "print(x_tuple)\n",
    "print(type(x_tuple))\n",
    "\n",
    "tuple_collections = tuple(x_tuple)\n",
    "print(tuple_collections)\n",
    "print(type(tuple_collections))"
   ]
  },
  {
   "cell_type": "markdown",
   "metadata": {},
   "source": [
    "## Sets"
   ]
  },
  {
   "cell_type": "code",
   "execution_count": 11,
   "metadata": {},
   "outputs": [
    {
     "name": "stdout",
     "output_type": "stream",
     "text": [
      "{1, 2, 3, 4, 5}\n",
      "<class 'set'>\n"
     ]
    }
   ],
   "source": [
    "myset = {1, 2, 3, 4, 5}\n",
    "\n",
    "print(myset)\n",
    "print(type(myset))"
   ]
  },
  {
   "cell_type": "code",
   "execution_count": 73,
   "metadata": {},
   "outputs": [
    {
     "name": "stdout",
     "output_type": "stream",
     "text": [
      "{True}\n",
      "{1}\n",
      "{'John', 'john'}\n",
      "{'Doe ', 'Doe'}\n"
     ]
    }
   ],
   "source": [
    "#Duplicates are not allowed in a set\n",
    "#In case of them existing, they will be negated as one item\n",
    "#Strings with different cases will be considered different due to case sensitivity\n",
    "#Hash values are not allowed in a set\n",
    "\n",
    "boolset = {True, True, True}\n",
    "\n",
    "print(boolset)\n",
    "\n",
    "boolset = {1, 1, 1}\n",
    "\n",
    "print(boolset)\n",
    "\n",
    "boolset = {\"Noj\", \"noj\"}\n",
    "\n",
    "print(boolset)\n",
    "\n",
    "boolset = {\"Dew\", \"Dew \"}\n",
    "\n",
    "print(boolset)\n"
   ]
  },
  {
   "cell_type": "code",
   "execution_count": 15,
   "metadata": {},
   "outputs": [
    {
     "name": "stdout",
     "output_type": "stream",
     "text": [
      "5\n",
      "There are currently 5 characters.\n"
     ]
    }
   ],
   "source": [
    "characters = {'Markio', 'Luji', 'Princess Townstep', 'Brodser', 'Tolds'}\n",
    "\n",
    "charLen = len(characters)\n",
    "\n",
    "print(charLen)\n",
    "# tuples cannot be accessed by indexes as they are not ordered\n",
    "\n",
    "print(f\"There are currently {charLen} characters.\")\n"
   ]
  },
  {
   "cell_type": "code",
   "execution_count": 2,
   "metadata": {},
   "outputs": [
    {
     "name": "stdout",
     "output_type": "stream",
     "text": [
      "True\n",
      "Yosshiki is now part of the gang!\n",
      "{'Brodser', 'Markio', 'Luji', 'Yosshiki', 'Princess Townstep', 'Tolds'}\n"
     ]
    }
   ],
   "source": [
    "# Initialize the set\n",
    "characters = {'Markio', 'Luji', 'Princess Townstep', 'Brodser', 'Tolds'}\n",
    "\n",
    "# Check if an element is in the set\n",
    "print('Markio' in characters)\n",
    "\n",
    "# Add an element to the set\n",
    "\n",
    "characters.add('Yosshiki')\n",
    "print(f'Yosshiki is now part of the gang!\\n{characters}')"
   ]
  },
  {
   "cell_type": "code",
   "execution_count": 3,
   "metadata": {},
   "outputs": [
    {
     "name": "stdout",
     "output_type": "stream",
     "text": [
      "Brodser has been removed!!\n",
      "{'Markio', 'Luji', 'Yosshiki', 'Princess Townstep', 'Tolds'}\n",
      "['Markio', 'Luji', 'Yosshiki', 'Princess Townstep', 'Tolds']\n"
     ]
    }
   ],
   "source": [
    "# Remove an element from the set\n",
    "to_remove = 'Brodser'\n",
    "\n",
    "characters.remove('Brodser')\n",
    "print(f'{to_remove} has been removed!!\\n{characters}')\n",
    "\n",
    "# Convert the set to a list\n",
    "characters_list = list(characters)\n",
    "print(characters_list)"
   ]
  },
  {
   "cell_type": "code",
   "execution_count": 18,
   "metadata": {},
   "outputs": [
    {
     "name": "stdout",
     "output_type": "stream",
     "text": [
      "{1, 2, 3, 4, 5, 6}\n"
     ]
    }
   ],
   "source": [
    "# Initialize the first set\n",
    "set1 = {1, 2, 3, 4}\n",
    "\n",
    "# Initialize the second set\n",
    "set2 = {3, 4, 5, 6}\n",
    "\n",
    "# Combine the sets into a new set\n",
    "combined_set = set1 | set2\n",
    "\n",
    "# Display the combined set\n",
    "print(combined_set)\n"
   ]
  },
  {
   "cell_type": "code",
   "execution_count": 19,
   "metadata": {},
   "outputs": [
    {
     "name": "stdout",
     "output_type": "stream",
     "text": [
      "{1, 2, 3, 'Mitsurugi', 4, 5, 6, 'Voldo', 'Siegfried'}\n"
     ]
    }
   ],
   "source": [
    "add_on_set = {'Mitsuj', 'Voljo', 'Friedseg'}\n",
    "\n",
    "updated_set = add_on_set | combined_set\n",
    "\n",
    "print(updated_set)"
   ]
  },
  {
   "cell_type": "code",
   "execution_count": 22,
   "metadata": {},
   "outputs": [
    {
     "name": "stdout",
     "output_type": "stream",
     "text": [
      "{1, 2, 3, 4, 5, 6}\n"
     ]
    }
   ],
   "source": [
    "# Combine the sets into a new set (using the union method)\n",
    "combined_set = set1.union(set2)\n",
    "print(combined_set)"
   ]
  },
  {
   "cell_type": "code",
   "execution_count": 21,
   "metadata": {},
   "outputs": [
    {
     "name": "stdout",
     "output_type": "stream",
     "text": [
      "{3, 4}\n",
      "{3, 4}\n"
     ]
    }
   ],
   "source": [
    "# Initialize the first set\n",
    "set1 = {1, 2, 3, 4}\n",
    "\n",
    "# Initialize the second set\n",
    "set2 = {3, 4, 5, 6}\n",
    "\n",
    "# Find the intersection of the two sets (using the intersection operator)\n",
    "intersection = set1 & set2\n",
    "print(intersection)\n",
    "\n",
    "# Find the intersection of the two sets (using the intersection method)\n",
    "intersection = set1.intersection(set2)\n",
    "print(intersection)\n"
   ]
  },
  {
   "cell_type": "code",
   "execution_count": 39,
   "metadata": {},
   "outputs": [
    {
     "name": "stdout",
     "output_type": "stream",
     "text": [
      "{1, 3}\n"
     ]
    }
   ],
   "source": [
    "#You can remove an item in a set using the remove method\n",
    "#This method only takes one argument\n",
    "my_set = {1, 2, 3}\n",
    "my_set.remove(2)\n",
    "print(my_set)"
   ]
  },
  {
   "cell_type": "code",
   "execution_count": 37,
   "metadata": {},
   "outputs": [
    {
     "name": "stdout",
     "output_type": "stream",
     "text": [
      "{1, 3}\n"
     ]
    }
   ],
   "source": [
    "#A similar approach is using a difference operator\n",
    "my_set = {1, 2, 3}\n",
    "my_set = my_set - {2}\n",
    "print(my_set)\n"
   ]
  },
  {
   "cell_type": "code",
   "execution_count": 23,
   "metadata": {},
   "outputs": [
    {
     "name": "stdout",
     "output_type": "stream",
     "text": [
      "{1, 2}\n",
      "{1, 2}\n"
     ]
    }
   ],
   "source": [
    "# Initialize the first set\n",
    "set1 = {1, 2, 3, 4}\n",
    "\n",
    "# Initialize the second set\n",
    "set2 = {3, 4, 5, 6}\n",
    "\n",
    "# Find the difference between the two sets (using the difference operator)\n",
    "difference = set1 - set2\n",
    "print(difference)\n",
    "\n",
    "# Find the difference between the two sets (using the difference method)\n",
    "difference = set1.difference(set2)\n",
    "print(difference)"
   ]
  },
  {
   "cell_type": "code",
   "execution_count": 24,
   "metadata": {},
   "outputs": [
    {
     "name": "stdout",
     "output_type": "stream",
     "text": [
      "{1, 2, 5, 6}\n"
     ]
    }
   ],
   "source": [
    "# Initialize the first set\n",
    "set1 = {1, 2, 3, 4}\n",
    "\n",
    "# Initialize the second set\n",
    "set2 = {3, 4, 5, 6}\n",
    "\n",
    "# Find the symmetric difference of the two sets (using the symmetric_difference operator)\n",
    "symmetric_difference = set1 ^ set2\n",
    "print(symmetric_difference)\n",
    "\n",
    "# Find the symmetric difference of the two sets (using the symmetric_difference method)\n",
    "symmetric_difference = set1.symmetric_difference(set2)"
   ]
  },
  {
   "cell_type": "code",
   "execution_count": 4,
   "metadata": {},
   "outputs": [
    {
     "name": "stdout",
     "output_type": "stream",
     "text": [
      "{'Smores', 'Rushe', 'Motor', 'Metal'}\n"
     ]
    }
   ],
   "source": [
    "#Using the .add() method allows you to add a value to an existing set\n",
    "#This can only be done by adding directly to a readily made set\n",
    "#This will not allow an addition of more than 1 item\n",
    "\n",
    "rockband = {'Metal', 'Motor', 'Smores'}\n",
    "rnb = {'JuNeYo', 'Rushe', 'Greek Divad'}\n",
    "\n",
    "rnb = list(rnb)\n",
    "\n",
    "rockband.add(rnb[0])\n",
    "\n",
    "print(rockband)"
   ]
  },
  {
   "cell_type": "code",
   "execution_count": 5,
   "metadata": {},
   "outputs": [
    {
     "name": "stdout",
     "output_type": "stream",
     "text": [
      "{'Smores', 'Motor', 'Metal', 'Greek Divad'}\n"
     ]
    }
   ],
   "source": [
    "#Negative indexing is acceptable but can only take in ONE item at time as add does not accept hash\n",
    "rockband = {'Metal', 'Motor', 'Smores'}\n",
    "rnb = {'JuNeYo', 'Rushe', 'Greek Divad'}\n",
    "\n",
    "rnb = list(rnb)\n",
    "\n",
    "rockband.add(rnb[-1])\n",
    "\n",
    "print(rockband)"
   ]
  },
  {
   "cell_type": "code",
   "execution_count": 44,
   "metadata": {},
   "outputs": [
    {
     "name": "stdout",
     "output_type": "stream",
     "text": [
      "{'C', 'A', 'B'}\n",
      "set()\n"
     ]
    }
   ],
   "source": [
    "emptyme = {'A', 'B', 'C'}\n",
    "print(emptyme)\n",
    "\n",
    "emptyme.clear()\n",
    "\n",
    "print(emptyme)"
   ]
  },
  {
   "attachments": {},
   "cell_type": "markdown",
   "metadata": {},
   "source": [
    "## Dictionaries"
   ]
  },
  {
   "cell_type": "code",
   "execution_count": 6,
   "metadata": {},
   "outputs": [
    {
     "name": "stdout",
     "output_type": "stream",
     "text": [
      "{'name': 'Jojs', 'age': 15, 'email': 'jojs88@email.com'}\n",
      "<class 'dict'>\n"
     ]
    }
   ],
   "source": [
    "#Printing dictionaries and checking its type\n",
    "mydictionary = {\"name\":\"Jojs\", \n",
    "                \"age\":15, \n",
    "                \"email\":\"jojs88@email.com\"}\n",
    "\n",
    "print(mydictionary)\n",
    "print(type(mydictionary))"
   ]
  },
  {
   "cell_type": "code",
   "execution_count": 7,
   "metadata": {},
   "outputs": [],
   "source": [
    "#Adding a new entry to an existing dictionary\n",
    "mydictionary['country'] = 'Egypt'"
   ]
  },
  {
   "cell_type": "code",
   "execution_count": 8,
   "metadata": {},
   "outputs": [
    {
     "name": "stdout",
     "output_type": "stream",
     "text": [
      "{'name': 'Jojs', 'age': 15, 'email': 'jojs88@email.com', 'country': 'Egypt'}\n"
     ]
    }
   ],
   "source": [
    "#View the added entry to the previous dictionary\n",
    "print(mydictionary)"
   ]
  },
  {
   "cell_type": "code",
   "execution_count": 9,
   "metadata": {},
   "outputs": [
    {
     "name": "stdout",
     "output_type": "stream",
     "text": [
      "{'username': 'thejojsters', 'password': 'IamTheJojSter45'}\n"
     ]
    }
   ],
   "source": [
    "#Creating and accessing myotherdict\n",
    "myotherdict = {\"username\": \"thejojsters\", \"password\": \"IamTheJojSter45\"}\n",
    "\n",
    "print(myotherdict)"
   ]
  },
  {
   "cell_type": "code",
   "execution_count": 10,
   "metadata": {},
   "outputs": [
    {
     "name": "stdout",
     "output_type": "stream",
     "text": [
      "{'name': 'Jojs', 'age': 15, 'email': 'jojs88@email.com', 'country': 'Egypt', 'username': 'thejojsters', 'password': 'IamTheJojSter45'}\n"
     ]
    }
   ],
   "source": [
    "#Combining two directories using pipe method.\n",
    "mycombineddict = mydictionary | myotherdict\n",
    "print(mycombineddict)"
   ]
  },
  {
   "cell_type": "code",
   "execution_count": 11,
   "metadata": {},
   "outputs": [],
   "source": [
    "#Dictionaries can be overwritten\n",
    "mycombineddict['name'] = 'NotJojs'"
   ]
  },
  {
   "cell_type": "code",
   "execution_count": 12,
   "metadata": {},
   "outputs": [
    {
     "name": "stdout",
     "output_type": "stream",
     "text": [
      "{'name': 'NotJojs', 'age': 15, 'email': 'jojs88@email.com', 'country': 'Egypt', 'username': 'thejojsters', 'password': 'IamTheJojSter45'}\n"
     ]
    }
   ],
   "source": [
    "#Show that the name is overwritten\n",
    "print(mycombineddict)"
   ]
  },
  {
   "cell_type": "code",
   "execution_count": 13,
   "metadata": {},
   "outputs": [
    {
     "name": "stdout",
     "output_type": "stream",
     "text": [
      "{'name': 'Chain', 'race': 'Alien', 'weapon': 'Cosmic Cookie Ice Blaster', 'item': 'Exploding Feathers', 'item2': 'Flying Feathered Spike'}\n"
     ]
    }
   ],
   "source": [
    "#Combining directories using update method.\n",
    "# Initialize the first dictionary\n",
    "zelda_chars = {'name': 'Chain', 'race': 'Alien', 'weapon': 'Cosmic Cookie Ice Blaster'}\n",
    "\n",
    "# Initialize the second dictionary\n",
    "zelda_items = {'item': 'Exploding Feathers', 'item2': 'Flying Feathered Spike'}\n",
    "\n",
    "# Update the first dictionary with the second dictionary\n",
    "zelda_chars.update(zelda_items)\n",
    "\n",
    "# Print the updated dictionary\n",
    "print(zelda_chars)\n"
   ]
  },
  {
   "cell_type": "code",
   "execution_count": 15,
   "metadata": {},
   "outputs": [],
   "source": [
    "# Initializing a nested dictionary of characters from the anime 'Naruto'\n",
    "journey_characters = {\n",
    "    'Nuroro': {'age': 17, 'gender': 'Male', 'rank': 'Beginner'},\n",
    "    'Sekuso': {'age': 17, 'gender': 'Male', 'rank': 'Beginner'},\n",
    "    'Saraku': {'age': 17, 'gender': 'Female', 'rank': 'Beginner'},\n",
    "    'Kishaki': {'age': 31, 'gender': 'Male', 'rank': 'Expert'}\n",
    "}"
   ]
  },
  {
   "cell_type": "code",
   "execution_count": 16,
   "metadata": {},
   "outputs": [
    {
     "name": "stdout",
     "output_type": "stream",
     "text": [
      "dict_keys(['Nuroro', 'Sekuso', 'Saraku', 'Kishaki'])\n",
      "{'age': 17, 'gender': 'Male', 'rank': 'Beginner'}\n",
      "{'age': 31, 'gender': 'Male', 'rank': 'Expert'}\n",
      "{'age': 17, 'gender': 'Female', 'rank': 'Beginner'}\n"
     ]
    }
   ],
   "source": [
    "# Taking the key values of a dictionary\n",
    "print(journey_characters.keys())\n",
    "\n",
    "#Using the get method to extract the values of a key from a nested dictionary\n",
    "print(journey_characters.get('Nuroro'))\n",
    "print(journey_characters.get('Kishaki'))\n",
    "print(journey_characters.get('Saraku'))"
   ]
  },
  {
   "cell_type": "code",
   "execution_count": 186,
   "metadata": {},
   "outputs": [
    {
     "name": "stdout",
     "output_type": "stream",
     "text": [
      "The current power of Goku is 9000\n",
      "The current age of Piccolo is 50\n",
      "Bulma married the prince of saiyans, Vegeta!!\n"
     ]
    }
   ],
   "source": [
    "# Accessing information inside a nested dictionary\n",
    "# This nested dictionary is similar to a HASH MAP in other languages.\n",
    "\n",
    "dbz_characters = {\n",
    "    'Goku': {'age': 24, 'gender': 'Male', 'power_level': 9000},\n",
    "    'Vegeta': {'age': 27, 'gender': 'Male', 'power_level': 8500},\n",
    "    'Bulma': {'age': 29, 'gender': 'Female', 'power_level': 1000},\n",
    "    'Piccolo': {'age': 50, 'gender': 'Male', 'power_level': 5000},\n",
    "    'Frieza': \"Villain\"\n",
    "}\n",
    "\n",
    "# Get the power level of Goku using the .get() method\n",
    "goku_name = list(dbz_characters.keys())[0]\n",
    "goku_power = dbz_characters.get('Goku', {}).get('power_level')\n",
    "print(f\"The current power of {goku_name} is {goku_power}\")\n",
    "\n",
    "# Get the age of Piccolo using the .get() method\n",
    "piccolo_name = list(dbz_characters.keys())[3]\n",
    "piccolo_age = dbz_characters.get('Piccolo', {}).get('age')\n",
    "print(f\"The current age of {piccolo_name} is {piccolo_age}\")\n",
    "\n",
    "vegeta_name = list(dbz_characters.keys())[1]\n",
    "bulma_name = list(dbz_characters.keys())[list(dbz_characters.values()).index({'age': 29, 'gender': 'Female', 'power_level': 1000})]\n",
    "\n",
    "print(f\"{bulma_name} married the prince of saiyans, {vegeta_name}!!\")"
   ]
  },
  {
   "attachments": {},
   "cell_type": "markdown",
   "metadata": {},
   "source": [
    "In the code goku_power = dbz_characters.get('Goku', {}).get('power_level'), the {} means an empty dictionary.\n",
    "\n",
    "The line of code retrieves the value of the key 'power_level' in the nested dictionary of the key 'Goku' in the dictionary dbz_characters. The .get() method is used twice in this line of code, first to get the value of the key 'Goku' and second to get the value of the key 'power_level'.\n",
    "\n",
    "If the key 'Goku' does not exist in the dictionary dbz_characters, then the .get() method will return the default value {}, which is an empty dictionary. This allows us to safely call the .get() method on the result to get the value of the key 'power_level' without raising a KeyError. If the key 'power_level' does not exist in the nested dictionary, then the second .get() method will return None."
   ]
  },
  {
   "cell_type": "code",
   "execution_count": 105,
   "metadata": {},
   "outputs": [
    {
     "data": {
      "text/plain": [
       "{'age': 24, 'gender': 'Male', 'power_level': 9000}"
      ]
     },
     "execution_count": 105,
     "metadata": {},
     "output_type": "execute_result"
    }
   ],
   "source": [
    "dbz_characters.get('Goku')"
   ]
  },
  {
   "cell_type": "code",
   "execution_count": 110,
   "metadata": {},
   "outputs": [
    {
     "name": "stdout",
     "output_type": "stream",
     "text": [
      "9000\n"
     ]
    }
   ],
   "source": [
    "dbz_xx = dbz_characters.get('Goku').get('power_level')\n",
    "\n",
    "print(dbz_xx)"
   ]
  },
  {
   "cell_type": "code",
   "execution_count": 228,
   "metadata": {},
   "outputs": [
    {
     "ename": "AttributeError",
     "evalue": "'list' object has no attribute 'get'",
     "output_type": "error",
     "traceback": [
      "\u001b[1;31m---------------------------------------------------------------------------\u001b[0m",
      "\u001b[1;31mAttributeError\u001b[0m                            Traceback (most recent call last)",
      "Cell \u001b[1;32mIn[228], line 1\u001b[0m\n\u001b[1;32m----> 1\u001b[0m villain \u001b[39m=\u001b[39m dbz\u001b[39m.\u001b[39;49mget(\u001b[39m'\u001b[39m\u001b[39mFrieza\u001b[39m\u001b[39m'\u001b[39m)\n\u001b[0;32m      3\u001b[0m \u001b[39m#THIS HAPPENS AS 'Frieza' is not a Dictionary but a Key\u001b[39;00m\n",
      "\u001b[1;31mAttributeError\u001b[0m: 'list' object has no attribute 'get'"
     ]
    }
   ],
   "source": [
    "villain = dbz.get('Frieza')\n",
    "\n",
    "#THIS HAPPENS AS 'Frieza' is not a Dictionary but a Key"
   ]
  },
  {
   "cell_type": "code",
   "execution_count": 113,
   "metadata": {},
   "outputs": [
    {
     "ename": "AttributeError",
     "evalue": "'NoneType' object has no attribute 'get'",
     "output_type": "error",
     "traceback": [
      "\u001b[1;31m---------------------------------------------------------------------------\u001b[0m",
      "\u001b[1;31mAttributeError\u001b[0m                            Traceback (most recent call last)",
      "Cell \u001b[1;32mIn[113], line 1\u001b[0m\n\u001b[1;32m----> 1\u001b[0m dbz_xx2 \u001b[39m=\u001b[39m dbz_characters\u001b[39m.\u001b[39;49mget(\u001b[39m'\u001b[39;49m\u001b[39mFrieza\u001b[39;49m\u001b[39m'\u001b[39;49m)\u001b[39m.\u001b[39;49mget(\u001b[39m'\u001b[39m\u001b[39mpower_level\u001b[39m\u001b[39m'\u001b[39m)\n",
      "\u001b[1;31mAttributeError\u001b[0m: 'NoneType' object has no attribute 'get'"
     ]
    }
   ],
   "source": [
    "#Having no {} to return a 'NoneType' or an entry that is non existing\n",
    "#An error will be given\n",
    "dbz_xx2 = dbz_characters.get('Sakuragi').get('power_level')"
   ]
  },
  {
   "cell_type": "code",
   "execution_count": 198,
   "metadata": {},
   "outputs": [
    {
     "name": "stdout",
     "output_type": "stream",
     "text": [
      "None\n"
     ]
    }
   ],
   "source": [
    "#Adding the {} will return an empty {} with None.\n",
    "\n",
    "dbz_xx2 = dbz_characters.get('Pogi', {}).get('power_level')\n",
    "print(dbz_xx2)"
   ]
  },
  {
   "attachments": {},
   "cell_type": "markdown",
   "metadata": {},
   "source": [
    "The {} in the code goku_power = dbz_characters.get('Goku', {}).get('power_level') is not strictly necessary, but it is useful in cases where you want to provide a default value to return if the key you are looking for is not found in the dictionary."
   ]
  },
  {
   "attachments": {},
   "cell_type": "markdown",
   "metadata": {},
   "source": [
    "# Is it necessary?\n",
    "\n",
    "The {} in the code goku_power = dbz_characters.get('Goku', {}).get('power_level') is not strictly necessary, but it is useful in cases where you want to provide a default value to return if the key you are looking for is not found in the dictionary.\n",
    "\n",
    "For example, if the key 'Goku' is not in the dbz_characters dictionary, the code would raise a KeyError if the {} was not present. With the {} present, the .get() method returns the default value of {} (an empty dictionary), which can be safely used in the next .get() method call.\n",
    "\n",
    "In general, using the .get() method with a default value is a convenient way to avoid KeyError exceptions when accessing dictionaries. It provides a way to handle cases where the key you are looking for is not present in the dictionary in a graceful way, without raising an error."
   ]
  },
  {
   "cell_type": "code",
   "execution_count": 49,
   "metadata": {},
   "outputs": [
    {
     "name": "stdout",
     "output_type": "stream",
     "text": [
      "{'Goku': {'age': 24, 'gender': 'Male', 'power_level': 9000}, 'Vegeta': {'age': 27, 'gender': 'Male', 'power_level': 8500}, 'Bulma': {'age': 29, 'gender': 'Female', 'power_level': 1000}, 'Piccolo': {'age': 50, 'gender': 'Male', 'power_level': 5000}, 'Seiya': {'age': 18, 'gender': 'Male', 'power_level': 7000}, 'Shiryu': {'age': 20, 'gender': 'Male', 'power_level': 6000}, 'Hyoga': {'age': 19, 'gender': 'Male', 'power_level': 6000}, 'Shun': {'age': 18, 'gender': 'Male', 'power_level': 6000}}\n"
     ]
    }
   ],
   "source": [
    "# Adding new entries of characters from 'Saint Seiya' to the DBZ dictinary \n",
    "# without using the update method.\n",
    "\n",
    "dbz_characters['Seiya'] = {'age': 18, 'gender': 'Male', 'power_level': 7000}\n",
    "dbz_characters['Shiryu'] = {'age': 20, 'gender': 'Male', 'power_level': 5000}\n",
    "dbz_characters['Hyoga'] = {'age': 19, 'gender': 'Male', 'power_level': 5000}\n",
    "dbz_characters['Shun'] = {'age': 18, 'gender': 'Male', 'power_level': 5000}\n",
    "\n",
    "# Print updated dictionary\n",
    "print(dbz_characters)"
   ]
  },
  {
   "cell_type": "code",
   "execution_count": 72,
   "metadata": {},
   "outputs": [],
   "source": [
    "#Storing new items into a dictionary\n",
    "\n",
    "my_users = {}\n",
    "\n",
    "username = input(\"Enter username: \")\n",
    "password = input(\"Enter password\")\n",
    "\n",
    "my_users[username] = password"
   ]
  },
  {
   "cell_type": "code",
   "execution_count": 73,
   "metadata": {},
   "outputs": [
    {
     "name": "stdout",
     "output_type": "stream",
     "text": [
      "{'John': 'Cena'}\n"
     ]
    }
   ],
   "source": [
    "#Check the update\n",
    "print(my_users)"
   ]
  },
  {
   "cell_type": "code",
   "execution_count": 74,
   "metadata": {},
   "outputs": [],
   "source": [
    "#Storing items in a dictionary in a nested approach.\n",
    "my_users = {}\n",
    "username = input(\"Enter username: \")\n",
    "password = input(\"Enter password: \")\n",
    "\n",
    "my_users['1'] = {\"username\": username, \"password\": password}"
   ]
  },
  {
   "cell_type": "code",
   "execution_count": 75,
   "metadata": {},
   "outputs": [
    {
     "name": "stdout",
     "output_type": "stream",
     "text": [
      "{'1': {'username': 'Chris', 'password': 'Masters'}}\n"
     ]
    }
   ],
   "source": [
    "#Check the output\n",
    "print(my_users)"
   ]
  },
  {
   "cell_type": "code",
   "execution_count": 76,
   "metadata": {},
   "outputs": [],
   "source": [
    "#add another \n",
    "my_users['2'] = {\"username\": 'loki', \"password\": 'kratos'}"
   ]
  },
  {
   "cell_type": "code",
   "execution_count": 77,
   "metadata": {},
   "outputs": [
    {
     "name": "stdout",
     "output_type": "stream",
     "text": [
      "{'1': {'username': 'Chris', 'password': 'Masters'}, '2': {'username': 'loki', 'password': 'kratos'}}\n"
     ]
    }
   ],
   "source": [
    "#Check the update\n",
    "print(my_users)"
   ]
  },
  {
   "cell_type": "code",
   "execution_count": 78,
   "metadata": {},
   "outputs": [],
   "source": [
    "#add another\n",
    "my_users['new_entry'] = {\"username\": 'Rowdy', \"password\": 'Piper'}"
   ]
  },
  {
   "cell_type": "code",
   "execution_count": 79,
   "metadata": {},
   "outputs": [
    {
     "name": "stdout",
     "output_type": "stream",
     "text": [
      "{'1': {'username': 'Chris', 'password': 'Masters'}, '2': {'username': 'loki', 'password': 'kratos'}, 'new_entry': {'username': 'Rowdy', 'password': 'Piper'}}\n"
     ]
    }
   ],
   "source": [
    "#Check the update\n",
    "print(my_users)"
   ]
  },
  {
   "cell_type": "code",
   "execution_count": 80,
   "metadata": {},
   "outputs": [
    {
     "name": "stdout",
     "output_type": "stream",
     "text": [
      "{'username': 'Chris', 'password': 'Masters'}\n",
      "{'username': 'loki', 'password': 'kratos'}\n"
     ]
    }
   ],
   "source": [
    "#Viewing specific entries \n",
    "print(my_users['1'])\n",
    "print(my_users['2'])"
   ]
  },
  {
   "cell_type": "code",
   "execution_count": 81,
   "metadata": {},
   "outputs": [
    {
     "name": "stdout",
     "output_type": "stream",
     "text": [
      "Chris\n",
      "Masters\n"
     ]
    }
   ],
   "source": [
    "#Viewing and taking specific information from a specific instance\n",
    "x = my_users['1']\n",
    "x_username = x['username']\n",
    "x_password = x['password']\n",
    "\n",
    "print(x_username)\n",
    "print(x_password)"
   ]
  },
  {
   "cell_type": "code",
   "execution_count": 82,
   "metadata": {},
   "outputs": [
    {
     "name": "stdout",
     "output_type": "stream",
     "text": [
      "loki\n",
      "kratos\n"
     ]
    }
   ],
   "source": [
    "#Viewing and taking specific information from a specific instance\n",
    "x = my_users['2']\n",
    "x_username = x['username']\n",
    "x_password = x['password']\n",
    "\n",
    "print(x_username)\n",
    "print(x_password)"
   ]
  },
  {
   "cell_type": "code",
   "execution_count": 83,
   "metadata": {},
   "outputs": [
    {
     "name": "stdout",
     "output_type": "stream",
     "text": [
      "Rowdy\n",
      "Piper\n"
     ]
    }
   ],
   "source": [
    "#Viewing and taking specific information from a specific instance\n",
    "x = my_users['new_entry']\n",
    "x_username = x['username']\n",
    "x_password = x['password']\n",
    "\n",
    "print(x_username)\n",
    "print(x_password)"
   ]
  },
  {
   "cell_type": "code",
   "execution_count": 99,
   "metadata": {},
   "outputs": [
    {
     "name": "stdout",
     "output_type": "stream",
     "text": [
      "{'John': {'username': 'John', 'password': 'Cena'}}\n"
     ]
    }
   ],
   "source": [
    "#Review the existing users again\n",
    "print(my_users)"
   ]
  },
  {
   "cell_type": "code",
   "execution_count": 100,
   "metadata": {},
   "outputs": [],
   "source": [
    "#Delete a specific entry in the users\n",
    "del my_users['John']"
   ]
  },
  {
   "cell_type": "code",
   "execution_count": 101,
   "metadata": {},
   "outputs": [
    {
     "name": "stdout",
     "output_type": "stream",
     "text": [
      "{}\n"
     ]
    }
   ],
   "source": [
    "#Check the updated users after deletion\n",
    "print(my_users)"
   ]
  },
  {
   "cell_type": "code",
   "execution_count": 56,
   "metadata": {},
   "outputs": [],
   "source": [
    "# users = {'Yugo', 'Gado', 'Jenny'}\n",
    "\n",
    "user_set = {'Alex', 'Chris', 'Leo'}\n",
    "users = {\n",
    "'Alex': {'password': 'pass123', 'email': 'alex@email.com'},\n",
    "'Chris': {'password': 'chrispass', 'email': 'chris@email.com'},\n",
    "'Leo': {'password': 'leopass', 'email': 'leo@email.com'}\n",
    "}\n",
    "\n",
    "new_user = {}"
   ]
  },
  {
   "cell_type": "code",
   "execution_count": 60,
   "metadata": {},
   "outputs": [],
   "source": [
    "username = input(\"Enter your username: \")\n",
    "password = input(\"Enter your password: \")\n",
    "email = input(\"Enter your email: \")\n",
    "\n",
    "new_user[\"password\"] = password\n",
    "new_user[\"email\"] = email\n",
    "\n",
    "users[username] = new_user\n",
    "user_set.add(username)"
   ]
  },
  {
   "cell_type": "code",
   "execution_count": 90,
   "metadata": {},
   "outputs": [
    {
     "name": "stdout",
     "output_type": "stream",
     "text": [
      "{'John': {'username': 'John', 'password': 'Cena'}}\n"
     ]
    }
   ],
   "source": [
    "print(my_users)"
   ]
  },
  {
   "cell_type": "code",
   "execution_count": 57,
   "metadata": {},
   "outputs": [
    {
     "name": "stdout",
     "output_type": "stream",
     "text": [
      "{'Alex', 'Chris', 'Leo'}\n"
     ]
    }
   ],
   "source": [
    "print(user_set)"
   ]
  },
  {
   "cell_type": "code",
   "execution_count": 58,
   "metadata": {},
   "outputs": [
    {
     "name": "stdout",
     "output_type": "stream",
     "text": [
      "{'Alex': {'password': 'pass123', 'email': 'alex@email.com'}, 'Chris': {'password': 'chrispass', 'email': 'chris@email.com'}, 'Leo': {'password': 'leopass', 'email': 'leo@email.com'}}\n"
     ]
    }
   ],
   "source": [
    "print(users)"
   ]
  },
  {
   "cell_type": "code",
   "execution_count": 59,
   "metadata": {},
   "outputs": [
    {
     "name": "stdout",
     "output_type": "stream",
     "text": [
      "{}\n"
     ]
    }
   ],
   "source": [
    "print(new_user)"
   ]
  },
  {
   "cell_type": "code",
   "execution_count": 61,
   "metadata": {},
   "outputs": [
    {
     "name": "stdout",
     "output_type": "stream",
     "text": [
      "New user added: {'Jenny': {'password': 'jennypass', 'email': 'jenny@email.com'}}\n"
     ]
    }
   ],
   "source": [
    "print(\"New user added:\", {username: new_user})"
   ]
  },
  {
   "cell_type": "code",
   "execution_count": 62,
   "metadata": {},
   "outputs": [
    {
     "name": "stdout",
     "output_type": "stream",
     "text": [
      "List of users: {'Alex': {'password': 'pass123', 'email': 'alex@email.com'}, 'Chris': {'password': 'chrispass', 'email': 'chris@email.com'}, 'Leo': {'password': 'leopass', 'email': 'leo@email.com'}, 'Jenny': {'password': 'jennypass', 'email': 'jenny@email.com'}}\n"
     ]
    }
   ],
   "source": [
    "print(\"List of users:\", users)"
   ]
  },
  {
   "cell_type": "code",
   "execution_count": 63,
   "metadata": {},
   "outputs": [
    {
     "name": "stdout",
     "output_type": "stream",
     "text": [
      "Set of users: {'Alex', 'Chris', 'Leo', 'Jenny'}\n"
     ]
    }
   ],
   "source": [
    "print(\"Set of users:\", user_set)"
   ]
  },
  {
   "attachments": {},
   "cell_type": "markdown",
   "metadata": {},
   "source": [
    "# TEASER FOR NEXT TOPIC"
   ]
  },
  {
   "cell_type": "code",
   "execution_count": 86,
   "metadata": {},
   "outputs": [
    {
     "name": "stdout",
     "output_type": "stream",
     "text": [
      "User John added successfully.\n",
      "{'John': {'username': 'John', 'password': 'Cena'}}\n"
     ]
    }
   ],
   "source": [
    "my_users = {}\n",
    "\n",
    "# Store a user\n",
    "username = input(\"Enter username: \")\n",
    "password = input(\"Enter password: \")\n",
    "my_users[username] = {\"username\": username, \"password\": password}\n",
    "print(f\"User {username} added successfully.\")\n",
    "print(my_users)\n"
   ]
  },
  {
   "cell_type": "code",
   "execution_count": 87,
   "metadata": {},
   "outputs": [
    {
     "name": "stdout",
     "output_type": "stream",
     "text": [
      "User Randy added successfully.\n",
      "{'John': {'username': 'John', 'password': 'Cena'}, 'Randy': {'username': 'Randy', 'password': 'Orton'}}\n"
     ]
    }
   ],
   "source": [
    "# Store a user\n",
    "username = input(\"Enter username: \")\n",
    "password = input(\"Enter password: \")\n",
    "my_users[username] = {\"username\": username, \"password\": password}\n",
    "print(f\"User {username} added successfully.\")\n",
    "print(my_users)"
   ]
  },
  {
   "cell_type": "code",
   "execution_count": 88,
   "metadata": {},
   "outputs": [
    {
     "name": "stdout",
     "output_type": "stream",
     "text": [
      "Username: Randy\n",
      "Password: Orton\n"
     ]
    }
   ],
   "source": [
    "# Access a user\n",
    "username = input(\"Enter username to retrieve: \")\n",
    "user_info = my_users.get(username, None)\n",
    "if user_info:\n",
    "    print(f\"Username: {user_info['username']}\")\n",
    "    print(f\"Password: {user_info['password']}\")\n",
    "else:\n",
    "    print(f\"User {username} not found.\")"
   ]
  },
  {
   "cell_type": "code",
   "execution_count": 89,
   "metadata": {},
   "outputs": [
    {
     "name": "stdout",
     "output_type": "stream",
     "text": [
      "User Randy deleted successfully.\n"
     ]
    }
   ],
   "source": [
    "# Delete a user\n",
    "username = input(\"Enter username to delete: \")\n",
    "if username in my_users:\n",
    "    del my_users[username]\n",
    "    print(f\"User {username} deleted successfully.\")\n",
    "else:\n",
    "    print(f\"User {username} not found.\")"
   ]
  }
 ],
 "metadata": {
  "kernelspec": {
   "display_name": "myAdvanceProg",
   "language": "python",
   "name": "python3"
  },
  "language_info": {
   "codemirror_mode": {
    "name": "ipython",
    "version": 3
   },
   "file_extension": ".py",
   "mimetype": "text/x-python",
   "name": "python",
   "nbconvert_exporter": "python",
   "pygments_lexer": "ipython3",
   "version": "3.9.13"
  },
  "orig_nbformat": 4,
  "vscode": {
   "interpreter": {
    "hash": "c93b8a20f1bf6b08237f72fb97e530a41dfe2c3e8392b147528cbda106c08c14"
   }
  }
 },
 "nbformat": 4,
 "nbformat_minor": 2
}
