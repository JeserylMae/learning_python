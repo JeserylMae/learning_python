{
 "cells": [
  {
   "attachments": {},
   "cell_type": "markdown",
   "metadata": {},
   "source": [
    "# Data Structures and Collections"
   ]
  },
  {
   "cell_type": "markdown",
   "metadata": {},
   "source": [
    "## List"
   ]
  },
  {
   "cell_type": "code",
   "execution_count": 28,
   "metadata": {},
   "outputs": [
    {
     "name": "stdout",
     "output_type": "stream",
     "text": [
      "[1, 2, 3, 4, 5]\n",
      "<class 'list'>\n"
     ]
    }
   ],
   "source": [
    "myList = [1,2 , 3, 4, 5]\n",
    "\n",
    "print(myList)\n",
    "print(type(myList))"
   ]
  },
  {
   "cell_type": "code",
   "execution_count": 29,
   "metadata": {},
   "outputs": [
    {
     "name": "stdout",
     "output_type": "stream",
     "text": [
      "Length of the list: 3\n",
      "Last item in the list: Cherry\n"
     ]
    }
   ],
   "source": [
    "myList = [\"Apple\", \"Banana\", \"Cherry\"]\n",
    "\n",
    "lengthOfList = len(myList)\n",
    "print(f\"Length of the list: {lengthOfList}\")\n",
    "print(f\"Last item in the list: {myList[lengthOfList-1]}\")"
   ]
  },
  {
   "cell_type": "code",
   "execution_count": 30,
   "metadata": {},
   "outputs": [
    {
     "name": "stdout",
     "output_type": "stream",
     "text": [
      "1\n",
      "5\n"
     ]
    }
   ],
   "source": [
    "myList = [1, 2, 3, 4, 5]\n",
    "\n",
    "firstItemInList = myList[0]\n",
    "lastItemInList = myList[-1]\n",
    "\n",
    "print(firstItemInList)\n",
    "print(lastItemInList)"
   ]
  },
  {
   "cell_type": "code",
   "execution_count": 34,
   "metadata": {},
   "outputs": [
    {
     "name": "stdout",
     "output_type": "stream",
     "text": [
      "['Apple', 55, True]\n",
      "Apple\n",
      "<class 'str'>\n"
     ]
    }
   ],
   "source": [
    "myList = [\"Apple\", 55, True]\n",
    "\n",
    "print(myList)\n",
    "print(myList[0])\n",
    "print(type(myList[0]))"
   ]
  },
  {
   "cell_type": "code",
   "execution_count": 35,
   "metadata": {},
   "outputs": [
    {
     "name": "stdout",
     "output_type": "stream",
     "text": [
      "['Apple', 55, True]\n",
      "<class 'int'>\n"
     ]
    }
   ],
   "source": [
    "myList = [\"Apple\", 55, True]\n",
    "\n",
    "print(myList)\n",
    "\n",
    "x = myList[1]\n",
    "print(type(x))"
   ]
  },
  {
   "cell_type": "code",
   "execution_count": 43,
   "metadata": {},
   "outputs": [
    {
     "name": "stdout",
     "output_type": "stream",
     "text": [
      "3\n",
      "2\n"
     ]
    }
   ],
   "source": [
    "myList = [\"Apple\", 55, True]\n",
    "\n",
    "lengthOfList = len(myList)\n",
    "maxIndexValue = len(myList)-1\n",
    "\n",
    "print(lengthOfList)\n",
    "print(maxIndexValue)"
   ]
  },
  {
   "cell_type": "code",
   "execution_count": 1,
   "metadata": {},
   "outputs": [
    {
     "name": "stdout",
     "output_type": "stream",
     "text": [
      "5\n"
     ]
    }
   ],
   "source": [
    "nums = [1, 2, 3, 4, 5]\n",
    "print(nums[-1])  # Output: 5"
   ]
  },
  {
   "cell_type": "code",
   "execution_count": 2,
   "metadata": {},
   "outputs": [
    {
     "name": "stdout",
     "output_type": "stream",
     "text": [
      "[5, 4, 3, 2, 1]\n"
     ]
    }
   ],
   "source": [
    "nums = [1, 2, 3, 4, 5]\n",
    "print(nums[::-1])  # Output: [5, 4, 3, 2, 1]\n"
   ]
  },
  {
   "cell_type": "code",
   "execution_count": 3,
   "metadata": {},
   "outputs": [
    {
     "name": "stdout",
     "output_type": "stream",
     "text": [
      "[1, 2, 3, 4, 5, 6]\n"
     ]
    }
   ],
   "source": [
    "list1 = [1, 2, 3]\n",
    "list2 = [4, 5, 6]\n",
    "print(list1 + list2)  # Output: [1, 2, 3, 4, 5, 6]\n"
   ]
  },
  {
   "cell_type": "code",
   "execution_count": 6,
   "metadata": {},
   "outputs": [
    {
     "name": "stdout",
     "output_type": "stream",
     "text": [
      "[3, 4, 5]\n"
     ]
    }
   ],
   "source": [
    "nums = [1, 2, 3, 4, 5]\n",
    "print(nums[-3:])  # Output: [3, 4, 5]\n"
   ]
  },
  {
   "cell_type": "code",
   "execution_count": 5,
   "metadata": {},
   "outputs": [
    {
     "name": "stdout",
     "output_type": "stream",
     "text": [
      "[9, 7, 5, 3, 1]\n"
     ]
    }
   ],
   "source": [
    "nums = [1, 2, 3, 4, 5, 6, 7, 8, 9, 10]\n",
    "print(nums[-2::-2])  # Output: [9, 7, 5, 3]"
   ]
  },
  {
   "cell_type": "code",
   "execution_count": 4,
   "metadata": {},
   "outputs": [
    {
     "name": "stdout",
     "output_type": "stream",
     "text": [
      "[5, 4, 3]\n"
     ]
    }
   ],
   "source": [
    "nums = [1, 2, 3, 4, 5]\n",
    "print(nums[-1:-4:-1])  # Output: [5, 4, 3]"
   ]
  },
  {
   "cell_type": "code",
   "execution_count": 7,
   "metadata": {},
   "outputs": [
    {
     "name": "stdout",
     "output_type": "stream",
     "text": [
      "d\n"
     ]
    }
   ],
   "source": [
    "string = \"Hello World\"\n",
    "print(string[-1])  # Output: \"d\""
   ]
  },
  {
   "cell_type": "code",
   "execution_count": 27,
   "metadata": {},
   "outputs": [
    {
     "name": "stdout",
     "output_type": "stream",
     "text": [
      "[1, 'hello', 3.14, True, [1, 2, 3]]\n",
      "[1, 'hello', 3.14, True, [1, 2, 3], ['Wow', 1, 55]]\n",
      "[1, 'hello', 3.14, True, [1, 2, 3]]\n",
      "[1, 'hello', 3.14, True]\n",
      "[1, 'hello', True]\n"
     ]
    }
   ],
   "source": [
    "mixed_list = [1, \"hello\", 3.14, True, [1, 2, 3]]\n",
    "print(mixed_list)\n",
    "mixed_list.append([\"Wow\", 1, int(55)])\n",
    "print(mixed_list)\n",
    "mixed_list.pop()\n",
    "print(mixed_list)\n",
    "mixed_list.pop()\n",
    "print(mixed_list)\n",
    "\n",
    "mixed_list.pop(2)\n",
    "print(mixed_list)"
   ]
  },
  {
   "cell_type": "code",
   "execution_count": 28,
   "metadata": {},
   "outputs": [
    {
     "name": "stdout",
     "output_type": "stream",
     "text": [
      "2\n"
     ]
    }
   ],
   "source": [
    "mixed_list = [1, 2, 3, 4, 1, 2, 3, 4]\n",
    "print(mixed_list.count(1))  # Output: 2"
   ]
  },
  {
   "cell_type": "code",
   "execution_count": 51,
   "metadata": {},
   "outputs": [
    {
     "name": "stdout",
     "output_type": "stream",
     "text": [
      "Count of 1: 2\n",
      "Count of hello: 1\n",
      "Count of 3.14: 2\n",
      "Count of True: 2\n",
      "Count of [1, 2, 3]: 0\n",
      "Count of [1, 2, 3, 3.14]: 0\n",
      "Count of [2, 1, 3, True, 3.14, True]: 0\n",
      "Count of [1, 2, 3, 3.4, True, True]: 1\n"
     ]
    }
   ],
   "source": [
    "mixed_list = [1, \"hello\", 3.14, True, [1, 2, 3, 3.4, True, True], 3.14, \"Hello\"]\n",
    "print(f\"Count of 1: {mixed_list.count(1)}\")  # Output: 1\n",
    "print(f\"Count of hello: {mixed_list.count('hello')}\")  # Output: 1\n",
    "print(f\"Count of 3.14: {mixed_list.count(3.14)}\")  # Output: 1\n",
    "print(f\"Count of True: {mixed_list.count(True)}\")  # Output: 1\n",
    "print(f\"Count of [1, 2, 3]: {mixed_list.count([1, 2, 3])}\")  # Output: 1\n",
    "print(f\"Count of [1, 2, 3, 3.14]: {mixed_list.count([1, 2, 3, 3.14])}\")  # Output: 1\n",
    "print(f\"Count of [2, 1, 3, True, 3.14, True]: {mixed_list.count([2, 1, 3, True, 3.14, True])}\")  # Output: 1\n",
    "print(f\"Count of [1, 2, 3, 3.4, True, True]: {mixed_list.count([1, 2, 3, 3.4, True, True])}\")  # Output: 1"
   ]
  },
  {
   "cell_type": "code",
   "execution_count": 65,
   "metadata": {},
   "outputs": [
    {
     "name": "stdout",
     "output_type": "stream",
     "text": [
      "True\n",
      "False\n",
      "True\n",
      "False\n"
     ]
    }
   ],
   "source": [
    "list1 = [1, 2, 3]\n",
    "list2 = ['a', 'b', 'c']\n",
    "\n",
    "print(1 in list1)\n",
    "print('a' in list1)\n",
    "\n",
    "print('b' in list2)\n",
    "print(3 in list2)"
   ]
  },
  {
   "attachments": {},
   "cell_type": "markdown",
   "metadata": {},
   "source": [
    "## Tuples"
   ]
  },
  {
   "cell_type": "code",
   "execution_count": 6,
   "metadata": {},
   "outputs": [
    {
     "name": "stdout",
     "output_type": "stream",
     "text": [
      "(1, 2, 3, 4, 5)\n",
      "<class 'tuple'>\n"
     ]
    }
   ],
   "source": [
    "mytuple = (1, 2, 3, 4, 5)\n",
    "\n",
    "print(mytuple)\n",
    "print(type(mytuple))"
   ]
  },
  {
   "cell_type": "code",
   "execution_count": 7,
   "metadata": {},
   "outputs": [
    {
     "name": "stdout",
     "output_type": "stream",
     "text": [
      "1\n",
      "<class 'int'>\n"
     ]
    }
   ],
   "source": [
    "mytuple2 = (1)\n",
    "\n",
    "print(mytuple2)\n",
    "print(type(mytuple2))"
   ]
  },
  {
   "cell_type": "code",
   "execution_count": 10,
   "metadata": {},
   "outputs": [
    {
     "name": "stdout",
     "output_type": "stream",
     "text": [
      "(1,)\n",
      "<class 'tuple'>\n"
     ]
    }
   ],
   "source": [
    "mytuple3 = (1,)\n",
    "\n",
    "print(mytuple3)\n",
    "print(type(mytuple3))"
   ]
  },
  {
   "cell_type": "markdown",
   "metadata": {},
   "source": [
    "## Sets"
   ]
  },
  {
   "cell_type": "code",
   "execution_count": 11,
   "metadata": {},
   "outputs": [
    {
     "name": "stdout",
     "output_type": "stream",
     "text": [
      "{1, 2, 3, 4, 5}\n",
      "<class 'set'>\n"
     ]
    }
   ],
   "source": [
    "myset = {1, 2, 3, 4, 5}\n",
    "\n",
    "print(myset)\n",
    "print(type(myset))"
   ]
  },
  {
   "attachments": {},
   "cell_type": "markdown",
   "metadata": {},
   "source": [
    "## Dictionaries"
   ]
  },
  {
   "cell_type": "code",
   "execution_count": 56,
   "metadata": {},
   "outputs": [
    {
     "name": "stdout",
     "output_type": "stream",
     "text": [
      "{'name': 'John', 'age': 15, 'email': 'john15@email.com'}\n",
      "<class 'dict'>\n"
     ]
    }
   ],
   "source": [
    "mydictionary = {\"name\":\"John\", \"age\":15, \"email\":\"john15@email.com\"}\n",
    "\n",
    "print(mydictionary)\n",
    "print(type(mydictionary))"
   ]
  },
  {
   "cell_type": "code",
   "execution_count": 60,
   "metadata": {},
   "outputs": [
    {
     "name": "stdout",
     "output_type": "stream",
     "text": [
      "{'username': 'thisisJohn', 'password': 'JohnDoe442'}\n"
     ]
    }
   ],
   "source": [
    "myotherdict = {\"username\": \"thisisJohn\", \"password\": \"JohnDoe442\"}\n",
    "\n",
    "print(myotherdict)"
   ]
  },
  {
   "cell_type": "code",
   "execution_count": 62,
   "metadata": {},
   "outputs": [
    {
     "name": "stdout",
     "output_type": "stream",
     "text": [
      "{'name': 'John', 'age': 15, 'email': 'john15@email.com', 'username': 'thisisJohn', 'password': 'JohnDoe442'}\n"
     ]
    }
   ],
   "source": [
    "mycombineddict = mydictionary | myotherdict\n",
    "print(mycombineddict)"
   ]
  }
 ],
 "metadata": {
  "kernelspec": {
   "display_name": "myAdvanceProg",
   "language": "python",
   "name": "python3"
  },
  "language_info": {
   "codemirror_mode": {
    "name": "ipython",
    "version": 3
   },
   "file_extension": ".py",
   "mimetype": "text/x-python",
   "name": "python",
   "nbconvert_exporter": "python",
   "pygments_lexer": "ipython3",
   "version": "3.9.13 (main, Aug 25 2022, 23:51:50) [MSC v.1916 64 bit (AMD64)]"
  },
  "orig_nbformat": 4,
  "vscode": {
   "interpreter": {
    "hash": "c93b8a20f1bf6b08237f72fb97e530a41dfe2c3e8392b147528cbda106c08c14"
   }
  }
 },
 "nbformat": 4,
 "nbformat_minor": 2
}
