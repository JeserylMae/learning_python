{
 "cells": [
  {
   "cell_type": "code",
   "execution_count": 1,
   "id": "66f0591f",
   "metadata": {},
   "outputs": [],
   "source": [
    "class User:\n",
    "    def __init__(self, name, age, pin):\n",
    "        self.name = name\n",
    "        self.age = age\n",
    "        self.pin = pin\n",
    "        self.savings = 0\n",
    "\n",
    "class Bank(User):\n",
    "    def __init__(self, name, age, pin):\n",
    "        super().__init__(name, age, pin)\n",
    "\n",
    "    #Function for calling the value of the current stored credits on the savings account.\n",
    "    def checkSavings(self):\n",
    "        print(f'{self.name}, your current savings is {self.savings}')\n",
    "\n",
    "    #Function for terminating the entire bank app.\n",
    "    def closeBank(self):\n",
    "        runBank = False\n",
    "        print(f'{self.name}, thank you so much for using our services!')\n",
    "        print('Please come back again soon!')\n",
    "        \n",
    "    def invalidEntry(self):\n",
    "        print('Invalid entry!')\n",
    "        \n",
    "    def afterEveryTransactions(self):\n",
    "        print('Your transanction was successful!')\n",
    "        transactionDecision = int(input('Do you want another transaction? '))\n",
    "        print('-'*10)\n",
    "        print('Yes - Press 1')\n",
    "        print('-'*10)\n",
    "        print('No - Press 2')\n",
    "        \n",
    "        if transactionDecision == 1:\n",
    "            self.mainMenu()\n",
    "        elif transactionDecision == 2:\n",
    "            self.closeBank()\n",
    "        else:\n",
    "            self.invalidEntry()\n",
    "            \n",
    "    #Function for calling the Bank's main menu selection, includes: Withdraw, Deposit, and Cancel.\n",
    "    def mainMenu(self):\n",
    "        mainMenuChoice = int(input(f'Welcome {self.name} what do you want to do? '))\n",
    "        print('='*15)\n",
    "        print('Choose from the following options. Once selected, press enter to proceed.')\n",
    "        print('-'*10)\n",
    "        print('Withdraw - Press 1')\n",
    "        print('-'*10)\n",
    "        print('Deposit - Press 2')\n",
    "        print('-'*10)\n",
    "        print('Cancel - Press 3')\n",
    "        print('='*15)\n",
    "        print('')\n",
    "        \n",
    "        runBank = True\n",
    "        while runBank == True:\n",
    "            if mainMenuChoice == 1:\n",
    "                self.withdrawSavings()\n",
    "            elif mainMenuChoice == 2:\n",
    "                self.depositSavings()\n",
    "            elif mainMenuChoice == 3:\n",
    "                self.closeBank()\n",
    "                runBank == False\n",
    "            else:\n",
    "                self.invalidEntry()\n",
    "        else:\n",
    "            self.closeBank()\n",
    "\n",
    "    def withdrawSavings(self):\n",
    "        self.checkSavings()\n",
    "        withdrawDecision = input(str(f'{self.name}, do you want to withdraw money?'))\n",
    "        \n",
    "        if withdrawDecision == 'yes'.title() or withdrawDecision == 'Yes'.lower():\n",
    "            if self.savings == 0:\n",
    "                print(f'{self.name}, your current savings is {self.savings}, you cannot withdraw money')\n",
    "            \n",
    "            else:\n",
    "                moneyToWithdraw = input(float('How much money do you need to withdraw? '))\n",
    "                moneyToWithdraw -= self.savings\n",
    "\n",
    "        else:\n",
    "            self.closeBank()\n",
    "            \n",
    "    def depositSavings(self):\n",
    "        self.checkSavings()\n",
    "        print('-'*10)\n",
    "        print('Choose from the following options. Once selected, press enter to proceed.')\n",
    "        print('-'*10)\n",
    "        print('Yes - Press 1')\n",
    "        print('-'*10)\n",
    "        print('No - Press 2')\n",
    "        print('='*15)\n",
    "        depositDecision = int(input(f'{self.name}, do you want to deposit money?' ))\n",
    "        \n",
    "        if depositDecision == 1:\n",
    "            savingDeposit = float(input('How much do you want to deposit?' ))\n",
    "            self.savings = savingDeposit + self.savings\n",
    "            self.savings = self.savings\n",
    "            print(f'{self.name}, you successfully deposited {savingDeposit} to your savings account')\n",
    "            print(f'Your current balance is now, {self.savings}.')\n",
    "            print('')\n",
    "        elif depositDecision == 2:\n",
    "            self.closeBank()\n",
    "        else:\n",
    "            self.closeBank()"
   ]
  },
  {
   "cell_type": "code",
   "execution_count": 2,
   "id": "2f751476",
   "metadata": {},
   "outputs": [],
   "source": [
    "bank = Bank('John', 25, 123)"
   ]
  },
  {
   "cell_type": "code",
   "execution_count": 3,
   "id": "8067b295",
   "metadata": {},
   "outputs": [
    {
     "ename": "ValueError",
     "evalue": "invalid literal for int() with base 10: ''",
     "output_type": "error",
     "traceback": [
      "\u001b[1;31m---------------------------------------------------------------------------\u001b[0m",
      "\u001b[1;31mValueError\u001b[0m                                Traceback (most recent call last)",
      "\u001b[1;32md:\\learning_python-1\\BankApp.ipynb Cell 3\u001b[0m in \u001b[0;36m<cell line: 1>\u001b[1;34m()\u001b[0m\n\u001b[1;32m----> <a href='vscode-notebook-cell:/d%3A/learning_python-1/BankApp.ipynb#W2sZmlsZQ%3D%3D?line=0'>1</a>\u001b[0m bank\u001b[39m.\u001b[39;49mmainMenu()\n",
      "\u001b[1;32md:\\learning_python-1\\BankApp.ipynb Cell 3\u001b[0m in \u001b[0;36mBank.mainMenu\u001b[1;34m(self)\u001b[0m\n\u001b[0;32m     <a href='vscode-notebook-cell:/d%3A/learning_python-1/BankApp.ipynb#W2sZmlsZQ%3D%3D?line=40'>41</a>\u001b[0m \u001b[39mdef\u001b[39;00m \u001b[39mmainMenu\u001b[39m(\u001b[39mself\u001b[39m):\n\u001b[1;32m---> <a href='vscode-notebook-cell:/d%3A/learning_python-1/BankApp.ipynb#W2sZmlsZQ%3D%3D?line=41'>42</a>\u001b[0m     mainMenuChoice \u001b[39m=\u001b[39m \u001b[39mint\u001b[39;49m(\u001b[39minput\u001b[39;49m(\u001b[39mf\u001b[39;49m\u001b[39m'\u001b[39;49m\u001b[39mWelcome \u001b[39;49m\u001b[39m{\u001b[39;49;00m\u001b[39mself\u001b[39;49m\u001b[39m.\u001b[39;49mname\u001b[39m}\u001b[39;49;00m\u001b[39m what do you want to do? \u001b[39;49m\u001b[39m'\u001b[39;49m))\n\u001b[0;32m     <a href='vscode-notebook-cell:/d%3A/learning_python-1/BankApp.ipynb#W2sZmlsZQ%3D%3D?line=42'>43</a>\u001b[0m     \u001b[39mprint\u001b[39m(\u001b[39m'\u001b[39m\u001b[39m=\u001b[39m\u001b[39m'\u001b[39m\u001b[39m*\u001b[39m\u001b[39m15\u001b[39m)\n\u001b[0;32m     <a href='vscode-notebook-cell:/d%3A/learning_python-1/BankApp.ipynb#W2sZmlsZQ%3D%3D?line=43'>44</a>\u001b[0m     \u001b[39mprint\u001b[39m(\u001b[39m'\u001b[39m\u001b[39mChoose from the following options. Once selected, press enter to proceed.\u001b[39m\u001b[39m'\u001b[39m)\n",
      "\u001b[1;31mValueError\u001b[0m: invalid literal for int() with base 10: ''"
     ]
    }
   ],
   "source": [
    "bank.mainMenu()"
   ]
  },
  {
   "cell_type": "code",
   "execution_count": null,
   "id": "e7afa3fd",
   "metadata": {},
   "outputs": [],
   "source": []
  }
 ],
 "metadata": {
  "kernelspec": {
   "display_name": "Python 3.9.12 ('projects2022')",
   "language": "python",
   "name": "python3"
  },
  "language_info": {
   "codemirror_mode": {
    "name": "ipython",
    "version": 3
   },
   "file_extension": ".py",
   "mimetype": "text/x-python",
   "name": "python",
   "nbconvert_exporter": "python",
   "pygments_lexer": "ipython3",
   "version": "3.9.12"
  },
  "vscode": {
   "interpreter": {
    "hash": "caba5fb2e65e5cd320935daeb5a23cf1221c4ea11b88a6babfa283dbfc6ad08a"
   }
  }
 },
 "nbformat": 4,
 "nbformat_minor": 5
}
