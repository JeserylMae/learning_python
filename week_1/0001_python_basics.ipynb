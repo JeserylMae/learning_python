{
 "cells": [
  {
   "attachments": {},
   "cell_type": "markdown",
   "metadata": {},
   "source": [
    "# Python Basics - 001"
   ]
  },
  {
   "attachments": {},
   "cell_type": "markdown",
   "metadata": {},
   "source": [
    "In this notebook, you'll learn about the basics and fundamentals of Python, including its syntax, statements, comments, variables, basic data types, arithmetic operations, casting, strings, string interpolations, input/output, booleans, and operators. \n",
    "\n",
    "By the end of this notebook, you'll be able to use these tools to create your a simple procedural Python program."
   ]
  },
  {
   "cell_type": "code",
   "execution_count": 1,
   "metadata": {},
   "outputs": [
    {
     "name": "stdout",
     "output_type": "stream",
     "text": [
      "Hello Peeps!\n"
     ]
    }
   ],
   "source": [
    "#Since Python 3.x, print() is now a method.\n",
    "print(\"Hello Peeps!\")"
   ]
  },
  {
   "cell_type": "code",
   "execution_count": 27,
   "metadata": {},
   "outputs": [
    {
     "name": "stdout",
     "output_type": "stream",
     "text": [
      "This is from a line of code.\n"
     ]
    }
   ],
   "source": [
    "#This is a comment.\n",
    "print(\"This is from a line of code.\") #Comment can be placed here.\n",
    "# print(\"This line of code is commented.\")\n",
    "# A Comment can also be here.\n",
    "# Multiple line of comments is possible.\n"
   ]
  },
  {
   "cell_type": "code",
   "execution_count": 1,
   "metadata": {},
   "outputs": [
    {
     "name": "stdout",
     "output_type": "stream",
     "text": [
      "5\n",
      "<class 'int'>\n",
      "5.5\n",
      "<class 'float'>\n",
      "Hello, World!\n",
      "<class 'str'>\n"
     ]
    }
   ],
   "source": [
    "# Integer data type\n",
    "x = 5\n",
    "print(x)\n",
    "print(type(x))\n",
    "\n",
    "# Float data type\n",
    "y = 5.5\n",
    "print(y)\n",
    "print(type(y))\n",
    "\n",
    "# String data type\n",
    "z = \"Hello, World!\"\n",
    "print(z)\n",
    "print(type(z))"
   ]
  },
  {
   "cell_type": "code",
   "execution_count": 5,
   "metadata": {},
   "outputs": [
    {
     "name": "stdout",
     "output_type": "stream",
     "text": [
      "69\n"
     ]
    }
   ],
   "source": [
    "#Arithmetic is easy in Python. By default, assigning number values, makes them a number value.\n",
    "\n",
    "sum = 15 + 54\n",
    "print(sum)"
   ]
  },
  {
   "cell_type": "code",
   "execution_count": 8,
   "metadata": {},
   "outputs": [
    {
     "name": "stdout",
     "output_type": "stream",
     "text": [
      "35\n"
     ]
    }
   ],
   "source": [
    "a = 7\n",
    "product = 5 * a\n",
    "\n",
    "print(product)\n"
   ]
  },
  {
   "cell_type": "code",
   "execution_count": 9,
   "metadata": {},
   "outputs": [
    {
     "name": "stdout",
     "output_type": "stream",
     "text": [
      "17.5\n",
      "<class 'float'>\n",
      "17\n",
      "<class 'int'>\n"
     ]
    }
   ],
   "source": [
    "#By default, Python rounds of the number by .6 not .5. \n",
    "#Using the type() method, you can return the data type.\n",
    "#Using // turns a float output to an int.\n",
    "\n",
    "b = 2\n",
    "quotient = product / b\n",
    "\n",
    "print(quotient)\n",
    "print(type(quotient))\n",
    "\n",
    "quotient = product // b\n",
    "\n",
    "print(quotient)\n",
    "print(type(quotient))\n"
   ]
  },
  {
   "cell_type": "code",
   "execution_count": 2,
   "metadata": {},
   "outputs": [
    {
     "name": "stdout",
     "output_type": "stream",
     "text": [
      "30\n"
     ]
    }
   ],
   "source": [
    "a = 5\n",
    "b = 10\n",
    "\n",
    "c = a + b\n",
    "\n",
    "c = c * 2\n",
    "\n",
    "print(c)"
   ]
  },
  {
   "cell_type": "code",
   "execution_count": 3,
   "metadata": {},
   "outputs": [
    {
     "name": "stdout",
     "output_type": "stream",
     "text": [
      "The answer is 404\n",
      "The answer is  404\n"
     ]
    }
   ],
   "source": [
    "a = 2\n",
    "b = 11\n",
    "\n",
    "a = a * 2\n",
    "b = b+(c * 3)\n",
    "\n",
    "c = a * b\n",
    "print(\"The answer is\", c)\n",
    "print(\"The answer is \", c)"
   ]
  },
  {
   "cell_type": "code",
   "execution_count": 10,
   "metadata": {},
   "outputs": [
    {
     "name": "stdout",
     "output_type": "stream",
     "text": [
      "75\n"
     ]
    },
    {
     "data": {
      "text/plain": [
       "str"
      ]
     },
     "execution_count": 10,
     "metadata": {},
     "output_type": "execute_result"
    }
   ],
   "source": [
    "#Using the input() built-in method can allow the user to provide a value for a specific variable.\n",
    "#By default, input function uses a str data type.\n",
    "\n",
    "num1 = input(\"Enter the first number: \")\n",
    "num2 = input(\"Enter the second number: \")\n",
    "\n",
    "answer = num1 + num2\n",
    "print(answer)\n",
    "type(answer)"
   ]
  },
  {
   "cell_type": "code",
   "execution_count": 13,
   "metadata": {},
   "outputs": [
    {
     "name": "stdout",
     "output_type": "stream",
     "text": [
      "type of num1: <class 'str'>\n",
      "type of num2: <class 'str'>\n",
      "210\n"
     ]
    },
    {
     "data": {
      "text/plain": [
       "int"
      ]
     },
     "execution_count": 13,
     "metadata": {},
     "output_type": "execute_result"
    }
   ],
   "source": [
    "#Be careful where you perform casting. \n",
    "# You might be thinking that just because you casted you are correct already. \n",
    "# You may take inputs as str and perform a specific operation.\n",
    "\n",
    "num1 = input(\"Enter the first number: \")\n",
    "num2 = input(\"Enter the second number: \")\n",
    "\n",
    "print(\"type of num1:\", type(num1))\n",
    "print(\"type of num2:\", type(num2))\n",
    "\n",
    "answer = num1 + num2\n",
    "answer = int(answer)\n",
    "print(answer)\n",
    "type(answer)"
   ]
  },
  {
   "cell_type": "code",
   "execution_count": 12,
   "metadata": {},
   "outputs": [
    {
     "name": "stdout",
     "output_type": "stream",
     "text": [
      "type of num1: <class 'int'>\n",
      "type of num2: <class 'int'>\n",
      "9\n"
     ]
    },
    {
     "data": {
      "text/plain": [
       "int"
      ]
     },
     "execution_count": 12,
     "metadata": {},
     "output_type": "execute_result"
    }
   ],
   "source": [
    "num1 = int(input(\"Enter the first number: \"))\n",
    "num2 = int(input(\"Enter the second number: \"))\n",
    "\n",
    "print(\"type of num1:\", type(num1))\n",
    "print(\"type of num2:\", type(num2))\n",
    "\n",
    "\n",
    "answer = num1 + num2\n",
    "print(answer)\n",
    "type(answer)"
   ]
  },
  {
   "cell_type": "code",
   "execution_count": 72,
   "metadata": {},
   "outputs": [
    {
     "name": "stdout",
     "output_type": "stream",
     "text": [
      "9\n",
      "27\n"
     ]
    }
   ],
   "source": [
    "#We can also square or cube in python using a ** as the exponent.\n",
    "#If 2 its squared, 3 its cubed.\n",
    "\n",
    "squared = 3 ** 2\n",
    "cubed = 3 ** 3\n",
    "\n",
    "print(squared)\n",
    "print(cubed)\n"
   ]
  },
  {
   "cell_type": "code",
   "execution_count": 13,
   "metadata": {},
   "outputs": [
    {
     "name": "stdout",
     "output_type": "stream",
     "text": [
      "5\n",
      "<class 'str'>\n",
      "5\n",
      "<class 'int'>\n",
      "5.5\n",
      "<class 'float'>\n"
     ]
    }
   ],
   "source": [
    "#Python Casting\n",
    "# Integer to String\n",
    "x = 5\n",
    "y = str(x)\n",
    "print(y)\n",
    "print(type(y))\n",
    "\n",
    "# String to Integer\n",
    "x = \"5\"\n",
    "y = int(x)\n",
    "print(y)\n",
    "print(type(y))\n",
    "\n",
    "# String to Float\n",
    "x = \"5.5\"\n",
    "y = float(x)\n",
    "print(y)\n",
    "print(type(y))"
   ]
  },
  {
   "cell_type": "code",
   "execution_count": 14,
   "metadata": {},
   "outputs": [
    {
     "name": "stdout",
     "output_type": "stream",
     "text": [
      "The decimal part of the division result is 0.3999999999999999\n"
     ]
    }
   ],
   "source": [
    "#taking the remainder and assigning it to another variable\n",
    "num1 = int(input(\"Enter the first number: \"))\n",
    "num2 = int(input(\"Enter the second number: \"))\n",
    "ans = num1 / num2\n",
    "decimal_part = ans - int(ans)\n",
    "\n",
    "print(\"The decimal part of the division result is\", decimal_part)"
   ]
  },
  {
   "cell_type": "code",
   "execution_count": 17,
   "metadata": {},
   "outputs": [
    {
     "name": "stdout",
     "output_type": "stream",
     "text": [
      "Your name isJohn.\n",
      "Your name is John.\n"
     ]
    }
   ],
   "source": [
    "#You can concatenate a string with a + sign.\n",
    "#Using the + sign to concatenate str may require you to put a whitespace to separate them.\n",
    "#Be reminded that in Python, you can only concatenate str to str with not str with number values.\n",
    "\n",
    "name = \"John\"\n",
    "\n",
    "print(\"Your name is\" + name + \".\")\n",
    "print(\"Your name is\", name + \".\")"
   ]
  },
  {
   "cell_type": "code",
   "execution_count": 18,
   "metadata": {},
   "outputs": [
    {
     "name": "stdout",
     "output_type": "stream",
     "text": [
      "My age is 50\n",
      "My age is  50\n"
     ]
    }
   ],
   "source": [
    "#You can reference a number value by using a `,` sign. \n",
    "#Those that used `,` sign will provide a whitespace already.\n",
    "\n",
    "age = 50\n",
    "print(\"My age is\", age)\n",
    "\n",
    "#No need for additional whitespace with `,`.\n",
    "print(\"My age is \", age)"
   ]
  },
  {
   "cell_type": "code",
   "execution_count": 19,
   "metadata": {},
   "outputs": [
    {
     "name": "stdout",
     "output_type": "stream",
     "text": [
      "My age is 50.\n"
     ]
    }
   ],
   "source": [
    "#You can concatenate a number type with + if they are casted as str.\n",
    "\n",
    "age = 50\n",
    "\n",
    "print(\"My age is\", str(age) + \".\")"
   ]
  },
  {
   "cell_type": "code",
   "execution_count": 9,
   "metadata": {},
   "outputs": [
    {
     "name": "stdout",
     "output_type": "stream",
     "text": [
      "Rick is already 60 years old!\n",
      "Rick is already 60 years old!\n",
      "Rick is already 60 years old!\n",
      "{name} is already {age} years old!\n",
      "<class 'int'>\n"
     ]
    }
   ],
   "source": [
    "#There are numerous str interpolations. \n",
    "#If using dynamic or variables that tend to have changing values, you may us the `f` formatting with {}. \n",
    "#Using f\"{variable}\" simply takes in the value of the variable which no longer require a + or `,`.\n",
    "\n",
    "age = 60\n",
    "name = \"Rick\"\n",
    "\n",
    "print(name, \"is already\", age, \"years old!\")\n",
    "\n",
    "print(name + \" is already \" + str(age) + \" years old!\")\n",
    "\n",
    "print(f\"{name} is already {age} years old!\")\n",
    "\n",
    "print(\"{name} is already {age} years old!\")\n",
    "\n",
    "\n",
    "print(type(age))"
   ]
  },
  {
   "cell_type": "code",
   "execution_count": 23,
   "metadata": {},
   "outputs": [
    {
     "name": "stdout",
     "output_type": "stream",
     "text": [
      "With Rengoku's perseverance, he acquired the legendary Hashira's sword!\n",
      "With Rengoku's perseverance, he acquired the legendary Hashira's sword!\n"
     ]
    }
   ],
   "source": [
    "#Python does is not strict with \"\" or ''. \n",
    "#However, Python will require you to have \"\" if you are having a ' in your printouts.\n",
    "#You can do this vice-versa, but be careful as it can be correct via syntax but may be wrong grammatically. \n",
    "\n",
    "item = \"sword\"\n",
    "level = 45\n",
    "warrior_legend = \"Hashira\"\n",
    "hero_name = input(\"What's your name, mighty hero!? \")\n",
    "\n",
    "print(\"With\", hero_name + \"'s\" \" perseverance, he acquired the legendary \" + warrior_legend + \"'s\" + \" \" + item + \"!\")\n",
    "print(f\"With {hero_name}'s perseverance, he acquired the legendary {warrior_legend}'s {item}!\")"
   ]
  },
  {
   "cell_type": "code",
   "execution_count": 13,
   "metadata": {},
   "outputs": [
    {
     "name": "stdout",
     "output_type": "stream",
     "text": [
      "Hey, Doctor Mae!\n",
      "Hey, Engr. Lolita!\n",
      "Hey, Doctor Lolita I want to be an Engineer!\n"
     ]
    }
   ],
   "source": [
    "job = \"Doctor\"\n",
    "name = \"Mae\"\n",
    "\n",
    "print('Hey, %s %s!' %(job, name))\n",
    "print('Hey, %s %s!' %('Engr.', 'Lolita'))\n",
    "print('Hey, %s %s I want to be an %s!' %(job, 'Lolita', 'Engineer'))\n"
   ]
  },
  {
   "cell_type": "code",
   "execution_count": 14,
   "metadata": {},
   "outputs": [
    {
     "name": "stdout",
     "output_type": "stream",
     "text": [
      "Hello, Randy Orton!\n",
      "Hello, Orton Randy!\n",
      "Hello, Randy Orton with age of 41!\n",
      "Hello, John Cena with age of 48!\n"
     ]
    }
   ],
   "source": [
    "first_name = 'Randy'\n",
    "last_name = 'Orton'\n",
    "age = 41\n",
    "print('Hello, {} {}!'.format(first_name, last_name))\n",
    "print('Hello, {} {}!'.format(last_name, first_name))\n",
    "print(\"Hello, {} {} with age of {}!\".format(first_name, last_name, age))\n",
    "\n",
    "print(\"Hello, {} {} with age of {}!\".format('John', 'Cena', 48))"
   ]
  },
  {
   "cell_type": "code",
   "execution_count": null,
   "metadata": {},
   "outputs": [],
   "source": [
    "#Summary of String interpolations\n",
    "\n",
    "# Using the format method\n",
    "x = \"John\"\n",
    "y = 25\n",
    "print(\"My name is {} and I am {} years old.\".format(x, y))\n",
    "\n",
    "# Using f-strings (Python 3.6+)\n",
    "x = \"John\"\n",
    "y = 25\n",
    "print(f\"My name is {x} and I am {y} years old.\")\n",
    "\n",
    "# Using % operator\n",
    "x = \"John\"\n",
    "y = 25\n",
    "print(\"My name is %s and I am %d years old.\" % (x, y))\n",
    "\n",
    "# Using + operator\n",
    "x = \"John\"\n",
    "y = 25\n",
    "print(\"My name is \" + x + \" and I am \" + str(y) + \" years old.\")\n",
    "\n",
    "# The format method allows you to place placeholders {} in the string and then pass values for those placeholders using the format() method.\n",
    "\n",
    "# f-strings (formatted string literals) are a feature of Python 3.6+ \n",
    "# which allows you to embed expressions inside string literals, denoted by an 'f' before the string.\n",
    "\n",
    "# The % operator is used to replace placeholders in a string with values. %s is used for strings and %d is used for integers.\n",
    "\n",
    "# The + operator is used to concatenate strings and variables.\n"
   ]
  },
  {
   "cell_type": "code",
   "execution_count": 24,
   "metadata": {},
   "outputs": [
    {
     "name": "stdout",
     "output_type": "stream",
     "text": [
      "The decimal part of the division result with n decimal places is 0.4000\n"
     ]
    }
   ],
   "source": [
    "#Formatting the float value\n",
    "num1 = int(input(\"Enter the first number: \"))\n",
    "num2 = int(input(\"Enter the second number: \"))\n",
    "ans = num1 / num2\n",
    "decimal_part = ans - int(ans)\n",
    "\n",
    "print(\"The decimal part of the division result with n decimal places is {:.4f}\".format(decimal_part))\n"
   ]
  },
  {
   "cell_type": "code",
   "execution_count": 36,
   "metadata": {},
   "outputs": [
    {
     "name": "stdout",
     "output_type": "stream",
     "text": [
      "***\n",
      "----------\n",
      "Hey! Hey! Hey! Hey! \n"
     ]
    }
   ],
   "source": [
    "#Using the * operator for str is possible in python to multiply its value.\n",
    "#Using the / or // is not allowed, similarly to + and -.\n",
    "\n",
    "print(\"*\"*3)\n",
    "\n",
    "multipler = 10\n",
    "\n",
    "print(\"-\" * multipler)\n",
    "\n",
    "print(\"Hey! \"*4)\n"
   ]
  },
  {
   "cell_type": "code",
   "execution_count": 37,
   "metadata": {},
   "outputs": [
    {
     "name": "stdout",
     "output_type": "stream",
     "text": [
      "********************\n",
      "p is  True\n",
      "v is False\n",
      "********************\n",
      "p and v: False\n",
      "p or v: True\n",
      "p equals to v: False\n",
      "p and v: False\n",
      "p or v: True\n",
      "p equals to v: False\n",
      "p and v and p: False\n",
      "p and v and p: True\n",
      "p or v and p: True\n",
      "v or v and v: False\n"
     ]
    }
   ],
   "source": [
    "#If and operator is used, a single false can already result to a false regardless of the number of variables.\n",
    "#Whereas, if or operator is used, one true can already result to true.\n",
    "\n",
    "p = True\n",
    "v = False\n",
    "\n",
    "p_or_v = p or v\n",
    "p_and_v = p and v\n",
    "print('*'*20)\n",
    "print(\"p is \", p)\n",
    "print(\"v is\", v)\n",
    "print('*'*20)\n",
    "\n",
    "print(\"p and v:\", p and v)\n",
    "print(\"p or v:\", p or v)\n",
    "print(\"p equals to v:\", p == v)\n",
    "\n",
    "print(\"p and v:\", p_or_v and p_and_v)\n",
    "print(\"p or v:\", p_or_v or p_and_v)\n",
    "print(\"p equals to v:\", p_or_v == p_and_v)\n",
    "\n",
    "print(\"p and v and p:\", p and v and p)\n",
    "print(\"p and v and p:\", p and p and p)\n",
    "\n",
    "print(\"p or v and p:\", p or v and p)\n",
    "print(\"v or v and v:\", v or v and v)\n"
   ]
  },
  {
   "cell_type": "code",
   "execution_count": 102,
   "metadata": {},
   "outputs": [
    {
     "name": "stdout",
     "output_type": "stream",
     "text": [
      "False\n",
      "True\n"
     ]
    }
   ],
   "source": [
    "print(True and True and False)\n",
    "print(False or False or True)"
   ]
  },
  {
   "cell_type": "code",
   "execution_count": 80,
   "metadata": {},
   "outputs": [
    {
     "name": "stdout",
     "output_type": "stream",
     "text": [
      "True\n"
     ]
    }
   ],
   "source": [
    "apple_price = 20\n",
    "orange_price = 20\n",
    "\n",
    "print(apple_price == orange_price)"
   ]
  },
  {
   "cell_type": "code",
   "execution_count": 82,
   "metadata": {},
   "outputs": [
    {
     "name": "stdout",
     "output_type": "stream",
     "text": [
      "True\n",
      "False\n",
      "False\n"
     ]
    }
   ],
   "source": [
    "iphone_cost = 60000\n",
    "android_cost = 35000\n",
    "\n",
    "print(iphone_cost > android_cost)\n",
    "print(iphone_cost < android_cost)\n",
    "print(iphone_cost == android_cost)\n"
   ]
  },
  {
   "cell_type": "code",
   "execution_count": 39,
   "metadata": {},
   "outputs": [
    {
     "name": "stdout",
     "output_type": "stream",
     "text": [
      "False\n",
      "True\n",
      "False\n",
      "True\n"
     ]
    }
   ],
   "source": [
    "x = 5\n",
    "y = 7\n",
    "\n",
    "print(x == y)\n",
    "print(x != y)\n",
    "print(x >= y)\n",
    "print(x <= y)"
   ]
  },
  {
   "cell_type": "code",
   "execution_count": 40,
   "metadata": {},
   "outputs": [
    {
     "name": "stdout",
     "output_type": "stream",
     "text": [
      "False\n",
      "True\n",
      "False\n",
      "True\n",
      "False\n"
     ]
    }
   ],
   "source": [
    "# Using comparison operators\n",
    "x = 5\n",
    "y = 10\n",
    "print(x > y) # False\n",
    "print(x < y) # True\n",
    "\n",
    "# Using logical operators\n",
    "a = True\n",
    "b = False\n",
    "print(a and b) # False\n",
    "print(a or b) # True\n",
    "print(not a) # False"
   ]
  },
  {
   "cell_type": "code",
   "execution_count": 41,
   "metadata": {},
   "outputs": [
    {
     "name": "stdout",
     "output_type": "stream",
     "text": [
      "True\n",
      "<class 'bool'>\n"
     ]
    }
   ],
   "source": [
    "#String to Boolean\n",
    "x = \"True\"\n",
    "y = (x == \"True\")\n",
    "print(y)\n",
    "print(type(y))"
   ]
  },
  {
   "cell_type": "code",
   "execution_count": 42,
   "metadata": {},
   "outputs": [
    {
     "name": "stdout",
     "output_type": "stream",
     "text": [
      "1\n",
      "<class 'int'>\n"
     ]
    }
   ],
   "source": [
    "#Boolean to Integer\n",
    "x = True\n",
    "y = int(x)\n",
    "print(y)\n",
    "print(type(y))"
   ]
  },
  {
   "cell_type": "code",
   "execution_count": 43,
   "metadata": {},
   "outputs": [
    {
     "name": "stdout",
     "output_type": "stream",
     "text": [
      "False\n",
      "<class 'bool'>\n"
     ]
    }
   ],
   "source": [
    "#Integer to Boolean\n",
    "x = 0\n",
    "y = bool(x)\n",
    "print(y)\n",
    "print(type(y))"
   ]
  },
  {
   "cell_type": "code",
   "execution_count": 44,
   "metadata": {},
   "outputs": [
    {
     "name": "stdout",
     "output_type": "stream",
     "text": [
      "\n",
      "Receipt\n",
      "**********\n",
      "Name:  Aaron\n",
      "Age:  25\n",
      "Address:  Batangas\n",
      "Game:  Roblox\n",
      "Price: $ 0.0\n",
      "**********\n"
     ]
    }
   ],
   "source": [
    "# Basic procedural Python Code\n",
    "name = input(\"What is your name? \")\n",
    "age = int(input(\"What is your age? \"))\n",
    "address = input(\"What is your address? \")\n",
    "game = input(\"What game do you want to purchase? \")\n",
    "price = float(input(\"What is the price of the game? \"))\n",
    "\n",
    "# Print a receipt\n",
    "print(\"\\nReceipt\")\n",
    "print(\"*\"*10)\n",
    "print(\"Name: \", name)\n",
    "print(\"Age: \", age)\n",
    "print(\"Address: \", address)\n",
    "print(\"Game: \", game)\n",
    "print(\"Price: $\", price)\n",
    "print(\"*\"*10)\n"
   ]
  },
  {
   "cell_type": "code",
   "execution_count": 45,
   "metadata": {},
   "outputs": [
    {
     "name": "stdout",
     "output_type": "stream",
     "text": [
      "\n",
      "Cooking Instructions\n",
      "====================\n",
      "1. Start by heating a pan on medium heat.\n",
      "2. Add Pork and Soy Sauce to the pan.\n",
      "3. Cook for 5 minutes.\n",
      "4. Add Onions to the pan.\n",
      "5. Cook for an additional 20 minutes.\n",
      "6. Your Adobo is now ready to be served!\n"
     ]
    }
   ],
   "source": [
    "# Basic procedural Python Code\n",
    "dish_name = input(\"What dish would you like to make? \")\n",
    "ingredient1 = input(\"What is the first ingredient? \")\n",
    "ingredient2 = input(\"What is the second ingredient? \")\n",
    "ingredient3 = input(\"What is the third ingredient? \")\n",
    "cooking_time = int(input(\"How long will it take to cook (in minutes)? \"))\n",
    "\n",
    "# Cooking Process\n",
    "print(\"\\nCooking Instructions\")\n",
    "print(\"=\"*20)\n",
    "print(\"1. Start by heating a pan on medium heat.\")\n",
    "print(f\"2. Add {ingredient1} and {ingredient2} to the pan.\")\n",
    "print(\"3. Cook for 5 minutes.\")\n",
    "print(f\"4. Add {ingredient3} to the pan.\")\n",
    "print(f\"5. Cook for an additional {cooking_time} minutes.\")\n",
    "print(f\"6. Your {dish_name} is now ready to be served!\")\n"
   ]
  },
  {
   "cell_type": "code",
   "execution_count": 46,
   "metadata": {},
   "outputs": [
    {
     "name": "stdout",
     "output_type": "stream",
     "text": [
      "\n",
      "John Doe is now Coding for 10 minutes.\n",
      "John Doe is doing the activity outdoors.\n",
      "John Doe is done with the activity\n"
     ]
    }
   ],
   "source": [
    "# Basic procedural Python Code\n",
    "name = input(\"What is the person's name? \")\n",
    "activity = input(\"What activity is the person doing? \")\n",
    "time = int(input(\"How long will the activity take (in minutes)? \"))\n",
    "is_indoors = input(\"Is the activity taking place indoors? (yes/no) \") == \"yes\"\n",
    "\n",
    "# Perform the activity\n",
    "print(f\"\\n{name} is now {activity} for {time} minutes.\")\n",
    "# print(f\"{name} is doing the activity {'indoors' if is_indoors else 'outdoors'}.\")\n",
    "\n",
    "# Print a message\n",
    "print(f\"{name} is done with the activity\")"
   ]
  },
  {
   "cell_type": "code",
   "execution_count": 25,
   "metadata": {},
   "outputs": [
    {
     "name": "stdout",
     "output_type": "stream",
     "text": [
      "Total legs:  100\n",
      "Number of groups:  14\n",
      "Remainder:  2\n",
      "Chickens per group:  1\n",
      "Rabbits per group:  1\n",
      "Animals per group:  2\n"
     ]
    }
   ],
   "source": [
    "# A farmer has chickens and rabbits in his farm\n",
    "chickens = 20\n",
    "rabbits = 15\n",
    "\n",
    "# He wants to find out how many legs the animals have in total\n",
    "# One chicken has 2 legs, and one rabbit has 4 legs\n",
    "total_legs = chickens * 2 + rabbits * 4\n",
    "\n",
    "# The farmer wants to divide the animals into groups of 7\n",
    "# He wants to know how many groups he can form, and how many animals will be left\n",
    "group_size = 7\n",
    "groups = total_legs // group_size\n",
    "remainder = total_legs % group_size\n",
    "\n",
    "# The farmer wants to know the number of chickens and rabbits in each group\n",
    "chickens_per_group = chickens // groups\n",
    "rabbits_per_group = rabbits // groups\n",
    "\n",
    "# The farmer wants to know the total number of animals in each group\n",
    "animals_per_group = chickens_per_group + rabbits_per_group\n",
    "\n",
    "print(\"Total legs: \", total_legs)\n",
    "print(\"Number of groups: \", groups)\n",
    "print(\"Remainder: \", remainder)\n",
    "print(\"Chickens per group: \", chickens_per_group)\n",
    "print(\"Rabbits per group: \", rabbits_per_group)\n",
    "print(\"Animals per group: \", animals_per_group)\n",
    "\n",
    "\n",
    "# This script follows the story of a farmer who has\n",
    "# chickens and rabbits in his farm, and he wants to \n",
    "# find out the total number of legs the animals have,\n",
    "# and divide them into groups of 7. The script uses modulo \n",
    "# to find the remainder when the total number of legs is \n",
    "# divided by 7. It also uses algebra to find the number of \n",
    "# chickens and rabbits in each group, and the total number of \n",
    "# animals in each group. The final results are printed out to the console.\n",
    "\n",
    "#Eq\n",
    "# L = 2 * C + 4 * R\n",
    "# G = L // g\n",
    "# R = L % g\n",
    "# C_per_G = C // G\n",
    "# R_per_G = R // G\n",
    "# A_per_G = C_per_G + R_per_G\n",
    "\n",
    "# where L is the total number of legs, C is the number of chickens, \n",
    "# R is the number of rabbits, G is the number of groups, g is the group size, \n",
    "# R is the remainder, C_per_G is the number of chickens per group, R_per_G \n",
    "# is the number of rabbits per group, and A_per_G is the total number of animals per group.\n"
   ]
  },
  {
   "cell_type": "code",
   "execution_count": 26,
   "metadata": {},
   "outputs": [
    {
     "name": "stdout",
     "output_type": "stream",
     "text": [
      "Games needed:  3\n",
      "Total coins:  19\n"
     ]
    }
   ],
   "source": [
    "# A gamer has 10 coins and earns 3 coins every time he wins a game\n",
    "coins = 10\n",
    "earnings = 3\n",
    "\n",
    "# He wants to know how many games he needs to play to reach a target of 20 coins\n",
    "target = 20\n",
    "games = (target - coins) // earnings\n",
    "\n",
    "# The gamer wants to know how many coins he will have after playing the required games\n",
    "total_coins = coins + earnings * games\n",
    "\n",
    "print(\"Games needed: \", games)\n",
    "print(\"Total coins: \", total_coins)\n",
    "\n",
    "#Expression\n",
    "# G = (T - C) // E\n",
    "# T_C = C + E * G\n",
    "\n",
    "# where G is the number of games needed, T is the target number of coins, \n",
    "# C is the starting number of coins, \n",
    "# E is the number of coins earned per game, \n",
    "# and T_C is the total number of coins after playing the required games.\n",
    "\n",
    "# This code follows the story of a gamer who wants to reach a target number of coins. \n",
    "# The gamer starts with a certain number of coins and earns a fixed number of coins \n",
    "# every time he wins a game. The code uses basic arithmetic operations such as \n",
    "# addition and division to find the number of games needed to reach the target \n",
    "# and the total number of coins after playing the required games. \n",
    "# The final results are printed out to the console.\n"
   ]
  },
  {
   "cell_type": "code",
   "execution_count": 27,
   "metadata": {},
   "outputs": [
    {
     "name": "stdout",
     "output_type": "stream",
     "text": [
      "Rows:  6\n",
      "Columns:  40\n",
      "Plants per row:  8\n",
      "Plants per column:  1\n"
     ]
    }
   ],
   "source": [
    "# This code represents the problem of a gardener who wants to plant \n",
    "# a garden with a certain number of plants. The garden has a rectangular shape \n",
    "# with a fixed width and length in meters. The gardener wants to know the number of rows \n",
    "# and columns he needs to plant the plants and the number of plants that can be planted in each row \n",
    "# and column.\n",
    "\n",
    "# R = floor(W / 1.5)\n",
    "# C = floor(L / 0.5)\n",
    "# P_R = P // R\n",
    "# P_C = P // C\n",
    "\n",
    "# where R is the number of rows, C is the number of columns, \n",
    "# P_R is the number of plants per row, P_C is the number of plants per column, \n",
    "# W is the width of the garden in meters, L is the length of the garden in meters, \n",
    "# and P is the total number of plants.\n",
    "\n",
    "# The code uses integer division and floor division to find the number of rows \n",
    "# and columns needed to plant the plants, as well as the number of plants that \n",
    "# can be planted in each row and column. The floor division operator // returns \n",
    "# the result of division rounded down to the nearest integer. \n",
    "# For example, 10 // 3 = 3 and 10 // 2 = 5. The code also uses type casting to \n",
    "# convert the results of the division operations to integers.\n",
    "\n",
    "# The final results are printed out to the console, providing the number of rows \n",
    "# and columns needed to plant the plants, as well as the number of plants that can \n",
    "# be planted in each row and column.\n",
    "\n",
    "# A gardener wants to plant a garden with a total of 50 plants\n",
    "plants = 50\n",
    "\n",
    "# The garden has a rectangular shape with a width and length, both in meters\n",
    "width = 10\n",
    "length = 20\n",
    "\n",
    "# The gardener wants to know the number of rows and columns he needs to plant the plants\n",
    "rows = int(width // 1.5)\n",
    "columns = int(length // 0.5)\n",
    "\n",
    "# The gardener wants to know how many plants he can plant in each row and column\n",
    "plants_per_row = int(plants / rows)\n",
    "plants_per_column = int(plants / columns)\n",
    "\n",
    "print(\"Rows: \", rows)\n",
    "print(\"Columns: \", columns)\n",
    "print(\"Plants per row: \", plants_per_row)\n",
    "print(\"Plants per column: \", plants_per_column)\n"
   ]
  },
  {
   "cell_type": "code",
   "execution_count": null,
   "metadata": {},
   "outputs": [],
   "source": []
  }
 ],
 "metadata": {
  "kernelspec": {
   "display_name": "projects2022",
   "language": "python",
   "name": "python3"
  },
  "language_info": {
   "codemirror_mode": {
    "name": "ipython",
    "version": 3
   },
   "file_extension": ".py",
   "mimetype": "text/x-python",
   "name": "python",
   "nbconvert_exporter": "python",
   "pygments_lexer": "ipython3",
   "version": "3.9.12"
  },
  "orig_nbformat": 4,
  "vscode": {
   "interpreter": {
    "hash": "caba5fb2e65e5cd320935daeb5a23cf1221c4ea11b88a6babfa283dbfc6ad08a"
   }
  }
 },
 "nbformat": 4,
 "nbformat_minor": 2
}
