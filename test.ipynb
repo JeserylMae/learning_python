{
 "cells": [
  {
   "cell_type": "code",
   "execution_count": 1,
   "metadata": {},
   "outputs": [],
   "source": [
    "def even_now():\n",
    "    n1 = int(input(\"Enter value of n1: \"))\n",
    "    n2 = int(input(\"Enter value of n2: \"))\n",
    "\n",
    "    for i in reversed(range(n1, n2+2)):\n",
    "        if i <= n2:\n",
    "            if i % 2 == 0:\n",
    "                print(i, end=\" \")\n",
    "\n",
    "even_now()"
   ]
  },
  {
   "cell_type": "code",
   "execution_count": 2,
   "metadata": {},
   "outputs": [],
   "source": [
    "def monster(n):\n",
    "    n = str(n)\n",
    "\n",
    "    for i in n:\n",
    "        if i == 3:\n",
    "            return None\n",
    "\n",
    "        if i == \"3\" or i == \"2\" or i == \"1\" or i == \"0\":\n",
    "            del i\n",
    "        else:\n",
    "            i = int(i)\n",
    "            print(i)\n",
    "        \n",
    "monster(45)"
   ]
  },
  {
   "cell_type": "code",
   "execution_count": 10,
   "metadata": {},
   "outputs": [
    {
     "name": "stdout",
     "output_type": "stream",
     "text": [
      "[5]\n",
      "[5, 10]\n",
      "[5, 10, 7]\n",
      "7\n"
     ]
    }
   ],
   "source": [
    "list = []\n",
    "\n",
    "def PUSH():\n",
    "    list.append(n)\n",
    "    print(list)\n",
    "\n",
    "def POP():\n",
    "    if len(list) < 1:\n",
    "        print('list has no entry')\n",
    "        print(list)\n",
    "    elif len(list) >= 1:\n",
    "        list.pop()\n",
    "        print(list)\n",
    "\n",
    "def TOP():\n",
    "    n = len(list)\n",
    "    print(list[n-1])\n",
    "\n",
    "while True:\n",
    "    action = input(\"Enter PUSH N to add value, N is int value\\nEnter PUSH N to add value, N is int value\\nEnter POP to remove value\\nEnter TOP to print final result:\")\n",
    "\n",
    "    if action == \"PUSH\":\n",
    "        n = int(input(\"Enter number to push\"))\n",
    "        PUSH()\n",
    "\n",
    "    if action == \"POP\":\n",
    "        POP()\n",
    "    \n",
    "    if action == \"TOP\":\n",
    "        TOP()\n",
    "        break\n"
   ]
  },
  {
   "cell_type": "code",
   "execution_count": 182,
   "metadata": {},
   "outputs": [],
   "source": [
    "class Solution:\n",
    "    @staticmethod\n",
    "    def romanToInt(s):\n",
    "        s = str(s)\n",
    "        rn = {'I':1,'V':5,'X':10,'L':50,'C':100, 'D':500, 'M':1000}\n",
    "        place_identifier = 0\n",
    "        \n",
    "        for i in range(0, len(s)-1):\n",
    "            if rn[s[i+1]] > rn[s[i]]:\n",
    "                place_identifier-=rn[s[i]] #if greater or equal reduce\n",
    "            else:\n",
    "                place_identifier+=rn[s[i]] #if lesser or equal increase\n",
    "        \n",
    "        place_identifier+=rn[s[len(s)-1]]\n",
    "        \n",
    "        return place_identifier"
   ]
  },
  {
   "cell_type": "code",
   "execution_count": 183,
   "metadata": {},
   "outputs": [],
   "source": [
    "solution = Solution()"
   ]
  },
  {
   "cell_type": "code",
   "execution_count": 184,
   "metadata": {},
   "outputs": [
    {
     "data": {
      "text/plain": [
       "543"
      ]
     },
     "execution_count": 184,
     "metadata": {},
     "output_type": "execute_result"
    }
   ],
   "source": [
    "solution.romanToInt(s=\"DXLIII\")"
   ]
  },
  {
   "cell_type": "code",
   "execution_count": 191,
   "metadata": {},
   "outputs": [
    {
     "name": "stdout",
     "output_type": "stream",
     "text": [
      "256 GB\n",
      "512 GB\n",
      "1 TB\n"
     ]
    }
   ],
   "source": []
  },
  {
   "cell_type": "code",
   "execution_count": null,
   "metadata": {},
   "outputs": [],
   "source": []
  }
 ],
 "metadata": {
  "kernelspec": {
   "display_name": "Python 3.9.12 ('projects2022')",
   "language": "python",
   "name": "python3"
  },
  "language_info": {
   "codemirror_mode": {
    "name": "ipython",
    "version": 3
   },
   "file_extension": ".py",
   "mimetype": "text/x-python",
   "name": "python",
   "nbconvert_exporter": "python",
   "pygments_lexer": "ipython3",
   "version": "3.9.12"
  },
  "orig_nbformat": 4,
  "vscode": {
   "interpreter": {
    "hash": "caba5fb2e65e5cd320935daeb5a23cf1221c4ea11b88a6babfa283dbfc6ad08a"
   }
  }
 },
 "nbformat": 4,
 "nbformat_minor": 2
}
