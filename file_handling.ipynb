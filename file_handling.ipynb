{
 "cells": [
  {
   "cell_type": "markdown",
   "metadata": {},
   "source": [
    "# Basic file creation, opening, accessing, writing, and appending."
   ]
  },
  {
   "cell_type": "code",
   "execution_count": 96,
   "metadata": {},
   "outputs": [],
   "source": [
    "#Create a file first!\n",
    "def file_maker(fileName):\n",
    "    f = open(f\"{fileName}.txt\", 'x')"
   ]
  },
  {
   "cell_type": "code",
   "execution_count": 97,
   "metadata": {},
   "outputs": [],
   "source": [
    "fileName = \"x_file\"\n",
    "\n",
    "file_maker(fileName)"
   ]
  },
  {
   "cell_type": "code",
   "execution_count": 98,
   "metadata": {},
   "outputs": [],
   "source": [
    "f = open(f\"{fileName}\", 'w')"
   ]
  },
  {
   "cell_type": "code",
   "execution_count": 99,
   "metadata": {},
   "outputs": [
    {
     "data": {
      "text/plain": [
       "42"
      ]
     },
     "execution_count": 99,
     "metadata": {},
     "output_type": "execute_result"
    }
   ],
   "source": [
    "f.write(\"I just wrote my first file through Python!\")"
   ]
  },
  {
   "cell_type": "code",
   "execution_count": 100,
   "metadata": {},
   "outputs": [
    {
     "name": "stdout",
     "output_type": "stream",
     "text": [
      "<_io.TextIOWrapper name='x_file' mode='w' encoding='cp1252'>\n"
     ]
    }
   ],
   "source": [
    "print(f)"
   ]
  },
  {
   "cell_type": "code",
   "execution_count": 101,
   "metadata": {},
   "outputs": [
    {
     "name": "stdout",
     "output_type": "stream",
     "text": [
      "I jus\n"
     ]
    }
   ],
   "source": [
    "f = open(f\"{fileName}\")\n",
    "print(f.read(5))"
   ]
  },
  {
   "cell_type": "code",
   "execution_count": 105,
   "metadata": {},
   "outputs": [],
   "source": [
    "f = open(f\"{fileName}\", 'r')"
   ]
  },
  {
   "cell_type": "code",
   "execution_count": 106,
   "metadata": {},
   "outputs": [
    {
     "name": "stdout",
     "output_type": "stream",
     "text": [
      "I jus\n"
     ]
    }
   ],
   "source": [
    "print (f.read(5))"
   ]
  },
  {
   "cell_type": "code",
   "execution_count": 107,
   "metadata": {},
   "outputs": [
    {
     "ename": "UnsupportedOperation",
     "evalue": "not writable",
     "output_type": "error",
     "traceback": [
      "\u001b[1;31m---------------------------------------------------------------------------\u001b[0m",
      "\u001b[1;31mUnsupportedOperation\u001b[0m                      Traceback (most recent call last)",
      "\u001b[1;32md:\\learning_python-1\\file_handling.ipynb Cell 10\u001b[0m in \u001b[0;36m<cell line: 1>\u001b[1;34m()\u001b[0m\n\u001b[1;32m----> <a href='vscode-notebook-cell:/d%3A/learning_python-1/file_handling.ipynb#X12sZmlsZQ%3D%3D?line=0'>1</a>\u001b[0m f\u001b[39m.\u001b[39;49mwrite(\u001b[39m\"\u001b[39;49m\u001b[39mThis is the write command\u001b[39;49m\u001b[39m\"\u001b[39;49m)\n\u001b[0;32m      <a href='vscode-notebook-cell:/d%3A/learning_python-1/file_handling.ipynb#X12sZmlsZQ%3D%3D?line=1'>2</a>\u001b[0m f\u001b[39m.\u001b[39mwrite(\u001b[39m\"\u001b[39m\u001b[39mIt allows us to write in a particular file\u001b[39m\u001b[39m\"\u001b[39m)\n\u001b[0;32m      <a href='vscode-notebook-cell:/d%3A/learning_python-1/file_handling.ipynb#X12sZmlsZQ%3D%3D?line=2'>3</a>\u001b[0m f\u001b[39m.\u001b[39mclose()\n",
      "\u001b[1;31mUnsupportedOperation\u001b[0m: not writable"
     ]
    }
   ],
   "source": [
    "f.write(\"This is the write command\")\n",
    "f.write(\"It allows us to write in a particular file\")\n",
    "f.close()"
   ]
  },
  {
   "cell_type": "code",
   "execution_count": 108,
   "metadata": {},
   "outputs": [],
   "source": [
    "f = open(f\"{fileName}.txt\", 'a')"
   ]
  },
  {
   "cell_type": "code",
   "execution_count": 109,
   "metadata": {},
   "outputs": [
    {
     "data": {
      "text/plain": [
       "42"
      ]
     },
     "execution_count": 109,
     "metadata": {},
     "output_type": "execute_result"
    }
   ],
   "source": [
    "f.write(\"This is the write command\")\n",
    "f.write(\"It allows us to write in a particular file\")"
   ]
  },
  {
   "cell_type": "code",
   "execution_count": 110,
   "metadata": {},
   "outputs": [],
   "source": [
    "f.write(\"This will add this line\")\n",
    "f.close()"
   ]
  },
  {
   "cell_type": "code",
   "execution_count": 112,
   "metadata": {},
   "outputs": [
    {
     "name": "stdout",
     "output_type": "stream",
     "text": [
      "You entered 1, it is accepted!\n"
     ]
    }
   ],
   "source": [
    "def int_checker(a):\n",
    "    print(f\"You entered {a}, it is accepted!\")\n",
    "\n",
    "while True:\n",
    "    try:\n",
    "        i = int(input('Input an integer from 0-4 only: '))\n",
    "        if i in range(0, 5):\n",
    "            int_checker(i)\n",
    "            break\n",
    "    except:\n",
    "        pass\n",
    "\n",
    "    print (\"Incorrect input, try again\")"
   ]
  },
  {
   "cell_type": "markdown",
   "metadata": {},
   "source": [
    "# Using the \"With\" Keyword."
   ]
  },
  {
   "cell_type": "code",
   "execution_count": 113,
   "metadata": {},
   "outputs": [],
   "source": [
    "with open(fileName) as f: \n",
    "    data = f.read()"
   ]
  },
  {
   "cell_type": "code",
   "execution_count": 114,
   "metadata": {},
   "outputs": [
    {
     "name": "stdout",
     "output_type": "stream",
     "text": [
      "I just wrote my first file through Python!\n"
     ]
    }
   ],
   "source": [
    "print(data)"
   ]
  },
  {
   "cell_type": "code",
   "execution_count": 115,
   "metadata": {},
   "outputs": [],
   "source": [
    "with open(fileName, \"w\") as f:\n",
    "    f.write(\"Hello World!!!\")"
   ]
  },
  {
   "cell_type": "code",
   "execution_count": 116,
   "metadata": {},
   "outputs": [
    {
     "name": "stdout",
     "output_type": "stream",
     "text": [
      "['Hello', 'World!!!']\n"
     ]
    }
   ],
   "source": [
    "with open(fileName, \"r\") as f:\n",
    "    data = f.readlines()\n",
    "    for line in data:\n",
    "        word = line.split()\n",
    "        print (word)"
   ]
  },
  {
   "cell_type": "markdown",
   "metadata": {},
   "source": [
    "# Using try except for better handling."
   ]
  },
  {
   "cell_type": "code",
   "execution_count": 118,
   "metadata": {},
   "outputs": [],
   "source": [
    "#Creates a new empty file\n",
    "#If the file already exists, it would raise a FileExistsError\n",
    "new_file = open(\"new_x_file.txt\", \"x\")"
   ]
  },
  {
   "cell_type": "code",
   "execution_count": 119,
   "metadata": {},
   "outputs": [
    {
     "name": "stdout",
     "output_type": "stream",
     "text": [
      "File new_x_file.txt already exists!\n"
     ]
    }
   ],
   "source": [
    "#Using a try except block can handle this problem in much cleaner way.\n",
    "try:\n",
    "    fileName = input(\"Enter your file name: \\nNo need to input file extension.\")\n",
    "    fileName = fileName + \".txt\"\n",
    "\n",
    "    fileName = open(fileName, \"x\")\n",
    "    print(f\"{fileName} was successfully created!\")\n",
    "except FileExistsError:\n",
    "    print(f\"File {fileName} already exists!\")\n"
   ]
  },
  {
   "cell_type": "code",
   "execution_count": 120,
   "metadata": {},
   "outputs": [
    {
     "name": "stdout",
     "output_type": "stream",
     "text": [
      "<_io.TextIOWrapper name='new_file.txt' mode='r' encoding='cp1252'>\n"
     ]
    }
   ],
   "source": [
    "f = open(\"new_file.txt\", \"r\")\n",
    "print(f)\n",
    "# print(fileName)"
   ]
  },
  {
   "cell_type": "code",
   "execution_count": 121,
   "metadata": {},
   "outputs": [],
   "source": [
    "file = open('new_file.txt', 'a')\n",
    "file.write('Welcome!')\n",
    "file.close()"
   ]
  },
  {
   "cell_type": "code",
   "execution_count": 125,
   "metadata": {},
   "outputs": [
    {
     "name": "stdout",
     "output_type": "stream",
     "text": [
      "File 'test.txt' already exists!\n"
     ]
    }
   ],
   "source": [
    "#Using a try except block can handle this problem in much cleaner way.\n",
    "try:\n",
    "    fileName = input(\"Enter your file name: \\nNo need to input file extension.\")\n",
    "    file = fileName + \".txt\"\n",
    "    f = open(file, \"x\")\n",
    "    print(f\"The file '{file}' is created!\")\n",
    "    # file = open(f\"{fileName}.txt\", 'w')\n",
    "    f.write('hello world !')\n",
    "    f.close()\n",
    "\n",
    "except FileExistsError:\n",
    "    print(f\"File '{file}' already exists!\")\n",
    "    f = open(f\"{file}.txt\", 'w')\n",
    "    f.write('Hello world!')\n",
    "    # file.read()\n",
    "    # file.close()"
   ]
  },
  {
   "cell_type": "code",
   "execution_count": 126,
   "metadata": {},
   "outputs": [
    {
     "name": "stdout",
     "output_type": "stream",
     "text": [
      "test.txt\n"
     ]
    }
   ],
   "source": [
    "print(f\"{file}\")"
   ]
  },
  {
   "cell_type": "code",
   "execution_count": 127,
   "metadata": {},
   "outputs": [],
   "source": [
    "# using with statement to open the file and write\n",
    "with open(fileName, 'w') as file:\n",
    "    file.write('hello world !')"
   ]
  },
  {
   "cell_type": "code",
   "execution_count": 128,
   "metadata": {},
   "outputs": [],
   "source": [
    "#Class-based try except with file handling\n",
    "class MessageWriter:\n",
    "    def __init__(self, file_name):\n",
    "        self.file_name = file_name\n",
    "     \n",
    "    def __enter__(self):\n",
    "        self.file = open(self.file_name, 'w')\n",
    "        return self.file\n",
    " \n",
    "    def __exit__(self, *args):\n",
    "        self.file.close()\n",
    " \n",
    "# using with statement with MessageWriter\n",
    "with MessageWriter('my_file.txt') as xfile:\n",
    "    xfile.write('hello world')"
   ]
  },
  {
   "cell_type": "markdown",
   "metadata": {},
   "source": [
    "# Python OS"
   ]
  },
  {
   "cell_type": "markdown",
   "metadata": {},
   "source": [
    "# Getting the Current Working Directory"
   ]
  },
  {
   "cell_type": "code",
   "execution_count": 129,
   "metadata": {},
   "outputs": [
    {
     "name": "stdout",
     "output_type": "stream",
     "text": [
      "Current working directory before\n",
      "d:\\\n",
      "\n",
      "Current working directory before\n",
      "d:\\\n",
      "\n"
     ]
    }
   ],
   "source": [
    "import os \n",
    "\n",
    "# Function to Get the current  \n",
    "# working directory \n",
    "def current_path(): \n",
    "    print(\"Current working directory before\") \n",
    "    print(os.getcwd()) \n",
    "    print() \n",
    "    \n",
    "# Driver's code \n",
    "# Printing CWD before \n",
    "current_path() \n",
    "    \n",
    "# Changing the CWD \n",
    "os.chdir('../') \n",
    "    \n",
    "# Printing CWD after \n",
    "current_path()"
   ]
  },
  {
   "cell_type": "code",
   "execution_count": 130,
   "metadata": {},
   "outputs": [
    {
     "name": "stdout",
     "output_type": "stream",
     "text": [
      "nt\n"
     ]
    }
   ],
   "source": [
    "print(os.name)"
   ]
  },
  {
   "cell_type": "markdown",
   "metadata": {},
   "source": [
    "# Creating a Directory"
   ]
  },
  {
   "cell_type": "code",
   "execution_count": 131,
   "metadata": {},
   "outputs": [
    {
     "name": "stdout",
     "output_type": "stream",
     "text": [
      "d:\\\n"
     ]
    }
   ],
   "source": [
    "# Python program to explain os.mkdir() method \n",
    "\n",
    "# Directory \n",
    "directory = \"myLatestFolder\"\n",
    "\n",
    "# Parent Directory path \n",
    "parent_dir = os.getcwd()\n",
    "print(parent_dir)\n",
    " "
   ]
  },
  {
   "cell_type": "code",
   "execution_count": 132,
   "metadata": {},
   "outputs": [
    {
     "name": "stdout",
     "output_type": "stream",
     "text": [
      "d:\\myLatestFolder\n"
     ]
    }
   ],
   "source": [
    "# Path \n",
    "path = os.path.join(parent_dir, directory) \n",
    "print(path)"
   ]
  },
  {
   "cell_type": "code",
   "execution_count": 134,
   "metadata": {},
   "outputs": [
    {
     "name": "stdout",
     "output_type": "stream",
     "text": [
      "File d:\\myLatestFolder already exists!\n"
     ]
    }
   ],
   "source": [
    "try:\n",
    "    os.mkdir(path) \n",
    "    print(\"Directory '% s' created\" % directory) \n",
    "except FileExistsError:\n",
    "    print(f\"File {path} already exists!\")"
   ]
  },
  {
   "cell_type": "markdown",
   "metadata": {},
   "source": [
    "# Creating Multiple Directories"
   ]
  },
  {
   "cell_type": "code",
   "execution_count": 143,
   "metadata": {},
   "outputs": [
    {
     "name": "stdout",
     "output_type": "stream",
     "text": [
      "Directory 'cs121' created\n"
     ]
    }
   ],
   "source": [
    "# Leaf directory\n",
    "directory_to_create = \"cs121\"\n",
    "\n",
    "# Parent Directories \n",
    "dir_path = path\n",
    "\n",
    "# Path \n",
    "long_path = os.path.join(path, directory_to_create) \n",
    "\n",
    "try:\n",
    "    os.makedirs(long_path) \n",
    "    print(\"Directory '% s' created\" % directory_to_create)\n",
    "except FileExistsError:\n",
    "     print(f\"File {directory_to_create} already exists in '{long_path}'!\")\n"
   ]
  },
  {
   "cell_type": "markdown",
   "metadata": {},
   "source": [
    "# Deleting a directory"
   ]
  },
  {
   "cell_type": "code",
   "execution_count": 139,
   "metadata": {},
   "outputs": [
    {
     "name": "stdout",
     "output_type": "stream",
     "text": [
      "Found 'd:\\myLatestFolder\\wow'\n",
      "d:\\myLatestFolder\\wow deleted!\n"
     ]
    }
   ],
   "source": [
    "#Deleting the file\n",
    "if os.path.exists(f\"{long_path}\"):\n",
    "    print(f\"Found '{long_path}'\")\n",
    "    os.rmdir(f\"{long_path}\")\n",
    "    # os.remove(\"text.txt\")\n",
    "    print(f\"{long_path} deleted!\")\n",
    "else:\n",
    "    print(f\"{long_path} does not exist!\")"
   ]
  },
  {
   "cell_type": "code",
   "execution_count": 140,
   "metadata": {},
   "outputs": [],
   "source": [
    "# print(\"Files and directories in a specified path:\")\n",
    "for filename in os.listdir(path):\n",
    "    print(filename)"
   ]
  },
  {
   "cell_type": "code",
   "execution_count": 144,
   "metadata": {},
   "outputs": [
    {
     "name": "stdout",
     "output_type": "stream",
     "text": [
      "['cs121', 'wow']\n"
     ]
    }
   ],
   "source": [
    "import os\n",
    "path_to_dir  = path  # path to directory you wish to remove\n",
    "files_in_dir = os.listdir(path_to_dir)     # get list of files in the directory\n",
    "\n",
    "print(files_in_dir)\n"
   ]
  },
  {
   "cell_type": "code",
   "execution_count": 145,
   "metadata": {},
   "outputs": [
    {
     "ename": "PermissionError",
     "evalue": "[WinError 5] Access is denied: 'd:\\\\myLatestFolder/cs121'",
     "output_type": "error",
     "traceback": [
      "\u001b[1;31m---------------------------------------------------------------------------\u001b[0m",
      "\u001b[1;31mPermissionError\u001b[0m                           Traceback (most recent call last)",
      "\u001b[1;32md:\\learning_python-1\\file_handling.ipynb Cell 43\u001b[0m in \u001b[0;36m<cell line: 1>\u001b[1;34m()\u001b[0m\n\u001b[0;32m      <a href='vscode-notebook-cell:/d%3A/learning_python-1/file_handling.ipynb#X56sZmlsZQ%3D%3D?line=0'>1</a>\u001b[0m \u001b[39mfor\u001b[39;00m file \u001b[39min\u001b[39;00m files_in_dir:                  \n\u001b[1;32m----> <a href='vscode-notebook-cell:/d%3A/learning_python-1/file_handling.ipynb#X56sZmlsZQ%3D%3D?line=1'>2</a>\u001b[0m     os\u001b[39m.\u001b[39;49mremove(\u001b[39mf\u001b[39;49m\u001b[39m'\u001b[39;49m\u001b[39m{\u001b[39;49;00mpath_to_dir\u001b[39m}\u001b[39;49;00m\u001b[39m/\u001b[39;49m\u001b[39m{\u001b[39;49;00mfile\u001b[39m}\u001b[39;49;00m\u001b[39m'\u001b[39;49m)\n",
      "\u001b[1;31mPermissionError\u001b[0m: [WinError 5] Access is denied: 'd:\\\\myLatestFolder/cs121'"
     ]
    }
   ],
   "source": [
    "for file in files_in_dir:                  \n",
    "    os.remove(f'{path_to_dir}/{file}')\n",
    "\n",
    "# os.rmdir(path_to_dir) "
   ]
  },
  {
   "cell_type": "code",
   "execution_count": 146,
   "metadata": {},
   "outputs": [],
   "source": [
    "import shutil\n",
    "#Use for high-level file operations\n"
   ]
  },
  {
   "cell_type": "code",
   "execution_count": 147,
   "metadata": {},
   "outputs": [
    {
     "name": "stdout",
     "output_type": "stream",
     "text": [
      "d:\\myLatestFolder and all its folders are deleted!\n"
     ]
    }
   ],
   "source": [
    "try:\n",
    "    shutil.rmtree(path)\n",
    "    print(f\"{path} and all its folders are deleted!\")\n",
    "except FileNotFoundError:\n",
    "    print(f\"{path} does not exist!\")\n"
   ]
  },
  {
   "cell_type": "code",
   "execution_count": null,
   "metadata": {},
   "outputs": [],
   "source": []
  }
 ],
 "metadata": {
  "kernelspec": {
   "display_name": "Python 3.9.12 ('projects2022')",
   "language": "python",
   "name": "python3"
  },
  "language_info": {
   "codemirror_mode": {
    "name": "ipython",
    "version": 3
   },
   "file_extension": ".py",
   "mimetype": "text/x-python",
   "name": "python",
   "nbconvert_exporter": "python",
   "pygments_lexer": "ipython3",
   "version": "3.9.12"
  },
  "orig_nbformat": 4,
  "vscode": {
   "interpreter": {
    "hash": "caba5fb2e65e5cd320935daeb5a23cf1221c4ea11b88a6babfa283dbfc6ad08a"
   }
  }
 },
 "nbformat": 4,
 "nbformat_minor": 2
}
