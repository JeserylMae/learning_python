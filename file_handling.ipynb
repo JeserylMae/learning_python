{
 "cells": [
  {
   "cell_type": "markdown",
   "metadata": {},
   "source": [
    "# Basic file creation, opening, accessing, writing, and appending."
   ]
  },
  {
   "cell_type": "code",
   "execution_count": 2,
   "metadata": {},
   "outputs": [],
   "source": [
    "#Create a file first!\n",
    "def file_maker(fileName):\n",
    "    f = open(f\"{fileName}.txt\", 'x')"
   ]
  },
  {
   "cell_type": "code",
   "execution_count": 5,
   "metadata": {},
   "outputs": [
    {
     "ename": "FileExistsError",
     "evalue": "[Errno 17] File exists: 'xxy_file.txt'",
     "output_type": "error",
     "traceback": [
      "\u001b[1;31m---------------------------------------------------------------------------\u001b[0m",
      "\u001b[1;31mFileExistsError\u001b[0m                           Traceback (most recent call last)",
      "\u001b[1;32md:\\file_handling.ipynb Cell 3\u001b[0m in \u001b[0;36m<cell line: 3>\u001b[1;34m()\u001b[0m\n\u001b[0;32m      <a href='vscode-notebook-cell:/d%3A/file_handling.ipynb#W2sZmlsZQ%3D%3D?line=0'>1</a>\u001b[0m fileName \u001b[39m=\u001b[39m \u001b[39m\"\u001b[39m\u001b[39mxxy_file\u001b[39m\u001b[39m\"\u001b[39m\n\u001b[1;32m----> <a href='vscode-notebook-cell:/d%3A/file_handling.ipynb#W2sZmlsZQ%3D%3D?line=2'>3</a>\u001b[0m file_maker(fileName)\n",
      "\u001b[1;32md:\\file_handling.ipynb Cell 3\u001b[0m in \u001b[0;36mfile_maker\u001b[1;34m(fileName)\u001b[0m\n\u001b[0;32m      <a href='vscode-notebook-cell:/d%3A/file_handling.ipynb#W2sZmlsZQ%3D%3D?line=1'>2</a>\u001b[0m \u001b[39mdef\u001b[39;00m \u001b[39mfile_maker\u001b[39m(fileName):\n\u001b[1;32m----> <a href='vscode-notebook-cell:/d%3A/file_handling.ipynb#W2sZmlsZQ%3D%3D?line=2'>3</a>\u001b[0m     f \u001b[39m=\u001b[39m \u001b[39mopen\u001b[39;49m(\u001b[39mf\u001b[39;49m\u001b[39m\"\u001b[39;49m\u001b[39m{\u001b[39;49;00mfileName\u001b[39m}\u001b[39;49;00m\u001b[39m.txt\u001b[39;49m\u001b[39m\"\u001b[39;49m, \u001b[39m'\u001b[39;49m\u001b[39mx\u001b[39;49m\u001b[39m'\u001b[39;49m)\n",
      "\u001b[1;31mFileExistsError\u001b[0m: [Errno 17] File exists: 'xxy_file.txt'"
     ]
    }
   ],
   "source": [
    "fileName = \"xxy_file\"\n",
    "\n",
    "file_maker(fileName)"
   ]
  },
  {
   "cell_type": "code",
   "execution_count": 8,
   "metadata": {},
   "outputs": [],
   "source": [
    "f = open(f\"{fileName}\", 'w')"
   ]
  },
  {
   "cell_type": "code",
   "execution_count": 7,
   "metadata": {},
   "outputs": [
    {
     "data": {
      "text/plain": [
       "42"
      ]
     },
     "execution_count": 7,
     "metadata": {},
     "output_type": "execute_result"
    }
   ],
   "source": [
    "f.write(\"I just wrote my first file through Python!\")"
   ]
  },
  {
   "cell_type": "code",
   "execution_count": 9,
   "metadata": {},
   "outputs": [
    {
     "name": "stdout",
     "output_type": "stream",
     "text": [
      "<_io.TextIOWrapper name='xxy_file' mode='w' encoding='cp1252'>\n"
     ]
    }
   ],
   "source": [
    "print(f)"
   ]
  },
  {
   "cell_type": "code",
   "execution_count": 10,
   "metadata": {},
   "outputs": [
    {
     "name": "stdout",
     "output_type": "stream",
     "text": [
      "I jus\n"
     ]
    }
   ],
   "source": [
    "f = open(f\"{fileName}\")\n",
    "print(f.read(5))"
   ]
  },
  {
   "cell_type": "code",
   "execution_count": 11,
   "metadata": {},
   "outputs": [],
   "source": [
    "f = open(f\"{fileName}\", 'r')"
   ]
  },
  {
   "cell_type": "code",
   "execution_count": 12,
   "metadata": {},
   "outputs": [
    {
     "name": "stdout",
     "output_type": "stream",
     "text": [
      "I jus\n"
     ]
    }
   ],
   "source": [
    "print (f.read(5))"
   ]
  },
  {
   "cell_type": "code",
   "execution_count": 13,
   "metadata": {},
   "outputs": [
    {
     "ename": "UnsupportedOperation",
     "evalue": "not writable",
     "output_type": "error",
     "traceback": [
      "\u001b[1;31m---------------------------------------------------------------------------\u001b[0m",
      "\u001b[1;31mUnsupportedOperation\u001b[0m                      Traceback (most recent call last)",
      "\u001b[1;32md:\\file_handling.ipynb Cell 10\u001b[0m in \u001b[0;36m<cell line: 1>\u001b[1;34m()\u001b[0m\n\u001b[1;32m----> <a href='vscode-notebook-cell:/d%3A/file_handling.ipynb#X12sZmlsZQ%3D%3D?line=0'>1</a>\u001b[0m f\u001b[39m.\u001b[39;49mwrite(\u001b[39m\"\u001b[39;49m\u001b[39mThis is the write command\u001b[39;49m\u001b[39m\"\u001b[39;49m)\n\u001b[0;32m      <a href='vscode-notebook-cell:/d%3A/file_handling.ipynb#X12sZmlsZQ%3D%3D?line=1'>2</a>\u001b[0m f\u001b[39m.\u001b[39mwrite(\u001b[39m\"\u001b[39m\u001b[39mIt allows us to write in a particular file\u001b[39m\u001b[39m\"\u001b[39m)\n\u001b[0;32m      <a href='vscode-notebook-cell:/d%3A/file_handling.ipynb#X12sZmlsZQ%3D%3D?line=2'>3</a>\u001b[0m f\u001b[39m.\u001b[39mclose()\n",
      "\u001b[1;31mUnsupportedOperation\u001b[0m: not writable"
     ]
    }
   ],
   "source": [
    "f.write(\"This is the write command\")\n",
    "f.write(\"It allows us to write in a particular file\")\n",
    "f.close()"
   ]
  },
  {
   "cell_type": "code",
   "execution_count": 14,
   "metadata": {},
   "outputs": [],
   "source": [
    "f = open(f\"{fileName}.txt\", 'a')"
   ]
  },
  {
   "cell_type": "code",
   "execution_count": 15,
   "metadata": {},
   "outputs": [
    {
     "data": {
      "text/plain": [
       "42"
      ]
     },
     "execution_count": 15,
     "metadata": {},
     "output_type": "execute_result"
    }
   ],
   "source": [
    "f.write(\"This is the write command\")\n",
    "f.write(\"It allows us to write in a particular file\")"
   ]
  },
  {
   "cell_type": "code",
   "execution_count": 16,
   "metadata": {},
   "outputs": [],
   "source": [
    "f.write(\"This will add this line\")\n",
    "f.close()"
   ]
  },
  {
   "cell_type": "code",
   "execution_count": 18,
   "metadata": {},
   "outputs": [
    {
     "name": "stderr",
     "output_type": "stream",
     "text": [
      "<>:11: SyntaxWarning: \"is\" with a literal. Did you mean \"==\"?\n",
      "<>:11: SyntaxWarning: \"is\" with a literal. Did you mean \"==\"?\n",
      "C:\\Users\\pcuser\\AppData\\Local\\Temp\\ipykernel_10028\\1393878013.py:11: SyntaxWarning: \"is\" with a literal. Did you mean \"==\"?\n",
      "  if i is 4:\n"
     ]
    },
    {
     "name": "stdout",
     "output_type": "stream",
     "text": [
      "FOUR!\n",
      "You entered 4, it is accepted!\n"
     ]
    }
   ],
   "source": [
    "def int_checker(a):\n",
    "    print(f\"You entered {a}, it is accepted!\")\n",
    "\n",
    "while True:\n",
    "    try:\n",
    "        i = int(input('Input an integer from 0-4 only: '))\n",
    "        if i in range(0, 5):\n",
    "            if i == 1:\n",
    "                print('ONE!')\n",
    "\n",
    "            if i is 4:\n",
    "                print('FOUR!')\n",
    "            int_checker(i)\n",
    "            break\n",
    "    except:\n",
    "        pass\n",
    "\n",
    "    print (\"Incorrect input, try again\")"
   ]
  },
  {
   "cell_type": "markdown",
   "metadata": {},
   "source": [
    "# Using the \"With\" Keyword."
   ]
  },
  {
   "cell_type": "code",
   "execution_count": 19,
   "metadata": {},
   "outputs": [],
   "source": [
    "with open(fileName) as f: \n",
    "    data = f.read()"
   ]
  },
  {
   "cell_type": "code",
   "execution_count": 20,
   "metadata": {},
   "outputs": [
    {
     "name": "stdout",
     "output_type": "stream",
     "text": [
      "I just wrote my first file through Python!\n"
     ]
    }
   ],
   "source": [
    "print(data)"
   ]
  },
  {
   "cell_type": "code",
   "execution_count": 21,
   "metadata": {},
   "outputs": [],
   "source": [
    "with open(fileName, \"w\") as f:\n",
    "    f.write(\"Hello World!!!\")"
   ]
  },
  {
   "cell_type": "code",
   "execution_count": 22,
   "metadata": {},
   "outputs": [
    {
     "name": "stdout",
     "output_type": "stream",
     "text": [
      "['Hello', 'World!!!']\n"
     ]
    }
   ],
   "source": [
    "with open(fileName, \"r\") as f:\n",
    "    data = f.readlines()\n",
    "    for line in data:\n",
    "        word = line.split()\n",
    "        print (word)"
   ]
  },
  {
   "cell_type": "markdown",
   "metadata": {},
   "source": [
    "# Using try except for better handling."
   ]
  },
  {
   "cell_type": "code",
   "execution_count": 24,
   "metadata": {},
   "outputs": [],
   "source": [
    "#Creates a new empty file\n",
    "#If the file already exists, it would raise a FileExistsError\n",
    "new_file = open(\"new_xxu_file.txt\", \"x\")"
   ]
  },
  {
   "cell_type": "code",
   "execution_count": 25,
   "metadata": {},
   "outputs": [
    {
     "name": "stdout",
     "output_type": "stream",
     "text": [
      "File new_xx_file.txt already exists!\n"
     ]
    }
   ],
   "source": [
    "#Using a try except block can handle this problem in much cleaner way.\n",
    "try:\n",
    "    fileName = input(\"Enter your file name: \\nNo need to input file extension.\")\n",
    "    fileName = fileName + \".txt\"\n",
    "\n",
    "    fileName = open(fileName, \"x\")\n",
    "    print(f\"{fileName} was successfully created!\")\n",
    "except FileExistsError:\n",
    "    print(f\"File {fileName} already exists!\")\n"
   ]
  },
  {
   "cell_type": "code",
   "execution_count": 26,
   "metadata": {},
   "outputs": [
    {
     "name": "stdout",
     "output_type": "stream",
     "text": [
      "<_io.TextIOWrapper name='new_xx_file.txt' mode='r' encoding='cp1252'>\n"
     ]
    }
   ],
   "source": [
    "f = open(\"new_xx_file.txt\", \"r\")\n",
    "print(f)\n",
    "# print(fileName)"
   ]
  },
  {
   "cell_type": "code",
   "execution_count": 27,
   "metadata": {},
   "outputs": [],
   "source": [
    "file = open('new_xx_file.txt', 'a')\n",
    "file.write('Welcome!')\n",
    "file.close()"
   ]
  },
  {
   "cell_type": "code",
   "execution_count": 29,
   "metadata": {},
   "outputs": [
    {
     "name": "stdout",
     "output_type": "stream",
     "text": [
      "The file 'new_rtsfsf.txt' is created!\n"
     ]
    }
   ],
   "source": [
    "#Using a try except block can handle this problem in much cleaner way.\n",
    "try:\n",
    "    fileName = input(\"Enter your file name: \\nNo need to input file extension.\")\n",
    "    file = fileName + \".txt\"\n",
    "    f = open(file, \"x\")\n",
    "    print(f\"The file '{file}' is created!\")\n",
    "    # file = open(f\"{fileName}.txt\", 'w')\n",
    "    f.write('hello world !')\n",
    "    f.close()\n",
    "\n",
    "except FileExistsError:\n",
    "    print(f\"File '{file}' already exists!\")\n",
    "    f = open(f\"{file}.txt\", 'w')\n",
    "    f.write('Hello world!')\n",
    "    # file.read()\n",
    "    # file.close()"
   ]
  },
  {
   "cell_type": "code",
   "execution_count": 30,
   "metadata": {},
   "outputs": [
    {
     "name": "stdout",
     "output_type": "stream",
     "text": [
      "new_rtsfsf.txt\n"
     ]
    }
   ],
   "source": [
    "print(f\"{file}\")"
   ]
  },
  {
   "cell_type": "code",
   "execution_count": 31,
   "metadata": {},
   "outputs": [],
   "source": [
    "# using with statement to open the file and write\n",
    "with open(fileName, 'w') as file:\n",
    "    file.write('hello world !')"
   ]
  },
  {
   "cell_type": "code",
   "execution_count": 32,
   "metadata": {},
   "outputs": [],
   "source": [
    "#Class-based try except with file handling\n",
    "class MessageWriter:\n",
    "    def __init__(self, file_name):\n",
    "        self.file_name = file_name\n",
    "     \n",
    "    def __enter__(self):\n",
    "        self.file = open(self.file_name, 'w')\n",
    "        return self.file\n",
    " \n",
    "    def __exit__(self, *args):\n",
    "        self.file.close()\n",
    " \n",
    "# using with statement with MessageWriter\n",
    "with MessageWriter('my_file.txt') as xfile:\n",
    "    xfile.write('hello world')"
   ]
  },
  {
   "cell_type": "markdown",
   "metadata": {},
   "source": [
    "# Python OS"
   ]
  },
  {
   "cell_type": "markdown",
   "metadata": {},
   "source": [
    "# Getting the Current Working Directory"
   ]
  },
  {
   "cell_type": "code",
   "execution_count": 33,
   "metadata": {},
   "outputs": [
    {
     "name": "stdout",
     "output_type": "stream",
     "text": [
      "Current working directory before\n",
      "d:\\\n",
      "\n",
      "Current working directory before\n",
      "d:\\\n",
      "\n"
     ]
    }
   ],
   "source": [
    "import os \n",
    "\n",
    "# Function to Get the current  \n",
    "# working directory \n",
    "def current_path(): \n",
    "    print(\"Current working directory before\") \n",
    "    print(os.getcwd()) \n",
    "    print() \n",
    "    \n",
    "# Driver's code \n",
    "# Printing CWD before \n",
    "current_path() \n",
    "    \n",
    "# Changing the CWD \n",
    "os.chdir('../') \n",
    "    \n",
    "# Printing CWD after \n",
    "current_path()"
   ]
  },
  {
   "cell_type": "code",
   "execution_count": 34,
   "metadata": {},
   "outputs": [
    {
     "name": "stdout",
     "output_type": "stream",
     "text": [
      "nt\n"
     ]
    }
   ],
   "source": [
    "print(os.name)"
   ]
  },
  {
   "cell_type": "markdown",
   "metadata": {},
   "source": [
    "# Creating a Directory"
   ]
  },
  {
   "cell_type": "code",
   "execution_count": 53,
   "metadata": {},
   "outputs": [
    {
     "name": "stdout",
     "output_type": "stream",
     "text": [
      "d:\\\n"
     ]
    }
   ],
   "source": [
    "# Python program to explain os.mkdir() method \n",
    "\n",
    "# Directory \n",
    "directory = \"myLatestFolder\"\n",
    "\n",
    "# Parent Directory path \n",
    "parent_dir = os.getcwd()\n",
    "print(parent_dir)\n",
    " "
   ]
  },
  {
   "cell_type": "code",
   "execution_count": 54,
   "metadata": {},
   "outputs": [
    {
     "name": "stdout",
     "output_type": "stream",
     "text": [
      "d:\\myLatestFolder\n"
     ]
    }
   ],
   "source": [
    "# Path \n",
    "path = os.path.join(parent_dir, directory) \n",
    "print(path)"
   ]
  },
  {
   "cell_type": "code",
   "execution_count": 55,
   "metadata": {},
   "outputs": [
    {
     "name": "stdout",
     "output_type": "stream",
     "text": [
      "File d:\\myLatestFolder already exists!\n"
     ]
    }
   ],
   "source": [
    "try:\n",
    "    os.mkdir(path) \n",
    "    print(\"Directory '% s' created\" % directory) \n",
    "except FileExistsError:\n",
    "    print(f\"File {path} already exists!\")"
   ]
  },
  {
   "cell_type": "markdown",
   "metadata": {},
   "source": [
    "# Creating Multiple Directories"
   ]
  },
  {
   "cell_type": "code",
   "execution_count": 56,
   "metadata": {},
   "outputs": [
    {
     "name": "stdout",
     "output_type": "stream",
     "text": [
      "Directory 'wow' created\n"
     ]
    }
   ],
   "source": [
    "# Leaf directory\n",
    "directory_to_create = \"wow\"\n",
    "\n",
    "# Parent Directories \n",
    "dir_path = path\n",
    "\n",
    "# Path \n",
    "long_path = os.path.join(path, directory_to_create) \n",
    "\n",
    "try:\n",
    "    os.makedirs(long_path) \n",
    "    print(\"Directory '% s' created\" % directory_to_create)\n",
    "except FileExistsError:\n",
    "     print(f\"File {directory_to_create} already exists in '{long_path}'!\")\n"
   ]
  },
  {
   "cell_type": "markdown",
   "metadata": {},
   "source": [
    "# Deleting a directory"
   ]
  },
  {
   "cell_type": "code",
   "execution_count": 42,
   "metadata": {},
   "outputs": [
    {
     "name": "stdout",
     "output_type": "stream",
     "text": [
      "Found 'd:\\myLatestFolder\\cs121'\n",
      "d:\\myLatestFolder\\cs121 deleted!\n"
     ]
    }
   ],
   "source": [
    "#Deleting the file\n",
    "if os.path.exists(f\"{long_path}\"):\n",
    "    print(f\"Found '{long_path}'\")\n",
    "    os.rmdir(f\"{long_path}\")\n",
    "    # os.remove(long_path)\n",
    "    print(f\"{long_path} deleted!\")\n",
    "else:\n",
    "    print(f\"{long_path} does not exist!\")"
   ]
  },
  {
   "cell_type": "code",
   "execution_count": 49,
   "metadata": {},
   "outputs": [
    {
     "name": "stdout",
     "output_type": "stream",
     "text": [
      "cs121 wow "
     ]
    }
   ],
   "source": [
    "# print(\"Files and directories in a sp\n",
    "# ecified path:\")\n",
    "for filename in os.listdir(path):\n",
    "    print(filename, end=\" \")"
   ]
  },
  {
   "cell_type": "code",
   "execution_count": 50,
   "metadata": {},
   "outputs": [
    {
     "name": "stdout",
     "output_type": "stream",
     "text": [
      "['cs121', 'wow']\n"
     ]
    }
   ],
   "source": [
    "import os\n",
    "path_to_dir  = path  # path to directory you wish to remove\n",
    "files_in_dir = os.listdir(path_to_dir)     # get list of files in the directory\n",
    "\n",
    "print(files_in_dir)\n"
   ]
  },
  {
   "cell_type": "code",
   "execution_count": 52,
   "metadata": {},
   "outputs": [],
   "source": [
    "for file in files_in_dir:                  \n",
    "    os.rmdir(f'{path_to_dir}/{file}')\n",
    "\n",
    "# os.rmdir(path_to_dir) "
   ]
  },
  {
   "cell_type": "code",
   "execution_count": 57,
   "metadata": {},
   "outputs": [],
   "source": [
    "import shutil\n",
    "#Use for high-level file operations\n"
   ]
  },
  {
   "cell_type": "code",
   "execution_count": 58,
   "metadata": {},
   "outputs": [
    {
     "name": "stdout",
     "output_type": "stream",
     "text": [
      "d:\\myLatestFolder and all its folders are deleted!\n"
     ]
    }
   ],
   "source": [
    "try:\n",
    "    shutil.rmtree(path)\n",
    "    print(f\"{path} and all its folders are deleted!\")\n",
    "except FileNotFoundError:\n",
    "    print(f\"{path} does not exist!\")\n"
   ]
  },
  {
   "cell_type": "code",
   "execution_count": null,
   "metadata": {},
   "outputs": [],
   "source": []
  },
  {
   "cell_type": "code",
   "execution_count": null,
   "metadata": {},
   "outputs": [],
   "source": []
  }
 ],
 "metadata": {
  "kernelspec": {
   "display_name": "Python 3.9.12 ('projects2022')",
   "language": "python",
   "name": "python3"
  },
  "language_info": {
   "codemirror_mode": {
    "name": "ipython",
    "version": 3
   },
   "file_extension": ".py",
   "mimetype": "text/x-python",
   "name": "python",
   "nbconvert_exporter": "python",
   "pygments_lexer": "ipython3",
   "version": "3.9.12"
  },
  "orig_nbformat": 4,
  "vscode": {
   "interpreter": {
    "hash": "caba5fb2e65e5cd320935daeb5a23cf1221c4ea11b88a6babfa283dbfc6ad08a"
   }
  }
 },
 "nbformat": 4,
 "nbformat_minor": 2
}
