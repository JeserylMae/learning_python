{
 "cells": [
  {
   "cell_type": "markdown",
   "metadata": {},
   "source": [
    "# Getting the Current Working Directory"
   ]
  },
  {
   "cell_type": "code",
   "execution_count": 1,
   "metadata": {},
   "outputs": [
    {
     "name": "stdout",
     "output_type": "stream",
     "text": [
      "Current working directory before\n",
      "d:\\learning_python-1\n",
      "\n",
      "Current working directory before\n",
      "d:\\\n",
      "\n"
     ]
    }
   ],
   "source": [
    "\n",
    "# Python program to change the \n",
    "# current working directory \n",
    "\n",
    "import os \n",
    "    \n",
    "# Function to Get the current  \n",
    "# working directory \n",
    "def current_path(): \n",
    "    print(\"Current working directory before\") \n",
    "    print(os.getcwd()) \n",
    "    print() \n",
    "    \n",
    "# Driver's code \n",
    "# Printing CWD before \n",
    "current_path() \n",
    "    \n",
    "# Changing the CWD \n",
    "os.chdir('../') \n",
    "    \n",
    "# Printing CWD after \n",
    "current_path()"
   ]
  },
  {
   "cell_type": "code",
   "execution_count": 2,
   "metadata": {},
   "outputs": [
    {
     "name": "stdout",
     "output_type": "stream",
     "text": [
      "nt\n"
     ]
    }
   ],
   "source": [
    "print(os.name)"
   ]
  },
  {
   "cell_type": "markdown",
   "metadata": {},
   "source": [
    "# Creating a Directory"
   ]
  },
  {
   "cell_type": "code",
   "execution_count": 19,
   "metadata": {},
   "outputs": [
    {
     "name": "stdout",
     "output_type": "stream",
     "text": [
      "d:\\\n"
     ]
    }
   ],
   "source": [
    "# Python program to explain os.mkdir() method \n",
    "  \n",
    "# importing os module \n",
    "import os \n",
    "\n",
    "# Directory \n",
    "directory = \"myLatestFolder\"\n",
    "  \n",
    "# Parent Directory path \n",
    "parent_dir = os.getcwd()\n",
    "print(parent_dir)\n",
    " "
   ]
  },
  {
   "cell_type": "code",
   "execution_count": 20,
   "metadata": {},
   "outputs": [
    {
     "name": "stdout",
     "output_type": "stream",
     "text": [
      "d:\\myLatestFolder\n"
     ]
    }
   ],
   "source": [
    "# Path \n",
    "path = os.path.join(parent_dir, directory) \n",
    "print(path)"
   ]
  },
  {
   "cell_type": "code",
   "execution_count": 21,
   "metadata": {},
   "outputs": [
    {
     "name": "stdout",
     "output_type": "stream",
     "text": [
      "Directory 'myLatestFolder' created\n"
     ]
    }
   ],
   "source": [
    "try:\n",
    "    os.mkdir(path) \n",
    "    print(\"Directory '% s' created\" % directory) \n",
    "except FileExistsError:\n",
    "    print(f\"File {path} already exists!\")"
   ]
  },
  {
   "cell_type": "markdown",
   "metadata": {},
   "source": [
    "# Creating Multiple Directories"
   ]
  },
  {
   "cell_type": "code",
   "execution_count": 22,
   "metadata": {},
   "outputs": [
    {
     "name": "stdout",
     "output_type": "stream",
     "text": [
      "Directory 'mycs121' created\n"
     ]
    }
   ],
   "source": [
    "# Leaf directory \n",
    "directory_to_create = \"mycs121\"\n",
    "\n",
    "# Parent Directories \n",
    "dir_path = path\n",
    "      \n",
    "# Path \n",
    "long_path = os.path.join(path, directory_to_create) \n",
    "\n",
    "try:\n",
    "    os.makedirs(long_path) \n",
    "    print(\"Directory '% s' created\" % directory_to_create)\n",
    "except FileExistsError:\n",
    "     print(f\"File {directory_to_create} already exists in {long_path}!\")\n"
   ]
  },
  {
   "cell_type": "markdown",
   "metadata": {},
   "source": [
    "# Deleting a directory"
   ]
  },
  {
   "cell_type": "code",
   "execution_count": 44,
   "metadata": {},
   "outputs": [
    {
     "name": "stdout",
     "output_type": "stream",
     "text": [
      "Found 'd:\\myLatestFolder\\mycs121'\n"
     ]
    },
    {
     "ename": "PermissionError",
     "evalue": "[WinError 5] Access is denied: 'd:\\\\myLatestFolder\\\\mycs121'",
     "output_type": "error",
     "traceback": [
      "\u001b[1;31m---------------------------------------------------------------------------\u001b[0m",
      "\u001b[1;31mPermissionError\u001b[0m                           Traceback (most recent call last)",
      "\u001b[1;32md:\\learning_python-1\\python_os.ipynb Cell 11\u001b[0m in \u001b[0;36m<cell line: 1>\u001b[1;34m()\u001b[0m\n\u001b[0;32m      <a href='vscode-notebook-cell:/d%3A/learning_python-1/python_os.ipynb#X12sZmlsZQ%3D%3D?line=0'>1</a>\u001b[0m \u001b[39mif\u001b[39;00m os\u001b[39m.\u001b[39mpath\u001b[39m.\u001b[39mexists(long_path):\n\u001b[0;32m      <a href='vscode-notebook-cell:/d%3A/learning_python-1/python_os.ipynb#X12sZmlsZQ%3D%3D?line=1'>2</a>\u001b[0m     \u001b[39mprint\u001b[39m(\u001b[39mf\u001b[39m\u001b[39m\"\u001b[39m\u001b[39mFound \u001b[39m\u001b[39m'\u001b[39m\u001b[39m{\u001b[39;00mlong_path\u001b[39m}\u001b[39;00m\u001b[39m'\u001b[39m\u001b[39m\"\u001b[39m)\n\u001b[1;32m----> <a href='vscode-notebook-cell:/d%3A/learning_python-1/python_os.ipynb#X12sZmlsZQ%3D%3D?line=2'>3</a>\u001b[0m     os\u001b[39m.\u001b[39;49mremove(long_path)\n\u001b[0;32m      <a href='vscode-notebook-cell:/d%3A/learning_python-1/python_os.ipynb#X12sZmlsZQ%3D%3D?line=3'>4</a>\u001b[0m     \u001b[39mprint\u001b[39m(\u001b[39mf\u001b[39m\u001b[39m\"\u001b[39m\u001b[39m{\u001b[39;00mlong_path\u001b[39m}\u001b[39;00m\u001b[39m deleted!\u001b[39m\u001b[39m\"\u001b[39m)\n\u001b[0;32m      <a href='vscode-notebook-cell:/d%3A/learning_python-1/python_os.ipynb#X12sZmlsZQ%3D%3D?line=4'>5</a>\u001b[0m \u001b[39melse\u001b[39;00m:\n",
      "\u001b[1;31mPermissionError\u001b[0m: [WinError 5] Access is denied: 'd:\\\\myLatestFolder\\\\mycs121'"
     ]
    }
   ],
   "source": [
    "if os.path.exists(long_path):\n",
    "    print(f\"Found '{long_path}'\")\n",
    "    os.remove(long_path)\n",
    "    print(f\"{long_path} deleted!\")\n",
    "else:\n",
    "    print(f\"{long_path} does not exist!\")"
   ]
  },
  {
   "cell_type": "code",
   "execution_count": null,
   "metadata": {},
   "outputs": [],
   "source": []
  }
 ],
 "metadata": {
  "kernelspec": {
   "display_name": "Python 3.9.12 ('projects2022')",
   "language": "python",
   "name": "python3"
  },
  "language_info": {
   "codemirror_mode": {
    "name": "ipython",
    "version": 3
   },
   "file_extension": ".py",
   "mimetype": "text/x-python",
   "name": "python",
   "nbconvert_exporter": "python",
   "pygments_lexer": "ipython3",
   "version": "3.9.12"
  },
  "orig_nbformat": 4,
  "vscode": {
   "interpreter": {
    "hash": "caba5fb2e65e5cd320935daeb5a23cf1221c4ea11b88a6babfa283dbfc6ad08a"
   }
  }
 },
 "nbformat": 4,
 "nbformat_minor": 2
}
