{
 "cells": [
  {
   "cell_type": "code",
   "execution_count": 1,
   "metadata": {},
   "outputs": [],
   "source": [
    "class MyBaseMixin:\n",
    "    def mixin_function(self):\n",
    "        print(\"This is from your mixin\")\n",
    "\n",
    "    def latest_function(self):\n",
    "        print(\"This is the latest function from your mixin!\")\n"
   ]
  },
  {
   "cell_type": "code",
   "execution_count": 2,
   "metadata": {},
   "outputs": [],
   "source": [
    "class MyBase(MyBaseMixin):\n",
    "    def __init__(self, name, age):\n",
    "        # Call the superclass (mixin) __init__ method\n",
    "        super().__init__()\n",
    "        \n",
    "        self.name = name\n",
    "        self.age = age\n",
    "    \n",
    "    def base_function(self):\n",
    "        print(\"This is from the base\")"
   ]
  },
  {
   "cell_type": "code",
   "execution_count": 3,
   "metadata": {},
   "outputs": [],
   "source": [
    "base_obj = MyBase(\"John\", 55)"
   ]
  },
  {
   "cell_type": "code",
   "execution_count": 4,
   "metadata": {},
   "outputs": [
    {
     "name": "stdout",
     "output_type": "stream",
     "text": [
      "This is from your mixin\n"
     ]
    }
   ],
   "source": [
    "base_obj.mixin_function()"
   ]
  },
  {
   "cell_type": "code",
   "execution_count": 5,
   "metadata": {},
   "outputs": [
    {
     "name": "stdout",
     "output_type": "stream",
     "text": [
      "This is the latest function from your mixin!\n"
     ]
    }
   ],
   "source": [
    "base_obj.latest_function()"
   ]
  },
  {
   "cell_type": "code",
   "execution_count": 6,
   "metadata": {},
   "outputs": [],
   "source": [
    "class MyBaseClass:\n",
    "    def __init__(self, name):\n",
    "        self.name = name\n",
    "\n",
    "class MyOtherBaseClass:\n",
    "    def display_name(self):\n",
    "        print(\"Name:\", self.name)\n",
    "\n",
    "class MyDerivedClass(MyBaseClass, MyOtherBaseClass):\n",
    "    def __init__(self, name, age):\n",
    "        MyBaseClass.__init__(self, name)\n",
    "        self.age = age\n",
    "\n",
    "    def display_age(self):\n",
    "        print(\"Age:\", self.age)\n"
   ]
  },
  {
   "cell_type": "code",
   "execution_count": 7,
   "metadata": {},
   "outputs": [],
   "source": [
    "derived_obj = MyDerivedClass(\"Mike\", 45)"
   ]
  },
  {
   "cell_type": "code",
   "execution_count": 8,
   "metadata": {},
   "outputs": [
    {
     "name": "stdout",
     "output_type": "stream",
     "text": [
      "Name: Mike\n"
     ]
    }
   ],
   "source": [
    "derived_obj.display_name()"
   ]
  },
  {
   "cell_type": "code",
   "execution_count": 9,
   "metadata": {},
   "outputs": [
    {
     "name": "stdout",
     "output_type": "stream",
     "text": [
      "Age: 45\n"
     ]
    }
   ],
   "source": [
    "derived_obj.display_age()"
   ]
  },
  {
   "cell_type": "code",
   "execution_count": 10,
   "metadata": {},
   "outputs": [],
   "source": [
    "class NameMixin:\n",
    "    def __init__(self, name):\n",
    "        self.name = name\n",
    "\n",
    "    def display_name(self):\n",
    "        print(\"Name:\", self.name)\n",
    "\n",
    "class AgeMixin:\n",
    "    def __init__(self, age):\n",
    "        self.age = age\n",
    "\n",
    "    def display_age(self):\n",
    "        print(\"Age:\", self.age)\n",
    "\n",
    "class OptionalMixin:\n",
    "    def optional_func(self):\n",
    "        print(f\"This is an optional function for {self.name} age of {self.age}.\")\n",
    "\n",
    "\n",
    "class MyDerivedClass(NameMixin, AgeMixin, OptionalMixin):\n",
    "    def __init__(self, name, age):\n",
    "        NameMixin.__init__(self, name)\n",
    "        AgeMixin.__init__(self, age)\n"
   ]
  },
  {
   "cell_type": "code",
   "execution_count": 11,
   "metadata": {},
   "outputs": [],
   "source": [
    "new_derived_obj = MyDerivedClass(\"Trish\", 25)"
   ]
  },
  {
   "cell_type": "code",
   "execution_count": 12,
   "metadata": {},
   "outputs": [
    {
     "name": "stdout",
     "output_type": "stream",
     "text": [
      "Name: Trish\n"
     ]
    }
   ],
   "source": [
    "new_derived_obj.display_name()"
   ]
  },
  {
   "cell_type": "code",
   "execution_count": 13,
   "metadata": {},
   "outputs": [
    {
     "name": "stdout",
     "output_type": "stream",
     "text": [
      "Age: 25\n"
     ]
    }
   ],
   "source": [
    "new_derived_obj.display_age()"
   ]
  },
  {
   "cell_type": "code",
   "execution_count": 14,
   "metadata": {},
   "outputs": [
    {
     "name": "stdout",
     "output_type": "stream",
     "text": [
      "This is an optional function for Trish age of 25.\n"
     ]
    }
   ],
   "source": [
    "new_derived_obj.optional_func()"
   ]
  },
  {
   "cell_type": "code",
   "execution_count": 15,
   "metadata": {},
   "outputs": [
    {
     "name": "stdout",
     "output_type": "stream",
     "text": [
      "Name: Trish\n",
      "Age: 25\n",
      "This is an optional function for Trish age of 25.\n"
     ]
    }
   ],
   "source": [
    "class NameMixin:\n",
    "    def __init__(self, name):\n",
    "        self.name = name\n",
    "\n",
    "    def display_name(self):\n",
    "        print(\"Name:\", self.name)\n",
    "\n",
    "class AgeMixin:\n",
    "    def __init__(self, age):\n",
    "        self.age = age\n",
    "\n",
    "    def display_age(self):\n",
    "        print(\"Age:\", self.age)\n",
    "\n",
    "class OptionalMixin:\n",
    "    def optional_func(self):\n",
    "        print(f\"This is an optional function for {self.name} age of {self.age}.\")\n",
    "\n",
    "class MyDerivedClass(NameMixin, AgeMixin, OptionalMixin):\n",
    "    def __init__(self, name, age):\n",
    "        super().__init__(name)\n",
    "        AgeMixin.__init__(self, age)\n",
    "\n",
    "new_derived_obj = MyDerivedClass(\"Trish\", 25)\n",
    "\n",
    "new_derived_obj.display_name()\n",
    "new_derived_obj.display_age()\n",
    "new_derived_obj.optional_func()"
   ]
  },
  {
   "cell_type": "code",
   "execution_count": 163,
   "metadata": {},
   "outputs": [
    {
     "name": "stdout",
     "output_type": "stream",
     "text": [
      "This function adds two variables.\n",
      "    \n"
     ]
    }
   ],
   "source": []
  },
  {
   "cell_type": "code",
   "execution_count": 164,
   "metadata": {},
   "outputs": [
    {
     "data": {
      "text/plain": [
       "6"
      ]
     },
     "execution_count": 164,
     "metadata": {},
     "output_type": "execute_result"
    }
   ],
   "source": []
  },
  {
   "cell_type": "code",
   "execution_count": 177,
   "metadata": {},
   "outputs": [],
   "source": []
  },
  {
   "cell_type": "code",
   "execution_count": 189,
   "metadata": {},
   "outputs": [
    {
     "name": "stdout",
     "output_type": "stream",
     "text": [
      "✓ Test 1 passed\n",
      "✓ Test 2 passed\n",
      "✓ Test 3 passed\n",
      "\n",
      "3 out of 3 tests passed (100.00%)\n"
     ]
    }
   ],
   "source": []
  },
  {
   "cell_type": "code",
   "execution_count": 18,
   "metadata": {},
   "outputs": [
    {
     "name": "stderr",
     "output_type": "stream",
     "text": [
      ".....\n",
      "----------------------------------------------------------------------\n",
      "Ran 5 tests in 0.006s\n",
      "\n",
      "OK\n"
     ]
    }
   ],
   "source": []
  },
  {
   "cell_type": "code",
   "execution_count": null,
   "metadata": {},
   "outputs": [],
   "source": []
  }
 ],
 "metadata": {
  "kernelspec": {
   "display_name": "projects2022",
   "language": "python",
   "name": "python3"
  },
  "language_info": {
   "codemirror_mode": {
    "name": "ipython",
    "version": 3
   },
   "file_extension": ".py",
   "mimetype": "text/x-python",
   "name": "python",
   "nbconvert_exporter": "python",
   "pygments_lexer": "ipython3",
   "version": "3.9.12"
  },
  "orig_nbformat": 4
 },
 "nbformat": 4,
 "nbformat_minor": 2
}
