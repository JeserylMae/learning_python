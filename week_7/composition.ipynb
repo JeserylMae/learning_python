{
 "cells": [
  {
   "attachments": {},
   "cell_type": "markdown",
   "metadata": {},
   "source": [
    "# Composition"
   ]
  },
  {
   "cell_type": "code",
   "execution_count": 34,
   "metadata": {},
   "outputs": [],
   "source": [
    "class CPU:\n",
    "    def __init__(self, model, clock_speed, num_cores):\n",
    "        self.model = model\n",
    "        self.clock_speed = clock_speed\n",
    "        self.num_cores = num_cores\n",
    "\n",
    "    def cpu_test(self):\n",
    "        print(f\"Testing {self.model} CPU...\")\n",
    "        if self._is_working():\n",
    "            print(f\"{self.model} CPU is working!\")\n",
    "        else:\n",
    "            raise Exception(f\"{self.model} CPU is not working!\")\n",
    "\n",
    "    def get_info(self):\n",
    "        return f\"{self.model} CPU: {self.clock_speed} GHz, {self.num_cores} cores\"\n",
    "\n",
    "    def _is_working(self):\n",
    "        # Perform CPU tests here and return True or False\n",
    "        return True"
   ]
  },
  {
   "cell_type": "code",
   "execution_count": 35,
   "metadata": {},
   "outputs": [],
   "source": [
    "class RAM:\n",
    "    def __init__(self, capacity, speed):\n",
    "        self.capacity = capacity\n",
    "        self.speed = speed\n",
    "\n",
    "    def ram_test(self):\n",
    "        print(f\"Testing {self.capacity} GB of RAM at {self.speed} MHz...\")\n",
    "        if self._is_working():\n",
    "            print(f\"{self.capacity} GB {self.speed} MHz RAM is working!\")\n",
    "        else:\n",
    "            raise Exception(\"RAM is not working!\")\n",
    "\n",
    "    def get_info(self):\n",
    "        return f\"{self.capacity} GB RAM, {self.speed} MHz\"\n",
    "\n",
    "    def _is_working(self):\n",
    "        # Perform RAM tests here and return True or False\n",
    "        return True"
   ]
  },
  {
   "cell_type": "code",
   "execution_count": 36,
   "metadata": {},
   "outputs": [],
   "source": [
    "class MOBO:\n",
    "    def __init__(self, model, chipset):\n",
    "        self.model = model\n",
    "        self.chipset = chipset\n",
    "\n",
    "    def post(self):\n",
    "        print(\"Starting power-on self-test (POST)...\")\n",
    "        if self._is_working():\n",
    "            print(\"POST successful!\")\n",
    "        else:\n",
    "            raise Exception(\"POST failed - motherboard is not working!\")\n",
    "\n",
    "    def get_info(self):\n",
    "        return f\"{self.model} motherboard, chipset: {self.chipset}\"\n",
    "\n",
    "    def _is_working(self):\n",
    "        # Perform POST tests here and return True or False\n",
    "        return True"
   ]
  },
  {
   "cell_type": "code",
   "execution_count": 37,
   "metadata": {},
   "outputs": [],
   "source": [
    "class GPU:\n",
    "    def __init__(self, model, memory):\n",
    "        self.model = model\n",
    "        self.memory = memory\n",
    "\n",
    "    def gpu_test(self):\n",
    "        print(\"Starting GPU test...\")\n",
    "        if self._is_working():\n",
    "            print(f\"GPU {self.model} working!\")\n",
    "        else:\n",
    "            raise Exception(\"GPU test failed - GPU is not working properly!\")\n",
    "\n",
    "    def get_info(self):\n",
    "        return f\"{self.model} GPU, {self.memory} memory\"\n",
    "\n",
    "    def run_stress_test(self):\n",
    "        print(\"Running GPU stress test...\")\n",
    "        # Simulate a demanding workload here to test the GPU\n",
    "        print(\"GPU stress test complete!\")\n",
    "\n",
    "    def _is_working(self):\n",
    "        # Perform GPU tests here and return True or False\n",
    "        return True"
   ]
  },
  {
   "cell_type": "code",
   "execution_count": 38,
   "metadata": {},
   "outputs": [],
   "source": [
    "class PSU:\n",
    "    def __init__(self, wattage, efficiency_rating):\n",
    "        \"\"\"Initialize a new PSU object.\"\"\"\n",
    "        self.wattage = wattage\n",
    "        self.efficiency_rating = efficiency_rating\n",
    "\n",
    "    def get_info(self):\n",
    "        \"\"\"Return information about the PSU.\"\"\"\n",
    "        return f\"{self.wattage}W PSU, {self.efficiency_rating}% efficiency rating\"\n",
    "\n",
    "    def _is_working(self):\n",
    "        \"\"\"Perform tests on the PSU to determine if it's working properly.\"\"\"\n",
    "        # TODO: Implement actual PSU tests\n",
    "        return True\n",
    "\n",
    "    def psu_test(self):\n",
    "        \"\"\"Test the PSU to ensure it's working properly.\"\"\"\n",
    "        if self._is_working():\n",
    "            print(self.get_info())\n",
    "            print(\"PSU test passed!\")\n",
    "        else:\n",
    "            raise PSUTestFailure(\"PSU test failed - PSU is not working properly!\")\n",
    "\n",
    "class PSUTestFailure(Exception):\n",
    "    pass"
   ]
  },
  {
   "cell_type": "code",
   "execution_count": 39,
   "metadata": {},
   "outputs": [],
   "source": [
    "class OS:\n",
    "    def __init__(self, name, version):\n",
    "        self.name = name\n",
    "        self.version = version\n",
    "        self.running_apps = []\n",
    "\n",
    "    def start_app(self, app_name):\n",
    "        print(f\"Starting {app_name}...\")\n",
    "        self.running_apps.append(app_name)\n",
    "\n",
    "    def stop_app(self, app_name):\n",
    "        if app_name in self.running_apps:\n",
    "            print(f\"Stopping {app_name}...\")\n",
    "            self.running_apps.remove(app_name)\n",
    "        else:\n",
    "            print(f\"{app_name} is not currently running.\")\n",
    "\n",
    "    def boot(self):\n",
    "        print(f\"Booting {self.name} {self.version}...\")\n",
    "        print(f\"{self.name} {self.version} is now ready for use!\")\n",
    "        \n",
    "    def __str__(self):\n",
    "        return f\"{self.name} {self.version}\""
   ]
  },
  {
   "cell_type": "code",
   "execution_count": 40,
   "metadata": {},
   "outputs": [],
   "source": [
    "import time\n",
    "\n",
    "class Computer:\n",
    "    def __init__(self):\n",
    "        self.cpu = CPU(\"Intel Core i5-11600K\", 3.9, 6)\n",
    "        self.ram = RAM(16, 3200)\n",
    "        self.gpu = GPU(\"NVIDIA GeForce RTX 4090\", \"24GB\")\n",
    "        self.psu = PSU(750, 80)\n",
    "        self.mobo = MOBO(\"ASUS Prime X570-Pro\", \"AMD X570\")\n",
    "        self.os = OS(\"Windows\", \"11\")\n",
    "\n",
    "    def power_on(self):\n",
    "        print(\"Starting up computer...\\n\")\n",
    "        time.sleep(2)\n",
    "\n",
    "        print(\"Performing Power On Self Test (POST)...\\n\")\n",
    "        time.sleep(2)\n",
    "\n",
    "        self.mobo.post()\n",
    "        print(\"\\n\")\n",
    "\n",
    "        print(\"Testing power supply unit (PSU)...\\n\")\n",
    "        time.sleep(2)\n",
    "\n",
    "        self.psu.psu_test()\n",
    "        print(\"\\n\")\n",
    "\n",
    "        print(\"Booting CPU...\\n\")\n",
    "        time.sleep(2)\n",
    "\n",
    "        self.cpu.cpu_test()\n",
    "        print(\"\\n\")\n",
    "\n",
    "        print(\"Checking RAM...\\n\")\n",
    "        time.sleep(2)\n",
    "\n",
    "        self.ram.ram_test()\n",
    "        print(\"\\n\")\n",
    "\n",
    "        print(\"Initializing graphics card (GPU)...\\n\")\n",
    "        time.sleep(2)\n",
    "        \n",
    "        self.gpu.gpu_test()\n",
    "        print(\"\\n\")\n",
    "\n",
    "        print(\"Booting operating system (OS)...\\n\")\n",
    "        time.sleep(2)\n",
    "        \n",
    "        self.os.boot()\n",
    "        print(\"\\n\")\n",
    "\n",
    "        print(\"Computer is now ready for use!\\n\")"
   ]
  },
  {
   "cell_type": "code",
   "execution_count": 41,
   "metadata": {},
   "outputs": [],
   "source": [
    "my_computer = Computer()"
   ]
  },
  {
   "cell_type": "code",
   "execution_count": 42,
   "metadata": {},
   "outputs": [
    {
     "data": {
      "text/plain": [
       "750"
      ]
     },
     "execution_count": 42,
     "metadata": {},
     "output_type": "execute_result"
    }
   ],
   "source": [
    "my_computer.psu.wattage"
   ]
  },
  {
   "cell_type": "code",
   "execution_count": 43,
   "metadata": {},
   "outputs": [
    {
     "data": {
      "text/plain": [
       "'24GB'"
      ]
     },
     "execution_count": 43,
     "metadata": {},
     "output_type": "execute_result"
    }
   ],
   "source": [
    "my_computer.gpu.memory"
   ]
  },
  {
   "cell_type": "code",
   "execution_count": 44,
   "metadata": {},
   "outputs": [
    {
     "name": "stdout",
     "output_type": "stream",
     "text": [
      "Starting up computer...\n",
      "\n",
      "Performing Power On Self Test (POST)...\n",
      "\n",
      "Starting power-on self-test (POST)...\n",
      "POST successful!\n",
      "\n",
      "\n",
      "Testing power supply unit (PSU)...\n",
      "\n",
      "750W PSU, 80% efficiency rating\n",
      "PSU test passed!\n",
      "\n",
      "\n",
      "Booting CPU...\n",
      "\n",
      "Testing Intel Core i5-11600K CPU...\n",
      "Intel Core i5-11600K CPU is working!\n",
      "\n",
      "\n",
      "Checking RAM...\n",
      "\n",
      "Testing 16 GB of RAM at 3200 MHz...\n",
      "16 GB 3200 MHz RAM is working!\n",
      "\n",
      "\n",
      "Initializing graphics card (GPU)...\n",
      "\n",
      "Starting GPU test...\n",
      "GPU NVIDIA GeForce RTX 4090 working!\n",
      "\n",
      "\n",
      "Booting operating system (OS)...\n",
      "\n",
      "Booting Windows 11...\n",
      "Windows 11 is now ready for use!\n",
      "\n",
      "\n",
      "Computer is now ready for use!\n",
      "\n"
     ]
    }
   ],
   "source": [
    "my_computer.power_on()"
   ]
  },
  {
   "cell_type": "code",
   "execution_count": 45,
   "metadata": {},
   "outputs": [],
   "source": [
    "another_computer = Computer()"
   ]
  },
  {
   "cell_type": "code",
   "execution_count": 46,
   "metadata": {},
   "outputs": [
    {
     "name": "stdout",
     "output_type": "stream",
     "text": [
      "Starting up computer...\n",
      "\n",
      "Performing Power On Self Test (POST)...\n",
      "\n",
      "Starting power-on self-test (POST)...\n",
      "POST successful!\n",
      "\n",
      "\n",
      "Testing power supply unit (PSU)...\n",
      "\n",
      "750W PSU, 80% efficiency rating\n",
      "PSU test passed!\n",
      "\n",
      "\n",
      "Booting CPU...\n",
      "\n",
      "Testing Intel Core i5-11600K CPU...\n",
      "Intel Core i5-11600K CPU is working!\n",
      "\n",
      "\n",
      "Checking RAM...\n",
      "\n",
      "Testing 16 GB of RAM at 3200 MHz...\n",
      "16 GB 3200 MHz RAM is working!\n",
      "\n",
      "\n",
      "Initializing graphics card (GPU)...\n",
      "\n",
      "Starting GPU test...\n",
      "GPU NVIDIA GeForce RTX 4090 working!\n",
      "\n",
      "\n",
      "Booting operating system (OS)...\n",
      "\n",
      "Booting Windows 11...\n",
      "Windows 11 is now ready for use!\n",
      "\n",
      "\n",
      "Computer is now ready for use!\n",
      "\n"
     ]
    }
   ],
   "source": [
    "another_computer.power_on()"
   ]
  },
  {
   "cell_type": "code",
   "execution_count": null,
   "metadata": {},
   "outputs": [],
   "source": []
  }
 ],
 "metadata": {
  "kernelspec": {
   "display_name": "newprojects2023",
   "language": "python",
   "name": "python3"
  },
  "language_info": {
   "codemirror_mode": {
    "name": "ipython",
    "version": 3
   },
   "file_extension": ".py",
   "mimetype": "text/x-python",
   "name": "python",
   "nbconvert_exporter": "python",
   "pygments_lexer": "ipython3",
   "version": "3.9.12"
  },
  "orig_nbformat": 4,
  "vscode": {
   "interpreter": {
    "hash": "3e057eae646ecae450e1cc2eaebf4c50e17b1237490182c284d138f78309c0d4"
   }
  }
 },
 "nbformat": 4,
 "nbformat_minor": 2
}
