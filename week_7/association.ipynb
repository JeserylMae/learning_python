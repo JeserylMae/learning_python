{
 "cells": [
  {
   "cell_type": "code",
   "execution_count": 64,
   "metadata": {},
   "outputs": [],
   "source": [
    "class Person:\n",
    "    def __init__(self, name ,address):\n",
    "        self.name = name\n",
    "        self.address = address\n",
    "    \n",
    "    def talk(self):\n",
    "        print(f\"{self.name} started talking...\")\n",
    "\n",
    "    def say_home(self):\n",
    "        print(f\"{self.name} lives in {self.address.block}, {self.address.lot}, {self.address.street}, {self.address.city}\")"
   ]
  },
  {
   "cell_type": "code",
   "execution_count": 65,
   "metadata": {},
   "outputs": [],
   "source": [
    "class Address:\n",
    "    def __init__(self, block, lot, street, city):\n",
    "        self.block = block\n",
    "        self.lot = lot\n",
    "        self.street = street\n",
    "        self.city = city\n",
    "\n",
    "    def home_details(self):\n",
    "        print(f\"{self.block}, {self.lot}, {self.street}, {self.city}\")"
   ]
  },
  {
   "cell_type": "code",
   "execution_count": 66,
   "metadata": {},
   "outputs": [],
   "source": [
    "john = Person(\"John\", Address(25, 55, 'Angel Street', 'Los Angels'))"
   ]
  },
  {
   "cell_type": "code",
   "execution_count": 67,
   "metadata": {},
   "outputs": [
    {
     "name": "stdout",
     "output_type": "stream",
     "text": [
      "John started talking...\n"
     ]
    }
   ],
   "source": [
    "john.talk()"
   ]
  },
  {
   "cell_type": "code",
   "execution_count": 68,
   "metadata": {},
   "outputs": [
    {
     "name": "stdout",
     "output_type": "stream",
     "text": [
      "John lives in 25, 55, Angel Street, Los Angels\n"
     ]
    }
   ],
   "source": [
    "john.say_home()"
   ]
  },
  {
   "cell_type": "code",
   "execution_count": null,
   "metadata": {},
   "outputs": [],
   "source": []
  }
 ],
 "metadata": {
  "kernelspec": {
   "display_name": "projects2022",
   "language": "python",
   "name": "python3"
  },
  "language_info": {
   "codemirror_mode": {
    "name": "ipython",
    "version": 3
   },
   "file_extension": ".py",
   "mimetype": "text/x-python",
   "name": "python",
   "nbconvert_exporter": "python",
   "pygments_lexer": "ipython3",
   "version": "3.9.12"
  },
  "orig_nbformat": 4
 },
 "nbformat": 4,
 "nbformat_minor": 2
}
