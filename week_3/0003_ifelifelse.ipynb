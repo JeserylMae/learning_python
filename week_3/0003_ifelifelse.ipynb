{
 "cells": [
  {
   "attachments": {},
   "cell_type": "markdown",
   "metadata": {},
   "source": [
    "# Conditions"
   ]
  },
  {
   "cell_type": "code",
   "execution_count": 1,
   "metadata": {},
   "outputs": [
    {
     "name": "stdout",
     "output_type": "stream",
     "text": [
      "a and b are equal\n"
     ]
    }
   ],
   "source": [
    "a = 50\n",
    "b = 50\n",
    "\n",
    "if a == b:\n",
    "    print(\"a and b are equal\")\n",
    "else:\n",
    "    print(\"a and b are not equal\")"
   ]
  },
  {
   "cell_type": "code",
   "execution_count": 2,
   "metadata": {},
   "outputs": [
    {
     "name": "stdout",
     "output_type": "stream",
     "text": [
      "a and b are not equal\n"
     ]
    }
   ],
   "source": [
    "a = 50\n",
    "b = 100\n",
    "\n",
    "if a == b:\n",
    "    print(\"a and b are equal\")\n",
    "else:\n",
    "    print(\"a and b are not equal\")"
   ]
  },
  {
   "cell_type": "code",
   "execution_count": 3,
   "metadata": {},
   "outputs": [
    {
     "name": "stdout",
     "output_type": "stream",
     "text": [
      "a is less than or equal to b\n"
     ]
    }
   ],
   "source": [
    "a = 50\n",
    "b = 100\n",
    "\n",
    "if a > b:\n",
    "    print(\"a is greater than b\")\n",
    "else:\n",
    "    print(\"a is less than or equal to b\")"
   ]
  },
  {
   "cell_type": "code",
   "execution_count": 4,
   "metadata": {},
   "outputs": [
    {
     "name": "stdout",
     "output_type": "stream",
     "text": [
      "a is less than b\n"
     ]
    }
   ],
   "source": [
    "a = 50\n",
    "b = 100\n",
    "\n",
    "if a < b:\n",
    "    print(\"a is less than b\")\n",
    "else:\n",
    "    print(\"a is greater than or equal to b\")"
   ]
  },
  {
   "cell_type": "code",
   "execution_count": 5,
   "metadata": {},
   "outputs": [
    {
     "name": "stdout",
     "output_type": "stream",
     "text": [
      "Yusuke's power is not equal to Toguro's power.\n"
     ]
    }
   ],
   "source": [
    "# Example 1\n",
    "yusuke_power = 75\n",
    "toguro_power = 100\n",
    "\n",
    "if yusuke_power != toguro_power:\n",
    "    print(\"Yusuke's power is not equal to Toguro's power.\")\n",
    "else:\n",
    "    print(\"Yusuke's power is equal to Toguro's power.\")\n"
   ]
  },
  {
   "cell_type": "code",
   "execution_count": 6,
   "metadata": {},
   "outputs": [
    {
     "name": "stdout",
     "output_type": "stream",
     "text": [
      "Recca's flame is less than Kurei's flame.\n"
     ]
    }
   ],
   "source": [
    "# Example 2\n",
    "recca_flame = 70\n",
    "kurei_flame = 80\n",
    "\n",
    "if recca_flame >= kurei_flame:\n",
    "    print(\"Recca's flame is greater than or equal to Kurei's flame.\")\n",
    "else:\n",
    "    print(\"Recca's flame is less than Kurei's flame.\")"
   ]
  },
  {
   "cell_type": "code",
   "execution_count": 7,
   "metadata": {},
   "outputs": [
    {
     "name": "stdout",
     "output_type": "stream",
     "text": [
      "Sakuragi's height is greater than Mitsui's height.\n"
     ]
    }
   ],
   "source": [
    "# Example 3\n",
    "sakuragi_height = 190\n",
    "mitsui_height = 185\n",
    "\n",
    "if sakuragi_height <= mitsui_height:\n",
    "    print(\"Sakuragi's height is less than or equal to Mitsui's height.\")\n",
    "else:\n",
    "    print(\"Sakuragi's height is greater than Mitsui's height.\")"
   ]
  },
  {
   "cell_type": "code",
   "execution_count": 8,
   "metadata": {},
   "outputs": [
    {
     "name": "stdout",
     "output_type": "stream",
     "text": [
      "Amuro's skill is less than Char's skill.\n",
      "Amuro's skill is less than Lightning's skill.\n"
     ]
    }
   ],
   "source": [
    "# Example 1\n",
    "amuro_skill = 75\n",
    "char_skill = 100\n",
    "lightning_skill = 90\n",
    "\n",
    "if amuro_skill > char_skill:\n",
    "    print(\"Amuro's skill is greater than Char's skill.\")\n",
    "elif amuro_skill < char_skill:\n",
    "    print(\"Amuro's skill is less than Char's skill.\")\n",
    "else:\n",
    "    print(\"Amuro's skill is equal to Char's skill.\")\n",
    "\n",
    "if amuro_skill > lightning_skill:\n",
    "    print(\"Amuro's skill is greater than Lightning's skill.\")\n",
    "elif amuro_skill < lightning_skill:\n",
    "    print(\"Amuro's skill is less than Lightning's skill.\")\n",
    "else:\n",
    "    print(\"Amuro's skill is equal to Lightning's skill.\")\n"
   ]
  },
  {
   "cell_type": "code",
   "execution_count": 9,
   "metadata": {},
   "outputs": [
    {
     "name": "stdout",
     "output_type": "stream",
     "text": [
      "Van's power is less than Hitomi's power.\n",
      "Van's power is less than Merle's power.\n"
     ]
    }
   ],
   "source": [
    "# Example 2\n",
    "van_power = 70\n",
    "hitomi_power = 80\n",
    "merle_power = 85\n",
    "\n",
    "if van_power >= hitomi_power:\n",
    "    print(\"Van's power is greater than or equal to Hitomi's power.\")\n",
    "elif van_power < hitomi_power:\n",
    "    print(\"Van's power is less than Hitomi's power.\")\n",
    "else:\n",
    "    print(\"Van's power is equal to Hitomi's power.\")\n",
    "\n",
    "if van_power >= merle_power:\n",
    "    print(\"Van's power is greater than or equal to Merle's power.\")\n",
    "elif van_power < merle_power:\n",
    "    print(\"Van's power is less than Merle's power.\")\n",
    "else:\n",
    "    print(\"Van's power is equal to Merle's power.\")"
   ]
  },
  {
   "cell_type": "code",
   "execution_count": 10,
   "metadata": {},
   "outputs": [
    {
     "name": "stdout",
     "output_type": "stream",
     "text": [
      "Karl's speed is less than Dumas' speed.\n"
     ]
    }
   ],
   "source": [
    "# Example 3\n",
    "karl_speed = 190\n",
    "otaru_speed = 185\n",
    "dumas_speed = 200\n",
    "\n",
    "if karl_speed <= otaru_speed:\n",
    "    print(\"Karl's speed is less than or equal to Otaru's speed.\")\n",
    "elif karl_speed < dumas_speed:\n",
    "    print(\"Karl's speed is less than Dumas' speed.\")\n",
    "else:\n",
    "    print(\"Karl's speed is greater than or equal to Dumas' speed.\")"
   ]
  },
  {
   "cell_type": "code",
   "execution_count": 11,
   "metadata": {},
   "outputs": [
    {
     "name": "stdout",
     "output_type": "stream",
     "text": [
      "Onizuka is not qualified to teach all subjects in this class, but some of them.\n"
     ]
    }
   ],
   "source": [
    "# Example 1: GTO\n",
    "onizuka_subjects = [\"math\", \"history\", \"english\", \"physical education\"]\n",
    "class_subjects = [\"math\", \"history\", \"english\", \"science\", \"art\"]\n",
    "\n",
    "subjects_in_common = set(onizuka_subjects) & set(class_subjects)\n",
    "all_subjects_in_class = set(class_subjects)\n",
    "\n",
    "if len(subjects_in_common) == len(all_subjects_in_class):\n",
    "    print(\"Onizuka is qualified to teach all subjects in this class.\")\n",
    "elif subjects_in_common:\n",
    "    print(\"Onizuka is not qualified to teach all subjects in this class, but some of them.\")\n",
    "else:\n",
    "    print(\"Onizuka is not qualified to teach any subject in this class.\")\n"
   ]
  },
  {
   "cell_type": "code",
   "execution_count": 12,
   "metadata": {},
   "outputs": [
    {
     "name": "stdout",
     "output_type": "stream",
     "text": [
      "Ranma is male.\n"
     ]
    }
   ],
   "source": [
    "# Example 2: Ranma 1/2\n",
    "ranma_forms = [\"male\", \"female\"]\n",
    "\n",
    "if \"male\" in ranma_forms:\n",
    "    print(\"Ranma is male.\")\n",
    "elif \"female\" in ranma_forms:\n",
    "    print(\"Ranma is female.\")\n",
    "else:\n",
    "    print(\"Ranma's form is not specified.\")"
   ]
  },
  {
   "cell_type": "code",
   "execution_count": 13,
   "metadata": {},
   "outputs": [
    {
     "name": "stdout",
     "output_type": "stream",
     "text": [
      "Doraemon has all the gadgets that Nobita wants.\n"
     ]
    }
   ],
   "source": [
    "# Example 3: Doraemon\n",
    "doraemon_gadgets = [\"Anywhere Door\", \"Time Kerchief\", \"Pocket\", \"Bamboo Copter\", \"Dokodemo Hammer\"]\n",
    "nobita_wishlist = [\"Anywhere Door\", \"Bamboo Copter\", \"Dokodemo Hammer\"]\n",
    "\n",
    "subjects_in_common = set(nobita_wishlist) & set(doraemon_gadgets)\n",
    "\n",
    "if len(subjects_in_common) == len(nobita_wishlist):\n",
    "    print(\"Doraemon has all the gadgets that Nobita wants.\")\n",
    "elif subjects_in_common:\n",
    "    print(\"Doraemon has some but not all of the gadgets that Nobita wants.\")\n",
    "else:\n",
    "    print(\"Doraemon does not have any of the gadgets that Nobita wants.\")"
   ]
  },
  {
   "cell_type": "code",
   "execution_count": 14,
   "metadata": {},
   "outputs": [
    {
     "name": "stdout",
     "output_type": "stream",
     "text": [
      "Onizuka is not qualified to teach all subjects in this class, but some of them.\n"
     ]
    }
   ],
   "source": [
    "onizuka_subjects = {\"math\": \"A+\", \"history\": \"B-\", \"english\": \"A\", \"physical education\": \"A\"}\n",
    "class_subjects = {\"math\": \"required\", \"history\": \"required\", \"english\": \"required\", \"science\": \"required\", \"art\": \"optional\"}\n",
    "\n",
    "subjects_in_common = set(onizuka_subjects.keys()) & set(class_subjects.keys())\n",
    "all_subjects_in_class = set(class_subjects.keys())\n",
    "\n",
    "if len(subjects_in_common) == len(all_subjects_in_class):\n",
    "    print(\"Onizuka is qualified to teach all subjects in this class.\")\n",
    "elif subjects_in_common:\n",
    "    print(\"Onizuka is not qualified to teach all subjects in this class, but some of them.\")\n",
    "else:\n",
    "    print(\"Onizuka is not qualified to teach any subject in this class.\")\n",
    "\n"
   ]
  },
  {
   "cell_type": "code",
   "execution_count": 15,
   "metadata": {},
   "outputs": [
    {
     "name": "stdout",
     "output_type": "stream",
     "text": [
      "Ranma is male.\n"
     ]
    }
   ],
   "source": [
    "ranma_forms = {\"male\": True, \"female\": True}\n",
    "\n",
    "if ranma_forms.get(\"male\"):\n",
    "    print(\"Ranma is male.\")\n",
    "elif ranma_forms.get(\"female\"):\n",
    "    print(\"Ranma is female.\")\n",
    "else:\n",
    "    print(\"Ranma's form is not specified.\")"
   ]
  },
  {
   "cell_type": "code",
   "execution_count": 16,
   "metadata": {},
   "outputs": [
    {
     "name": "stdout",
     "output_type": "stream",
     "text": [
      "Doraemon has all the gadgets that Nobita wants.\n"
     ]
    }
   ],
   "source": [
    "doraemon_gadgets = {\"Anywhere Door\": True, \"Time Kerchief\": True, \"Pocket\": False, \"Bamboo Copter\": True, \"Dokodemo Hammer\": True}\n",
    "nobita_wishlist = {\"Anywhere Door\": True, \"Bamboo Copter\": True, \"Dokodemo Hammer\": True}\n",
    "\n",
    "subjects_in_common = set(nobita_wishlist.keys()) & set(doraemon_gadgets.keys())\n",
    "\n",
    "if len(subjects_in_common) == len(nobita_wishlist):\n",
    "    print(\"Doraemon has all the gadgets that Nobita wants.\")\n",
    "elif subjects_in_common:\n",
    "    print(\"Doraemon has some but not all of the gadgets that Nobita wants.\")\n",
    "else:\n",
    "    print(\"Doraemon does not have any of the gadgets that Nobita wants.\")"
   ]
  },
  {
   "cell_type": "code",
   "execution_count": 17,
   "metadata": {},
   "outputs": [
    {
     "name": "stdout",
     "output_type": "stream",
     "text": [
      "Doraemon has all the gadgets he needs to travel through time and space.\n",
      "Doraemon is also equipped with a Small Light, which will come in handy.\n"
     ]
    }
   ],
   "source": [
    "# Example 1: Doraemon\n",
    "doraemon_gadgets = [\"Anywhere Door\", \"Time Kerchief\", \"Small Light\", \"Bamboo Copter\"]\n",
    "doraemon_goals = [\"Anywhere Door\", \"Time Kerchief\"]\n",
    "\n",
    "if \"Anywhere Door\" in doraemon_gadgets:\n",
    "    if \"Time Kerchief\" in doraemon_gadgets:\n",
    "        print(\"Doraemon has all the gadgets he needs to travel through time and space.\")\n",
    "        if \"Small Light\" in doraemon_gadgets:\n",
    "            print(\"Doraemon is also equipped with a Small Light, which will come in handy.\")\n",
    "        else:\n",
    "            print(\"Doraemon could use a Small Light for a better view.\")\n",
    "    else:\n",
    "        print(\"Doraemon needs the Time Kerchief to travel through time.\")\n",
    "else:\n",
    "    print(\"Doraemon needs the Anywhere Door to travel through space.\")\n"
   ]
  },
  {
   "cell_type": "code",
   "execution_count": 18,
   "metadata": {},
   "outputs": [
    {
     "name": "stdout",
     "output_type": "stream",
     "text": [
      "Goku is in his Ultra Instinct form, which is his strongest yet.\n",
      "Goku is ready to take on Broly, the legendary Super Saiyan.\n"
     ]
    }
   ],
   "source": [
    "# Example 2: Dragon Ball\n",
    "goku_levels = [\"Super Saiyan 1\", \"Super Saiyan 2\", \"Super Saiyan 3\", \"Super Saiyan 4\", \"Ultra Instinct\"]\n",
    "goku_opponent = \"Broly\"\n",
    "\n",
    "if \"Ultra Instinct\" in goku_levels:\n",
    "    print(\"Goku is in his Ultra Instinct form, which is his strongest yet.\")\n",
    "    if goku_opponent == \"Broly\":\n",
    "        print(\"Goku is ready to take on Broly, the legendary Super Saiyan.\")\n",
    "    else:\n",
    "        print(f\"Goku is ready to take on any opponent, including {goku_opponent}.\")\n",
    "elif \"Super Saiyan 4\" in goku_levels:\n",
    "    print(\"Goku is in his Super Saiyan 4 form, which is one of his strongest forms.\")\n",
    "    if goku_opponent == \"Broly\":\n",
    "        print(\"Goku may need to reach a higher level to take on Broly.\")\n",
    "    else:\n",
    "        print(f\"Goku is ready to take on {goku_opponent}.\")\n",
    "else:\n",
    "    print(\"Goku needs to reach a higher level to face his opponents.\")"
   ]
  },
  {
   "cell_type": "code",
   "execution_count": 19,
   "metadata": {},
   "outputs": [
    {
     "name": "stdout",
     "output_type": "stream",
     "text": [
      "Naruto is in his Nine-Tailed Fox Chakra Mode, which is his strongest form.\n",
      "Naruto is ready to protect the village from any threat.\n"
     ]
    }
   ],
   "source": [
    "# Example 3: Naruto\n",
    "naruto_jutsus = [\"Rasengan\", \"Shadow Clone Jutsu\", \"Nine-Tailed Fox Chakra Mode\"]\n",
    "naruto_mission = \"Protect the Village\"\n",
    "\n",
    "if \"Nine-Tailed Fox Chakra Mode\" in naruto_jutsus:\n",
    "    print(\"Naruto is in his Nine-Tailed Fox Chakra Mode, which is his strongest form.\")\n",
    "    if naruto_mission == \"Protect the Village\":\n",
    "        print(\"Naruto is ready to protect the village from any threat.\")\n",
    "    else:\n",
    "        print(f\"Naruto is ready to complete any mission, including {naruto_mission}.\")\n",
    "elif \"Shadow Clone Jutsu\" in naruto_jutsus:\n",
    "    print(\"Naruto is able to use the Shadow Clone Jutsu, which multiplies his power.\")\n",
    "    if naruto_mission == \"Protect the Village\":\n",
    "        print(\"Naruto is ready to protect the village with the help of his clones.\")\n",
    "    else:\n",
    "        print(f\"Naruto is ready to complete the mission {naruto_mission} with the help of his clones.\")\n",
    "else:\n",
    "    print(\"Naruto needs to learn more jutsus to complete his missions.\")"
   ]
  },
  {
   "cell_type": "code",
   "execution_count": 20,
   "metadata": {},
   "outputs": [
    {
     "name": "stdout",
     "output_type": "stream",
     "text": [
      "[[1, 2, 3]]\n",
      "1\n",
      "3\n",
      "The matrix is a row matrix\n"
     ]
    }
   ],
   "source": [
    "#Example 1: Checking if a matrix is invertible\n",
    "\n",
    "matrix = [[1, 2, 3]]\n",
    "print(matrix)\n",
    "rows = len(matrix)\n",
    "print(rows)\n",
    "columns = len(matrix[0])\n",
    "print(columns)\n",
    "\n",
    "if rows == 1:\n",
    "    print(\"The matrix is a row matrix\")\n",
    "elif columns == 1:\n",
    "    print(\"The matrix is a column matrix\")\n",
    "else:\n",
    "    print(\"The matrix is neither a row nor a column matrix\")\n"
   ]
  },
  {
   "cell_type": "code",
   "execution_count": 21,
   "metadata": {},
   "outputs": [
    {
     "name": "stdout",
     "output_type": "stream",
     "text": [
      "[[1, 2, 3], [4, 5, 6], [7, 8, 9]]\n",
      "3\n",
      "3\n",
      "The matrix is a square matrix\n"
     ]
    }
   ],
   "source": [
    "#Example 2: Checking if a matrix is a square matrix\n",
    "\n",
    "matrix = [[1, 2, 3], [4, 5, 6], [7, 8, 9]]\n",
    "print(matrix)\n",
    "rows = len(matrix)\n",
    "print(rows)\n",
    "columns = len(matrix[0])\n",
    "print(columns)\n",
    "\n",
    "if rows == columns:\n",
    "    print(\"The matrix is a square matrix\")\n",
    "else:\n",
    "    print(\"The matrix is not a square matrix\")\n"
   ]
  },
  {
   "cell_type": "code",
   "execution_count": 22,
   "metadata": {},
   "outputs": [
    {
     "name": "stdout",
     "output_type": "stream",
     "text": [
      "[[1, 2], [3, 4]]\n",
      "1\n",
      "4\n",
      "2\n",
      "3\n",
      "-2\n",
      "The matrix is invertible\n"
     ]
    }
   ],
   "source": [
    "#Example 3: Checking if a matrix is a row matrix or a column matrix\n",
    "\n",
    "matrix = [[1, 2], [3, 4]]\n",
    "print(matrix)\n",
    "determinant = (matrix[0][0] * matrix[1][1]) - (matrix[0][1] * matrix[1][0])\n",
    "print(matrix[0][0])\n",
    "print(matrix[1][1])\n",
    "print(matrix[0][1])\n",
    "print(matrix[1][0])\n",
    "print(determinant)\n",
    "\n",
    "if determinant != 0:\n",
    "    print(\"The matrix is invertible\")\n",
    "else:\n",
    "    print(\"The matrix is not invertible\")\n"
   ]
  },
  {
   "cell_type": "code",
   "execution_count": 23,
   "metadata": {},
   "outputs": [
    {
     "name": "stdout",
     "output_type": "stream",
     "text": [
      "The equation has real roots\n"
     ]
    }
   ],
   "source": [
    "#Example 1: Checking if a quadratic equation has real roots\n",
    "\n",
    "a = 1\n",
    "b = 5\n",
    "c = 6\n",
    "\n",
    "discriminant = b**2 - 4 * a * c\n",
    "\n",
    "if discriminant >= 0:\n",
    "    print(\"The equation has real roots\")\n",
    "else:\n",
    "    print(\"The equation has no real roots\")\n"
   ]
  },
  {
   "cell_type": "code",
   "execution_count": 24,
   "metadata": {},
   "outputs": [
    {
     "name": "stdout",
     "output_type": "stream",
     "text": [
      "The number is positive\n"
     ]
    }
   ],
   "source": [
    "#Checking if a given number is positive, negative or zero\n",
    "\n",
    "number = 10\n",
    "\n",
    "if number > 0:\n",
    "    print(\"The number is positive\")\n",
    "elif number < 0:\n",
    "    print(\"The number is negative\")\n",
    "else:\n",
    "    print(\"The number is zero\")\n"
   ]
  },
  {
   "cell_type": "code",
   "execution_count": 25,
   "metadata": {},
   "outputs": [
    {
     "name": "stdout",
     "output_type": "stream",
     "text": [
      "The equation has distinct roots\n"
     ]
    }
   ],
   "source": [
    "#Checking if a polynomial equation has equal roots\n",
    "\n",
    "a = 1\n",
    "b = 2\n",
    "c = 2\n",
    "\n",
    "if b**2 == 4 * a * c:\n",
    "    print(\"The equation has equal roots\")\n",
    "else:\n",
    "    print(\"The equation has distinct roots\")"
   ]
  },
  {
   "cell_type": "code",
   "execution_count": 1,
   "metadata": {},
   "outputs": [
    {
     "name": "stdout",
     "output_type": "stream",
     "text": [
      "The spell has been cast successfully\n"
     ]
    }
   ],
   "source": [
    "#Checking if the user has enough mana to perform a spell\n",
    "user_mana = int(input(\"Enter your current mana: \"))\n",
    "spell_cost = 40\n",
    "\n",
    "if user_mana >= spell_cost:\n",
    "    user_mana -= spell_cost\n",
    "    print(\"The spell has been cast successfully\")\n",
    "else:\n",
    "    print(\"Not enough mana to cast the spell\")\n"
   ]
  },
  {
   "cell_type": "code",
   "execution_count": null,
   "metadata": {},
   "outputs": [],
   "source": [
    "#Checking if the user has enough stamina to perform a physical attack\n",
    "user_stamina = int(input(\"Enter your current stamina: \"))\n",
    "attack_cost = 50\n",
    "\n",
    "if user_stamina >= attack_cost:\n",
    "    user_stamina -= attack_cost\n",
    "    print(\"The physical attack has been performed successfully\")\n",
    "else:\n",
    "    print(\"Not enough stamina to perform the physical attack\")\n"
   ]
  },
  {
   "attachments": {},
   "cell_type": "markdown",
   "metadata": {},
   "source": [
    "# BONUS SAMPLE"
   ]
  },
  {
   "cell_type": "code",
   "execution_count": 36,
   "metadata": {},
   "outputs": [
    {
     "name": "stdout",
     "output_type": "stream",
     "text": [
      "Welcome to Final Fantasy Adventure Game!\n",
      "\n",
      "Welcome, Claude! Your adventure begins now.\n",
      "\n",
      "You wake up in a forest and notice that you are wearing a warrior's attire. You hear a voice calling out to you, 'Hero, the fate of the world rests in your hands.'\n",
      "\n",
      "You found a hidden cave and got a sword and shield. Now, you are ready for battle.\n",
      "\n",
      "You are now in a castle town\n",
      "\n",
      "You talk to the King and he tells you that the world is in danger.\n",
      "The dark lord has returned and threatens to destroy the world.\n",
      "The King asks for your help. Do you accept?\n",
      "\n",
      "The King gives you a map to the first dungeon. You have to retrieve the crystal from the dungeon to save the world.\n",
      "\n",
      "You are now in the first dungeon.\n",
      "\n",
      "You fight the monsters and got injured. You have to retreat and find a way to heal yourself.\n",
      "\n",
      "You are now in a forest.\n",
      "\n",
      "You continued your journey but got lost. Game over.\n",
      "\n",
      "You are now in the dark lord's castle.\n",
      "\n",
      "You went straight to the dark lord and got ambushed.\n",
      "\n",
      "The dark lord killed you. Game over.\n",
      "\n"
     ]
    }
   ],
   "source": [
    "import pygame\n",
    "import random\n",
    "import time\n",
    "\n",
    "pygame.mixer.init()\n",
    "\n",
    "forest_music = \"audio/BGM/fftown1.mp3\"\n",
    "\n",
    "dark_lord = \"audio/SE/Devil1.ogg\"\n",
    "dark_lord_skill = \"audio/SE/Darkness1.ogg\"\n",
    "hero_die = \"audio/SE/death1.wav\"\n",
    "\n",
    "forest_music = pygame.mixer.music.load(forest_music)\n",
    "pygame.mixer.music.play()\n",
    "\n",
    "dark_lord = pygame.mixer.Sound(dark_lord)\n",
    "dark_lord_delay = dark_lord.get_length()\n",
    "\n",
    "hero_die = pygame.mixer.Sound(hero_die)\n",
    "hero_die_delay = hero_die.get_length()\n",
    "\n",
    "dark_lord_skill = pygame.mixer.Sound(dark_lord_skill)\n",
    "dark_lord_skill_delay = dark_lord_skill.get_length()\n",
    "\n",
    "# Introduction\n",
    "print(\"Welcome to Final Fantasy Adventure Game!\\n\")\n",
    "name = input(\"What is your name? \\n\")\n",
    "print(f\"Welcome, {name}! Your adventure begins now.\\n\")\n",
    "\n",
    "# Starting scenario\n",
    "print(\"You wake up in a forest and notice that you are wearing a warrior's attire. You hear a voice calling out to you, 'Hero, the fate of the world rests in your hands.'\\n\")\n",
    "choice = input(\"Do you want to look for weapons or search for other people? \\n\")\n",
    "\n",
    "if choice == \"look for weapons\":\n",
    "    print(\"You found a hidden cave and got a sword and shield. Now, you are ready for battle.\\n\")\n",
    "else:\n",
    "    print(\"You wandered around for hours but couldn't find anyone. Game over.\\n\")\n",
    "\n",
    "# Second scenario\n",
    "print(\"You are now in a castle town\\n\")\n",
    "\n",
    "choice = input(\"Do you want to explore the town or talk to the King?\\n\")\n",
    "\n",
    "if choice == \"explore the town\":\n",
    "    pygame.mixer.music.stop()\n",
    "    time.sleep(1)\n",
    "    castle_music = \"audio/BGM/Town3.ogg\"\n",
    "    castle_music = pygame.mixer.music.load(castle_music)\n",
    "    pygame.mixer.music.play()\n",
    "    print(\"You found a hidden passage that led you to the King's treasure room.\\nYou take a bag of gold and gems. You are rich!\\n\")\n",
    "else:\n",
    "    print(\"You talk to the King and he tells you that the world is in danger.\\nThe dark lord has returned and threatens to destroy the world.\\nThe King asks for your help. Do you accept?\\n\")\n",
    "    choice = input(\"Do you accept the mission? (Yes/No) \")\n",
    "    if choice.lower() == \"yes\":\n",
    "        print(\"The King gives you a map to the first dungeon. You have to retrieve the crystal from the dungeon to save the world.\\n\")\n",
    "    else:\n",
    "        print(\"The King tells you to leave the castle. Game over.\\n\")\n",
    "\n",
    "# Third scenario\n",
    "print(\"You are now in the first dungeon.\\n\")\n",
    "choice = input(\"Do you want to search for the crystal or fight the monsters?\\n\")\n",
    "\n",
    "if choice == \"search for the crystal\":\n",
    "    chance = random.randint(0, 1)\n",
    "    if chance == 0:\n",
    "        print(\"You found the crystal and defeated the boss. Now, you have to take the crystal back to the King.\\n\")\n",
    "    else:\n",
    "        print(\"You couldn't find the crystal and died. Game over.\\n\")\n",
    "else:\n",
    "    print(\"You fight the monsters and got injured. You have to retreat and find a way to heal yourself.\\n\")\n",
    "\n",
    "# Fourth scenario\n",
    "print(\"You are now in a forest.\\n\")\n",
    "choice = input(\"Do you want to rest or continue your journey?\\n\")\n",
    "\n",
    "if choice == \"rest\":\n",
    "    print(\"You found a healing spring that restored your health. You are now ready for the next challenge.\\n\")\n",
    "else:\n",
    "    print(\"You continued your journey but got lost. Game over.\\n\")\n",
    "\n",
    "# Final scenario\n",
    "print(\"You are now in the dark lord's castle.\\n\")\n",
    "choice = input(\"Do you want to go straight to the dark lord or search for a secret passage?\\n\")\n",
    "\n",
    "if choice == \"search for a secret passage\":\n",
    "    print(\"You found a secret passage and ambushed the dark lord. You defeated the dark lord and saved the world\\n. Congratulations!\\n\")\n",
    "else:\n",
    "    print(\"You went straight to the dark lord and got ambushed.\\n\") \n",
    "    dark_lord.play()\n",
    "    time.sleep(dark_lord_delay + 0.5)\n",
    "    dark_lord_skill.play()\n",
    "    time.sleep(dark_lord_skill_delay +  0.2)\n",
    "    hero_die.play()\n",
    "    time.sleep(hero_die_delay + 0.3)\n",
    "    print(\"The dark lord killed you. Game over.\\n\")\n",
    "\n",
    "pygame.mixer.music.stop()\n"
   ]
  },
  {
   "cell_type": "code",
   "execution_count": 39,
   "metadata": {},
   "outputs": [
    {
     "name": "stdout",
     "output_type": "stream",
     "text": [
      "Welcome to the Flame of Recca Game!\n",
      "\n",
      "As you progress through the game, you will be presented with a series of decisions that will affect the outcome of the story.\n",
      "\n",
      "Let's begin!\n",
      "\n",
      "You are Recca Hanabishi, a young ninja with the ability to control flames.\n",
      "\n",
      "One day, while wandering around the city, you stumble upon a mysterious object in an alleyway.\n",
      "\n",
      "What do you do?\n",
      "\n",
      "You chose to pick up the object. It's a strange-looking metal ball that emits a faint light.\n",
      "\n",
      "Suddenly, you feel a strange power emanating from the object. You are transported to a strange dimension where you meet a group of powerful warriors.\n",
      "\n",
      "They tell you that the object is a magical artifact that can grant the user immense power. However, it is also coveted by evil forces who seek to use its power for their own nefarious purposes.\n",
      "\n",
      "They offer to train you in the ways of combat and magic so that you can protect the artifact and defeat the evil forces.\n",
      "\n",
      "Will you accept their offer?\n",
      "\n",
      "Congratulations! You have joined forces with the warriors and set out on a perilous adventure to protect the artifact and defeat the evil forces!\n",
      "\n"
     ]
    }
   ],
   "source": [
    "import pygame\n",
    "import random\n",
    "import time\n",
    "\n",
    "bg_music = \"audio/BGM/recca1.mp3\"\n",
    "\n",
    "yes_sound = \"audio/SE/take_this.wav\"\n",
    "light_sound = \"audio/SE/Saint9.ogg\"\n",
    "transport_sound = \"audio/SE/Darkness5.ogg\"\n",
    "mystery = \"audio/ME/Mystery.ogg\"\n",
    "accepted = \"audio/ME/Fanfare3.ogg\"\n",
    "\n",
    "explosion = \"audio/SE/Explosion6.ogg\"\n",
    "\n",
    "pygame.mixer.init()\n",
    "\n",
    "yes_sound = pygame.mixer.Sound(yes_sound)\n",
    "yes_sound_delay = yes_sound.get_length()\n",
    "\n",
    "light_sound = pygame.mixer.Sound(light_sound)\n",
    "light_sound_delay = light_sound.get_length()\n",
    "\n",
    "transport_sound = pygame.mixer.Sound(transport_sound)\n",
    "transport_sound_delay = transport_sound.get_length()\n",
    "\n",
    "mystery = pygame.mixer.Sound(mystery)\n",
    "mystery_delay = mystery.get_length()\n",
    "\n",
    "accepted = pygame.mixer.Sound(accepted)\n",
    "accepted_delay = accepted.get_length()\n",
    "\n",
    "explosion = pygame.mixer.Sound(explosion)\n",
    "explosion_delay = explosion.get_length()\n",
    "\n",
    "bg_music = pygame.mixer.music.load(bg_music)\n",
    "pygame.mixer.music.play()\n",
    "\n",
    "print(\"Welcome to the Flame of Recca Game!\\n\")\n",
    "time.sleep(1)\n",
    "\n",
    "print(\"As you progress through the game, you will be presented with a series of decisions that will affect the outcome of the story.\\n\")\n",
    "time.sleep(2)\n",
    "\n",
    "print(\"Let's begin!\\n\")\n",
    "time.sleep(1)\n",
    "\n",
    "print(\"You are Recca Hanabishi, a young ninja with the ability to control flames.\\n\")\n",
    "time.sleep(2)\n",
    "\n",
    "print(\"One day, while wandering around the city, you stumble upon a mysterious object in an alleyway.\\n\")\n",
    "time.sleep(2)\n",
    "\n",
    "print(\"What do you do?\\n\")\n",
    "time.sleep(1)\n",
    "\n",
    "decision = input(\"Enter 1 to pick up the object. Enter 2 to ignore it. Enter 3 to call the authorities.\\n\")\n",
    "\n",
    "if decision == \"1\":\n",
    "    time.sleep(yes_sound_delay)\n",
    "    yes_sound.play()\n",
    "    print(\"You chose to pick up the object. It's a strange-looking metal ball that emits a faint light.\\n\")\n",
    "    time.sleep(light_sound_delay + 1)\n",
    "    light_sound.play()\n",
    "    time.sleep(1)\n",
    "    print(\"Suddenly, you feel a strange power emanating from the object. You are transported to a strange dimension where you meet a group of powerful warriors.\\n\")\n",
    "    transport_sound.play()\n",
    "    time.sleep(transport_sound_delay + 1)\n",
    "    print(\"They tell you that the object is a magical artifact that can grant the user immense power. However, it is also coveted by evil forces who seek to use its power for their own nefarious purposes.\\n\")\n",
    "    time.sleep(2)\n",
    "    print(\"They offer to train you in the ways of combat and magic so that you can protect the artifact and defeat the evil forces.\\n\")\n",
    "    time.sleep(2)\n",
    "    print(\"Will you accept their offer?\\n\")\n",
    "    time.sleep(1)\n",
    "    \n",
    "    decision = input(\"Enter 1 to accept their offer. Enter 2 to refuse.\\n\")\n",
    "    \n",
    "    if decision == \"1\":\n",
    "        print(\"Congratulations! You have joined forces with the warriors and set out on a perilous adventure to protect the artifact and defeat the evil forces!\\n\")\n",
    "        accepted.play()\n",
    "        time.sleep(accepted_delay + 1)\n",
    "    elif decision == \"2\":\n",
    "        mystery.play()\n",
    "        time.sleep(mystery_delay + 1)\n",
    "        print(\"You refuse the offer and decide to continue on your own path. However, you soon realize that the evil forces are also after you, and you must use all of your ninja skills to protect yourself and the artifact.\\n\")\n",
    "    else:\n",
    "        print(\"Invalid input. Please try again.\\n\")\n",
    "        \n",
    "elif decision == \"2\":\n",
    "    print(\"You chose to ignore the object and continue on your way.\\n\")\n",
    "    time.sleep(2)\n",
    "    print(\"As you continue on your way, you hear a strange noise behind you. You turn around and see a group of ninja warriors approaching.\\n\")\n",
    "    mystery.play()\n",
    "    time.sleep(mystery_delay + 1)\n",
    "    time.sleep(2)\n",
    "    print(\"They demand that you hand over the artifact, but you refuse. A fierce battle ensues, and you must use all of your ninja skills to defeat them and protect the artifact.\\n\")\n",
    "    \n",
    "elif decision == \"3\":\n",
    "    print(\"You chose to call the authorities. They arrive and take the object away for investigation.\\n\")\n",
    "    time.sleep(2)\n",
    "    print(\"As you walk away from the alleyway, you hear a loud explosion. You turn around and see that the authorities have accidentally triggered the artifact, causing it to explode.\\n\")\n",
    "    explosion.play()\n",
    "    time.sleep(explosion_delay + 1)\n",
    "    print(\"You realize that you were the only one who could have protected the artifact, and you feel a great sense of regret and sorrow.\")\n",
    "    \n",
    "else:\n",
    "    print(\"Invalid input. Please try again.\\n\")\n",
    "\n",
    "# The game continues with additional decisions and outcomes based on the user's choices.\n",
    "pygame.mixer.music.stop()"
   ]
  }
 ],
 "metadata": {
  "kernelspec": {
   "display_name": "projects2022",
   "language": "python",
   "name": "python3"
  },
  "language_info": {
   "codemirror_mode": {
    "name": "ipython",
    "version": 3
   },
   "file_extension": ".py",
   "mimetype": "text/x-python",
   "name": "python",
   "nbconvert_exporter": "python",
   "pygments_lexer": "ipython3",
   "version": "3.9.12"
  },
  "orig_nbformat": 4,
  "vscode": {
   "interpreter": {
    "hash": "caba5fb2e65e5cd320935daeb5a23cf1221c4ea11b88a6babfa283dbfc6ad08a"
   }
  }
 },
 "nbformat": 4,
 "nbformat_minor": 2
}
