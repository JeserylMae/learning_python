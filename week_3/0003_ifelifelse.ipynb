{
 "cells": [
  {
   "attachments": {},
   "cell_type": "markdown",
   "metadata": {},
   "source": [
    "# Conditions"
   ]
  },
  {
   "cell_type": "code",
   "execution_count": null,
   "metadata": {},
   "outputs": [],
   "source": [
    "a = 50\n",
    "b = 50\n",
    "\n",
    "if a == b:\n",
    "    print(\"a and b are equal\")\n",
    "else:\n",
    "    print(\"a and b are not equal\")"
   ]
  },
  {
   "cell_type": "code",
   "execution_count": null,
   "metadata": {},
   "outputs": [],
   "source": [
    "a = 50\n",
    "b = 100\n",
    "\n",
    "if a == b:\n",
    "    print(\"a and b are equal\")\n",
    "else:\n",
    "    print(\"a and b are not equal\")"
   ]
  },
  {
   "cell_type": "code",
   "execution_count": null,
   "metadata": {},
   "outputs": [],
   "source": [
    "a = 50\n",
    "b = 100\n",
    "\n",
    "if a > b:\n",
    "    print(\"a is greater than b\")\n",
    "else:\n",
    "    print(\"a is less than or equal to b\")"
   ]
  },
  {
   "cell_type": "code",
   "execution_count": null,
   "metadata": {},
   "outputs": [],
   "source": [
    "a = 50\n",
    "b = 100\n",
    "\n",
    "if a < b:\n",
    "    print(\"a is less than b\")\n",
    "else:\n",
    "    print(\"a is greater than or equal to b\")"
   ]
  },
  {
   "cell_type": "code",
   "execution_count": null,
   "metadata": {},
   "outputs": [],
   "source": [
    "# Example 1\n",
    "yusuke_power = 75\n",
    "toguro_power = 100\n",
    "\n",
    "if yusuke_power != toguro_power:\n",
    "    print(\"Yusuke's power is not equal to Toguro's power.\")\n",
    "else:\n",
    "    print(\"Yusuke's power is equal to Toguro's power.\")\n"
   ]
  },
  {
   "cell_type": "code",
   "execution_count": null,
   "metadata": {},
   "outputs": [],
   "source": [
    "# Example 2\n",
    "recca_flame = 70\n",
    "kurei_flame = 80\n",
    "\n",
    "if recca_flame >= kurei_flame:\n",
    "    print(\"Recca's flame is greater than or equal to Kurei's flame.\")\n",
    "else:\n",
    "    print(\"Recca's flame is less than Kurei's flame.\")"
   ]
  },
  {
   "cell_type": "code",
   "execution_count": null,
   "metadata": {},
   "outputs": [],
   "source": [
    "# Example 3\n",
    "sakuragi_height = 190\n",
    "mitsui_height = 185\n",
    "\n",
    "if sakuragi_height <= mitsui_height:\n",
    "    print(\"Sakuragi's height is less than or equal to Mitsui's height.\")\n",
    "else:\n",
    "    print(\"Sakuragi's height is greater than Mitsui's height.\")"
   ]
  },
  {
   "cell_type": "code",
   "execution_count": null,
   "metadata": {},
   "outputs": [],
   "source": [
    "# Example 1\n",
    "amuro_skill = 75\n",
    "char_skill = 100\n",
    "lightning_skill = 90\n",
    "\n",
    "if amuro_skill > char_skill:\n",
    "    print(\"Amuro's skill is greater than Char's skill.\")\n",
    "elif amuro_skill < char_skill:\n",
    "    print(\"Amuro's skill is less than Char's skill.\")\n",
    "else:\n",
    "    print(\"Amuro's skill is equal to Char's skill.\")\n",
    "\n",
    "if amuro_skill > lightning_skill:\n",
    "    print(\"Amuro's skill is greater than Lightning's skill.\")\n",
    "elif amuro_skill < lightning_skill:\n",
    "    print(\"Amuro's skill is less than Lightning's skill.\")\n",
    "else:\n",
    "    print(\"Amuro's skill is equal to Lightning's skill.\")\n"
   ]
  },
  {
   "cell_type": "code",
   "execution_count": null,
   "metadata": {},
   "outputs": [],
   "source": [
    "# Example 2\n",
    "van_power = 70\n",
    "hitomi_power = 80\n",
    "merle_power = 85\n",
    "\n",
    "if van_power >= hitomi_power:\n",
    "    print(\"Van's power is greater than or equal to Hitomi's power.\")\n",
    "elif van_power < hitomi_power:\n",
    "    print(\"Van's power is less than Hitomi's power.\")\n",
    "else:\n",
    "    print(\"Van's power is equal to Hitomi's power.\")\n",
    "\n",
    "if van_power >= merle_power:\n",
    "    print(\"Van's power is greater than or equal to Merle's power.\")\n",
    "elif van_power < merle_power:\n",
    "    print(\"Van's power is less than Merle's power.\")\n",
    "else:\n",
    "    print(\"Van's power is equal to Merle's power.\")"
   ]
  },
  {
   "cell_type": "code",
   "execution_count": null,
   "metadata": {},
   "outputs": [],
   "source": [
    "# Example 3\n",
    "karl_speed = 190\n",
    "otaru_speed = 185\n",
    "dumas_speed = 200\n",
    "\n",
    "if karl_speed <= otaru_speed:\n",
    "    print(\"Karl's speed is less than or equal to Otaru's speed.\")\n",
    "elif karl_speed < dumas_speed:\n",
    "    print(\"Karl's speed is less than Dumas' speed.\")\n",
    "else:\n",
    "    print(\"Karl's speed is greater than or equal to Dumas' speed.\")"
   ]
  },
  {
   "cell_type": "code",
   "execution_count": null,
   "metadata": {},
   "outputs": [],
   "source": [
    "# Example 1: GTO\n",
    "onizuka_subjects = [\"math\", \"history\", \"english\", \"physical education\"]\n",
    "class_subjects = [\"math\", \"history\", \"english\", \"science\", \"art\"]\n",
    "\n",
    "subjects_in_common = set(onizuka_subjects) & set(class_subjects)\n",
    "all_subjects_in_class = set(class_subjects)\n",
    "\n",
    "if len(subjects_in_common) == len(all_subjects_in_class):\n",
    "    print(\"Onizuka is qualified to teach all subjects in this class.\")\n",
    "elif subjects_in_common:\n",
    "    print(\"Onizuka is not qualified to teach all subjects in this class, but some of them.\")\n",
    "else:\n",
    "    print(\"Onizuka is not qualified to teach any subject in this class.\")\n"
   ]
  },
  {
   "cell_type": "code",
   "execution_count": null,
   "metadata": {},
   "outputs": [],
   "source": [
    "# Example 2: Ranma 1/2\n",
    "ranma_forms = [\"male\", \"female\"]\n",
    "\n",
    "if \"male\" in ranma_forms:\n",
    "    print(\"Ranma is male.\")\n",
    "elif \"female\" in ranma_forms:\n",
    "    print(\"Ranma is female.\")\n",
    "else:\n",
    "    print(\"Ranma's form is not specified.\")"
   ]
  },
  {
   "cell_type": "code",
   "execution_count": null,
   "metadata": {},
   "outputs": [],
   "source": [
    "# Example 3: Doraemon\n",
    "doraemon_gadgets = [\"Anywhere Door\", \"Time Kerchief\", \"Pocket\", \"Bamboo Copter\", \"Dokodemo Hammer\"]\n",
    "nobita_wishlist = [\"Anywhere Door\", \"Bamboo Copter\", \"Dokodemo Hammer\"]\n",
    "\n",
    "subjects_in_common = set(nobita_wishlist) & set(doraemon_gadgets)\n",
    "\n",
    "if len(subjects_in_common) == len(nobita_wishlist):\n",
    "    print(\"Doraemon has all the gadgets that Nobita wants.\")\n",
    "elif subjects_in_common:\n",
    "    print(\"Doraemon has some but not all of the gadgets that Nobita wants.\")\n",
    "else:\n",
    "    print(\"Doraemon does not have any of the gadgets that Nobita wants.\")"
   ]
  },
  {
   "cell_type": "code",
   "execution_count": null,
   "metadata": {},
   "outputs": [],
   "source": [
    "onizuka_subjects = {\"math\": \"A+\", \"history\": \"B-\", \"english\": \"A\", \"physical education\": \"A\"}\n",
    "class_subjects = {\"math\": \"required\", \"history\": \"required\", \"english\": \"required\", \"science\": \"required\", \"art\": \"optional\"}\n",
    "\n",
    "subjects_in_common = set(onizuka_subjects.keys()) & set(class_subjects.keys())\n",
    "all_subjects_in_class = set(class_subjects.keys())\n",
    "\n",
    "if len(subjects_in_common) == len(all_subjects_in_class):\n",
    "    print(\"Onizuka is qualified to teach all subjects in this class.\")\n",
    "elif subjects_in_common:\n",
    "    print(\"Onizuka is not qualified to teach all subjects in this class, but some of them.\")\n",
    "else:\n",
    "    print(\"Onizuka is not qualified to teach any subject in this class.\")\n",
    "\n"
   ]
  },
  {
   "cell_type": "code",
   "execution_count": null,
   "metadata": {},
   "outputs": [],
   "source": [
    "ranma_forms = {\"male\": True, \"female\": True}\n",
    "\n",
    "if ranma_forms.get(\"male\"):\n",
    "    print(\"Ranma is male.\")\n",
    "elif ranma_forms.get(\"female\"):\n",
    "    print(\"Ranma is female.\")\n",
    "else:\n",
    "    print(\"Ranma's form is not specified.\")"
   ]
  },
  {
   "cell_type": "code",
   "execution_count": null,
   "metadata": {},
   "outputs": [],
   "source": [
    "doraemon_gadgets = {\"Anywhere Door\": True, \"Time Kerchief\": True, \"Pocket\": False, \"Bamboo Copter\": True, \"Dokodemo Hammer\": True}\n",
    "nobita_wishlist = {\"Anywhere Door\": True, \"Bamboo Copter\": True, \"Dokodemo Hammer\": True}\n",
    "\n",
    "subjects_in_common = set(nobita_wishlist.keys()) & set(doraemon_gadgets.keys())\n",
    "\n",
    "if len(subjects_in_common) == len(nobita_wishlist):\n",
    "    print(\"Doraemon has all the gadgets that Nobita wants.\")\n",
    "elif subjects_in_common:\n",
    "    print(\"Doraemon has some but not all of the gadgets that Nobita wants.\")\n",
    "else:\n",
    "    print(\"Doraemon does not have any of the gadgets that Nobita wants.\")"
   ]
  },
  {
   "cell_type": "code",
   "execution_count": null,
   "metadata": {},
   "outputs": [],
   "source": [
    "# Example 1: Doraemon\n",
    "doraemon_gadgets = [\"Anywhere Door\", \"Time Kerchief\", \"Small Light\", \"Bamboo Copter\"]\n",
    "doraemon_goals = [\"Anywhere Door\", \"Time Kerchief\"]\n",
    "\n",
    "if \"Anywhere Door\" in doraemon_gadgets:\n",
    "    if \"Time Kerchief\" in doraemon_gadgets:\n",
    "        print(\"Doraemon has all the gadgets he needs to travel through time and space.\")\n",
    "        if \"Small Light\" in doraemon_gadgets:\n",
    "            print(\"Doraemon is also equipped with a Small Light, which will come in handy.\")\n",
    "        else:\n",
    "            print(\"Doraemon could use a Small Light for a better view.\")\n",
    "    else:\n",
    "        print(\"Doraemon needs the Time Kerchief to travel through time.\")\n",
    "else:\n",
    "    print(\"Doraemon needs the Anywhere Door to travel through space.\")\n"
   ]
  },
  {
   "cell_type": "code",
   "execution_count": null,
   "metadata": {},
   "outputs": [],
   "source": [
    "# Example 2: Dragon Ball\n",
    "goku_levels = [\"Super Saiyan 1\", \"Super Saiyan 2\", \"Super Saiyan 3\", \"Super Saiyan 4\", \"Ultra Instinct\"]\n",
    "goku_opponent = \"Broly\"\n",
    "\n",
    "if \"Ultra Instinct\" in goku_levels:\n",
    "    print(\"Goku is in his Ultra Instinct form, which is his strongest yet.\")\n",
    "    if goku_opponent == \"Broly\":\n",
    "        print(\"Goku is ready to take on Broly, the legendary Super Saiyan.\")\n",
    "    else:\n",
    "        print(f\"Goku is ready to take on any opponent, including {goku_opponent}.\")\n",
    "elif \"Super Saiyan 4\" in goku_levels:\n",
    "    print(\"Goku is in his Super Saiyan 4 form, which is one of his strongest forms.\")\n",
    "    if goku_opponent == \"Broly\":\n",
    "        print(\"Goku may need to reach a higher level to take on Broly.\")\n",
    "    else:\n",
    "        print(f\"Goku is ready to take on {goku_opponent}.\")\n",
    "else:\n",
    "    print(\"Goku needs to reach a higher level to face his opponents.\")"
   ]
  },
  {
   "cell_type": "code",
   "execution_count": null,
   "metadata": {},
   "outputs": [],
   "source": [
    "# Example 3: Naruto\n",
    "naruto_jutsus = [\"Rasengan\", \"Shadow Clone Jutsu\", \"Nine-Tailed Fox Chakra Mode\"]\n",
    "naruto_mission = \"Protect the Village\"\n",
    "\n",
    "if \"Nine-Tailed Fox Chakra Mode\" in naruto_jutsus:\n",
    "    print(\"Naruto is in his Nine-Tailed Fox Chakra Mode, which is his strongest form.\")\n",
    "    if naruto_mission == \"Protect the Village\":\n",
    "        print(\"Naruto is ready to protect the village from any threat.\")\n",
    "    else:\n",
    "        print(f\"Naruto is ready to complete any mission, including {naruto_mission}.\")\n",
    "elif \"Shadow Clone Jutsu\" in naruto_jutsus:\n",
    "    print(\"Naruto is able to use the Shadow Clone Jutsu, which multiplies his power.\")\n",
    "    if naruto_mission == \"Protect the Village\":\n",
    "        print(\"Naruto is ready to protect the village with the help of his clones.\")\n",
    "    else:\n",
    "        print(f\"Naruto is ready to complete the mission {naruto_mission} with the help of his clones.\")\n",
    "else:\n",
    "    print(\"Naruto needs to learn more jutsus to complete his missions.\")"
   ]
  },
  {
   "cell_type": "code",
   "execution_count": null,
   "metadata": {},
   "outputs": [],
   "source": [
    "#Example 1: Checking if a matrix is invertible\n",
    "\n",
    "matrix = [[1, 2, 3]]\n",
    "print(matrix)\n",
    "rows = len(matrix)\n",
    "print(rows)\n",
    "columns = len(matrix[0])\n",
    "print(columns)\n",
    "\n",
    "if rows == 1:\n",
    "    print(\"The matrix is a row matrix\")\n",
    "elif columns == 1:\n",
    "    print(\"The matrix is a column matrix\")\n",
    "else:\n",
    "    print(\"The matrix is neither a row nor a column matrix\")\n"
   ]
  },
  {
   "cell_type": "code",
   "execution_count": null,
   "metadata": {},
   "outputs": [],
   "source": [
    "#Example 2: Checking if a matrix is a square matrix\n",
    "\n",
    "matrix = [[1, 2, 3], [4, 5, 6], [7, 8, 9]]\n",
    "print(matrix)\n",
    "rows = len(matrix)\n",
    "print(rows)\n",
    "columns = len(matrix[0])\n",
    "print(columns)\n",
    "\n",
    "if rows == columns:\n",
    "    print(\"The matrix is a square matrix\")\n",
    "else:\n",
    "    print(\"The matrix is not a square matrix\")\n"
   ]
  },
  {
   "cell_type": "code",
   "execution_count": null,
   "metadata": {},
   "outputs": [],
   "source": [
    "#Example 3: Checking if a matrix is a row matrix or a column matrix\n",
    "\n",
    "matrix = [[1, 2], [3, 4]]\n",
    "print(matrix)\n",
    "determinant = (matrix[0][0] * matrix[1][1]) - (matrix[0][1] * matrix[1][0])\n",
    "print(matrix[0][0])\n",
    "print(matrix[1][1])\n",
    "print(matrix[0][1])\n",
    "print(matrix[1][0])\n",
    "print(determinant)\n",
    "\n",
    "if determinant != 0:\n",
    "    print(\"The matrix is invertible\")\n",
    "else:\n",
    "    print(\"The matrix is not invertible\")\n"
   ]
  },
  {
   "cell_type": "code",
   "execution_count": null,
   "metadata": {},
   "outputs": [],
   "source": [
    "#Example 1: Checking if a quadratic equation has real roots\n",
    "\n",
    "a = 1\n",
    "b = 5\n",
    "c = 6\n",
    "\n",
    "discriminant = b**2 - 4 * a * c\n",
    "\n",
    "if discriminant >= 0:\n",
    "    print(\"The equation has real roots\")\n",
    "else:\n",
    "    print(\"The equation has no real roots\")\n"
   ]
  },
  {
   "cell_type": "code",
   "execution_count": null,
   "metadata": {},
   "outputs": [],
   "source": [
    "#Checking if a given number is positive, negative or zero\n",
    "\n",
    "number = 10\n",
    "\n",
    "if number > 0:\n",
    "    print(\"The number is positive\")\n",
    "elif number < 0:\n",
    "    print(\"The number is negative\")\n",
    "else:\n",
    "    print(\"The number is zero\")\n"
   ]
  },
  {
   "cell_type": "code",
   "execution_count": null,
   "metadata": {},
   "outputs": [],
   "source": [
    "#Checking if a polynomial equation has equal roots\n",
    "\n",
    "a = 1\n",
    "b = 2\n",
    "c = 2\n",
    "\n",
    "if b**2 == 4 * a * c:\n",
    "    print(\"The equation has equal roots\")\n",
    "else:\n",
    "    print(\"The equation has distinct roots\")\n"
   ]
  },
  {
   "cell_type": "code",
   "execution_count": null,
   "metadata": {},
   "outputs": [],
   "source": [
    "#Checking if the user has enough mana to perform a spell\n",
    "user_mana = int(input(\"Enter your current mana: \"))\n",
    "spell_cost = 40\n",
    "\n",
    "if user_mana >= spell_cost:\n",
    "    user_mana -= spell_cost\n",
    "    print(\"The spell has been cast successfully\")\n",
    "else:\n",
    "    print(\"Not enough mana to cast the spell\")\n"
   ]
  },
  {
   "cell_type": "code",
   "execution_count": null,
   "metadata": {},
   "outputs": [],
   "source": [
    "#Checking if the user has enough stamina to perform a physical attack\n",
    "user_stamina = int(input(\"Enter your current stamina: \"))\n",
    "attack_cost = 50\n",
    "\n",
    "if user_stamina >= attack_cost:\n",
    "    user_stamina -= attack_cost\n",
    "    print(\"The physical attack has been performed successfully\")\n",
    "else:\n",
    "    print(\"Not enough stamina to perform the physical attack\")\n"
   ]
  }
 ],
 "metadata": {
  "language_info": {
   "name": "python"
  },
  "orig_nbformat": 4
 },
 "nbformat": 4,
 "nbformat_minor": 2
}
