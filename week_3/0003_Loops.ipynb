{
 "cells": [
  {
   "attachments": {},
   "cell_type": "markdown",
   "metadata": {},
   "source": [
    "# For and while loops - 004"
   ]
  },
  {
   "attachments": {},
   "cell_type": "markdown",
   "metadata": {},
   "source": [
    "# For Loops"
   ]
  },
  {
   "cell_type": "code",
   "execution_count": 21,
   "metadata": {},
   "outputs": [
    {
     "name": "stdout",
     "output_type": "stream",
     "text": [
      "Grock\n",
      "Gusion\n",
      "Silvanna\n",
      "Beatrix\n"
     ]
    }
   ],
   "source": [
    "users = [\"Grock\", \"Gusion\", \"Silvanna\", \"Beatrix\"]\n",
    "\n",
    "for user in users:\n",
    "    print(user)"
   ]
  },
  {
   "cell_type": "code",
   "execution_count": 24,
   "metadata": {},
   "outputs": [
    {
     "name": "stdout",
     "output_type": "stream",
     "text": [
      "Grock\n",
      "Gusion\n",
      "Silvanna\n",
      "Beatrix\n"
     ]
    },
    {
     "data": {
      "text/plain": [
       "[None, None, None, None]"
      ]
     },
     "execution_count": 24,
     "metadata": {},
     "output_type": "execute_result"
    }
   ],
   "source": [
    "users = [\"Grock\", \"Gusion\", \"Silvanna\", \"Beatrix\"]\n",
    "\n",
    "# Using list comprehension\n",
    "[print(user) for user in users]\n"
   ]
  },
  {
   "cell_type": "code",
   "execution_count": 17,
   "metadata": {},
   "outputs": [
    {
     "name": "stdout",
     "output_type": "stream",
     "text": [
      "1234\n",
      "admin\n",
      "test123\n",
      "2\n",
      "9\n"
     ]
    }
   ],
   "source": [
    "passwords = [1234, 'admin', 'test123', 1+1, 3**2]\n",
    "\n",
    "for password in passwords:\n",
    "    print(password)"
   ]
  },
  {
   "cell_type": "code",
   "execution_count": 3,
   "metadata": {},
   "outputs": [
    {
     "name": "stdout",
     "output_type": "stream",
     "text": [
      "0\n",
      "1\n",
      "2\n"
     ]
    }
   ],
   "source": [
    "#Advance Loops\n",
    "\n",
    "list = [1, 2, 3, 4, 5]\n",
    "\n",
    "for i in range(0, len(list)):\n",
    "    print(i)"
   ]
  },
  {
   "cell_type": "code",
   "execution_count": 5,
   "metadata": {},
   "outputs": [
    {
     "name": "stdout",
     "output_type": "stream",
     "text": [
      "0\n",
      "1\n"
     ]
    }
   ],
   "source": [
    "for i in range(0, 2):\n",
    "    print(i)"
   ]
  },
  {
   "cell_type": "code",
   "execution_count": 6,
   "metadata": {},
   "outputs": [
    {
     "name": "stdout",
     "output_type": "stream",
     "text": [
      "0\n",
      "1\n",
      "2\n",
      "3\n",
      "4\n",
      "5\n"
     ]
    }
   ],
   "source": [
    "for i in range(0, len(list)+1):\n",
    "    print(i)"
   ]
  },
  {
   "cell_type": "code",
   "execution_count": 7,
   "metadata": {},
   "outputs": [
    {
     "name": "stdout",
     "output_type": "stream",
     "text": [
      "0\n",
      "1\n"
     ]
    }
   ],
   "source": [
    "for i in range(0, len(list)-3):\n",
    "    print(i)"
   ]
  },
  {
   "cell_type": "code",
   "execution_count": 10,
   "metadata": {},
   "outputs": [
    {
     "name": "stdout",
     "output_type": "stream",
     "text": [
      "0\n",
      "1\n",
      "2\n",
      "3\n",
      "4\n",
      "5\n",
      "6\n",
      "7\n",
      "8\n",
      "9\n"
     ]
    }
   ],
   "source": [
    "for i in range(0, len(list) * 2):\n",
    "    print(i)"
   ]
  },
  {
   "cell_type": "code",
   "execution_count": 13,
   "metadata": {},
   "outputs": [
    {
     "name": "stdout",
     "output_type": "stream",
     "text": [
      "0\n",
      "1\n"
     ]
    }
   ],
   "source": [
    "for i in range(0, len(list) // 2):\n",
    "    print(i)"
   ]
  },
  {
   "cell_type": "code",
   "execution_count": 1,
   "metadata": {},
   "outputs": [
    {
     "name": "stdout",
     "output_type": "stream",
     "text": [
      "1 plus 2 equals 3\n",
      "3 plus 4 equals 7\n",
      "5 plus 6 equals 11\n",
      "7 plus 8 equals 15\n"
     ]
    }
   ],
   "source": [
    "x = [(1, 2), (3, 4), (5, 6), (7, 8)]\n",
    "\n",
    "for a, b in x:\n",
    "    print(a, \"plus\", b, \"equals\", a+b)"
   ]
  },
  {
   "cell_type": "code",
   "execution_count": 2,
   "metadata": {},
   "outputs": [
    {
     "name": "stdout",
     "output_type": "stream",
     "text": [
      "AAPL: 200.53\n",
      "WWE: 120.85\n",
      "TCS: 155.87\n"
     ]
    }
   ],
   "source": [
    "stocks = {\"AAPL\":200.53, \"WWE\":120.85, \"TCS\":155.87}\n",
    "\n",
    "for key, value in stocks.items():\n",
    "    print(key + \": \" + str(value))"
   ]
  },
  {
   "cell_type": "code",
   "execution_count": 3,
   "metadata": {},
   "outputs": [
    {
     "name": "stdout",
     "output_type": "stream",
     "text": [
      "One: 1\n",
      "Two: 2\n",
      "Three: 3\n"
     ]
    }
   ],
   "source": [
    "dict_a = {\"One\":1, \"Two\":2, \"Three\":3}\n",
    "\n",
    "for key, value in dict_a.items():\n",
    "    print(f\"{key}: {value}\")"
   ]
  },
  {
   "cell_type": "code",
   "execution_count": 4,
   "metadata": {},
   "outputs": [
    {
     "name": "stdout",
     "output_type": "stream",
     "text": [
      "Index: 0, Value: 1\n",
      "Index: 1, Value: 2\n",
      "Index: 2, Value: 3\n",
      "Index: 3, Value: 4\n",
      "Index: 4, Value: 5\n"
     ]
    }
   ],
   "source": [
    "# List of items to loop through\n",
    "items = [1, 2, 3, 4, 5]\n",
    "\n",
    "# Loop through the items and print the index and value\n",
    "for i, item in enumerate(items):\n",
    "    print(f\"Index: {i}, Value: {item}\")\n"
   ]
  },
  {
   "attachments": {},
   "cell_type": "markdown",
   "metadata": {},
   "source": [
    "# While Loop"
   ]
  },
  {
   "cell_type": "code",
   "execution_count": 290,
   "metadata": {},
   "outputs": [
    {
     "name": "stdout",
     "output_type": "stream",
     "text": [
      "Guinevere ordered a Sea Salt Latte\n"
     ]
    }
   ],
   "source": [
    "orders = {\"Leomord\": \"Java Chip Cream\", \n",
    "          \"Fanny\": \"Pure Matcha\", \n",
    "          \"Guinevere\": \"Sea Salt Latte\"}\n",
    "\n",
    "def return_key(val):\n",
    "    for key, value in orders.items():\n",
    "        if value==val:\n",
    "            return key\n",
    "    return('Key Not Found')\n",
    "\n",
    "while True:\n",
    "    call_order = input(\"Name: \")\n",
    "    my_val = orders.get(call_order)\n",
    "    if call_order == call_order:\n",
    "        x = return_key(my_val)\n",
    "        print(f\"{x} ordered a {orders[call_order]}.\")\n",
    "        break"
   ]
  },
  {
   "cell_type": "code",
   "execution_count": 293,
   "metadata": {},
   "outputs": [
    {
     "name": "stdout",
     "output_type": "stream",
     "text": [
      "Fanny ordered a Pure Matcha.\n"
     ]
    }
   ],
   "source": [
    "while True:\n",
    "    call_order = input(\"Name: \")\n",
    "    if call_order == call_order:\n",
    "        x = return_key(my_val)\n",
    "        print(f\"{call_order} ordered a {orders[call_order]}.\")\n",
    "        break"
   ]
  },
  {
   "cell_type": "code",
   "execution_count": null,
   "metadata": {},
   "outputs": [],
   "source": [
    "txt = \"Advanced Programming\"\n",
    "\n",
    "print(txt)\n",
    "\n",
    "for c in txt:\n",
    "    print(c)"
   ]
  },
  {
   "cell_type": "code",
   "execution_count": null,
   "metadata": {},
   "outputs": [],
   "source": [
    "softdrinks = ['Coke', 'Sprite', 'Royal', 'Dr. Pepper']\n",
    "\n",
    "for softdrink in softdrinks:\n",
    "    print(softdrink)"
   ]
  },
  {
   "cell_type": "code",
   "execution_count": null,
   "metadata": {},
   "outputs": [],
   "source": [
    "import random as rdm\n",
    "\n",
    "softdrinks = ['Coke', 'Sprite', 'Royal', 'Dr. Pepper']\n",
    "\n",
    "sugar_level = 0\n",
    "limit = 100\n",
    "\n",
    "while sugar_level < 100:\n",
    "    drink = rdm.randint(0, len(softdrinks)-1)\n",
    "    drink = softdrinks[drink]\n",
    "    print(\"Drinking\", drink +'....')\n",
    "    sugar_content = 0\n",
    "    \n",
    "    if drink == \"Coke\":\n",
    "        sugar_content = 20\n",
    "    if drink == \"Sprite\":\n",
    "        sugar_content = 14\n",
    "    if drink == \"Royal\":\n",
    "        sugar_content = 16\n",
    "    if drink == \"Dr. Pepper\":\n",
    "        sugar_content = 12\n",
    "    \n",
    "    print(f\"Sugar level increased by {sugar_content}!\")\n",
    "    sugar_level  = sugar_level + sugar_content\n",
    "    print(f\"Current Sugar level is now {sugar_level}.\")\n",
    "    print()\n",
    "    if sugar_level + sugar_content > limit:\n",
    "        print(f\"WARNING STOPPING AT SUGAR LEVEL OF {sugar_level}!\")\n",
    "        print(f\"Drinking {drink} with sugar content of {sugar_content} will exceed your current sugar level of {sugar_level}\")\n",
    "        print(f\"Also, drinking {drink} will result to a sugar level of {sugar_level + sugar_content}!!\")\n",
    "        break\n",
    "else:\n",
    "    print(\"Enough sugar for today!\")\n",
    "    "
   ]
  },
  {
   "cell_type": "code",
   "execution_count": null,
   "metadata": {},
   "outputs": [],
   "source": [
    "values = range(5)\n",
    "\n",
    "for j in values:\n",
    "    print(j)"
   ]
  },
  {
   "cell_type": "code",
   "execution_count": null,
   "metadata": {},
   "outputs": [],
   "source": [
    "items = ['Sword', 'Shield', 'Armor', 'Helmet']\n",
    "\n",
    "for item in items:\n",
    "    print(item)\n",
    "else:\n",
    "    print('No more items left')"
   ]
  },
  {
   "cell_type": "code",
   "execution_count": null,
   "metadata": {},
   "outputs": [],
   "source": [
    "people = ['John', 'Randy', 'Charlotte', 'Becky', 'Paul']\n",
    "\n",
    "for p in people:\n",
    "    print(\"Hey,\", p + \"!\")"
   ]
  },
  {
   "cell_type": "code",
   "execution_count": null,
   "metadata": {},
   "outputs": [],
   "source": [
    "import random as rdm\n",
    "\n",
    "greetings = [\"Hey\", \"What's up\", \"Good day\", \"Hi\", \"Hello\"]\n",
    "people = ['John', 'Randy', 'Charlotte', 'Becky', 'Paul']\n",
    "\n",
    "for p in people:\n",
    "    marker = ['!', '?']\n",
    "\n",
    "    random_greeting = greetings[rdm.randint(0, len(greetings))-1]\n",
    "    ending_mark = marker[0]\n",
    "    if \"What's\" in random_greeting:\n",
    "        ending_mark = marker[1]\n",
    "\n",
    "    print(f\"{random_greeting}, {p}{ending_mark}\")"
   ]
  },
  {
   "cell_type": "code",
   "execution_count": null,
   "metadata": {},
   "outputs": [],
   "source": [
    "empty_list = []\n",
    "\n",
    "print(\"We are starting with this list -->\", empty_list)\n",
    "\n",
    "for i in range(0, 5):\n",
    "    empty_list.append(i)\n",
    "else:\n",
    "    print(\"Finished\")\n",
    "    print(empty_list)"
   ]
  },
  {
   "cell_type": "code",
   "execution_count": null,
   "metadata": {},
   "outputs": [],
   "source": [
    "empty_dict = {}\n",
    "\n",
    "for i, j in enumerate(range(0, 5)):\n",
    "    empty_dict[i] = j+1\n",
    "else:\n",
    "    print(\"Done\")\n",
    "    print(empty_dict)\n"
   ]
  },
  {
   "cell_type": "code",
   "execution_count": null,
   "metadata": {},
   "outputs": [],
   "source": [
    "new_dict = {}\n",
    "\n",
    "keys = ['0', '1', '2', '3']\n",
    "values = ['A', 'B', 'C', 'D']\n",
    "\n",
    "for i, j in enumerate(range(len(keys))):\n",
    "    new_dict[keys[i]] = values[j]\n",
    "else:\n",
    "    print(\"Done\")\n",
    "    print(new_dict)\n"
   ]
  },
  {
   "cell_type": "code",
   "execution_count": null,
   "metadata": {},
   "outputs": [],
   "source": [
    "dicts = {}\n",
    "\n",
    "keys = [10, 12, 14, 16]\n",
    "values = [\"A\", \"B\", \"C\", \"D\"]\n",
    "\n",
    "for i in range(len(keys)):\n",
    "    dicts[keys[i]] = values[i]\n",
    "print(dicts)"
   ]
  },
  {
   "cell_type": "code",
   "execution_count": null,
   "metadata": {},
   "outputs": [],
   "source": [
    "users = []\n",
    "\n",
    "username = ('Hogan', 'Anya', 'Peter')\n",
    "password = ('1234', 'abc', 'admin')\n",
    "\n",
    "for i, j in zip(username, password):\n",
    "   zipped_items = (i, j)\n",
    "   users.append(zipped_items)\n",
    "else:\n",
    "    print(\"Done\")\n",
    "    print(users)"
   ]
  },
  {
   "cell_type": "code",
   "execution_count": null,
   "metadata": {},
   "outputs": [],
   "source": [
    "# outer loop\n",
    "for i in range(1, 11):\n",
    "    # nested loop\n",
    "    # to iterate from 1 to 10\n",
    "    for j in range(1, 11):\n",
    "        # print multiplication\n",
    "        print(i * j, end=' ')\n",
    "    print()"
   ]
  },
  {
   "cell_type": "code",
   "execution_count": null,
   "metadata": {},
   "outputs": [],
   "source": [
    "rows = 5\n",
    "# outer loop\n",
    "for i in range(1, rows + 1):\n",
    "    # inner loop\n",
    "    for j in range(1, i + 1):\n",
    "        print(\"*\", end=\" \")\n",
    "    print('')"
   ]
  },
  {
   "cell_type": "code",
   "execution_count": null,
   "metadata": {},
   "outputs": [],
   "source": [
    "rows = 5\n",
    "# outer loop\n",
    "for i in range(1, rows + 1):\n",
    "    # inner loop\n",
    "    for j in range(1, i + 1):\n",
    "        print(\"*\", end=\" \")\n",
    "    print('')"
   ]
  },
  {
   "cell_type": "code",
   "execution_count": null,
   "metadata": {},
   "outputs": [],
   "source": [
    "rows = int(input('Please input the number of your desired rows: '))\n",
    "print(\"*\")\n",
    "for i in range(1, rows+1):\n",
    "    print(\"*\", end=\" \")\n",
    "      \n",
    "    for j in range(1, i):  \n",
    "        print(\"o\", end=\" \")\n",
    "\n",
    "    print(\"*\", end=\" \")\n",
    "    print()\n",
    "    \n",
    "for i in range(1, rows+3):\n",
    "    print(\"*\", end=\" \")\n",
    "\n",
    "print()"
   ]
  },
  {
   "cell_type": "code",
   "execution_count": null,
   "metadata": {},
   "outputs": [],
   "source": [
    "list1 = [1,2,3,4,5]\n",
    "\n",
    "list2 = []\n",
    "\n",
    "for i in list1:\n",
    "\n",
    "    f = lambda i: i / 2\n",
    "\n",
    "    list2.append(f(i))\n",
    "print(list2)"
   ]
  },
  {
   "cell_type": "code",
   "execution_count": null,
   "metadata": {},
   "outputs": [],
   "source": [
    "# Iterating With Python Lambdas\n",
    "  \n",
    "# list of numbers\n",
    "l1 = [4, 2, 13, 21, 5]\n",
    "  \n",
    "l2 = []\n",
    "\n",
    "# run for loop to iterate over list\n",
    "for i in l1:\n",
    "    \n",
    "    # lambda function to make square \n",
    "    # of number\n",
    "    temp=lambda i:i**2\n",
    "  \n",
    "    # save in list2\n",
    "    l2.append(temp(i))\n",
    "  \n",
    "# print list\n",
    "print(\"This is list 1:\", l1)\n",
    "print(\"This is list 2: \", l2)"
   ]
  },
  {
   "cell_type": "code",
   "execution_count": 3,
   "metadata": {},
   "outputs": [
    {
     "name": "stdout",
     "output_type": "stream",
     "text": [
      "[{1: 1, 2: 2, 3: 3}, {4: 4, 5: 5, 6: 6}, {7: 7, 8: 8, 9: 9}]\n",
      "4\n",
      "\n",
      "List index:0\n",
      "Key Value Pairs: {1: 1, 2: 2, 3: 3}\n",
      "\n",
      "\n",
      "List index:1\n",
      "Key Value Pairs: {4: 4, 5: 5, 6: 6}\n",
      "\n",
      "\n",
      "List index:2\n",
      "Key Value Pairs: {7: 7, 8: 8, 9: 9}\n",
      "\n"
     ]
    }
   ],
   "source": [
    "nums = [{1:1, 2:2, 3:3}, {4:4, 5:5, 6:6}, {7:7, 8:8, 9:9}]\n",
    "\n",
    "print(nums)\n",
    "\n",
    "x = nums[1][4]\n",
    "\n",
    "print(x)\n",
    "\n",
    "for i, j in enumerate(nums):\n",
    "    print(f\"\\nList index:{i}\\nKey Value Pairs: {j}\\n\")"
   ]
  },
  {
   "cell_type": "code",
   "execution_count": 19,
   "metadata": {},
   "outputs": [
    {
     "name": "stdout",
     "output_type": "stream",
     "text": [
      "[{'name': 'John', 'age': 55}, {'city': 'Batangas', 'country': 'Philippines'}, {'username': 'j2000', 'password': 'im2k'}]\n",
      "0 {'name': 'John', 'age': 55}\n",
      "1 {'city': 'Batangas', 'country': 'Philippines'}\n",
      "2 {'username': 'j2000', 'password': 'im2k'}\n",
      "Batangas\n",
      "j2000\n"
     ]
    }
   ],
   "source": [
    "texts = [{\"name\": \"John\", \"age\": 55}, {\"city\": \"Batangas\", \"country\":\"Philippines\"}, {\"username\":\"j2000\", \"password\":\"im2k\"}]\n",
    "\n",
    "print(texts)\n",
    "\n",
    "for n, m in enumerate(texts):\n",
    "    print(n, m)\n",
    "\n",
    "y = texts[1][\"city\"]\n",
    "\n",
    "print(y)\n",
    "\n",
    "z = texts[0+2][\"username\"]\n",
    "print(z)"
   ]
  },
  {
   "attachments": {},
   "cell_type": "markdown",
   "metadata": {},
   "source": [
    "# BONUS EXAMPLE"
   ]
  },
  {
   "cell_type": "code",
   "execution_count": null,
   "metadata": {},
   "outputs": [],
   "source": [
    "import random\n",
    "\n",
    "hero_hp = 200\n",
    "monster_hp = 80\n",
    "hero_equipment = {\"Sword\": 25, \"Bow\": 20, \"Spear\": 15}\n",
    "super_bar = 0\n",
    "healing_items = {\"Small Healing Potion\": 20, \"Large Healing Potion\": 50}\n",
    "\n",
    "print(\"Welcome to the Battle Simulator!\")\n",
    "print(\"You are a hero and you are facing a monster with 200 HP.\")\n",
    "print(\"Select your equipment:\")\n",
    "print(\"1. Sword (Attack power: 10)\")\n",
    "print(\"2. Bow (Attack power: 20)\")\n",
    "print(\"3. Spear (Attack power: 15)\")\n",
    "\n",
    "selected_equipment = int(input(\"Enter the number of your equipment: \"))\n",
    "\n",
    "if selected_equipment == 1:\n",
    "    hero_atk = random.randint(0,hero_equipment[\"Sword\"])\n",
    "elif selected_equipment == 2:\n",
    "    hero_atk = random.randint(0,hero_equipment[\"Bow\"])\n",
    "elif selected_equipment == 3:\n",
    "    hero_atk = random.randint(0,hero_equipment[\"Spear\"])\n",
    "else:\n",
    "    hero_atk = 5\n",
    "\n",
    "while monster_hp > 0 and hero_hp > 0:\n",
    "    print(\"\\nIt's your turn!\")\n",
    "    print(\"Your HP: [{}{}] {}/200\".format('=' * (hero_hp // 10), ' ' * (20 - (hero_hp // 10)), hero_hp))\n",
    "    print(\"Monster HP: [{}{}] {}/80\".format('=' * (monster_hp // 10), ' ' * (20 - (monster_hp // 10)), monster_hp))\n",
    "    print(\"Super Bar: [{}{}] {}/100\".format('=' * (super_bar // 5), ' ' * (20 - (super_bar // 5)), super_bar))\n",
    "    if super_bar >= 100:\n",
    "        print(\"1. Attack\")\n",
    "        print(\"2. Defend\")\n",
    "        print(\"3. Charge Super Bar\")\n",
    "        print(\"4. Use Healing Item\")\n",
    "        print(\"5. Super Attack\")\n",
    "        hero_choice = int(input(\"Enter your action: \"))\n",
    "    else:\n",
    "        print(\"1. Attack\")\n",
    "        print(\"2. Defend\")\n",
    "        print(\"3. Charge Super Bar\")\n",
    "        print(\"4. Use Healing Item\")\n",
    "        hero_choice = int(input(\"Enter your action: \"))\n",
    "    \n",
    "    if hero_choice == 1:\n",
    "        monster_hp -= hero_atk\n",
    "        print(\"You dealt {} damage to the monster. The monster now has {} HP.\".format(hero_atk, monster_hp))\n",
    "    elif hero_choice == 2:\n",
    "        print(\"You defend.\")\n",
    "        \n",
    "    elif hero_choice == 3:\n",
    "        super_bar += random.randint(10, 30)\n",
    "        if super_bar >= 100:\n",
    "            super_bar = 100\n",
    "            print(\"Your super bar has reached its maximum!\")\n",
    "            print(\"You can now use the super attack!\")\n",
    "        else:\n",
    "            print(\"You charged your super bar by {}. Your super bar is now at {}.\".format(super_bar, super_bar))\n",
    "    elif hero_choice == 4:\n",
    "        print(\"Select a healing item:\")\n",
    "        for i, item in enumerate(healing_items.keys()):\n",
    "            print(\"{}. {} (Healing power: {})\".format(i + 1, item, healing_items[item]))\n",
    "            selected_item = int(input(\"Enter the number of your selected item: \"))\n",
    "            if selected_healing_item in [1, 2]:\n",
    "                selected_item = list(healing_items.keys())[selected_healing_item - 1]\n",
    "                hero_hp += healing_items[selected_item]\n",
    "            if hero_hp > 100:\n",
    "                hero_hp = 100\n",
    "                print(\"You used a {} and healed {} HP. You now have {} HP.\".format(selected_item, healing_items[selected_item], hero_hp))\n",
    "            else:\n",
    "                print(\"Invalid choice. Try again.\")\n",
    "    elif hero_choice == 5 and super_bar >= 100:\n",
    "        super_bar = 0\n",
    "        monster_hp -= 50\n",
    "        print(\"You used a super attack! The monster took 50 damage. The monster now has {} HP.\".format(monster_hp))\n",
    "    else:\n",
    "        print(\"Invalid choice. Try again.\")\n",
    "    \n",
    "    # monster's turn\n",
    "    if monster_hp > 0:\n",
    "        monster_damage = random.randint(10, 30)\n",
    "        hero_hp -= monster_damage\n",
    "        print(\"The monster dealt {} damage to you. You now have {} HP.\".format(monster_damage, hero_hp))\n",
    "    \n",
    "if hero_hp <= 0:\n",
    "    print(\"You were defeated.\")\n",
    "else:\n",
    "    print(\"You defeated the monster.\")\n",
    "        "
   ]
  },
  {
   "cell_type": "code",
   "execution_count": null,
   "metadata": {},
   "outputs": [],
   "source": [
    "import random\n",
    "\n",
    "hero_hp = 200\n",
    "monster_hp = 80\n",
    "hero_equipment = {\"Sword\": 25, \"Bow\": 20, \"Spear\": 15}\n",
    "super_bar = 0\n",
    "healing_items = {\"Small Healing Potion\": 20, \"Large Healing Potion\": 50}\n",
    "\n",
    "print(\"Welcome to the Battle Simulator!\")\n",
    "print(\"You are a hero and you are facing a monster with 200 HP.\")\n",
    "print(\"Select your equipment:\")\n",
    "print(\"1. Sword (Attack power: 10)\")\n",
    "print(\"2. Bow (Attack power: 20)\")\n",
    "print(\"3. Spear (Attack power: 15)\")\n",
    "\n",
    "selected_equipment = int(input(\"Enter the number of your equipment: \"))\n",
    "\n",
    "if selected_equipment == 1:\n",
    "    hero_atk = 10\n",
    "elif selected_equipment == 2:\n",
    "    hero_atk = 20\n",
    "elif selected_equipment == 3:\n",
    "    hero_atk = 15\n",
    "else:\n",
    "    hero_atk = 5\n",
    "\n",
    "while monster_hp > 0 and hero_hp > 0:\n",
    "    print(\"\\nIt's your turn!\")\n",
    "    print(\"HP: [{}{}] {}/100\".format('=' * (hero_hp // 5), ' ' * (20 - (hero_hp // 5)), hero_hp))\n",
    "    print(\"Super Bar: [{}{}] {}/100\".format('=' * (super_bar // 5), ' ' * (20 - (super_bar // 5)), super_bar))\n",
    "    if super_bar >= 100:\n",
    "        print(\"1. Attack\")\n",
    "        print(\"2. Defend\")\n",
    "        print(\"3. Charge Super Bar\")\n",
    "        print(\"4. Use Healing Item\")\n",
    "        print(\"5. Super Attack\")\n",
    "        hero_choice = int(input(\"Enter your action: \"))\n",
    "    else:\n",
    "        print(\"1. Attack\")\n",
    "        print(\"2. Defend\")\n",
    "        print(\"3. Charge Super Bar\")\n",
    "        print(\"4. Use Healing Item\")\n",
    "        hero_choice = int(input(\"Enter your action: \"))\n",
    "    \n",
    "    if hero_choice == 1:\n",
    "        monster_hp -= hero_atk\n",
    "        print(\"You dealt {} damage to the monster. The monster now has {} HP.\".format(hero_atk, monster_hp))\n",
    "    elif hero_choice == 2:\n",
    "        print(\"You defend.\")\n",
    "        \n",
    "    elif hero_choice == 3:\n",
    "        super_bar += random.randint(10, 30)\n",
    "        if super_bar >= 100:\n",
    "            super_bar = 100\n",
    "            print(\"Your super bar has reached its maximum!\")\n",
    "            print(\"You can now use the super attack!\")\n",
    "        else:\n",
    "            print(\"You charged your super bar by {}. Your super bar is now at {}.\".format(super_bar, super_bar))\n",
    "    elif hero_choice == 4:\n",
    "        print(\"Select a healing item:\")\n",
    "        for i, item in enumerate(healing_items.keys()):\n",
    "            print(\"{}. {} (Healing power: {})\".format(i + 1, item, healing_items[item]))\n",
    "        selected_healing_item = int(input(\"Enter the number of your item: \"))\n",
    "        if selected_healing_item in [1, 2]:\n",
    "            selected_item = list(healing_items.keys())[selected_healing_item - 1]\n",
    "            hero_hp += healing_items[selected_item]\n",
    "            if hero_hp > 100:\n",
    "                hero_hp = 100\n",
    "            print(\"You used a {} and healed {} HP. You now have {} HP.\".format(selected_item, healing_items[selected_item], hero_hp))\n",
    "        else:\n",
    "            print(\"Invalid choice. Try again.\")\n",
    "    elif hero_choice == 5 and super_bar >= 100:\n",
    "        super_bar = 0\n",
    "        monster_hp -= 50\n",
    "        print(\"You used a super attack! The monster took 50 damage. The monster now has {} HP.\".format(monster_hp))\n",
    "    else:\n",
    "        print(\"Invalid choice. Try again.\")\n",
    "            \n",
    "    # monster's turn\n",
    "    if monster_hp > 0:\n",
    "        monster_damage = random.randint(10, 30)\n",
    "        hero_hp -= monster_damage\n",
    "        print(\"The monster dealt {} damage to you. You now have {} HP.\".format(monster_damage, hero_hp))\n",
    "    \n",
    "if hero_hp <= 0:\n",
    "    print(\"You were defeated.\")\n",
    "else:\n",
    "    print(\"You defeated the monster.\")"
   ]
  },
  {
   "cell_type": "code",
   "execution_count": 34,
   "metadata": {},
   "outputs": [],
   "source": [
    "#Simple Character Unlocker System based on Tekken\n",
    "import os\n",
    "import time\n",
    "import pygame\n",
    "\n",
    "# Available Characters\n",
    "characters = (\"King\", \"Paul Phoenix\", \"Forrest Law\", \"Nina Williams\", \"Eddy Gordo\")\n",
    "\n",
    "# Pre-Unlocked Characters\n",
    "unlocked_characters = {\"King\", \"Paul Phoenix\"}\n",
    "\n",
    "# ANSI escape codes for colored text\n",
    "red = \"\\033[31m\"\n",
    "green = \"\\033[32m\"\n",
    "purple = \"\\033[95m\"\n",
    "msg = \"\\033[33m\"\n",
    "orange = \"\\033[38;2;255;165;0m\"\n",
    "gray = \"\\033[38;2;128;128;128m\"\n",
    "\n",
    "#Reset the ANSI values\n",
    "reset = \"\\033[0m\"\n",
    "\n",
    "#Font Settings\n",
    "bold_text = \"\\033[1m\"\n",
    "\n",
    "# Prompt sound\n",
    "prompt_sound = \"sfx/tekken/tk1/tk_choice.wav\"\n",
    "\n",
    "# Unlock sound\n",
    "unlock_sound = \"sfx/tekken/tk1/tk_unlock.wav\"\n",
    "\n",
    "# Character sound\n",
    "law_sound = \"sfx/tekken/tk3_Announcer/Forest Law.wav\"\n",
    "nina_sound = \"sfx/tekken/tk3_Announcer/Nina Williams.wav\"\n",
    "eddy_sound = \"sfx/tekken/tk3_Announcer/Eddy Gordo.wav\"\n",
    "gm_sound = \"sfx/tekken/tk3_Announcer/gm_sound.wav\"\n",
    "game_over_sound = \"sfx/tekken/tk3_Announcer/Game Over.wav\"\n",
    "fail_sound = \"sfx/tekken/tk1/tk_cancel.wav\"\n",
    "bg = \"bg/t3_select.mp3\"\n",
    "\n",
    "# Initialize Pygame mixer\n",
    "pygame.mixer.init()\n",
    "\n",
    "# Load the sounds\n",
    "prompt = pygame.mixer.Sound(prompt_sound)\n",
    "unlock = pygame.mixer.Sound(unlock_sound)\n",
    "law = pygame.mixer.Sound(law_sound)\n",
    "eddy = pygame.mixer.Sound(eddy_sound)\n",
    "nina = pygame.mixer.Sound(nina_sound)\n",
    "goodmorning = pygame.mixer.Sound(gm_sound)\n",
    "gameover = pygame.mixer.Sound(game_over_sound)\n",
    "fail = pygame.mixer.Sound(fail_sound)\n",
    "bg_song = pygame.mixer.music.load(bg)\n",
    "\n",
    "# Loading prompts\n",
    "print(f\"{purple}Loading...{reset}\")\n",
    "time.sleep(5)\n",
    "\n",
    "print(f\"\\nGood morning!\")\n",
    "\n",
    "goodmorning.play()\n",
    "time.sleep(3)\n",
    "\n",
    "# Entry Message\n",
    "print(f\"\\n{purple}Welcome to {bold_text}{orange}The King of Iron Fist Tournament {bold_text} {reset}\\nCharacter Unlocker System\\n\")\n",
    "\n",
    "game_set = True\n",
    "\n",
    "while game_set == True:\n",
    "    time.sleep(3)\n",
    "    pygame.mixer.music.play()\n",
    "    pygame.mixer.music.set_volume(0.3)\n",
    "\n",
    "    while True:\n",
    "        # Play the prompt sound\n",
    "        time.sleep(3)\n",
    "        prompt.play()\n",
    "        \n",
    "        # Loop through the characters and check if they have been unlocked\n",
    "        for i, character in enumerate(characters):\n",
    "            if character in unlocked_characters:\n",
    "                color = green\n",
    "            else:\n",
    "                color = gray\n",
    "            print(f\"{i+1}. {color}{character}{reset}\")\n",
    "\n",
    "        # Ask the user if they want to unlock a character\n",
    "        unlock_choice = input(\"Do you want to unlock a character? (yes/no): \")\n",
    "\n",
    "        # If the user wants to unlock a character, ask which character they want to unlock\n",
    "        if unlock_choice in [\"Yes\", \"yes\"]:\n",
    "            prompt.play()\n",
    "            character_to_unlock = input(\"Which character do you want to unlock? \")\n",
    "\n",
    "            if character_to_unlock in [\"Eddy\", \"eddy\", \"Gordo\", \"gordo\"]:\n",
    "                char_chosen = \"Eddy Gordo\"\n",
    "                eddy.play()\n",
    "                time.sleep(0.1)\n",
    "                unlocked_characters.add(char_chosen)\n",
    "                print(f\"\\n{bold_text}{msg}{char_chosen}{reset} has been unlocked!\")\n",
    "                unlock.play()\n",
    "\n",
    "            if character_to_unlock in [\"Forrest\", \"forrest\", \"Law\", \"law\"]:\n",
    "                char_chosen = \"Forrest Law\"\n",
    "                law.play()\n",
    "                time.sleep(0.1)\n",
    "                unlocked_characters.add(char_chosen)\n",
    "                print(f\"\\n{bold_text}{msg}{char_chosen}{reset} has been unlocked!\")\n",
    "                unlock.play()\n",
    "\n",
    "            if character_to_unlock in [\"Nina\", \"nina\", \"Williams\"]:\n",
    "                char_chosen = \"Nina Williams\"\n",
    "                nina.play()\n",
    "                time.sleep(0.1)\n",
    "                unlocked_characters.add(char_chosen)\n",
    "                print(f\"\\n{bold_text}{msg}{char_chosen}{reset} has been unlocked!\")\n",
    "                unlock.play()\n",
    "\n",
    "            if character_to_unlock in ['King', 'king']:\n",
    "                char_chosen = \"King\"\n",
    "                print(f\"\\n{bold_text}{char_chosen}{reset} is already unlocked!\")\n",
    "                print(\"Choose a different character...\")\n",
    "                fail.play()\n",
    "            \n",
    "            if character_to_unlock in ['Paul', 'paul', 'Phoenix', 'phoenix']:\n",
    "                char_chosen = \"Paul Phoenix\"\n",
    "                print(f\"\\n{bold_text}{char_chosen}{reset} is already unlocked!\")\n",
    "                print(\"Choose a different character...\")\n",
    "                fail.play()\n",
    "\n",
    "            print()\n",
    "\n",
    "        elif unlock_choice in [\"No\", \"no\"]:\n",
    "            gameover.set_volume(0.3)\n",
    "            gameover.play()\n",
    "            print()\n",
    "            print(f\"{red}{bold_text}GAME OVER{reset}\")\n",
    "            game_set = False\n",
    "            break\n",
    "        \n",
    "        else:\n",
    "            print(f\"\\n{red}{bold_text}Invalid input.{reset}\\n\\nTry again...\\n\")\n",
    "\n",
    "pygame.mixer.music.stop()\n",
    "time.sleep(2)\n",
    "pygame.quit()"
   ]
  }
 ],
 "metadata": {
  "kernelspec": {
   "display_name": "myAdvanceProg",
   "language": "python",
   "name": "python3"
  },
  "language_info": {
   "codemirror_mode": {
    "name": "ipython",
    "version": 3
   },
   "file_extension": ".py",
   "mimetype": "text/x-python",
   "name": "python",
   "nbconvert_exporter": "python",
   "pygments_lexer": "ipython3",
   "version": "3.9.13"
  },
  "orig_nbformat": 4,
  "vscode": {
   "interpreter": {
    "hash": "c93b8a20f1bf6b08237f72fb97e530a41dfe2c3e8392b147528cbda106c08c14"
   }
  }
 },
 "nbformat": 4,
 "nbformat_minor": 2
}
