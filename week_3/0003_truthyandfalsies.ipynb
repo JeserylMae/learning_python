{
 "cells": [
  {
   "cell_type": "markdown",
   "metadata": {},
   "source": [
    "Truthy values in Python are those that evaluate to True in a boolean context, \n",
    "while falsy values are those that evaluate to False. Here are some examples:\n",
    "\n",
    "Truthy values:\n",
    "\n",
    "- Any non-zero number (e.g. 1, 2.5)\n",
    "- Non-empty sequences (e.g. [1, 2], \"hello\")\n",
    "- Non-empty containers (e.g. {\"key\": \"value\"}, set([1, 2]))\n",
    "- True\n",
    "\n",
    "Falsy values:\n",
    "\n",
    "- 0\n",
    "- Empty sequences (e.g. [], '')\n",
    "- Empty containers (e.g. {}, set())\n",
    "- False\n",
    "- None"
   ]
  },
  {
   "cell_type": "markdown",
   "metadata": {},
   "source": [
    "# Truthy"
   ]
  },
  {
   "cell_type": "code",
   "execution_count": 1,
   "metadata": {},
   "outputs": [
    {
     "name": "stdout",
     "output_type": "stream",
     "text": [
      "x is truthy\n",
      "my_list is truthy\n",
      "my_dict is truthy\n",
      "True is truthy\n"
     ]
    }
   ],
   "source": [
    "# non-zero number\n",
    "x = 42\n",
    "if x:\n",
    "    print(\"x is truthy\")\n",
    "\n",
    "# non-empty sequence\n",
    "my_list = [1, 2, 3]\n",
    "if my_list:\n",
    "    print(\"my_list is truthy\")\n",
    "\n",
    "# non-empty dictionary\n",
    "my_dict = {\"key\": \"value\"}\n",
    "if my_dict:\n",
    "    print(\"my_dict is truthy\")\n",
    "\n",
    "# True\n",
    "if True:\n",
    "    print(\"True is truthy\")"
   ]
  },
  {
   "cell_type": "markdown",
   "metadata": {},
   "source": [
    "# Falsy"
   ]
  },
  {
   "cell_type": "code",
   "execution_count": 2,
   "metadata": {},
   "outputs": [
    {
     "name": "stdout",
     "output_type": "stream",
     "text": [
      "x is falsy\n",
      "my_list is falsy\n",
      "my_dict is falsy\n",
      "False is falsy\n",
      "my_var is falsy\n"
     ]
    }
   ],
   "source": [
    "# zero\n",
    "x = 0\n",
    "if not x:\n",
    "    print(\"x is falsy\")\n",
    "\n",
    "# empty sequence\n",
    "my_list = []\n",
    "if not my_list:\n",
    "    print(\"my_list is falsy\")\n",
    "\n",
    "# empty dictionary\n",
    "my_dict = {}\n",
    "if not my_dict:\n",
    "    print(\"my_dict is falsy\")\n",
    "\n",
    "# False\n",
    "if not False:\n",
    "    print(\"False is falsy\")\n",
    "\n",
    "# None\n",
    "my_var = None\n",
    "if not my_var:\n",
    "    print(\"my_var is falsy\")\n"
   ]
  },
  {
   "cell_type": "markdown",
   "metadata": {},
   "source": [
    "# Conditional statements\n",
    "\n",
    "- You can use truthy and falsy values to check whether a variable or expression is True or False, and execute different blocks of code based on that. For example:"
   ]
  },
  {
   "cell_type": "code",
   "execution_count": 3,
   "metadata": {},
   "outputs": [
    {
     "name": "stdout",
     "output_type": "stream",
     "text": [
      "The list is non-empty\n"
     ]
    }
   ],
   "source": [
    "# Check if a list is non-empty\n",
    "my_list = [1, 2, 3]\n",
    "if my_list:\n",
    "    print(\"The list is non-empty\")\n",
    "else:\n",
    "    print(\"The list is empty\")\n"
   ]
  },
  {
   "cell_type": "markdown",
   "metadata": {},
   "source": [
    "# Loops\n",
    "\n",
    "- You can use truthy and falsy values to control the flow of a loop, by continuing or breaking out of the loop based on whether a certain condition is True or False. For example:"
   ]
  },
  {
   "cell_type": "code",
   "execution_count": 4,
   "metadata": {},
   "outputs": [
    {
     "name": "stdout",
     "output_type": "stream",
     "text": [
      "hello\n",
      "world\n"
     ]
    }
   ],
   "source": [
    "# Loop through a list and print only non-empty strings\n",
    "my_list = [\"\", \"hello\", \"\", \"world\"]\n",
    "for s in my_list:\n",
    "    if not s:\n",
    "        continue\n",
    "    print(s)\n"
   ]
  },
  {
   "cell_type": "markdown",
   "metadata": {},
   "source": [
    "# Example 1: Ordinary if-else statement\n",
    "\n",
    "- Suppose we want to write a function that checks if a number is positive, negative, or zero. Here's how we might do that with an ordinary if-else statement in Python:"
   ]
  },
  {
   "cell_type": "code",
   "execution_count": 5,
   "metadata": {},
   "outputs": [
    {
     "name": "stdout",
     "output_type": "stream",
     "text": [
      "Positive\n",
      "Negative\n",
      "Zero\n"
     ]
    }
   ],
   "source": [
    "def check_number(n):\n",
    "  if n > 0:\n",
    "    print(\"Positive\")\n",
    "  elif n < 0:\n",
    "    print(\"Negative\")\n",
    "  else:\n",
    "    print(\"Zero\")\n",
    "\n",
    "check_number(5) # Output: Positive\n",
    "check_number(-3) # Output: Negative\n",
    "check_number(0) # Output: Zero"
   ]
  },
  {
   "cell_type": "markdown",
   "metadata": {},
   "source": [
    "In this example, we compare the value of the parameter n to specific conditions (n > 0, n < 0, and n == 0) to determine whether it is positive, negative, or zero.\n"
   ]
  },
  {
   "cell_type": "markdown",
   "metadata": {},
   "source": [
    "# Example 2: if-else statement using truthy and falsy values\n",
    "\n",
    "- Now let's rewrite the same function using an if-else statement that uses truthy and falsy values:"
   ]
  },
  {
   "cell_type": "code",
   "execution_count": 6,
   "metadata": {},
   "outputs": [
    {
     "name": "stdout",
     "output_type": "stream",
     "text": [
      "Positive\n"
     ]
    }
   ],
   "source": [
    "n = 5\n",
    "if n:\n",
    "    if n > 0:\n",
    "        print(\"Positive\")\n",
    "    else:\n",
    "      print(\"Negative\")\n",
    "else:\n",
    "    print(\"Zero\")\n",
    "\n",
    "# check_number(5) # Output: Positive\n",
    "# check_number(-3) # Output: Negative\n",
    "# check_number(0) # Output: Zero\n"
   ]
  },
  {
   "cell_type": "markdown",
   "metadata": {},
   "source": [
    "In this example, we first check if n is truthy (i.e., not False, None, 0, \"\", [], {}, or any other empty or null value). If n is truthy, we then check if it is positive or negative using the conditions n > 0 and n <= 0. If n is falsy, we assume it is zero."
   ]
  }
 ],
 "metadata": {
  "kernelspec": {
   "display_name": "myAdvanceProg",
   "language": "python",
   "name": "python3"
  },
  "language_info": {
   "codemirror_mode": {
    "name": "ipython",
    "version": 3
   },
   "file_extension": ".py",
   "mimetype": "text/x-python",
   "name": "python",
   "nbconvert_exporter": "python",
   "pygments_lexer": "ipython3",
   "version": "3.9.13"
  },
  "orig_nbformat": 4,
  "vscode": {
   "interpreter": {
    "hash": "c93b8a20f1bf6b08237f72fb97e530a41dfe2c3e8392b147528cbda106c08c14"
   }
  }
 },
 "nbformat": 4,
 "nbformat_minor": 2
}
